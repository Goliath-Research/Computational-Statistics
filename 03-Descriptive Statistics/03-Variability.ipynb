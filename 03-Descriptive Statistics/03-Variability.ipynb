{
 "cells": [
  {
   "cell_type": "markdown",
   "metadata": {},
   "source": [
    "# Measures of Variability"
   ]
  },
  {
   "cell_type": "markdown",
   "metadata": {},
   "source": [
    "## Objectives"
   ]
  },
  {
   "cell_type": "markdown",
   "metadata": {},
   "source": [
    "- Learn to calculate and interpret critical measures of variability such as variance, standard deviation, range, and interquartile range using Python.\n",
    "- Develop skills to visualize data variability and distribution characteristics.\n",
    "- Understand the implications of variability measures on data interpretation and decision-making."
   ]
  },
  {
   "cell_type": "markdown",
   "metadata": {},
   "source": [
    "## Background"
   ]
  },
  {
   "cell_type": "markdown",
   "metadata": {},
   "source": [
    "This notebook introduces measures of variability, which quantify the spread of data points around a central value. Using Python, students will explore how to compute variance, standard deviation, range, and interquartile range. These measures are crucial for assessing the consistency or diversity within datasets, influencing how data distributions are analyzed and interpreted."
   ]
  },
  {
   "cell_type": "markdown",
   "metadata": {},
   "source": [
    "## Datasets Used"
   ]
  },
  {
   "cell_type": "markdown",
   "metadata": {},
   "source": [
    "The course utilizes the `student-mat.csv` dataset, which includes detailed information on student performance metrics from two high schools in Portugal. "
   ]
  },
  {
   "cell_type": "markdown",
   "metadata": {},
   "source": [
    "## Introduction"
   ]
  },
  {
   "cell_type": "markdown",
   "metadata": {},
   "source": [
    "Measures of Variability are statistics that describe the amount of difference and spread in a data set. \n",
    "\n",
    "These measures include variance, standard deviation, range, interquartile range, among others."
   ]
  },
  {
   "cell_type": "code",
   "execution_count": 1,
   "metadata": {
    "metadata": {}
   },
   "outputs": [],
   "source": [
    "import numpy as np\n",
    "import pandas as pd\n",
    "pd.set_option('display.max_columns', 10)\n",
    "pd.set_option('display.float_format', '{:.2f}'.format)\n",
    "\n",
    "import matplotlib.pyplot as plt\n",
    "import seaborn as sns; \n",
    "sns.set_style(\"whitegrid\")"
   ]
  },
  {
   "cell_type": "markdown",
   "metadata": {},
   "source": [
    "## The Data"
   ]
  },
  {
   "cell_type": "markdown",
   "metadata": {},
   "source": [
    "Variance measures how far a set of numbers is spread out from their mean value."
   ]
  },
  {
   "cell_type": "code",
   "execution_count": 2,
   "metadata": {
    "metadata": {}
   },
   "outputs": [
    {
     "name": "stdout",
     "output_type": "stream",
     "text": [
      "(395, 33)\n"
     ]
    },
    {
     "data": {
      "text/html": [
       "<div>\n",
       "<style scoped>\n",
       "    .dataframe tbody tr th:only-of-type {\n",
       "        vertical-align: middle;\n",
       "    }\n",
       "\n",
       "    .dataframe tbody tr th {\n",
       "        vertical-align: top;\n",
       "    }\n",
       "\n",
       "    .dataframe thead th {\n",
       "        text-align: right;\n",
       "    }\n",
       "</style>\n",
       "<table border=\"1\" class=\"dataframe\">\n",
       "  <thead>\n",
       "    <tr style=\"text-align: right;\">\n",
       "      <th></th>\n",
       "      <th>school</th>\n",
       "      <th>sex</th>\n",
       "      <th>age</th>\n",
       "      <th>address</th>\n",
       "      <th>famsize</th>\n",
       "      <th>...</th>\n",
       "      <th>health</th>\n",
       "      <th>absences</th>\n",
       "      <th>G1</th>\n",
       "      <th>G2</th>\n",
       "      <th>G3</th>\n",
       "    </tr>\n",
       "  </thead>\n",
       "  <tbody>\n",
       "    <tr>\n",
       "      <th>0</th>\n",
       "      <td>GP</td>\n",
       "      <td>F</td>\n",
       "      <td>18</td>\n",
       "      <td>U</td>\n",
       "      <td>GT3</td>\n",
       "      <td>...</td>\n",
       "      <td>3</td>\n",
       "      <td>6</td>\n",
       "      <td>5</td>\n",
       "      <td>6</td>\n",
       "      <td>6</td>\n",
       "    </tr>\n",
       "    <tr>\n",
       "      <th>1</th>\n",
       "      <td>GP</td>\n",
       "      <td>F</td>\n",
       "      <td>17</td>\n",
       "      <td>U</td>\n",
       "      <td>GT3</td>\n",
       "      <td>...</td>\n",
       "      <td>3</td>\n",
       "      <td>4</td>\n",
       "      <td>5</td>\n",
       "      <td>5</td>\n",
       "      <td>6</td>\n",
       "    </tr>\n",
       "    <tr>\n",
       "      <th>2</th>\n",
       "      <td>GP</td>\n",
       "      <td>F</td>\n",
       "      <td>15</td>\n",
       "      <td>U</td>\n",
       "      <td>LE3</td>\n",
       "      <td>...</td>\n",
       "      <td>3</td>\n",
       "      <td>10</td>\n",
       "      <td>7</td>\n",
       "      <td>8</td>\n",
       "      <td>10</td>\n",
       "    </tr>\n",
       "    <tr>\n",
       "      <th>3</th>\n",
       "      <td>GP</td>\n",
       "      <td>F</td>\n",
       "      <td>15</td>\n",
       "      <td>U</td>\n",
       "      <td>GT3</td>\n",
       "      <td>...</td>\n",
       "      <td>5</td>\n",
       "      <td>2</td>\n",
       "      <td>15</td>\n",
       "      <td>14</td>\n",
       "      <td>15</td>\n",
       "    </tr>\n",
       "    <tr>\n",
       "      <th>4</th>\n",
       "      <td>GP</td>\n",
       "      <td>F</td>\n",
       "      <td>16</td>\n",
       "      <td>U</td>\n",
       "      <td>GT3</td>\n",
       "      <td>...</td>\n",
       "      <td>5</td>\n",
       "      <td>4</td>\n",
       "      <td>6</td>\n",
       "      <td>10</td>\n",
       "      <td>10</td>\n",
       "    </tr>\n",
       "  </tbody>\n",
       "</table>\n",
       "<p>5 rows × 33 columns</p>\n",
       "</div>"
      ],
      "text/plain": [
       "  school sex  age address famsize  ... health  absences  G1  G2  G3\n",
       "0     GP   F   18       U     GT3  ...      3         6   5   6   6\n",
       "1     GP   F   17       U     GT3  ...      3         4   5   5   6\n",
       "2     GP   F   15       U     LE3  ...      3        10   7   8  10\n",
       "3     GP   F   15       U     GT3  ...      5         2  15  14  15\n",
       "4     GP   F   16       U     GT3  ...      5         4   6  10  10\n",
       "\n",
       "[5 rows x 33 columns]"
      ]
     },
     "execution_count": 2,
     "metadata": {},
     "output_type": "execute_result"
    }
   ],
   "source": [
    "data = pd.read_csv('student-mat.csv',sep=';')\n",
    "print(data.shape)\n",
    "data.head()"
   ]
  },
  {
   "cell_type": "markdown",
   "metadata": {},
   "source": [
    "The database has 33 variables. We are going to work with a subset of them:\n",
    "\n",
    "- **G1**: first period grade (***`numeric`***: from 0 to 20)\n",
    "- **G2**: second period grade (***`numeric`***: from 0 to 20)\n",
    "- **G3**: final grade (***`numeric`***: from 0 to 20, output target)"
   ]
  },
  {
   "cell_type": "code",
   "execution_count": 3,
   "metadata": {
    "metadata": {}
   },
   "outputs": [
    {
     "name": "stdout",
     "output_type": "stream",
     "text": [
      "(395, 5)\n"
     ]
    },
    {
     "data": {
      "text/html": [
       "<div>\n",
       "<style scoped>\n",
       "    .dataframe tbody tr th:only-of-type {\n",
       "        vertical-align: middle;\n",
       "    }\n",
       "\n",
       "    .dataframe tbody tr th {\n",
       "        vertical-align: top;\n",
       "    }\n",
       "\n",
       "    .dataframe thead th {\n",
       "        text-align: right;\n",
       "    }\n",
       "</style>\n",
       "<table border=\"1\" class=\"dataframe\">\n",
       "  <thead>\n",
       "    <tr style=\"text-align: right;\">\n",
       "      <th></th>\n",
       "      <th>G1</th>\n",
       "      <th>G2</th>\n",
       "      <th>G3</th>\n",
       "      <th>school</th>\n",
       "      <th>sex</th>\n",
       "    </tr>\n",
       "  </thead>\n",
       "  <tbody>\n",
       "    <tr>\n",
       "      <th>0</th>\n",
       "      <td>5</td>\n",
       "      <td>6</td>\n",
       "      <td>6</td>\n",
       "      <td>GP</td>\n",
       "      <td>F</td>\n",
       "    </tr>\n",
       "    <tr>\n",
       "      <th>1</th>\n",
       "      <td>5</td>\n",
       "      <td>5</td>\n",
       "      <td>6</td>\n",
       "      <td>GP</td>\n",
       "      <td>F</td>\n",
       "    </tr>\n",
       "    <tr>\n",
       "      <th>2</th>\n",
       "      <td>7</td>\n",
       "      <td>8</td>\n",
       "      <td>10</td>\n",
       "      <td>GP</td>\n",
       "      <td>F</td>\n",
       "    </tr>\n",
       "    <tr>\n",
       "      <th>3</th>\n",
       "      <td>15</td>\n",
       "      <td>14</td>\n",
       "      <td>15</td>\n",
       "      <td>GP</td>\n",
       "      <td>F</td>\n",
       "    </tr>\n",
       "    <tr>\n",
       "      <th>4</th>\n",
       "      <td>6</td>\n",
       "      <td>10</td>\n",
       "      <td>10</td>\n",
       "      <td>GP</td>\n",
       "      <td>F</td>\n",
       "    </tr>\n",
       "  </tbody>\n",
       "</table>\n",
       "</div>"
      ],
      "text/plain": [
       "   G1  G2  G3 school sex\n",
       "0   5   6   6     GP   F\n",
       "1   5   5   6     GP   F\n",
       "2   7   8  10     GP   F\n",
       "3  15  14  15     GP   F\n",
       "4   6  10  10     GP   F"
      ]
     },
     "execution_count": 3,
     "metadata": {},
     "output_type": "execute_result"
    }
   ],
   "source": [
    "data = data[['G1','G2','G3','school','sex']]\n",
    "print(data.shape)\n",
    "data.head()"
   ]
  },
  {
   "cell_type": "markdown",
   "metadata": {},
   "source": [
    "## Variance"
   ]
  },
  {
   "cell_type": "code",
   "execution_count": 4,
   "metadata": {
    "metadata": {}
   },
   "outputs": [
    {
     "data": {
      "text/html": [
       "<div>\n",
       "<style scoped>\n",
       "    .dataframe tbody tr th:only-of-type {\n",
       "        vertical-align: middle;\n",
       "    }\n",
       "\n",
       "    .dataframe tbody tr th {\n",
       "        vertical-align: top;\n",
       "    }\n",
       "\n",
       "    .dataframe thead th {\n",
       "        text-align: right;\n",
       "    }\n",
       "</style>\n",
       "<table border=\"1\" class=\"dataframe\">\n",
       "  <thead>\n",
       "    <tr style=\"text-align: right;\">\n",
       "      <th></th>\n",
       "      <th>G1</th>\n",
       "      <th>G2</th>\n",
       "      <th>G3</th>\n",
       "    </tr>\n",
       "    <tr>\n",
       "      <th>sex</th>\n",
       "      <th></th>\n",
       "      <th></th>\n",
       "      <th></th>\n",
       "    </tr>\n",
       "  </thead>\n",
       "  <tbody>\n",
       "    <tr>\n",
       "      <th>F</th>\n",
       "      <td>10.45</td>\n",
       "      <td>13.26</td>\n",
       "      <td>21.37</td>\n",
       "    </tr>\n",
       "    <tr>\n",
       "      <th>M</th>\n",
       "      <td>11.51</td>\n",
       "      <td>14.96</td>\n",
       "      <td>20.21</td>\n",
       "    </tr>\n",
       "  </tbody>\n",
       "</table>\n",
       "</div>"
      ],
      "text/plain": [
       "       G1    G2    G3\n",
       "sex                  \n",
       "F   10.45 13.26 21.37\n",
       "M   11.51 14.96 20.21"
      ]
     },
     "execution_count": 4,
     "metadata": {},
     "output_type": "execute_result"
    }
   ],
   "source": [
    "# Calculating the variance for levels of sex, ignoring school\n",
    "data.groupby('sex').var(numeric_only=True)"
   ]
  },
  {
   "cell_type": "code",
   "execution_count": 5,
   "metadata": {
    "metadata": {}
   },
   "outputs": [
    {
     "data": {
      "text/html": [
       "<div>\n",
       "<style scoped>\n",
       "    .dataframe tbody tr th:only-of-type {\n",
       "        vertical-align: middle;\n",
       "    }\n",
       "\n",
       "    .dataframe tbody tr th {\n",
       "        vertical-align: top;\n",
       "    }\n",
       "\n",
       "    .dataframe thead th {\n",
       "        text-align: right;\n",
       "    }\n",
       "</style>\n",
       "<table border=\"1\" class=\"dataframe\">\n",
       "  <thead>\n",
       "    <tr style=\"text-align: right;\">\n",
       "      <th></th>\n",
       "      <th>G1</th>\n",
       "      <th>G2</th>\n",
       "      <th>G3</th>\n",
       "    </tr>\n",
       "    <tr>\n",
       "      <th>school</th>\n",
       "      <th></th>\n",
       "      <th></th>\n",
       "      <th></th>\n",
       "    </tr>\n",
       "  </thead>\n",
       "  <tbody>\n",
       "    <tr>\n",
       "      <th>GP</th>\n",
       "      <td>11.02</td>\n",
       "      <td>14.50</td>\n",
       "      <td>21.39</td>\n",
       "    </tr>\n",
       "    <tr>\n",
       "      <th>MS</th>\n",
       "      <td>11.20</td>\n",
       "      <td>11.41</td>\n",
       "      <td>17.95</td>\n",
       "    </tr>\n",
       "  </tbody>\n",
       "</table>\n",
       "</div>"
      ],
      "text/plain": [
       "          G1    G2    G3\n",
       "school                  \n",
       "GP     11.02 14.50 21.39\n",
       "MS     11.20 11.41 17.95"
      ]
     },
     "execution_count": 5,
     "metadata": {},
     "output_type": "execute_result"
    }
   ],
   "source": [
    "# Calculating the variance for levels of school\n",
    "data.groupby('school').var(numeric_only=True)"
   ]
  },
  {
   "cell_type": "code",
   "execution_count": 6,
   "metadata": {
    "metadata": {}
   },
   "outputs": [
    {
     "data": {
      "text/html": [
       "<div>\n",
       "<style scoped>\n",
       "    .dataframe tbody tr th:only-of-type {\n",
       "        vertical-align: middle;\n",
       "    }\n",
       "\n",
       "    .dataframe tbody tr th {\n",
       "        vertical-align: top;\n",
       "    }\n",
       "\n",
       "    .dataframe thead th {\n",
       "        text-align: right;\n",
       "    }\n",
       "</style>\n",
       "<table border=\"1\" class=\"dataframe\">\n",
       "  <thead>\n",
       "    <tr style=\"text-align: right;\">\n",
       "      <th></th>\n",
       "      <th></th>\n",
       "      <th>G1</th>\n",
       "      <th>G2</th>\n",
       "      <th>G3</th>\n",
       "    </tr>\n",
       "    <tr>\n",
       "      <th>sex</th>\n",
       "      <th>school</th>\n",
       "      <th></th>\n",
       "      <th></th>\n",
       "      <th></th>\n",
       "    </tr>\n",
       "  </thead>\n",
       "  <tbody>\n",
       "    <tr>\n",
       "      <th rowspan=\"2\" valign=\"top\">F</th>\n",
       "      <th>GP</th>\n",
       "      <td>9.95</td>\n",
       "      <td>13.30</td>\n",
       "      <td>21.20</td>\n",
       "    </tr>\n",
       "    <tr>\n",
       "      <th>MS</th>\n",
       "      <td>14.58</td>\n",
       "      <td>13.56</td>\n",
       "      <td>23.49</td>\n",
       "    </tr>\n",
       "    <tr>\n",
       "      <th rowspan=\"2\" valign=\"top\">M</th>\n",
       "      <th>GP</th>\n",
       "      <td>11.96</td>\n",
       "      <td>15.58</td>\n",
       "      <td>21.11</td>\n",
       "    </tr>\n",
       "    <tr>\n",
       "      <th>MS</th>\n",
       "      <td>7.55</td>\n",
       "      <td>9.35</td>\n",
       "      <td>12.19</td>\n",
       "    </tr>\n",
       "  </tbody>\n",
       "</table>\n",
       "</div>"
      ],
      "text/plain": [
       "              G1    G2    G3\n",
       "sex school                  \n",
       "F   GP      9.95 13.30 21.20\n",
       "    MS     14.58 13.56 23.49\n",
       "M   GP     11.96 15.58 21.11\n",
       "    MS      7.55  9.35 12.19"
      ]
     },
     "execution_count": 6,
     "metadata": {},
     "output_type": "execute_result"
    }
   ],
   "source": [
    "# Computing the variance for levels of school and sex\n",
    "data.groupby(['sex', 'school']).var()"
   ]
  },
  {
   "cell_type": "code",
   "execution_count": 7,
   "metadata": {
    "metadata": {}
   },
   "outputs": [
    {
     "data": {
      "text/html": [
       "<div>\n",
       "<style scoped>\n",
       "    .dataframe tbody tr th:only-of-type {\n",
       "        vertical-align: middle;\n",
       "    }\n",
       "\n",
       "    .dataframe tbody tr th {\n",
       "        vertical-align: top;\n",
       "    }\n",
       "\n",
       "    .dataframe thead th {\n",
       "        text-align: right;\n",
       "    }\n",
       "</style>\n",
       "<table border=\"1\" class=\"dataframe\">\n",
       "  <thead>\n",
       "    <tr style=\"text-align: right;\">\n",
       "      <th></th>\n",
       "      <th></th>\n",
       "      <th>G1</th>\n",
       "      <th>G2</th>\n",
       "      <th>G3</th>\n",
       "    </tr>\n",
       "    <tr>\n",
       "      <th>sex</th>\n",
       "      <th>school</th>\n",
       "      <th></th>\n",
       "      <th></th>\n",
       "      <th></th>\n",
       "    </tr>\n",
       "  </thead>\n",
       "  <tbody>\n",
       "    <tr>\n",
       "      <th rowspan=\"2\" valign=\"top\">F</th>\n",
       "      <th>GP</th>\n",
       "      <td>3.15</td>\n",
       "      <td>3.65</td>\n",
       "      <td>4.60</td>\n",
       "    </tr>\n",
       "    <tr>\n",
       "      <th>MS</th>\n",
       "      <td>3.82</td>\n",
       "      <td>3.68</td>\n",
       "      <td>4.85</td>\n",
       "    </tr>\n",
       "    <tr>\n",
       "      <th rowspan=\"2\" valign=\"top\">M</th>\n",
       "      <th>GP</th>\n",
       "      <td>3.46</td>\n",
       "      <td>3.95</td>\n",
       "      <td>4.59</td>\n",
       "    </tr>\n",
       "    <tr>\n",
       "      <th>MS</th>\n",
       "      <td>2.75</td>\n",
       "      <td>3.06</td>\n",
       "      <td>3.49</td>\n",
       "    </tr>\n",
       "  </tbody>\n",
       "</table>\n",
       "</div>"
      ],
      "text/plain": [
       "             G1   G2   G3\n",
       "sex school               \n",
       "F   GP     3.15 3.65 4.60\n",
       "    MS     3.82 3.68 4.85\n",
       "M   GP     3.46 3.95 4.59\n",
       "    MS     2.75 3.06 3.49"
      ]
     },
     "execution_count": 7,
     "metadata": {},
     "output_type": "execute_result"
    }
   ],
   "source": [
    "# Computing the standar deviation for levels of school and sex\n",
    "data.groupby(['sex', 'school']).std()"
   ]
  },
  {
   "cell_type": "markdown",
   "metadata": {},
   "source": [
    "This is an example of samples from two different populations with the same mean but different variance. "
   ]
  },
  {
   "cell_type": "code",
   "execution_count": 8,
   "metadata": {
    "metadata": {}
   },
   "outputs": [],
   "source": [
    "sample1 = np.random.normal(0, 10, 1000)\n",
    "sample2 = np.random.normal(0, 50, 1000)"
   ]
  },
  {
   "cell_type": "markdown",
   "metadata": {},
   "source": [
    "The blue population is much more dispersed than the red one."
   ]
  },
  {
   "cell_type": "code",
   "execution_count": 9,
   "metadata": {
    "metadata": {}
   },
   "outputs": [
    {
     "name": "stdout",
     "output_type": "stream",
     "text": [
      "Variance of sample1 = 101.08\n",
      "Variance of sample2 = 2533.15\n"
     ]
    }
   ],
   "source": [
    "print('Variance of sample1 = %.2f' %(np.var(sample1)))\n",
    "print('Variance of sample2 = %.2f' %(np.var(sample2)))"
   ]
  },
  {
   "cell_type": "code",
   "execution_count": 10,
   "metadata": {
    "metadata": {}
   },
   "outputs": [
    {
     "data": {
      "image/png": "[encoded data removed]",
      "text/plain": [
       "<Figure size 640x480 with 1 Axes>"
      ]
     },
     "metadata": {},
     "output_type": "display_data"
    }
   ],
   "source": [
    "sns.histplot(sample1, stat='frequency', color='red',  alpha=0.5, label='sample1')\n",
    "sns.histplot(sample2, stat='frequency', color='blue', alpha=0.4, label='sample2')\n",
    "plt.legend();"
   ]
  },
  {
   "cell_type": "markdown",
   "metadata": {},
   "source": [
    "Using kdeplot:"
   ]
  },
  {
   "cell_type": "code",
   "execution_count": 11,
   "metadata": {
    "metadata": {}
   },
   "outputs": [
    {
     "data": {
      "image/png": "[encoded data removed]",
      "text/plain": [
       "<Figure size 640x480 with 1 Axes>"
      ]
     },
     "metadata": {},
     "output_type": "display_data"
    }
   ],
   "source": [
    "sns.kdeplot(sample1, fill=True, color='red',  alpha=0.3, label='sample1')\n",
    "sns.kdeplot(sample2, fill=True, color='blue', alpha=0.3, label='sample2')\n",
    "plt.legend();"
   ]
  },
  {
   "cell_type": "markdown",
   "metadata": {},
   "source": [
    "**Variance** is a measurement of the spread among numbers in a data set. It measures how far each number in the set is from the mean.\n",
    "\n",
    "This example returns the variance of the sample. "
   ]
  },
  {
   "cell_type": "code",
   "execution_count": 12,
   "metadata": {
    "metadata": {},
    "tags": []
   },
   "outputs": [
    {
     "name": "stdout",
     "output_type": "stream",
     "text": [
      "Variance of G1 = 11.017\n",
      "Variance of G2 = 14.149\n",
      "Variance of G3 = 20.990\n"
     ]
    }
   ],
   "source": [
    "print('Variance of G1 = %.3f' %(data.G1.var()))\n",
    "print('Variance of G2 = %.3f' %(data.G2.var()))\n",
    "print('Variance of G3 = %.3f' %(data.G3.var()))"
   ]
  },
  {
   "cell_type": "code",
   "execution_count": 13,
   "metadata": {
    "metadata": {}
   },
   "outputs": [
    {
     "data": {
      "image/png": "[encoded data removed]",
      "text/plain": [
       "<Figure size 640x480 with 1 Axes>"
      ]
     },
     "metadata": {},
     "output_type": "display_data"
    }
   ],
   "source": [
    "sns.histplot(data.G1, stat='frequency', color='red',   alpha=0.4, label='G1')\n",
    "sns.histplot(data.G2, stat='frequency', color='blue',  alpha=0.4, label='G2')\n",
    "sns.histplot(data.G3, stat='frequency', color='green', alpha=0.4, label='G3')\n",
    "plt.legend();"
   ]
  },
  {
   "cell_type": "markdown",
   "metadata": {},
   "source": [
    "It is hard to see diferences among histograms. Let's use kdeplot:"
   ]
  },
  {
   "cell_type": "code",
   "execution_count": 14,
   "metadata": {
    "metadata": {}
   },
   "outputs": [
    {
     "data": {
      "image/png": "[encoded data removed]",
      "text/plain": [
       "<Figure size 640x480 with 1 Axes>"
      ]
     },
     "metadata": {},
     "output_type": "display_data"
    }
   ],
   "source": [
    "sns.kdeplot(data.G1, color='red',   fill=True, alpha=0.3, label='G1')\n",
    "sns.kdeplot(data.G2, color='blue',  fill=True, alpha=0.3, label='G2')\n",
    "sns.kdeplot(data.G3, color='green', fill=True, alpha=0.3, label='G2')\n",
    "plt.legend();"
   ]
  },
  {
   "cell_type": "markdown",
   "metadata": {},
   "source": [
    "## Standard Deviation"
   ]
  },
  {
   "cell_type": "markdown",
   "metadata": {},
   "source": [
    "The `standard deviation` is a statistic that measures the dispersion of a dataset relative to its mean and is calculated as the square root of the variance.\n",
    "\n",
    "If the data points are further from the mean, there is a higher deviation within the data set; thus, the more spread out the data, the higher the standard deviation."
   ]
  },
  {
   "cell_type": "code",
   "execution_count": 15,
   "metadata": {
    "metadata": {}
   },
   "outputs": [
    {
     "name": "stdout",
     "output_type": "stream",
     "text": [
      "sample1\n",
      "Variance = 101.0762\n",
      "Standard Deviation = 10.0537\n",
      "Standard Deviation Squared = 101.0762\n"
     ]
    }
   ],
   "source": [
    "print('sample1')\n",
    "print('Variance = %.4f' %(np.var(sample1)))\n",
    "print('Standard Deviation = %.4f' %(np.std(sample1)))\n",
    "print('Standard Deviation Squared = %.4f' % np.std(sample1)**2)"
   ]
  },
  {
   "cell_type": "code",
   "execution_count": 16,
   "metadata": {
    "metadata": {}
   },
   "outputs": [
    {
     "name": "stdout",
     "output_type": "stream",
     "text": [
      "sample2\n",
      "Variance = 2533.1468\n",
      "Standard Deviation = 50.3304\n",
      "Standard Deviation Squared = 2533.1468\n"
     ]
    }
   ],
   "source": [
    "print('sample2')\n",
    "print('Variance = %.4f' %(np.var(sample2)))\n",
    "print('Standard Deviation = %.4f' %(np.std(sample2)))\n",
    "print('Standard Deviation Squared = %.4f' % np.std(sample2)**2)"
   ]
  },
  {
   "cell_type": "markdown",
   "metadata": {},
   "source": [
    " The **variance** is the square of the **standard deviation**."
   ]
  },
  {
   "cell_type": "markdown",
   "metadata": {},
   "source": [
    "Let's calculate the standard deviation of G1, G2, and G3"
   ]
  },
  {
   "cell_type": "code",
   "execution_count": 17,
   "metadata": {
    "metadata": {}
   },
   "outputs": [
    {
     "name": "stdout",
     "output_type": "stream",
     "text": [
      "-G1-\n",
      "Variance           = 10.9892\n",
      "Standard Deviation = 3.3150\n"
     ]
    }
   ],
   "source": [
    "print('-G1-')\n",
    "print('Variance           = %.4f' %(np.var(data.G1)))\n",
    "print('Standard Deviation = %.4f' %(np.std(data.G1)))"
   ]
  },
  {
   "cell_type": "code",
   "execution_count": 18,
   "metadata": {
    "metadata": {}
   },
   "outputs": [
    {
     "name": "stdout",
     "output_type": "stream",
     "text": [
      "-G2-\n",
      "Variance           = 14.1131\n",
      "Standard Deviation = 3.7567\n"
     ]
    }
   ],
   "source": [
    "print('-G2-')\n",
    "print('Variance           = %.4f' %(np.var(data.G2)))\n",
    "print('Standard Deviation = %.4f' %(np.std(data.G2)))"
   ]
  },
  {
   "cell_type": "code",
   "execution_count": 19,
   "metadata": {
    "metadata": {}
   },
   "outputs": [
    {
     "name": "stdout",
     "output_type": "stream",
     "text": [
      "-G3-\n",
      "Variance           = 20.9365\n",
      "Standard Deviation = 4.5756\n"
     ]
    }
   ],
   "source": [
    "print('-G3-')\n",
    "print('Variance           = %.4f' %(np.var(data.G3)))\n",
    "print('Standard Deviation = %.4f' %(np.std(data.G3)))"
   ]
  },
  {
   "cell_type": "markdown",
   "metadata": {},
   "source": [
    "## Range"
   ]
  },
  {
   "cell_type": "markdown",
   "metadata": {},
   "source": [
    "In statistics, the **range** of a set of data is the difference between the largest and smallest value."
   ]
  },
  {
   "cell_type": "code",
   "execution_count": 20,
   "metadata": {
    "metadata": {},
    "tags": []
   },
   "outputs": [
    {
     "name": "stdout",
     "output_type": "stream",
     "text": [
      "Range of G1 = 16.00\n",
      "Range of G2 = 19.00\n",
      "Range of G3 = 20.00\n",
      "\n",
      "Range of G2 = 19.00\n",
      "Range of G3 = 20.00\n"
     ]
    }
   ],
   "source": [
    "print('Range of G1 = %.2f' % (data.G1.max() - data.G1.min()))\n",
    "print('Range of G2 = %.2f' % (data.G2.max() - data.G2.min()))\n",
    "print('Range of G3 = %.2f' % (data.G3.max() - data.G3.min()))"
   ]
  },
  {
   "cell_type": "markdown",
   "metadata": {},
   "source": [
    "## Interquartile Range"
   ]
  },
  {
   "cell_type": "markdown",
   "metadata": {},
   "source": [
    "The **interquartile range (IQR)** measures variability by dividing a data set into quartiles.\n",
    "\n",
    "The **interquartile range** is the difference between the third and first quartile in a data set, giving the middle 50%. "
   ]
  },
  {
   "cell_type": "code",
   "execution_count": 21,
   "metadata": {
    "metadata": {},
    "tags": []
   },
   "outputs": [
    {
     "name": "stdout",
     "output_type": "stream",
     "text": [
      "-G1-\n",
      "Q1 = 8.0\n",
      "Q2 = 11.0\n",
      "Q3 = 13.0\n",
      "Interquartile Range = 5\n"
     ]
    }
   ],
   "source": [
    "print('-G1-')\n",
    "print('Q1 =',np.percentile(data.G1, 25))\n",
    "print('Q2 =',np.percentile(data.G1, 50))\n",
    "print('Q3 =',np.percentile(data.G1, 75))\n",
    "IQ_G1 = np.percentile(data.G1, 75) - np.percentile(data.G1, 25)\n",
    "print('Interquartile Range = %i' %(IQ_G1))"
   ]
  },
  {
   "cell_type": "code",
   "execution_count": 22,
   "metadata": {
    "metadata": {}
   },
   "outputs": [
    {
     "name": "stdout",
     "output_type": "stream",
     "text": [
      "-G2-\n",
      "Q1 = 9.0\n",
      "Q2 = 11.0\n",
      "Q3 = 13.0\n",
      "Interquartile Range = 4\n"
     ]
    }
   ],
   "source": [
    "print('-G2-')\n",
    "print('Q1 =',np.percentile(data.G2, 25))\n",
    "print('Q2 =',np.percentile(data.G2, 50))\n",
    "print('Q3 =',np.percentile(data.G2, 75))\n",
    "IQ_G2 = np.percentile(data.G2, 75) - np.percentile(data.G2, 25)\n",
    "print('Interquartile Range = %i' %(IQ_G2))"
   ]
  },
  {
   "cell_type": "code",
   "execution_count": 23,
   "metadata": {
    "metadata": {}
   },
   "outputs": [
    {
     "name": "stdout",
     "output_type": "stream",
     "text": [
      "-G3-\n",
      "Q1 = 8.0\n",
      "Q2 = 11.0\n",
      "Q3 = 14.0\n",
      "Interquartile Range = 6\n"
     ]
    }
   ],
   "source": [
    "print('-G3-')\n",
    "print('Q1 =',np.percentile(data.G3, 25))\n",
    "print('Q2 =',np.percentile(data.G3, 50))\n",
    "print('Q3 =',np.percentile(data.G3, 75))\n",
    "IQ_G3 = np.percentile(data.G3, 75) - np.percentile(data.G3, 25)\n",
    "print('Interquartile Range = %i' %(IQ_G3))"
   ]
  },
  {
   "cell_type": "markdown",
   "metadata": {},
   "source": [
    "The boxplots help us to see the interquartile range.\n",
    "\n",
    "The width of the box is the interquartile range."
   ]
  },
  {
   "cell_type": "code",
   "execution_count": 24,
   "metadata": {
    "metadata": {}
   },
   "outputs": [
    {
     "data": {
      "image/png": "[encoded data removed]",
      "text/plain": [
       "<Figure size 1000x300 with 3 Axes>"
      ]
     },
     "metadata": {},
     "output_type": "display_data"
    }
   ],
   "source": [
    "plt.figure(figsize=(10,3))\n",
    "\n",
    "plt.subplot(131)\n",
    "sns.boxplot(y=data.G1)\n",
    "plt.title('G1 IQR = '+str(IQ_G1))\n",
    "\n",
    "plt.subplot(132)\n",
    "sns.boxplot(y=data.G2)\n",
    "plt.title('G2 IQR = '+str(IQ_G2))\n",
    "\n",
    "plt.subplot(133)\n",
    "sns.boxplot(y=data.G3)\n",
    "plt.title('G3 IQR = '+str(IQ_G3));"
   ]
  },
  {
   "cell_type": "markdown",
   "metadata": {},
   "source": [
    "We can join the three boxplots in an only graph."
   ]
  },
  {
   "cell_type": "code",
   "execution_count": 25,
   "metadata": {
    "metadata": {}
   },
   "outputs": [
    {
     "data": {
      "image/png": "[encoded data removed]",
      "text/plain": [
       "<Figure size 1000x300 with 1 Axes>"
      ]
     },
     "metadata": {},
     "output_type": "display_data"
    }
   ],
   "source": [
    "plt.figure(figsize=(10,3))\n",
    "dd = pd.melt(data,value_vars=['G1', 'G2', 'G3'], value_name='Scores')\n",
    "sns.boxplot(x=dd.variable,y=dd.Scores);"
   ]
  },
  {
   "cell_type": "markdown",
   "metadata": {},
   "source": [
    "## Coefficient of variation"
   ]
  },
  {
   "cell_type": "markdown",
   "metadata": {},
   "source": [
    "The **coefficient of variation (CV)**, also known as relative standard deviation, is a standardized measure of the dispersion of a probability distribution or frequency distribution.\n",
    "\n",
    "The **coefficient of variation** is the ratio of the standard deviation to the mean.  "
   ]
  },
  {
   "cell_type": "code",
   "execution_count": 26,
   "metadata": {
    "metadata": {}
   },
   "outputs": [],
   "source": [
    "from scipy.stats import variation"
   ]
  },
  {
   "cell_type": "code",
   "execution_count": 27,
   "metadata": {
    "metadata": {},
    "tags": []
   },
   "outputs": [
    {
     "name": "stdout",
     "output_type": "stream",
     "text": [
      "Coefficient of variation of G1 = 0.3039\n",
      "Coefficient of variation of G2 = 0.3506\n",
      "Coefficient of variation of G3 = 0.4393\n"
     ]
    }
   ],
   "source": [
    "print('Coefficient of variation of G1 = %.4f' %(variation(data.G1)))\n",
    "print('Coefficient of variation of G2 = %.4f' %(variation(data.G2)))\n",
    "print('Coefficient of variation of G3 = %.4f' %(variation(data.G3)))"
   ]
  },
  {
   "cell_type": "markdown",
   "metadata": {},
   "source": [
    "Using the formula:"
   ]
  },
  {
   "cell_type": "code",
   "execution_count": 28,
   "metadata": {
    "metadata": {},
    "tags": []
   },
   "outputs": [
    {
     "name": "stdout",
     "output_type": "stream",
     "text": [
      "-G1-\n",
      "Standar Deviation        = 3.3192\n",
      "Mean                     = 10.9089\n",
      "Coefficient of variation = 0.3043\n"
     ]
    }
   ],
   "source": [
    "print('-G1-')\n",
    "print('Standar Deviation        = %.4f' %(data.G1.std()))\n",
    "print('Mean                     = %.4f' %(data.G1.mean()))\n",
    "print('Coefficient of variation = %.4f' %(data.G1.std()/data.G1.mean()))"
   ]
  },
  {
   "cell_type": "code",
   "execution_count": 29,
   "metadata": {
    "metadata": {}
   },
   "outputs": [
    {
     "name": "stdout",
     "output_type": "stream",
     "text": [
      "-G2-\n",
      "Standar Deviation        = 3.7615\n",
      "Mean                     = 10.7139\n",
      "Coefficient of variation = 0.3511\n"
     ]
    }
   ],
   "source": [
    "print('-G2-')\n",
    "print('Standar Deviation        = %.4f' %(data.G2.std()))\n",
    "print('Mean                     = %.4f' %(data.G2.mean()))\n",
    "print('Coefficient of variation = %.4f' %(data.G2.std()/data.G2.mean()))"
   ]
  },
  {
   "cell_type": "code",
   "execution_count": 30,
   "metadata": {
    "metadata": {}
   },
   "outputs": [
    {
     "name": "stdout",
     "output_type": "stream",
     "text": [
      "-G3-\n",
      "Standar Deviation        = 4.5814\n",
      "Mean                     = 10.4152\n",
      "Coefficient of variation = 0.4399\n"
     ]
    }
   ],
   "source": [
    "print('-G3-')\n",
    "print('Standar Deviation        = %.4f' %(data.G3.std()))\n",
    "print('Mean                     = %.4f' %(data.G3.mean()))\n",
    "print('Coefficient of variation = %.4f' %(data.G3.std()/data.G3.mean()))"
   ]
  },
  {
   "cell_type": "markdown",
   "metadata": {},
   "source": [
    "How can you interpret the **coefficient of variation**?\n",
    "\n",
    "Let's see two examples:"
   ]
  },
  {
   "cell_type": "markdown",
   "metadata": {},
   "source": [
    "**Group 1**: standard deviation = 50, mean =150"
   ]
  },
  {
   "cell_type": "code",
   "execution_count": 31,
   "metadata": {
    "metadata": {},
    "tags": []
   },
   "outputs": [
    {
     "name": "stdout",
     "output_type": "stream",
     "text": [
      "The coefficient of variation of Group1 = 0.3333\n"
     ]
    }
   ],
   "source": [
    "# Group 1:  \n",
    "std_Group1  = 50\n",
    "mean_Group1 = 150\n",
    "print('The coefficient of variation of Group1 = %.4f' %(std_Group1/mean_Group1))"
   ]
  },
  {
   "cell_type": "markdown",
   "metadata": {},
   "source": [
    "**Group 2**: standard deviation = 50, mean =500"
   ]
  },
  {
   "cell_type": "code",
   "execution_count": 32,
   "metadata": {
    "metadata": {},
    "tags": []
   },
   "outputs": [
    {
     "name": "stdout",
     "output_type": "stream",
     "text": [
      "The coefficient of variation of Group2 = 0.1000\n"
     ]
    }
   ],
   "source": [
    "# Group 2:  \n",
    "std_Group2  = 50\n",
    "mean_Group2 = 500\n",
    "print('The coefficient of variation of Group2 = %.4f' %(std_Group2/mean_Group2))"
   ]
  },
  {
   "cell_type": "markdown",
   "metadata": {},
   "source": [
    "Both groups have the same standard deviation. Despite this, Group1 has more variation than Group2.\n",
    "\n",
    "A variation of 50 affects Group1 more than Group2. Both groups have the same standard deviation. Despite this, **Group1** has more variation than **Group2**.\n",
    "\n",
    "A variation of 50 affects **Group1** more than **Group2**."
   ]
  },
  {
   "cell_type": "code",
   "execution_count": 33,
   "metadata": {
    "metadata": {},
    "tags": []
   },
   "outputs": [
    {
     "name": "stdout",
     "output_type": "stream",
     "text": [
      "The coefficient of variation of Group1 = 0.3333\n",
      "The coefficient of variation of Group2 = 0.1000\n"
     ]
    }
   ],
   "source": [
    "print('The coefficient of variation of Group1 = %.4f' %(std_Group1/mean_Group1))\n",
    "print('The coefficient of variation of Group2 = %.4f' %(std_Group2/mean_Group2))"
   ]
  },
  {
   "cell_type": "markdown",
   "metadata": {},
   "source": [
    "## Conclusions"
   ]
  },
  {
   "cell_type": "markdown",
   "metadata": {},
   "source": [
    "Key Takeaways:\n",
    "- Students will gain a comprehensive understanding of how variability is quantified and what it signifies about a dataset.\n",
    "- Students will be proficient in calculating variance and standard deviation, understanding their role in data analysis, and how they differ when comparing groups or conditions.\n",
    "- Students will learn to use Seaborn and matplotlib to plot distributions, which help them visualize the spread and shape of the data.\n",
    "- The notebook provides insights into how measures of variability can influence interpretations of real-world data, such as academic performance, helping to make informed decisions based on statistical analysis."
   ]
  },
  {
   "cell_type": "markdown",
   "metadata": {},
   "source": [
    "## References"
   ]
  },
  {
   "cell_type": "markdown",
   "metadata": {},
   "source": [
    "- Nussbaumer Knaflic, C. (2015) Storytelling with data. A data visualization guide for business professionals. USA: John Wiley & Sons. chapter 2\n",
    "- Unpingco, J. (2019) Python for Probability, Statistics, and Machine Learning, USA: Springer"
   ]
  }
 ],
 "metadata": {
  "interpreter": {
   "hash": "7f2633a0dd9fad194999ffc17b7b93627efd4bccf6144e14bc5fef7dfd0c6355"
  },
  "kernelspec": {
   "display_name": "Python 3.10.4 64-bit",
   "language": "python",
   "name": "python3"
  },
  "language_info": {
   "codemirror_mode": {
    "name": "ipython",
    "version": 3
   },
   "file_extension": ".py",
   "mimetype": "text/x-python",
   "name": "python",
   "nbconvert_exporter": "python",
   "pygments_lexer": "ipython3",
   "version": "3.11.0"
  },
  "orig_nbformat": 2
 },
 "nbformat": 4,
 "nbformat_minor": 2
}
