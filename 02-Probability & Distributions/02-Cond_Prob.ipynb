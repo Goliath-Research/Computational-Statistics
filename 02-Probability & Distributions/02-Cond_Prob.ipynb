{
 "cells": [
  {
   "cell_type": "markdown",
   "metadata": {},
   "source": [
    "# Conditional Probability"
   ]
  },
  {
   "cell_type": "markdown",
   "metadata": {},
   "source": [
    "Conditional probability is a measure of the probability of an event occurring given that another event has occurred.\n",
    "\n",
    "`P(A|B)` is the probability of A given that B already occured. "
   ]
  },
  {
   "cell_type": "code",
   "execution_count": 1,
   "metadata": {},
   "outputs": [],
   "source": [
    "import numpy as np\n",
    "import pandas as pd\n",
    "pd.set_option('display.max_columns', 10)"
   ]
  },
  {
   "cell_type": "code",
   "execution_count": 2,
   "metadata": {},
   "outputs": [
    {
     "name": "stdout",
     "output_type": "stream",
     "text": [
      "(395, 33)\n"
     ]
    },
    {
     "data": {
      "text/html": [
       "<div>\n",
       "<style scoped>\n",
       "    .dataframe tbody tr th:only-of-type {\n",
       "        vertical-align: middle;\n",
       "    }\n",
       "\n",
       "    .dataframe tbody tr th {\n",
       "        vertical-align: top;\n",
       "    }\n",
       "\n",
       "    .dataframe thead th {\n",
       "        text-align: right;\n",
       "    }\n",
       "</style>\n",
       "<table border=\"1\" class=\"dataframe\">\n",
       "  <thead>\n",
       "    <tr style=\"text-align: right;\">\n",
       "      <th></th>\n",
       "      <th>school</th>\n",
       "      <th>sex</th>\n",
       "      <th>age</th>\n",
       "      <th>address</th>\n",
       "      <th>famsize</th>\n",
       "      <th>...</th>\n",
       "      <th>health</th>\n",
       "      <th>absences</th>\n",
       "      <th>G1</th>\n",
       "      <th>G2</th>\n",
       "      <th>G3</th>\n",
       "    </tr>\n",
       "  </thead>\n",
       "  <tbody>\n",
       "    <tr>\n",
       "      <th>0</th>\n",
       "      <td>GP</td>\n",
       "      <td>F</td>\n",
       "      <td>18</td>\n",
       "      <td>U</td>\n",
       "      <td>GT3</td>\n",
       "      <td>...</td>\n",
       "      <td>3</td>\n",
       "      <td>6</td>\n",
       "      <td>5</td>\n",
       "      <td>6</td>\n",
       "      <td>6</td>\n",
       "    </tr>\n",
       "    <tr>\n",
       "      <th>1</th>\n",
       "      <td>GP</td>\n",
       "      <td>F</td>\n",
       "      <td>17</td>\n",
       "      <td>U</td>\n",
       "      <td>GT3</td>\n",
       "      <td>...</td>\n",
       "      <td>3</td>\n",
       "      <td>4</td>\n",
       "      <td>5</td>\n",
       "      <td>5</td>\n",
       "      <td>6</td>\n",
       "    </tr>\n",
       "    <tr>\n",
       "      <th>2</th>\n",
       "      <td>GP</td>\n",
       "      <td>F</td>\n",
       "      <td>15</td>\n",
       "      <td>U</td>\n",
       "      <td>LE3</td>\n",
       "      <td>...</td>\n",
       "      <td>3</td>\n",
       "      <td>10</td>\n",
       "      <td>7</td>\n",
       "      <td>8</td>\n",
       "      <td>10</td>\n",
       "    </tr>\n",
       "    <tr>\n",
       "      <th>3</th>\n",
       "      <td>GP</td>\n",
       "      <td>F</td>\n",
       "      <td>15</td>\n",
       "      <td>U</td>\n",
       "      <td>GT3</td>\n",
       "      <td>...</td>\n",
       "      <td>5</td>\n",
       "      <td>2</td>\n",
       "      <td>15</td>\n",
       "      <td>14</td>\n",
       "      <td>15</td>\n",
       "    </tr>\n",
       "    <tr>\n",
       "      <th>4</th>\n",
       "      <td>GP</td>\n",
       "      <td>F</td>\n",
       "      <td>16</td>\n",
       "      <td>U</td>\n",
       "      <td>GT3</td>\n",
       "      <td>...</td>\n",
       "      <td>5</td>\n",
       "      <td>4</td>\n",
       "      <td>6</td>\n",
       "      <td>10</td>\n",
       "      <td>10</td>\n",
       "    </tr>\n",
       "  </tbody>\n",
       "</table>\n",
       "<p>5 rows × 33 columns</p>\n",
       "</div>"
      ],
      "text/plain": [
       "  school sex  age address famsize  ... health  absences  G1  G2  G3\n",
       "0     GP   F   18       U     GT3  ...      3         6   5   6   6\n",
       "1     GP   F   17       U     GT3  ...      3         4   5   5   6\n",
       "2     GP   F   15       U     LE3  ...      3        10   7   8  10\n",
       "3     GP   F   15       U     GT3  ...      5         2  15  14  15\n",
       "4     GP   F   16       U     GT3  ...      5         4   6  10  10\n",
       "\n",
       "[5 rows x 33 columns]"
      ]
     },
     "execution_count": 2,
     "metadata": {},
     "output_type": "execute_result"
    }
   ],
   "source": [
    "data = pd.read_csv('../data/student-mat.csv',sep=';')\n",
    "print(data.shape)\n",
    "data.head()"
   ]
  },
  {
   "cell_type": "markdown",
   "metadata": {},
   "source": [
    "The database has 33 variables. We are going to work with a subset of them:\n",
    "\n",
    "- **school**: student's school (***`binary`***: 'GP' or 'MS')\n",
    "- **sex**: student's sex (***`binary`***: 'F' - female or 'M' - male)\n",
    "- **address**: student's home address type (***`binary`***: 'U'-urban, or 'R'-rural)\n",
    "- **studytime**: weekly study time (***`numeric`***: 1 - <2 hours, 2 - 2 to 5 hours, 3 - 5 to 10 hours, or 4 - >10 hours)\n",
    "- **schoolsup**: extra educational support (***`binary`***: yes or no)\n",
    "- **internet**: Internet access at home (***`binary`***: yes or no)\n",
    "- **G1**: first period grade (***`numeric`***: from 0 to 20)\n",
    "- **G2**: second period grade (***`numeric`***: from 0 to 20)\n",
    "- **G3**: final grade (***`numeric`***: from 0 to 20, output target)"
   ]
  },
  {
   "cell_type": "code",
   "execution_count": 3,
   "metadata": {},
   "outputs": [
    {
     "name": "stdout",
     "output_type": "stream",
     "text": [
      "(395, 9)\n"
     ]
    },
    {
     "data": {
      "text/html": [
       "<div>\n",
       "<style scoped>\n",
       "    .dataframe tbody tr th:only-of-type {\n",
       "        vertical-align: middle;\n",
       "    }\n",
       "\n",
       "    .dataframe tbody tr th {\n",
       "        vertical-align: top;\n",
       "    }\n",
       "\n",
       "    .dataframe thead th {\n",
       "        text-align: right;\n",
       "    }\n",
       "</style>\n",
       "<table border=\"1\" class=\"dataframe\">\n",
       "  <thead>\n",
       "    <tr style=\"text-align: right;\">\n",
       "      <th></th>\n",
       "      <th>school</th>\n",
       "      <th>sex</th>\n",
       "      <th>address</th>\n",
       "      <th>studytime</th>\n",
       "      <th>schoolsup</th>\n",
       "      <th>internet</th>\n",
       "      <th>G1</th>\n",
       "      <th>G2</th>\n",
       "      <th>G3</th>\n",
       "    </tr>\n",
       "  </thead>\n",
       "  <tbody>\n",
       "    <tr>\n",
       "      <th>0</th>\n",
       "      <td>GP</td>\n",
       "      <td>F</td>\n",
       "      <td>U</td>\n",
       "      <td>2</td>\n",
       "      <td>yes</td>\n",
       "      <td>no</td>\n",
       "      <td>5</td>\n",
       "      <td>6</td>\n",
       "      <td>6</td>\n",
       "    </tr>\n",
       "    <tr>\n",
       "      <th>1</th>\n",
       "      <td>GP</td>\n",
       "      <td>F</td>\n",
       "      <td>U</td>\n",
       "      <td>2</td>\n",
       "      <td>no</td>\n",
       "      <td>yes</td>\n",
       "      <td>5</td>\n",
       "      <td>5</td>\n",
       "      <td>6</td>\n",
       "    </tr>\n",
       "    <tr>\n",
       "      <th>2</th>\n",
       "      <td>GP</td>\n",
       "      <td>F</td>\n",
       "      <td>U</td>\n",
       "      <td>2</td>\n",
       "      <td>yes</td>\n",
       "      <td>yes</td>\n",
       "      <td>7</td>\n",
       "      <td>8</td>\n",
       "      <td>10</td>\n",
       "    </tr>\n",
       "    <tr>\n",
       "      <th>3</th>\n",
       "      <td>GP</td>\n",
       "      <td>F</td>\n",
       "      <td>U</td>\n",
       "      <td>3</td>\n",
       "      <td>no</td>\n",
       "      <td>yes</td>\n",
       "      <td>15</td>\n",
       "      <td>14</td>\n",
       "      <td>15</td>\n",
       "    </tr>\n",
       "    <tr>\n",
       "      <th>4</th>\n",
       "      <td>GP</td>\n",
       "      <td>F</td>\n",
       "      <td>U</td>\n",
       "      <td>2</td>\n",
       "      <td>no</td>\n",
       "      <td>no</td>\n",
       "      <td>6</td>\n",
       "      <td>10</td>\n",
       "      <td>10</td>\n",
       "    </tr>\n",
       "  </tbody>\n",
       "</table>\n",
       "</div>"
      ],
      "text/plain": [
       "  school sex address  studytime schoolsup internet  G1  G2  G3\n",
       "0     GP   F       U          2       yes       no   5   6   6\n",
       "1     GP   F       U          2        no      yes   5   5   6\n",
       "2     GP   F       U          2       yes      yes   7   8  10\n",
       "3     GP   F       U          3        no      yes  15  14  15\n",
       "4     GP   F       U          2        no       no   6  10  10"
      ]
     },
     "execution_count": 3,
     "metadata": {},
     "output_type": "execute_result"
    }
   ],
   "source": [
    "data = data[['school','sex','address','studytime','schoolsup','internet','G1','G2','G3']]\n",
    "print(data.shape)\n",
    "data.head()"
   ]
  },
  {
   "cell_type": "markdown",
   "metadata": {},
   "source": [
    "## Conditional Probability Examples  "
   ]
  },
  {
   "cell_type": "markdown",
   "metadata": {},
   "source": [
    "**`Example 1`**. Determine the probability a student gets grades (`G1`, `G2`, `G3`) greater than or equal to 60%, given we know he studies more than 5 hours a week.\n",
    "\n",
    "Let's create the boolean variables `G1pass`, `G2pass` and `G3pass`. If G1 grade >= 60%, `G1pass` will be `1`, and `0` otherwise. Original `G1`, `G2`, and `G3` values are on a 0–20 scale, so we multiply them by 5 to get a percent."
   ]
  },
  {
   "cell_type": "code",
   "execution_count": 4,
   "metadata": {},
   "outputs": [
    {
     "data": {
      "text/html": [
       "<div>\n",
       "<style scoped>\n",
       "    .dataframe tbody tr th:only-of-type {\n",
       "        vertical-align: middle;\n",
       "    }\n",
       "\n",
       "    .dataframe tbody tr th {\n",
       "        vertical-align: top;\n",
       "    }\n",
       "\n",
       "    .dataframe thead th {\n",
       "        text-align: right;\n",
       "    }\n",
       "</style>\n",
       "<table border=\"1\" class=\"dataframe\">\n",
       "  <thead>\n",
       "    <tr style=\"text-align: right;\">\n",
       "      <th></th>\n",
       "      <th>school</th>\n",
       "      <th>sex</th>\n",
       "      <th>address</th>\n",
       "      <th>studytime</th>\n",
       "      <th>schoolsup</th>\n",
       "      <th>...</th>\n",
       "      <th>G2</th>\n",
       "      <th>G3</th>\n",
       "      <th>G1pass</th>\n",
       "      <th>G2pass</th>\n",
       "      <th>G3pass</th>\n",
       "    </tr>\n",
       "  </thead>\n",
       "  <tbody>\n",
       "    <tr>\n",
       "      <th>0</th>\n",
       "      <td>GP</td>\n",
       "      <td>F</td>\n",
       "      <td>U</td>\n",
       "      <td>2</td>\n",
       "      <td>yes</td>\n",
       "      <td>...</td>\n",
       "      <td>6</td>\n",
       "      <td>6</td>\n",
       "      <td>0</td>\n",
       "      <td>0</td>\n",
       "      <td>0</td>\n",
       "    </tr>\n",
       "    <tr>\n",
       "      <th>1</th>\n",
       "      <td>GP</td>\n",
       "      <td>F</td>\n",
       "      <td>U</td>\n",
       "      <td>2</td>\n",
       "      <td>no</td>\n",
       "      <td>...</td>\n",
       "      <td>5</td>\n",
       "      <td>6</td>\n",
       "      <td>0</td>\n",
       "      <td>0</td>\n",
       "      <td>0</td>\n",
       "    </tr>\n",
       "    <tr>\n",
       "      <th>2</th>\n",
       "      <td>GP</td>\n",
       "      <td>F</td>\n",
       "      <td>U</td>\n",
       "      <td>2</td>\n",
       "      <td>yes</td>\n",
       "      <td>...</td>\n",
       "      <td>8</td>\n",
       "      <td>10</td>\n",
       "      <td>0</td>\n",
       "      <td>0</td>\n",
       "      <td>0</td>\n",
       "    </tr>\n",
       "    <tr>\n",
       "      <th>3</th>\n",
       "      <td>GP</td>\n",
       "      <td>F</td>\n",
       "      <td>U</td>\n",
       "      <td>3</td>\n",
       "      <td>no</td>\n",
       "      <td>...</td>\n",
       "      <td>14</td>\n",
       "      <td>15</td>\n",
       "      <td>1</td>\n",
       "      <td>1</td>\n",
       "      <td>1</td>\n",
       "    </tr>\n",
       "    <tr>\n",
       "      <th>4</th>\n",
       "      <td>GP</td>\n",
       "      <td>F</td>\n",
       "      <td>U</td>\n",
       "      <td>2</td>\n",
       "      <td>no</td>\n",
       "      <td>...</td>\n",
       "      <td>10</td>\n",
       "      <td>10</td>\n",
       "      <td>0</td>\n",
       "      <td>0</td>\n",
       "      <td>0</td>\n",
       "    </tr>\n",
       "  </tbody>\n",
       "</table>\n",
       "<p>5 rows × 12 columns</p>\n",
       "</div>"
      ],
      "text/plain": [
       "  school sex address  studytime schoolsup  ...  G2  G3  G1pass  G2pass  G3pass\n",
       "0     GP   F       U          2       yes  ...   6   6       0       0       0\n",
       "1     GP   F       U          2        no  ...   5   6       0       0       0\n",
       "2     GP   F       U          2       yes  ...   8  10       0       0       0\n",
       "3     GP   F       U          3        no  ...  14  15       1       1       1\n",
       "4     GP   F       U          2        no  ...  10  10       0       0       0\n",
       "\n",
       "[5 rows x 12 columns]"
      ]
     },
     "execution_count": 4,
     "metadata": {},
     "output_type": "execute_result"
    }
   ],
   "source": [
    "data['G1pass'] = np.where(data.G1 * 5 >= 60, 1, 0)\n",
    "data['G2pass'] = np.where(data.G2 * 5 >= 60, 1, 0)\n",
    "data['G3pass'] = np.where(data.G3 * 5 >= 60, 1, 0)\n",
    "data.head()"
   ]
  },
  {
   "cell_type": "code",
   "execution_count": 5,
   "metadata": {},
   "outputs": [
    {
     "data": {
      "image/png": "[encoded data removed]",
      "text/plain": [
       "<Figure size 640x480 with 1 Axes>"
      ]
     },
     "metadata": {},
     "output_type": "display_data"
    }
   ],
   "source": [
    "# Frequency Distribution of G1pass\n",
    "data.G1pass.value_counts().plot(kind='bar', rot=True, title='G1pass');"
   ]
  },
  {
   "cell_type": "code",
   "execution_count": 6,
   "metadata": {},
   "outputs": [
    {
     "data": {
      "image/png": "[encoded data removed]",
      "text/plain": [
       "<Figure size 640x480 with 1 Axes>"
      ]
     },
     "metadata": {},
     "output_type": "display_data"
    }
   ],
   "source": [
    "# Frequency Distribution of G2pass\n",
    "data.G2pass.value_counts().plot(kind='bar', rot=True, title='G2pass');"
   ]
  },
  {
   "cell_type": "code",
   "execution_count": 7,
   "metadata": {},
   "outputs": [
    {
     "data": {
      "image/png": "[encoded data removed]",
      "text/plain": [
       "<Figure size 640x480 with 1 Axes>"
      ]
     },
     "metadata": {},
     "output_type": "display_data"
    }
   ],
   "source": [
    "# Frequency Distribution of G3pass\n",
    "data.G3pass.value_counts().plot(kind='bar', rot=True, title='G3pass');"
   ]
  },
  {
   "cell_type": "markdown",
   "metadata": {},
   "source": [
    "As you can see, more students fail than pass the three exams.\n",
    "\n",
    "Let's make another boolean variable: `StudyHard`. If studytime >= 3 (>5 hours), StudyHard will be 1, and 0 otherwise."
   ]
  },
  {
   "cell_type": "code",
   "execution_count": 8,
   "metadata": {},
   "outputs": [
    {
     "data": {
      "text/html": [
       "<div>\n",
       "<style scoped>\n",
       "    .dataframe tbody tr th:only-of-type {\n",
       "        vertical-align: middle;\n",
       "    }\n",
       "\n",
       "    .dataframe tbody tr th {\n",
       "        vertical-align: top;\n",
       "    }\n",
       "\n",
       "    .dataframe thead th {\n",
       "        text-align: right;\n",
       "    }\n",
       "</style>\n",
       "<table border=\"1\" class=\"dataframe\">\n",
       "  <thead>\n",
       "    <tr style=\"text-align: right;\">\n",
       "      <th></th>\n",
       "      <th>school</th>\n",
       "      <th>sex</th>\n",
       "      <th>address</th>\n",
       "      <th>studytime</th>\n",
       "      <th>schoolsup</th>\n",
       "      <th>...</th>\n",
       "      <th>G3</th>\n",
       "      <th>G1pass</th>\n",
       "      <th>G2pass</th>\n",
       "      <th>G3pass</th>\n",
       "      <th>StudyHard</th>\n",
       "    </tr>\n",
       "  </thead>\n",
       "  <tbody>\n",
       "    <tr>\n",
       "      <th>0</th>\n",
       "      <td>GP</td>\n",
       "      <td>F</td>\n",
       "      <td>U</td>\n",
       "      <td>2</td>\n",
       "      <td>yes</td>\n",
       "      <td>...</td>\n",
       "      <td>6</td>\n",
       "      <td>0</td>\n",
       "      <td>0</td>\n",
       "      <td>0</td>\n",
       "      <td>0</td>\n",
       "    </tr>\n",
       "    <tr>\n",
       "      <th>1</th>\n",
       "      <td>GP</td>\n",
       "      <td>F</td>\n",
       "      <td>U</td>\n",
       "      <td>2</td>\n",
       "      <td>no</td>\n",
       "      <td>...</td>\n",
       "      <td>6</td>\n",
       "      <td>0</td>\n",
       "      <td>0</td>\n",
       "      <td>0</td>\n",
       "      <td>0</td>\n",
       "    </tr>\n",
       "    <tr>\n",
       "      <th>2</th>\n",
       "      <td>GP</td>\n",
       "      <td>F</td>\n",
       "      <td>U</td>\n",
       "      <td>2</td>\n",
       "      <td>yes</td>\n",
       "      <td>...</td>\n",
       "      <td>10</td>\n",
       "      <td>0</td>\n",
       "      <td>0</td>\n",
       "      <td>0</td>\n",
       "      <td>0</td>\n",
       "    </tr>\n",
       "    <tr>\n",
       "      <th>3</th>\n",
       "      <td>GP</td>\n",
       "      <td>F</td>\n",
       "      <td>U</td>\n",
       "      <td>3</td>\n",
       "      <td>no</td>\n",
       "      <td>...</td>\n",
       "      <td>15</td>\n",
       "      <td>1</td>\n",
       "      <td>1</td>\n",
       "      <td>1</td>\n",
       "      <td>1</td>\n",
       "    </tr>\n",
       "    <tr>\n",
       "      <th>4</th>\n",
       "      <td>GP</td>\n",
       "      <td>F</td>\n",
       "      <td>U</td>\n",
       "      <td>2</td>\n",
       "      <td>no</td>\n",
       "      <td>...</td>\n",
       "      <td>10</td>\n",
       "      <td>0</td>\n",
       "      <td>0</td>\n",
       "      <td>0</td>\n",
       "      <td>0</td>\n",
       "    </tr>\n",
       "  </tbody>\n",
       "</table>\n",
       "<p>5 rows × 13 columns</p>\n",
       "</div>"
      ],
      "text/plain": [
       "  school sex address  studytime schoolsup  ...  G3  G1pass  G2pass  G3pass  \\\n",
       "0     GP   F       U          2       yes  ...   6       0       0       0   \n",
       "1     GP   F       U          2        no  ...   6       0       0       0   \n",
       "2     GP   F       U          2       yes  ...  10       0       0       0   \n",
       "3     GP   F       U          3        no  ...  15       1       1       1   \n",
       "4     GP   F       U          2        no  ...  10       0       0       0   \n",
       "\n",
       "   StudyHard  \n",
       "0          0  \n",
       "1          0  \n",
       "2          0  \n",
       "3          1  \n",
       "4          0  \n",
       "\n",
       "[5 rows x 13 columns]"
      ]
     },
     "execution_count": 8,
     "metadata": {},
     "output_type": "execute_result"
    }
   ],
   "source": [
    "data['StudyHard'] = np.where(data.studytime >= 3, 1, 0)\n",
    "data.head()"
   ]
  },
  {
   "cell_type": "code",
   "execution_count": 9,
   "metadata": {},
   "outputs": [
    {
     "data": {
      "image/png": "[encoded data removed]",
      "text/plain": [
       "<Figure size 640x480 with 1 Axes>"
      ]
     },
     "metadata": {},
     "output_type": "display_data"
    }
   ],
   "source": [
    "# Frequency Distribution of StudyHard\n",
    "data.StudyHard.value_counts().plot(kind='bar', rot=True, title='Study Time greater or equal to 5 hours a week');"
   ]
  },
  {
   "cell_type": "markdown",
   "metadata": {},
   "source": [
    "**Computing P(G1pass|StudyHard)**"
   ]
  },
  {
   "cell_type": "markdown",
   "metadata": {},
   "source": [
    "Let's calculate the crosstab:"
   ]
  },
  {
   "cell_type": "code",
   "execution_count": 10,
   "metadata": {},
   "outputs": [
    {
     "data": {
      "text/html": [
       "<div>\n",
       "<style scoped>\n",
       "    .dataframe tbody tr th:only-of-type {\n",
       "        vertical-align: middle;\n",
       "    }\n",
       "\n",
       "    .dataframe tbody tr th {\n",
       "        vertical-align: top;\n",
       "    }\n",
       "\n",
       "    .dataframe thead th {\n",
       "        text-align: right;\n",
       "    }\n",
       "</style>\n",
       "<table border=\"1\" class=\"dataframe\">\n",
       "  <thead>\n",
       "    <tr style=\"text-align: right;\">\n",
       "      <th>StudyHard</th>\n",
       "      <th>0</th>\n",
       "      <th>1</th>\n",
       "      <th>All</th>\n",
       "    </tr>\n",
       "    <tr>\n",
       "      <th>G1pass</th>\n",
       "      <th></th>\n",
       "      <th></th>\n",
       "      <th></th>\n",
       "    </tr>\n",
       "  </thead>\n",
       "  <tbody>\n",
       "    <tr>\n",
       "      <th>0</th>\n",
       "      <td>188</td>\n",
       "      <td>44</td>\n",
       "      <td>232</td>\n",
       "    </tr>\n",
       "    <tr>\n",
       "      <th>1</th>\n",
       "      <td>115</td>\n",
       "      <td>48</td>\n",
       "      <td>163</td>\n",
       "    </tr>\n",
       "    <tr>\n",
       "      <th>All</th>\n",
       "      <td>303</td>\n",
       "      <td>92</td>\n",
       "      <td>395</td>\n",
       "    </tr>\n",
       "  </tbody>\n",
       "</table>\n",
       "</div>"
      ],
      "text/plain": [
       "StudyHard    0   1  All\n",
       "G1pass                 \n",
       "0          188  44  232\n",
       "1          115  48  163\n",
       "All        303  92  395"
      ]
     },
     "execution_count": 10,
     "metadata": {},
     "output_type": "execute_result"
    }
   ],
   "source": [
    "c1 = pd.crosstab(data.G1pass, data.StudyHard, margins=True)\n",
    "c1"
   ]
  },
  {
   "cell_type": "markdown",
   "metadata": {},
   "source": [
    "The formula for conditional probability: $P(G1pass|StudyHard)=\\frac{P(G1pass \\bigcap StudyHard)}{P(StudyHard)}$"
   ]
  },
  {
   "cell_type": "code",
   "execution_count": 11,
   "metadata": {},
   "outputs": [
    {
     "name": "stdout",
     "output_type": "stream",
     "text": [
      "P(G1pass and StudyHard) = 0.12\n"
     ]
    }
   ],
   "source": [
    "print('P(G1pass and StudyHard) = %.2f' %(48/395)) "
   ]
  },
  {
   "cell_type": "code",
   "execution_count": 12,
   "metadata": {},
   "outputs": [
    {
     "name": "stdout",
     "output_type": "stream",
     "text": [
      "P(StudyHard) = 0.23\n"
     ]
    }
   ],
   "source": [
    "print('P(StudyHard) = %.2f' %(92/395)) "
   ]
  },
  {
   "cell_type": "code",
   "execution_count": 13,
   "metadata": {},
   "outputs": [
    {
     "name": "stdout",
     "output_type": "stream",
     "text": [
      "P(G1pass | StudyHard) = 0.52\n"
     ]
    }
   ],
   "source": [
    "print('P(G1pass | StudyHard) = %.2f' %(48/92)) "
   ]
  },
  {
   "cell_type": "code",
   "execution_count": 14,
   "metadata": {},
   "outputs": [
    {
     "name": "stdout",
     "output_type": "stream",
     "text": [
      "P(G1pass | StudyHard) = 0.52\n"
     ]
    }
   ],
   "source": [
    "# Automatizing the process\n",
    "print('P(G1pass | StudyHard) = %.2f' %(c1[1][1]/c1[1]['All'])) "
   ]
  },
  {
   "cell_type": "code",
   "execution_count": 15,
   "metadata": {},
   "outputs": [
    {
     "data": {
      "text/plain": [
       "1    0.521739\n",
       "0    0.478261\n",
       "Name: G1pass, dtype: float64"
      ]
     },
     "execution_count": 15,
     "metadata": {},
     "output_type": "execute_result"
    }
   ],
   "source": [
    "# Another way\n",
    "data.G1pass[data.StudyHard == 1].value_counts(normalize=True)"
   ]
  },
  {
   "cell_type": "code",
   "execution_count": 16,
   "metadata": {},
   "outputs": [
    {
     "name": "stdout",
     "output_type": "stream",
     "text": [
      "P(G1pass | StudyHard) = 0.52\n"
     ]
    }
   ],
   "source": [
    "print('P(G1pass | StudyHard) = %.2f' \n",
    "       %(data.G1pass[data.StudyHard == 1].value_counts(normalize=True)[1])) "
   ]
  },
  {
   "cell_type": "markdown",
   "metadata": {},
   "source": [
    "**Computing P(G2pass | StudyHard)**"
   ]
  },
  {
   "cell_type": "code",
   "execution_count": 17,
   "metadata": {},
   "outputs": [
    {
     "name": "stdout",
     "output_type": "stream",
     "text": [
      "P(G2pass | StudyHard) = 0.53\n"
     ]
    }
   ],
   "source": [
    "print('P(G2pass | StudyHard) = %.2f' \n",
    "       %(data.G2pass[data.StudyHard == 1].value_counts(normalize=True)[1])) "
   ]
  },
  {
   "cell_type": "markdown",
   "metadata": {},
   "source": [
    "**Computing P(G3pass | StudyHard)**"
   ]
  },
  {
   "cell_type": "code",
   "execution_count": 18,
   "metadata": {},
   "outputs": [
    {
     "name": "stdout",
     "output_type": "stream",
     "text": [
      "P(G3pass | StudyHard) = 0.51\n"
     ]
    }
   ],
   "source": [
    "print('P(G3pass | StudyHard) = %.2f' \n",
    "       %(data.G3pass[data.StudyHard == 1].value_counts(normalize=True)[1])) "
   ]
  },
  {
   "cell_type": "markdown",
   "metadata": {},
   "source": [
    "**`Example 2`**: Determine the probability a student gets grades (`G1`, `G2`, `G3`) greater than or equal to 60%, given he has internet access at home.\n",
    "\n",
    "Let's use the boolean variables `G1pass`, `G2pass` and `G3pass`, and `internet`"
   ]
  },
  {
   "cell_type": "code",
   "execution_count": 19,
   "metadata": {},
   "outputs": [
    {
     "data": {
      "image/png": "[encoded data removed]",
      "text/plain": [
       "<Figure size 640x480 with 1 Axes>"
      ]
     },
     "metadata": {},
     "output_type": "display_data"
    }
   ],
   "source": [
    "data.internet.value_counts().plot(kind='bar', rot=True, title='School');"
   ]
  },
  {
   "cell_type": "markdown",
   "metadata": {},
   "source": [
    "**Computing P(G1pass | internet)**"
   ]
  },
  {
   "cell_type": "code",
   "execution_count": 20,
   "metadata": {},
   "outputs": [
    {
     "name": "stdout",
     "output_type": "stream",
     "text": [
      "P(G1pass | StudyHard) = 0.43\n"
     ]
    }
   ],
   "source": [
    "print('P(G1pass | StudyHard) = %.2f' \n",
    "       %(data.G1pass[data.internet == 'yes'].value_counts(normalize=True)[1])) "
   ]
  },
  {
   "cell_type": "markdown",
   "metadata": {},
   "source": [
    "**Computing P(G2pass | internet)**"
   ]
  },
  {
   "cell_type": "code",
   "execution_count": 21,
   "metadata": {},
   "outputs": [
    {
     "name": "stdout",
     "output_type": "stream",
     "text": [
      "P(G2pass | StudyHard) = 0.45\n"
     ]
    }
   ],
   "source": [
    "print('P(G2pass | StudyHard) = %.2f' \n",
    "       %(data.G2pass[data.internet == 'yes'].value_counts(normalize=True)[1])) "
   ]
  },
  {
   "cell_type": "markdown",
   "metadata": {},
   "source": [
    "**Computing P(G3pass | internet)**"
   ]
  },
  {
   "cell_type": "code",
   "execution_count": 22,
   "metadata": {},
   "outputs": [
    {
     "name": "stdout",
     "output_type": "stream",
     "text": [
      "P(G3pass | StudyHard) = 0.43\n"
     ]
    }
   ],
   "source": [
    "print('P(G3pass | StudyHard) = %.2f' \n",
    "       %(data.G3pass[data.internet == 'yes'].value_counts(normalize=True)[1])) "
   ]
  },
  {
   "cell_type": "markdown",
   "metadata": {},
   "source": [
    "## Total Probability Law"
   ]
  },
  {
   "cell_type": "markdown",
   "metadata": {},
   "source": [
    "**`Example 3`**: Calculate the probability of passing the final test G3, knowing the weekly study time of students.\n",
    "\n",
    "The variable `studytime` represents the weekly study time with the values:\n",
    "- 1: <2 hours, \n",
    "- 2: 2 to 5 hours, \n",
    "- 3: 5 to 10 hours, \n",
    "- 4: >10 hours)\n",
    "\n",
    "We can calculate:\n",
    "- P(G3pass|studytime=1)\n",
    "- P(G3pass|studytime=2)\n",
    "- P(G3pass|studytime=3)\n",
    "- P(G3pass|studytime=4)\n",
    "\n",
    "And finally, we will get the total probability of passing the final test `G3` (`G3pass`)."
   ]
  },
  {
   "cell_type": "code",
   "execution_count": 23,
   "metadata": {},
   "outputs": [
    {
     "data": {
      "image/png": "[encoded data removed]",
      "text/plain": [
       "<Figure size 640x480 with 1 Axes>"
      ]
     },
     "metadata": {},
     "output_type": "display_data"
    }
   ],
   "source": [
    "data.studytime.value_counts().plot(kind='bar', rot=True, title='Weekly Study Time');"
   ]
  },
  {
   "cell_type": "code",
   "execution_count": 24,
   "metadata": {},
   "outputs": [
    {
     "data": {
      "text/plain": [
       "2    198\n",
       "1    105\n",
       "3     65\n",
       "4     27\n",
       "Name: studytime, dtype: int64"
      ]
     },
     "execution_count": 24,
     "metadata": {},
     "output_type": "execute_result"
    }
   ],
   "source": [
    "# Getting the frequencies of the different values\n",
    "data.studytime.value_counts()"
   ]
  },
  {
   "cell_type": "code",
   "execution_count": 25,
   "metadata": {},
   "outputs": [
    {
     "data": {
      "text/plain": [
       "2    0.501266\n",
       "1    0.265823\n",
       "3    0.164557\n",
       "4    0.068354\n",
       "Name: studytime, dtype: float64"
      ]
     },
     "execution_count": 25,
     "metadata": {},
     "output_type": "execute_result"
    }
   ],
   "source": [
    "# Getting the relative frequencies of the different values\n",
    "data.studytime.value_counts(normalize=True)"
   ]
  },
  {
   "cell_type": "code",
   "execution_count": 26,
   "metadata": {},
   "outputs": [],
   "source": [
    "st1 = data.studytime.value_counts(normalize=True)[1]\n",
    "st2 = data.studytime.value_counts(normalize=True)[2]\n",
    "st3 = data.studytime.value_counts(normalize=True)[3]\n",
    "st4 = data.studytime.value_counts(normalize=True)[4]"
   ]
  },
  {
   "cell_type": "code",
   "execution_count": 27,
   "metadata": {},
   "outputs": [
    {
     "name": "stdout",
     "output_type": "stream",
     "text": [
      "P(studytime = 1) = 0.27\n",
      "P(studytime = 2) = 0.50\n",
      "P(studytime = 3) = 0.16\n",
      "P(studytime = 4) = 0.07\n"
     ]
    }
   ],
   "source": [
    "# Getting the probabilities of the different values\n",
    "print('P(studytime = 1) = %.2f' %(st1))\n",
    "print('P(studytime = 2) = %.2f' %(st2))\n",
    "print('P(studytime = 3) = %.2f' %(st3))\n",
    "print('P(studytime = 4) = %.2f' %(st4))"
   ]
  },
  {
   "cell_type": "code",
   "execution_count": 28,
   "metadata": {},
   "outputs": [],
   "source": [
    "# Computing the conditional probability\n",
    "p3givenst1 = data.G3pass[data.studytime == 1].value_counts(normalize=True)[1]\n",
    "p3givenst2 = data.G3pass[data.studytime == 2].value_counts(normalize=True)[1]\n",
    "p3givenst3 = data.G3pass[data.studytime == 3].value_counts(normalize=True)[1]\n",
    "p3givenst4 = data.G3pass[data.studytime == 4].value_counts(normalize=True)[1]"
   ]
  },
  {
   "cell_type": "code",
   "execution_count": 29,
   "metadata": {},
   "outputs": [
    {
     "name": "stdout",
     "output_type": "stream",
     "text": [
      "P(G3pass | studytime = 1) = 0.42\n",
      "P(G3pass | studytime = 2) = 0.36\n",
      "P(G3pass | studytime = 3) = 0.51\n",
      "P(G3pass | studytime = 4) = 0.52\n"
     ]
    }
   ],
   "source": [
    "# Computing the conditional probability\n",
    "print('P(G3pass | studytime = 1) = %.2f' %(p3givenst1))\n",
    "print('P(G3pass | studytime = 2) = %.2f' %(p3givenst2))\n",
    "print('P(G3pass | studytime = 3) = %.2f' %(p3givenst3))\n",
    "print('P(G3pass | studytime = 4) = %.2f' %(p3givenst4))"
   ]
  },
  {
   "cell_type": "markdown",
   "metadata": {},
   "source": [
    "**Total Probability Law**"
   ]
  },
  {
   "cell_type": "code",
   "execution_count": 30,
   "metadata": {},
   "outputs": [
    {
     "name": "stdout",
     "output_type": "stream",
     "text": [
      "P(G3pass) = P(G3pass | studytime=1)*P(studytime=1) + P(G3pass | studytime=2)*P(studytime=2) + \n",
      "            P(G3pass | studytime=3)*P(studytime=3) + P(G3pass | studytime=4)*P(studytime=4)\n"
     ]
    }
   ],
   "source": [
    "print('P(G3pass) = P(G3pass | studytime=1)*P(studytime=1) + P(G3pass | studytime=2)*P(studytime=2) + ')\n",
    "print('            P(G3pass | studytime=3)*P(studytime=3) + P(G3pass | studytime=4)*P(studytime=4)')"
   ]
  },
  {
   "cell_type": "code",
   "execution_count": 31,
   "metadata": {},
   "outputs": [],
   "source": [
    "pG3pass = p3givenst1*st1 + p3givenst2*st2 + p3givenst3*st3 + p3givenst4*st4"
   ]
  },
  {
   "cell_type": "code",
   "execution_count": 32,
   "metadata": {},
   "outputs": [
    {
     "name": "stdout",
     "output_type": "stream",
     "text": [
      "P(G3pass) = (0.42)*(0.27) + (0.36)*(0.50) + (0.51)*(0.16) + (0.52)*(0.07) = 0.41\n"
     ]
    }
   ],
   "source": [
    "print('P(G3pass) = (%.2f)*(%.2f) + (%.2f)*(%.2f) + (%.2f)*(%.2f) + (%.2f)*(%.2f) = %.2f' %(\n",
    "                    p3givenst1, st1, p3givenst2, st2, p3givenst3, st3, p3givenst4, st4, pG3pass))"
   ]
  },
  {
   "cell_type": "markdown",
   "metadata": {},
   "source": [
    "## Bayes' Rule"
   ]
  },
  {
   "cell_type": "markdown",
   "metadata": {},
   "source": [
    "**`Example 4`**: We chose a student randomly, and he passed. Calculate the probability:\n",
    "- the student studied 2 to 5 hours a week (`studytime = 2`)\n",
    "- the student studied between 5 and 10 hours a week  (`studytime = 3`)"
   ]
  },
  {
   "cell_type": "markdown",
   "metadata": {},
   "source": [
    "**Computing P(st=2 | G3pass)**"
   ]
  },
  {
   "cell_type": "markdown",
   "metadata": {},
   "source": [
    "Bayes' Rule\n",
    "\n",
    "$P(st=2|G3pass)=\\frac{P(G3pass|st=2)P(st=2)}{P(G3pass|st=1)P(st=1)+P(G3pass|st=2)P(st=2)+P(G3pass|st=3)P(st=3)+P(G3pass|st=4)P(st=4)}$"
   ]
  },
  {
   "cell_type": "code",
   "execution_count": 33,
   "metadata": {},
   "outputs": [
    {
     "name": "stdout",
     "output_type": "stream",
     "text": [
      "P(G3pass) = (0.42)*(0.27) + (0.36)*(0.50) + (0.51)*(0.16) + (0.52)*(0.07) = 0.41\n"
     ]
    }
   ],
   "source": [
    "# The formula in the denominator is the total probability law.\n",
    "print('P(G3pass) = (%.2f)*(%.2f) + (%.2f)*(%.2f) + (%.2f)*(%.2f) + (%.2f)*(%.2f) = %.2f' %(\n",
    "                    p3givenst1, st1, p3givenst2, st2, p3givenst3, st3, p3givenst4, st4, pG3pass))"
   ]
  },
  {
   "cell_type": "code",
   "execution_count": 34,
   "metadata": {},
   "outputs": [
    {
     "name": "stdout",
     "output_type": "stream",
     "text": [
      "P(st2 | G3pass) = P(G3pass | st2)*P(st2) / P(G3pass) = 0.44\n"
     ]
    }
   ],
   "source": [
    "print('P(st2 | G3pass) = P(G3pass | st2)*P(st2) / P(G3pass) = %.2f' %(p3givenst2*st2/pG3pass))"
   ]
  },
  {
   "cell_type": "markdown",
   "metadata": {},
   "source": [
    "**Computing P(st=3 | G3pass)**"
   ]
  },
  {
   "cell_type": "code",
   "execution_count": 35,
   "metadata": {},
   "outputs": [
    {
     "name": "stdout",
     "output_type": "stream",
     "text": [
      "P(G3pass) = (0.42)*(0.27) + (0.36)*(0.50) + (0.51)*(0.16) + (0.52)*(0.07) = 0.41\n"
     ]
    }
   ],
   "source": [
    "# The formula in the denominator is the total probability law.\n",
    "print('P(G3pass) = (%.2f)*(%.2f) + (%.2f)*(%.2f) + (%.2f)*(%.2f) + (%.2f)*(%.2f) = %.2f' %(\n",
    "                    p3givenst1, st1, p3givenst2, st2, p3givenst3, st3, p3givenst4, st4, pG3pass))"
   ]
  },
  {
   "cell_type": "code",
   "execution_count": 36,
   "metadata": {},
   "outputs": [
    {
     "name": "stdout",
     "output_type": "stream",
     "text": [
      "P(st3 | G3pass) = P(G3pass | st3)*P(st3) / P(G3pass) = 0.20\n"
     ]
    }
   ],
   "source": [
    "print('P(st3 | G3pass) = P(G3pass | st3)*P(st3) / P(G3pass) = %.2f' %(p3givenst3*st3/pG3pass))"
   ]
  },
  {
   "cell_type": "markdown",
   "metadata": {},
   "source": [
    "## Reference"
   ]
  },
  {
   "cell_type": "markdown",
   "metadata": {},
   "source": [
    "- Unpingco, J. (2019) Python for Probability, Statistics, and Machine Learning, USA: Springer, chapter 2"
   ]
  }
 ],
 "metadata": {
  "interpreter": {
   "hash": "7f2633a0dd9fad194999ffc17b7b93627efd4bccf6144e14bc5fef7dfd0c6355"
  },
  "kernelspec": {
   "display_name": "Python 3.10.4 64-bit",
   "language": "python",
   "name": "python3"
  },
  "language_info": {
   "codemirror_mode": {
    "name": "ipython",
    "version": 3
   },
   "file_extension": ".py",
   "mimetype": "text/x-python",
   "name": "python",
   "nbconvert_exporter": "python",
   "pygments_lexer": "ipython3",
   "version": "3.11.0"
  },
  "orig_nbformat": 2
 },
 "nbformat": 4,
 "nbformat_minor": 2
}
