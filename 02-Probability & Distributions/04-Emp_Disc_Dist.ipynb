{
 "cells": [
  {
   "cell_type": "markdown",
   "metadata": {},
   "source": [
    "# Empirical Discrete Distributions"
   ]
  },
  {
   "cell_type": "markdown",
   "metadata": {},
   "source": [
    "The empirical distribution describes a sample of observations of a given variable, in this case, a discrete variable. At a given point, its value is the proportion of sample observations less than or equal to that point."
   ]
  },
  {
   "cell_type": "code",
   "execution_count": 1,
   "metadata": {},
   "outputs": [],
   "source": [
    "#!pip install numpy\n",
    "#!pip install matplotlib\n",
    "#!pip install seaborn\n",
    "#!pip install scipy"
   ]
  },
  {
   "cell_type": "code",
   "execution_count": 2,
   "metadata": {},
   "outputs": [],
   "source": [
    "import numpy as np\n",
    "import matplotlib.pyplot as plt\n",
    "import seaborn as sns; \n",
    "sns.set_style(\"whitegrid\")"
   ]
  },
  {
   "cell_type": "markdown",
   "metadata": {},
   "source": [
    "Calculating the Empirical Distribution Function of an arbitrary Discrete Distribution:"
   ]
  },
  {
   "cell_type": "code",
   "execution_count": 3,
   "metadata": {},
   "outputs": [],
   "source": [
    "from scipy.stats import rv_discrete"
   ]
  },
  {
   "cell_type": "markdown",
   "metadata": {},
   "source": [
    "## Working with an unfair die"
   ]
  },
  {
   "cell_type": "code",
   "execution_count": 4,
   "metadata": {},
   "outputs": [
    {
     "data": {
      "text/plain": [
       "array([1, 2, 3, 4, 5, 6])"
      ]
     },
     "execution_count": 4,
     "metadata": {},
     "output_type": "execute_result"
    }
   ],
   "source": [
    "dk = np.arange(1,7)\n",
    "dk"
   ]
  },
  {
   "cell_type": "markdown",
   "metadata": {},
   "source": [
    "The probability of `5` is `1/2`. The other values have the same probability `1/10`."
   ]
  },
  {
   "cell_type": "code",
   "execution_count": 5,
   "metadata": {},
   "outputs": [
    {
     "data": {
      "text/plain": [
       "(0.1, 0.1, 0.1, 0.1, 0.5, 0.1)"
      ]
     },
     "execution_count": 5,
     "metadata": {},
     "output_type": "execute_result"
    }
   ],
   "source": [
    "pk = (1/10, 1/10, 1/10, 1/10, 1/2, 1/10)\n",
    "pk"
   ]
  },
  {
   "cell_type": "code",
   "execution_count": 6,
   "metadata": {},
   "outputs": [
    {
     "name": "stdout",
     "output_type": "stream",
     "text": [
      "1.0\n"
     ]
    }
   ],
   "source": [
    "# Verifying that the sum of their probabilities is one\n",
    "print(np.array(pk).sum())"
   ]
  },
  {
   "cell_type": "code",
   "execution_count": 7,
   "metadata": {},
   "outputs": [],
   "source": [
    "unfair_die = rv_discrete(values=(dk,pk))"
   ]
  },
  {
   "cell_type": "code",
   "execution_count": 8,
   "metadata": {},
   "outputs": [
    {
     "data": {
      "image/png": "[encoded data removed]",
      "text/plain": [
       "<Figure size 432x288 with 1 Axes>"
      ]
     },
     "metadata": {},
     "output_type": "display_data"
    }
   ],
   "source": [
    "# Plotting\n",
    "plt.plot(dk, unfair_die.pmf(dk),'go', ms=10)\n",
    "plt.vlines(dk, 0, unfair_die.pmf(dk), colors='g', lw=2)\n",
    "plt.title('Original Probabilities');"
   ]
  },
  {
   "cell_type": "markdown",
   "metadata": {},
   "source": [
    "Let's generate 10 values of our unfair die:"
   ]
  },
  {
   "cell_type": "code",
   "execution_count": 9,
   "metadata": {},
   "outputs": [
    {
     "data": {
      "text/plain": [
       "array([5, 5, 1, 5, 4, 3, 6, 1, 4, 1])"
      ]
     },
     "execution_count": 9,
     "metadata": {},
     "output_type": "execute_result"
    }
   ],
   "source": [
    "# Generating 10 random values of our unfair die\n",
    "gen_10_values = unfair_die.rvs(size=10)\n",
    "gen_10_values"
   ]
  },
  {
   "cell_type": "code",
   "execution_count": 10,
   "metadata": {},
   "outputs": [
    {
     "data": {
      "text/plain": [
       "numpy.ndarray"
      ]
     },
     "execution_count": 10,
     "metadata": {},
     "output_type": "execute_result"
    }
   ],
   "source": [
    "type(gen_10_values)"
   ]
  },
  {
   "cell_type": "code",
   "execution_count": 11,
   "metadata": {},
   "outputs": [
    {
     "name": "stdout",
     "output_type": "stream",
     "text": [
      "{1: 0.3, 3: 0.1, 4: 0.2, 5: 0.3, 6: 0.1}\n"
     ]
    }
   ],
   "source": [
    "elem, freq = np.unique(gen_10_values, return_counts=True)\n",
    "freq = freq/len(gen_10_values)\n",
    "print(dict(zip(elem, freq)))"
   ]
  },
  {
   "cell_type": "markdown",
   "metadata": {},
   "source": [
    "Let's graph the results.\n",
    "\n",
    "- The green points represent the actual probabilities.\n",
    "\n",
    "- The orange bars represent the probabilities calculated from the generated values."
   ]
  },
  {
   "cell_type": "code",
   "execution_count": 12,
   "metadata": {},
   "outputs": [
    {
     "data": {
      "image/png": "[encoded data removed]",
      "text/plain": [
       "<Figure size 432x288 with 1 Axes>"
      ]
     },
     "metadata": {},
     "output_type": "display_data"
    }
   ],
   "source": [
    "# Plotting\n",
    "plt.plot(dk, unfair_die.pmf(dk),'go', ms=10)\n",
    "plt.vlines(dk, 0, unfair_die.pmf(dk), colors='g', lw=2)\n",
    "plt.bar(elem, freq, color='peachpuff')\n",
    "plt.title('Expected and Observed Probabilities');"
   ]
  },
  {
   "cell_type": "markdown",
   "metadata": {},
   "source": [
    "Let's create a function with the previous code:"
   ]
  },
  {
   "cell_type": "code",
   "execution_count": 13,
   "metadata": {},
   "outputs": [],
   "source": [
    "def generate_unfair_die(n=10):\n",
    "    gen_values = unfair_die.rvs(size=n)\n",
    "    elem, freq = np.unique(gen_values, return_counts=True)\n",
    "    freq = freq/n\n",
    "    print(dict(zip(elem, freq)))\n",
    "    plt.plot(dk, unfair_die.pmf(dk),'go', ms=10)\n",
    "    plt.vlines(dk, 0, unfair_die.pmf(dk), colors='g', lw=2)\n",
    "    plt.bar(elem, freq, color='peachpuff')\n",
    "    plt.title('Expected and Observed Probabilities');"
   ]
  },
  {
   "cell_type": "code",
   "execution_count": 14,
   "metadata": {},
   "outputs": [
    {
     "name": "stdout",
     "output_type": "stream",
     "text": [
      "{1: 0.1, 2: 0.1, 3: 0.1, 5: 0.5, 6: 0.2}\n"
     ]
    },
    {
     "data": {
      "image/png": "[encoded data removed]",
      "text/plain": [
       "<Figure size 432x288 with 1 Axes>"
      ]
     },
     "metadata": {},
     "output_type": "display_data"
    }
   ],
   "source": [
    "generate_unfair_die(10)"
   ]
  },
  {
   "cell_type": "markdown",
   "metadata": {},
   "source": [
    "Notice that the previous two results are not the same because we generate different sets of 10 values for each. Notice also that observed and expected frequencies are not so close.\n",
    "\n",
    "Generating 100 values of our unfair die"
   ]
  },
  {
   "cell_type": "code",
   "execution_count": 15,
   "metadata": {},
   "outputs": [
    {
     "name": "stdout",
     "output_type": "stream",
     "text": [
      "{1: 0.1, 2: 0.09, 3: 0.13, 4: 0.11, 5: 0.41, 6: 0.16}\n"
     ]
    },
    {
     "data": {
      "image/png": "[encoded data removed]",
      "text/plain": [
       "<Figure size 432x288 with 1 Axes>"
      ]
     },
     "metadata": {},
     "output_type": "display_data"
    }
   ],
   "source": [
    "generate_unfair_die(100)"
   ]
  },
  {
   "cell_type": "markdown",
   "metadata": {},
   "source": [
    "Now the real probabilities (green dots) and the observed ones (orange bars) are much closer.\n",
    "\n",
    "Generating 1000 values of our unfair die"
   ]
  },
  {
   "cell_type": "code",
   "execution_count": 16,
   "metadata": {},
   "outputs": [
    {
     "name": "stdout",
     "output_type": "stream",
     "text": [
      "{1: 0.095, 2: 0.091, 3: 0.105, 4: 0.09, 5: 0.514, 6: 0.105}\n"
     ]
    },
    {
     "data": {
      "image/png": "[encoded data removed]",
      "text/plain": [
       "<Figure size 432x288 with 1 Axes>"
      ]
     },
     "metadata": {},
     "output_type": "display_data"
    }
   ],
   "source": [
    "generate_unfair_die(1000)"
   ]
  },
  {
   "cell_type": "markdown",
   "metadata": {},
   "source": [
    "Again the real probabilities (green dots) and the observed ones (orange bars) are much closer.\n",
    "\n",
    "Generating 10000 values of our unfair die"
   ]
  },
  {
   "cell_type": "code",
   "execution_count": 17,
   "metadata": {},
   "outputs": [
    {
     "name": "stdout",
     "output_type": "stream",
     "text": [
      "{1: 0.0964, 2: 0.1067, 3: 0.1021, 4: 0.1023, 5: 0.4934, 6: 0.0991}\n"
     ]
    },
    {
     "data": {
      "image/png": "[encoded data removed]",
      "text/plain": [
       "<Figure size 432x288 with 1 Axes>"
      ]
     },
     "metadata": {},
     "output_type": "display_data"
    }
   ],
   "source": [
    "generate_unfair_die(10000)"
   ]
  },
  {
   "cell_type": "markdown",
   "metadata": {},
   "source": [
    "The more random numbers of our unfair die we generate, the closer the observed and expected probabilities will be. "
   ]
  },
  {
   "cell_type": "markdown",
   "metadata": {},
   "source": [
    "## Using a sequence of random values"
   ]
  },
  {
   "cell_type": "markdown",
   "metadata": {},
   "source": [
    "Let's create a discrete pdf using a sequence of random values."
   ]
  },
  {
   "cell_type": "code",
   "execution_count": 18,
   "metadata": {},
   "outputs": [
    {
     "name": "stdout",
     "output_type": "stream",
     "text": [
      "{1: 0.158, 2: 0.138, 3: 0.148, 4: 0.206, 5: 0.202, 6: 0.148}\n"
     ]
    }
   ],
   "source": [
    "# Generating 500 uniform values from 1 to 6 and calculating their frequencies\n",
    "seq1 = np.random.randint(1, 7, size=500)\n",
    "elem1, freq1 = np.unique(seq1, return_counts=True)\n",
    "freq1 = freq1/len(seq1)\n",
    "print(dict(zip(elem1, freq1)))"
   ]
  },
  {
   "cell_type": "markdown",
   "metadata": {},
   "source": [
    "Generating Poisson values"
   ]
  },
  {
   "cell_type": "code",
   "execution_count": 19,
   "metadata": {},
   "outputs": [],
   "source": [
    "from scipy.stats import poisson"
   ]
  },
  {
   "cell_type": "code",
   "execution_count": 20,
   "metadata": {},
   "outputs": [
    {
     "name": "stdout",
     "output_type": "stream",
     "text": [
      "{0: 0.376, 1: 0.35, 2: 0.202, 3: 0.054, 4: 0.014, 5: 0.002, 6: 0.002}\n"
     ]
    }
   ],
   "source": [
    "# Generating 500 Poisson values and calculating their frequencies\n",
    "seq2 = poisson.rvs(mu=1, size=500)\n",
    "elem2, freq2 = np.unique(seq2, return_counts=True)\n",
    "freq2 = freq2/len(seq2)\n",
    "print(dict(zip(elem2, freq2)))"
   ]
  },
  {
   "cell_type": "markdown",
   "metadata": {},
   "source": [
    "Combining the two sequences"
   ]
  },
  {
   "cell_type": "code",
   "execution_count": 21,
   "metadata": {},
   "outputs": [],
   "source": [
    "original_values = np.concatenate([seq1, seq2])"
   ]
  },
  {
   "cell_type": "code",
   "execution_count": 22,
   "metadata": {},
   "outputs": [
    {
     "name": "stdout",
     "output_type": "stream",
     "text": [
      "{0: 0.188, 1: 0.254, 2: 0.17, 3: 0.101, 4: 0.11, 5: 0.102, 6: 0.075}\n"
     ]
    }
   ],
   "source": [
    "# Calculating the frequencies of the combining sample\n",
    "xk, fk = np.unique(original_values, return_counts=True)\n",
    "fk = fk/len(original_values)\n",
    "print(dict(zip(xk, fk)))"
   ]
  },
  {
   "cell_type": "markdown",
   "metadata": {},
   "source": [
    "Creating a discrete distribution function"
   ]
  },
  {
   "cell_type": "code",
   "execution_count": 23,
   "metadata": {},
   "outputs": [],
   "source": [
    "new_disc_f = rv_discrete(values=(xk, fk))"
   ]
  },
  {
   "cell_type": "code",
   "execution_count": 24,
   "metadata": {},
   "outputs": [
    {
     "data": {
      "image/png": "[encoded data removed]",
      "text/plain": [
       "<Figure size 432x288 with 1 Axes>"
      ]
     },
     "metadata": {},
     "output_type": "display_data"
    }
   ],
   "source": [
    "# Plotting our discrete distribution\n",
    "plt.plot(xk, new_disc_f.pmf(xk),'go', ms=10)\n",
    "plt.vlines(xk, 0, new_disc_f.pmf(xk), colors='g', lw=2)\n",
    "plt.title('Original Probabilities');"
   ]
  },
  {
   "cell_type": "markdown",
   "metadata": {},
   "source": [
    "Suppose this is our distribution, and we are interested in generating random numbers of that distribution.\n",
    "\n",
    "Generating 10 new values of our new distribution."
   ]
  },
  {
   "cell_type": "code",
   "execution_count": 25,
   "metadata": {},
   "outputs": [
    {
     "data": {
      "text/plain": [
       "array([1, 0, 1, 1, 3, 3, 6, 0, 3, 5])"
      ]
     },
     "execution_count": 25,
     "metadata": {},
     "output_type": "execute_result"
    }
   ],
   "source": [
    "new_10_values = new_disc_f.rvs(size=10)\n",
    "new_10_values"
   ]
  },
  {
   "cell_type": "markdown",
   "metadata": {},
   "source": [
    "Creating a function:"
   ]
  },
  {
   "cell_type": "code",
   "execution_count": 26,
   "metadata": {},
   "outputs": [],
   "source": [
    "def generate_discrete_dist(disc_f, n=10):\n",
    "    gen_values = disc_f.rvs(size=n)\n",
    "    elem, freq = np.unique(gen_values, return_counts=True)\n",
    "    freq = freq/n\n",
    "    print(dict(zip(elem, freq)))\n",
    "    plt.plot(xk, disc_f.pmf(xk),'go', ms=10)\n",
    "    plt.vlines(xk, 0, disc_f.pmf(xk), colors='g', lw=2)\n",
    "    plt.bar(elem, freq, color='lightgray')\n",
    "    plt.title('Expected and Observed Probabilities');"
   ]
  },
  {
   "cell_type": "code",
   "execution_count": 27,
   "metadata": {},
   "outputs": [
    {
     "name": "stdout",
     "output_type": "stream",
     "text": [
      "{0: 0.1, 1: 0.3, 2: 0.2, 3: 0.1, 4: 0.3}\n"
     ]
    },
    {
     "data": {
      "image/png": "[encoded data removed]",
      "text/plain": [
       "<Figure size 432x288 with 1 Axes>"
      ]
     },
     "metadata": {},
     "output_type": "display_data"
    }
   ],
   "source": [
    "# The default value is n=10\n",
    "generate_discrete_dist(new_disc_f)"
   ]
  },
  {
   "cell_type": "markdown",
   "metadata": {},
   "source": [
    "10 values are not enought. The expected (green dots) and observed (grey bars) probabilities are far away each others.\n",
    "\n",
    "Generating 100 values"
   ]
  },
  {
   "cell_type": "code",
   "execution_count": 28,
   "metadata": {},
   "outputs": [
    {
     "name": "stdout",
     "output_type": "stream",
     "text": [
      "{0: 0.21, 1: 0.24, 2: 0.15, 3: 0.09, 4: 0.14, 5: 0.08, 6: 0.09}\n"
     ]
    },
    {
     "data": {
      "image/png": "[encoded data removed]",
      "text/plain": [
       "<Figure size 432x288 with 1 Axes>"
      ]
     },
     "metadata": {},
     "output_type": "display_data"
    }
   ],
   "source": [
    "generate_discrete_dist(new_disc_f, 100)"
   ]
  },
  {
   "cell_type": "markdown",
   "metadata": {},
   "source": [
    "The results are better, but we can improve them.\n",
    "\n",
    "Generating 1000 values"
   ]
  },
  {
   "cell_type": "code",
   "execution_count": 29,
   "metadata": {},
   "outputs": [
    {
     "name": "stdout",
     "output_type": "stream",
     "text": [
      "{0: 0.184, 1: 0.261, 2: 0.165, 3: 0.093, 4: 0.109, 5: 0.11, 6: 0.078}\n"
     ]
    },
    {
     "data": {
      "image/png": "[encoded data removed]",
      "text/plain": [
       "<Figure size 432x288 with 1 Axes>"
      ]
     },
     "metadata": {},
     "output_type": "display_data"
    }
   ],
   "source": [
    "generate_discrete_dist(new_disc_f, 1000)"
   ]
  },
  {
   "cell_type": "markdown",
   "metadata": {},
   "source": [
    "Generating 10000 values"
   ]
  },
  {
   "cell_type": "code",
   "execution_count": 30,
   "metadata": {},
   "outputs": [
    {
     "name": "stdout",
     "output_type": "stream",
     "text": [
      "{0: 0.196, 1: 0.2473, 2: 0.1732, 3: 0.0976, 4: 0.1122, 5: 0.0978, 6: 0.0759}\n"
     ]
    },
    {
     "data": {
      "image/png": "[encoded data removed]",
      "text/plain": [
       "<Figure size 432x288 with 1 Axes>"
      ]
     },
     "metadata": {},
     "output_type": "display_data"
    }
   ],
   "source": [
    "generate_discrete_dist(new_disc_f, 10000)"
   ]
  },
  {
   "cell_type": "markdown",
   "metadata": {},
   "source": [
    "Now, the results are much better. The observed and expected probabilities are close enough."
   ]
  },
  {
   "cell_type": "code",
   "execution_count": 31,
   "metadata": {},
   "outputs": [
    {
     "name": "stdout",
     "output_type": "stream",
     "text": [
      "{0: 0.19077, 1: 0.25551, 2: 0.16871, 3: 0.09931, 4: 0.10914, 5: 0.10191, 6: 0.07465}\n"
     ]
    },
    {
     "data": {
      "image/png": "[encoded data removed]",
      "text/plain": [
       "<Figure size 432x288 with 1 Axes>"
      ]
     },
     "metadata": {},
     "output_type": "display_data"
    }
   ],
   "source": [
    "generate_discrete_dist(new_disc_f, 100000)"
   ]
  },
  {
   "cell_type": "markdown",
   "metadata": {},
   "source": [
    "The more you increase the generated data, the better results you get."
   ]
  },
  {
   "cell_type": "markdown",
   "metadata": {},
   "source": [
    "Reference:\n",
    "- Unpingco, J. (2019) Python for Probability, Statistics, and Machine Learning, USA: Springer, chapter 2"
   ]
  }
 ],
 "metadata": {
  "kernelspec": {
   "display_name": "Python 3.10.5 64-bit (windows store)",
   "language": "python",
   "name": "python3"
  },
  "language_info": {
   "codemirror_mode": {
    "name": "ipython",
    "version": 3
   },
   "file_extension": ".py",
   "mimetype": "text/x-python",
   "name": "python",
   "nbconvert_exporter": "python",
   "pygments_lexer": "ipython3",
   "version": "3.10.5"
  },
  "orig_nbformat": 2,
  "vscode": {
   "interpreter": {
    "hash": "2df53de82fe139b23b9a340061c8527273b7fa86551030a1983ff618b17018eb"
   }
  }
 },
 "nbformat": 4,
 "nbformat_minor": 2
}
