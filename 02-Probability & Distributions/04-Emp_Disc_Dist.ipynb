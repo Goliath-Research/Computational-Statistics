{
 "cells": [
  {
   "cell_type": "markdown",
   "metadata": {},
   "source": [
    "# Empirical Discrete Distributions"
   ]
  },
  {
   "cell_type": "markdown",
   "metadata": {},
   "source": [
    "The empirical distribution describes a sample of observations of a given variable, in this case, a discrete variable. Its value at a given point is equal to the proportion of observations from the sample that are less than or equal to that point."
   ]
  },
  {
   "cell_type": "code",
   "execution_count": 1,
   "metadata": {},
   "outputs": [],
   "source": [
    "import numpy as np\n",
    "import pandas as pd\n",
    "import scipy as sp\n",
    "import matplotlib.pyplot as plt\n",
    "import seaborn as sns; \n",
    "sns.set_style(\"whitegrid\")"
   ]
  },
  {
   "cell_type": "markdown",
   "metadata": {},
   "source": [
    "Calculating the Empirical Distribution Function of an arbitrary Discrete Distribution:"
   ]
  },
  {
   "cell_type": "code",
   "execution_count": 2,
   "metadata": {},
   "outputs": [],
   "source": [
    "from scipy.stats import rv_discrete"
   ]
  },
  {
   "cell_type": "markdown",
   "metadata": {},
   "source": [
    "## Working with an unfair die"
   ]
  },
  {
   "cell_type": "code",
   "execution_count": 3,
   "metadata": {},
   "outputs": [
    {
     "data": {
      "text/plain": [
       "array([1, 2, 3, 4, 5, 6])"
      ]
     },
     "execution_count": 3,
     "metadata": {},
     "output_type": "execute_result"
    }
   ],
   "source": [
    "dk = np.arange(1,7)\n",
    "dk"
   ]
  },
  {
   "cell_type": "markdown",
   "metadata": {},
   "source": [
    "The probability of '5' is 1/2. The other values have the same probability."
   ]
  },
  {
   "cell_type": "code",
   "execution_count": 4,
   "metadata": {},
   "outputs": [
    {
     "data": {
      "text/plain": [
       "(0.1, 0.1, 0.1, 0.1, 0.5, 0.1)"
      ]
     },
     "execution_count": 4,
     "metadata": {},
     "output_type": "execute_result"
    }
   ],
   "source": [
    "pk = (1/10, 1/10, 1/10, 1/10, 1/2, 1/10)\n",
    "pk"
   ]
  },
  {
   "cell_type": "markdown",
   "metadata": {},
   "source": [
    "Verifying that the sum of probabilities is one."
   ]
  },
  {
   "cell_type": "code",
   "execution_count": 5,
   "metadata": {},
   "outputs": [
    {
     "name": "stdout",
     "output_type": "stream",
     "text": [
      "1.0\n"
     ]
    }
   ],
   "source": [
    "print(np.array(pk).sum())"
   ]
  },
  {
   "cell_type": "code",
   "execution_count": 6,
   "metadata": {},
   "outputs": [],
   "source": [
    "unfair_die = rv_discrete(values=(dk,pk))"
   ]
  },
  {
   "cell_type": "markdown",
   "metadata": {},
   "source": [
    "Let's plot it."
   ]
  },
  {
   "cell_type": "code",
   "execution_count": 7,
   "metadata": {},
   "outputs": [
    {
     "data": {
      "image/png": "[encoded data removed]",
      "text/plain": [
       "<Figure size 432x288 with 1 Axes>"
      ]
     },
     "metadata": {},
     "output_type": "display_data"
    }
   ],
   "source": [
    "plt.plot(dk, unfair_die.pmf(dk),'go', ms=10)\n",
    "plt.vlines(dk, 0, unfair_die.pmf(dk), colors='g', lw=2)\n",
    "plt.title('Original Probabilities');"
   ]
  },
  {
   "cell_type": "markdown",
   "metadata": {},
   "source": [
    "Let's generate 10 values of our unfair die:"
   ]
  },
  {
   "cell_type": "code",
   "execution_count": 8,
   "metadata": {},
   "outputs": [
    {
     "data": {
      "text/plain": [
       "array([3, 5, 6, 2, 1, 5, 3, 2, 2, 5])"
      ]
     },
     "execution_count": 8,
     "metadata": {},
     "output_type": "execute_result"
    }
   ],
   "source": [
    "gen_10_values = unfair_die.rvs(size=10)\n",
    "gen_10_values"
   ]
  },
  {
   "cell_type": "code",
   "execution_count": 9,
   "metadata": {},
   "outputs": [
    {
     "data": {
      "text/plain": [
       "numpy.ndarray"
      ]
     },
     "execution_count": 9,
     "metadata": {},
     "output_type": "execute_result"
    }
   ],
   "source": [
    "type(gen_10_values)"
   ]
  },
  {
   "cell_type": "code",
   "execution_count": 10,
   "metadata": {},
   "outputs": [
    {
     "name": "stdout",
     "output_type": "stream",
     "text": [
      "{1: 0.1, 2: 0.3, 3: 0.2, 5: 0.3, 6: 0.1}\n"
     ]
    }
   ],
   "source": [
    "elem, freq = np.unique(gen_10_values, return_counts=True)\n",
    "freq = freq/len(gen_10_values)\n",
    "print(dict(zip(elem, freq)))"
   ]
  },
  {
   "cell_type": "markdown",
   "metadata": {},
   "source": [
    "Let's graph the results.\n",
    "\n",
    "The green points represent the actual probabilities.\n",
    "\n",
    "The orange bars represent the probabilities calculated from the generated values."
   ]
  },
  {
   "cell_type": "code",
   "execution_count": 11,
   "metadata": {},
   "outputs": [
    {
     "data": {
      "image/png": "[encoded data removed]",
      "text/plain": [
       "<Figure size 432x288 with 1 Axes>"
      ]
     },
     "metadata": {},
     "output_type": "display_data"
    }
   ],
   "source": [
    "plt.plot(dk, unfair_die.pmf(dk),'go', ms=10)\n",
    "plt.vlines(dk, 0, unfair_die.pmf(dk), colors='g', lw=2)\n",
    "plt.bar(elem, freq, color='peachpuff')\n",
    "plt.title('Expected and Observed Probabilities');"
   ]
  },
  {
   "cell_type": "markdown",
   "metadata": {},
   "source": [
    "Let's create a function with the previous code:"
   ]
  },
  {
   "cell_type": "code",
   "execution_count": 12,
   "metadata": {},
   "outputs": [],
   "source": [
    "def generate_unfair_die(n=10):\n",
    "    gen_values = unfair_die.rvs(size=n)\n",
    "    elem, freq = np.unique(gen_values, return_counts=True)\n",
    "    freq = freq/n\n",
    "    print(dict(zip(elem, freq)))\n",
    "    plt.plot(dk, unfair_die.pmf(dk),'go', ms=10)\n",
    "    plt.vlines(dk, 0, unfair_die.pmf(dk), colors='g', lw=2)\n",
    "    plt.bar(elem, freq, color='peachpuff')\n",
    "    plt.title('Expected and Observed Probabilities');"
   ]
  },
  {
   "cell_type": "code",
   "execution_count": 13,
   "metadata": {},
   "outputs": [
    {
     "name": "stdout",
     "output_type": "stream",
     "text": [
      "{1: 0.3, 3: 0.2, 4: 0.2, 5: 0.3}\n"
     ]
    },
    {
     "data": {
      "image/png": "[encoded data removed]",
      "text/plain": [
       "<Figure size 432x288 with 1 Axes>"
      ]
     },
     "metadata": {},
     "output_type": "display_data"
    }
   ],
   "source": [
    "generate_unfair_die(10)"
   ]
  },
  {
   "cell_type": "markdown",
   "metadata": {},
   "source": [
    "Notice that the previous two results are not the same because we generated different sets of 10 values for each.\n",
    "\n",
    "Generating 100 values of our unfair die"
   ]
  },
  {
   "cell_type": "code",
   "execution_count": 14,
   "metadata": {},
   "outputs": [
    {
     "name": "stdout",
     "output_type": "stream",
     "text": [
      "{1: 0.15, 2: 0.13, 3: 0.08, 4: 0.1, 5: 0.45, 6: 0.09}\n"
     ]
    },
    {
     "data": {
      "image/png": "[encoded data removed]",
      "text/plain": [
       "<Figure size 432x288 with 1 Axes>"
      ]
     },
     "metadata": {},
     "output_type": "display_data"
    }
   ],
   "source": [
    "generate_unfair_die(100)"
   ]
  },
  {
   "cell_type": "markdown",
   "metadata": {},
   "source": [
    "Now the real probabilities (green dots) and the observed ones (orange bars) are much closer.\n",
    "\n",
    "Generating 1000 values of our unfair die"
   ]
  },
  {
   "cell_type": "code",
   "execution_count": 15,
   "metadata": {},
   "outputs": [
    {
     "name": "stdout",
     "output_type": "stream",
     "text": [
      "{1: 0.095, 2: 0.103, 3: 0.092, 4: 0.108, 5: 0.509, 6: 0.093}\n"
     ]
    },
    {
     "data": {
      "image/png": "[encoded data removed]",
      "text/plain": [
       "<Figure size 432x288 with 1 Axes>"
      ]
     },
     "metadata": {},
     "output_type": "display_data"
    }
   ],
   "source": [
    "generate_unfair_die(1000)"
   ]
  },
  {
   "cell_type": "markdown",
   "metadata": {},
   "source": [
    "Again the real probabilities (green dots) and the observed ones (orange bars) are much closer.\n",
    "\n",
    "Generating 10000 values of our unfair die"
   ]
  },
  {
   "cell_type": "code",
   "execution_count": 16,
   "metadata": {},
   "outputs": [
    {
     "name": "stdout",
     "output_type": "stream",
     "text": [
      "{1: 0.0977, 2: 0.1013, 3: 0.1041, 4: 0.0967, 5: 0.4993, 6: 0.1009}\n"
     ]
    },
    {
     "data": {
      "image/png": "[encoded data removed]",
      "text/plain": [
       "<Figure size 432x288 with 1 Axes>"
      ]
     },
     "metadata": {},
     "output_type": "display_data"
    }
   ],
   "source": [
    "generate_unfair_die(10000)"
   ]
  },
  {
   "cell_type": "markdown",
   "metadata": {},
   "source": [
    "And so on.\n",
    "\n",
    "The more random numbers of our unfair die we generate, the more close the real and observed probabilities will be. "
   ]
  },
  {
   "cell_type": "markdown",
   "metadata": {},
   "source": [
    "## Using a sequence of random values"
   ]
  },
  {
   "cell_type": "markdown",
   "metadata": {},
   "source": [
    "Let's create a discrete pdf using a sequence of random values."
   ]
  },
  {
   "cell_type": "markdown",
   "metadata": {},
   "source": [
    "Generating uniform values from 1 to 6"
   ]
  },
  {
   "cell_type": "code",
   "execution_count": 17,
   "metadata": {},
   "outputs": [
    {
     "name": "stdout",
     "output_type": "stream",
     "text": [
      "{1: 0.166, 2: 0.17, 3: 0.164, 4: 0.18, 5: 0.134, 6: 0.186}\n"
     ]
    }
   ],
   "source": [
    "seq1 = np.random.randint(1, 7, size=500)\n",
    "elem1, freq1 = np.unique(seq1, return_counts=True)\n",
    "freq1 = freq1/len(seq1)\n",
    "print(dict(zip(elem1, freq1)))"
   ]
  },
  {
   "cell_type": "markdown",
   "metadata": {},
   "source": [
    "Generating Poisson values"
   ]
  },
  {
   "cell_type": "code",
   "execution_count": 18,
   "metadata": {},
   "outputs": [],
   "source": [
    "from scipy.stats import poisson"
   ]
  },
  {
   "cell_type": "code",
   "execution_count": 19,
   "metadata": {},
   "outputs": [
    {
     "name": "stdout",
     "output_type": "stream",
     "text": [
      "{0: 0.392, 1: 0.346, 2: 0.172, 3: 0.072, 4: 0.012, 5: 0.006}\n"
     ]
    }
   ],
   "source": [
    "seq2 = poisson.rvs(mu=1, size=500)\n",
    "elem2, freq2 = np.unique(seq2, return_counts=True)\n",
    "freq2 = freq2/len(seq2)\n",
    "print(dict(zip(elem2, freq2)))"
   ]
  },
  {
   "cell_type": "markdown",
   "metadata": {},
   "source": [
    "Combining the two sequences"
   ]
  },
  {
   "cell_type": "code",
   "execution_count": 20,
   "metadata": {},
   "outputs": [],
   "source": [
    "original_values = np.concatenate([seq1, seq2])"
   ]
  },
  {
   "cell_type": "code",
   "execution_count": 21,
   "metadata": {},
   "outputs": [
    {
     "name": "stdout",
     "output_type": "stream",
     "text": [
      "{0: 0.196, 1: 0.256, 2: 0.171, 3: 0.118, 4: 0.096, 5: 0.07, 6: 0.093}\n"
     ]
    }
   ],
   "source": [
    "xk, fk = np.unique(original_values, return_counts=True)\n",
    "fk = fk/len(original_values)\n",
    "print(dict(zip(xk, fk)))"
   ]
  },
  {
   "cell_type": "markdown",
   "metadata": {},
   "source": [
    "Creating a discrete distribution function"
   ]
  },
  {
   "cell_type": "code",
   "execution_count": 22,
   "metadata": {},
   "outputs": [],
   "source": [
    "discrete_f = rv_discrete(values=(xk, fk))"
   ]
  },
  {
   "cell_type": "code",
   "execution_count": 23,
   "metadata": {},
   "outputs": [
    {
     "data": {
      "image/png": "[encoded data removed]",
      "text/plain": [
       "<Figure size 432x288 with 1 Axes>"
      ]
     },
     "metadata": {},
     "output_type": "display_data"
    }
   ],
   "source": [
    "plt.plot(xk, discrete_f.pmf(xk),'go', ms=10)\n",
    "plt.vlines(xk, 0, discrete_f.pmf(xk), colors='g', lw=2)\n",
    "plt.title('Original Probabilities');"
   ]
  },
  {
   "cell_type": "markdown",
   "metadata": {},
   "source": [
    "Generating 10 new values of our new distribution"
   ]
  },
  {
   "cell_type": "code",
   "execution_count": 24,
   "metadata": {},
   "outputs": [
    {
     "data": {
      "text/plain": [
       "array([2, 0, 6, 0, 6, 2, 0, 6, 1, 0])"
      ]
     },
     "execution_count": 24,
     "metadata": {},
     "output_type": "execute_result"
    }
   ],
   "source": [
    "new_10_values = discrete_f.rvs(size=10)\n",
    "new_10_values"
   ]
  },
  {
   "cell_type": "markdown",
   "metadata": {},
   "source": [
    "Creating a function:"
   ]
  },
  {
   "cell_type": "code",
   "execution_count": 25,
   "metadata": {},
   "outputs": [],
   "source": [
    "def generate_discrete_dist(n=10):\n",
    "    gen_values = discrete_f.rvs(size=n)\n",
    "    elem, freq = np.unique(gen_values, return_counts=True)\n",
    "    freq = freq/n\n",
    "    print(dict(zip(elem, freq)))\n",
    "    plt.plot(xk, discrete_f.pmf(xk),'go', ms=10)\n",
    "    plt.vlines(xk, 0, discrete_f.pmf(xk), colors='g', lw=2)\n",
    "    plt.bar(elem, freq, color='lightgray')\n",
    "    plt.title('Expected and Observed Probabilities');"
   ]
  },
  {
   "cell_type": "code",
   "execution_count": 26,
   "metadata": {},
   "outputs": [
    {
     "name": "stdout",
     "output_type": "stream",
     "text": [
      "{1: 0.1, 2: 0.3, 3: 0.3, 4: 0.1, 6: 0.2}\n"
     ]
    },
    {
     "data": {
      "image/png": "[encoded data removed]",
      "text/plain": [
       "<Figure size 432x288 with 1 Axes>"
      ]
     },
     "metadata": {},
     "output_type": "display_data"
    }
   ],
   "source": [
    "generate_discrete_dist(10)"
   ]
  },
  {
   "cell_type": "markdown",
   "metadata": {},
   "source": [
    "10 values are not enought. The expected (green dots) and observed (grey bars) probabilities are far away each others.\n",
    "\n",
    "Generating 100 values"
   ]
  },
  {
   "cell_type": "code",
   "execution_count": 27,
   "metadata": {},
   "outputs": [
    {
     "name": "stdout",
     "output_type": "stream",
     "text": [
      "{0: 0.12, 1: 0.28, 2: 0.2, 3: 0.11, 4: 0.13, 5: 0.06, 6: 0.1}\n"
     ]
    },
    {
     "data": {
      "image/png": "[encoded data removed]",
      "text/plain": [
       "<Figure size 432x288 with 1 Axes>"
      ]
     },
     "metadata": {},
     "output_type": "display_data"
    }
   ],
   "source": [
    "generate_discrete_dist(100)"
   ]
  },
  {
   "cell_type": "markdown",
   "metadata": {},
   "source": [
    "The results are better, but we can improve them.\n",
    "\n",
    "Generating 1000 values"
   ]
  },
  {
   "cell_type": "code",
   "execution_count": 28,
   "metadata": {},
   "outputs": [
    {
     "name": "stdout",
     "output_type": "stream",
     "text": [
      "{0: 0.197, 1: 0.243, 2: 0.18, 3: 0.124, 4: 0.109, 5: 0.056, 6: 0.091}\n"
     ]
    },
    {
     "data": {
      "image/png": "[encoded data removed]",
      "text/plain": [
       "<Figure size 432x288 with 1 Axes>"
      ]
     },
     "metadata": {},
     "output_type": "display_data"
    }
   ],
   "source": [
    "generate_discrete_dist(1000)"
   ]
  },
  {
   "cell_type": "markdown",
   "metadata": {},
   "source": [
    "Generating 10000 values"
   ]
  },
  {
   "cell_type": "code",
   "execution_count": 29,
   "metadata": {},
   "outputs": [
    {
     "name": "stdout",
     "output_type": "stream",
     "text": [
      "{0: 0.197, 1: 0.2607, 2: 0.17, 3: 0.1127, 4: 0.0956, 5: 0.0673, 6: 0.0967}\n"
     ]
    },
    {
     "data": {
      "image/png": "[encoded data removed]",
      "text/plain": [
       "<Figure size 432x288 with 1 Axes>"
      ]
     },
     "metadata": {},
     "output_type": "display_data"
    }
   ],
   "source": [
    "generate_discrete_dist(10000)"
   ]
  },
  {
   "cell_type": "markdown",
   "metadata": {},
   "source": [
    "Now, the results are much better. The observed and expected probabilities are close enough."
   ]
  },
  {
   "cell_type": "code",
   "execution_count": 30,
   "metadata": {},
   "outputs": [
    {
     "name": "stdout",
     "output_type": "stream",
     "text": [
      "{0: 0.19652, 1: 0.257, 2: 0.17072, 3: 0.11747, 4: 0.09666, 5: 0.06951, 6: 0.09212}\n"
     ]
    },
    {
     "data": {
      "image/png": "[encoded data removed]",
      "text/plain": [
       "<Figure size 432x288 with 1 Axes>"
      ]
     },
     "metadata": {},
     "output_type": "display_data"
    }
   ],
   "source": [
    "generate_discrete_dist(100000)"
   ]
  },
  {
   "cell_type": "markdown",
   "metadata": {},
   "source": [
    "The more you increase the generated data, the better results you get."
   ]
  }
 ],
 "metadata": {
  "interpreter": {
   "hash": "e20bdcbba08a0587d31fa45139d091894549fa5b0f824a4420ce2a27fa9eb43e"
  },
  "kernelspec": {
   "display_name": "Python 3.9.7 64-bit (windows store)",
   "name": "python3"
  },
  "language_info": {
   "codemirror_mode": {
    "name": "ipython",
    "version": 3
   },
   "file_extension": ".py",
   "mimetype": "text/x-python",
   "name": "python",
   "nbconvert_exporter": "python",
   "pygments_lexer": "ipython3",
   "version": "3.9.8"
  },
  "orig_nbformat": 2
 },
 "nbformat": 4,
 "nbformat_minor": 2
}
