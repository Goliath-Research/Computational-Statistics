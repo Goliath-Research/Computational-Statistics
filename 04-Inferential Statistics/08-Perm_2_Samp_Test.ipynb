{
 "cells": [
  {
   "cell_type": "markdown",
   "metadata": {},
   "source": [
    "# Permutation Tests"
   ]
  },
  {
   "cell_type": "markdown",
   "metadata": {},
   "source": [
    "This notebook will introduce permutation methods for comparison two groups."
   ]
  },
  {
   "cell_type": "code",
   "execution_count": 1,
   "metadata": {},
   "outputs": [],
   "source": [
    "import numpy as np\n",
    "import pandas as pd\n",
    "from scipy import stats as st\n",
    "from statsmodels.distributions.empirical_distribution import ECDF\n",
    "import matplotlib.pyplot as plt\n",
    "import seaborn as sns;\n",
    "sns.set_style(\"whitegrid\")  "
   ]
  },
  {
   "cell_type": "markdown",
   "metadata": {},
   "source": [
    "## Permutation method for two independent samples"
   ]
  },
  {
   "cell_type": "markdown",
   "metadata": {},
   "source": [
    "Let's use a permutation test to determine whether the two means (classC and classD) are diferent from each other.\n",
    "\n",
    "The method is very similar to the bootstrap, but a fundamental difference between them is that the bootstrap resamples with replacement and the permutation test does not. Then, we will use `np.random.choice()` with `replace=False` \n",
    "\n",
    "Hypothesis\n",
    "\n",
    "- `Ho: mean_C  = mean_D     or     mean_C - mean_D  = 0`\n",
    "- `Ha: mean_C != mean_D     or     mean_C - mean_D != 0`\n",
    "\n",
    "Let's generate values for classes C and D:"
   ]
  },
  {
   "cell_type": "code",
   "execution_count": 2,
   "metadata": {},
   "outputs": [],
   "source": [
    "np.random.seed(123)\n",
    "classC = np.random.normal(85, 3, 100)\n",
    "classD = np.random.normal(90, 3, 95)"
   ]
  },
  {
   "cell_type": "markdown",
   "metadata": {},
   "source": [
    " The means of `classC` and `classD` are different."
   ]
  },
  {
   "cell_type": "code",
   "execution_count": 3,
   "metadata": {},
   "outputs": [
    {
     "data": {
      "image/png": "[encoded data removed]",
      "text/plain": [
       "<Figure size 432x288 with 1 Axes>"
      ]
     },
     "metadata": {},
     "output_type": "display_data"
    }
   ],
   "source": [
    "ax=sns.kdeplot(x=classC, color='limegreen', shade=True, label='Class C')\n",
    "ax.vlines(x=np.mean(classC), ymin=0, ymax=0.092, color='black')\n",
    "ax=sns.kdeplot(x=classD, color='orange', shade=True, alpha=0.3, label='Class D')\n",
    "ax.vlines(x=np.mean(classD), ymin=0, ymax=0.154, color='black')\n",
    "plt.legend();"
   ]
  },
  {
   "cell_type": "code",
   "execution_count": 4,
   "metadata": {},
   "outputs": [
    {
     "name": "stdout",
     "output_type": "stream",
     "text": [
      "Mean of class C = 85.08\n",
      "Mean of class D = 90.07\n"
     ]
    }
   ],
   "source": [
    "print('Mean of class C = %.2f' % np.mean(classC))\n",
    "print('Mean of class D = %.2f' % np.mean(classD))"
   ]
  },
  {
   "cell_type": "markdown",
   "metadata": {},
   "source": [
    "The number of students in each class is also different."
   ]
  },
  {
   "cell_type": "code",
   "execution_count": 5,
   "metadata": {},
   "outputs": [
    {
     "name": "stdout",
     "output_type": "stream",
     "text": [
      "Lenght of class C = 100\n",
      "Lenght of class D = 95\n"
     ]
    }
   ],
   "source": [
    "print('Lenght of class C =', len(classC))\n",
    "print('Lenght of class D =', len(classD))"
   ]
  },
  {
   "cell_type": "markdown",
   "metadata": {},
   "source": [
    "Let's pool all the data together and randomly split the data into two groups: classC and classD.\n",
    "\n",
    "We will repeat the process many times (about 10**4)\n",
    "\n",
    "**Main idea**: If there is truly no difference between the averages grades of classC and classD, there will be no differences between the average grades of the generated groups."
   ]
  },
  {
   "cell_type": "markdown",
   "metadata": {},
   "source": [
    "`generateSamplesPerm` is the function for generating samples WITHOUT replacement"
   ]
  },
  {
   "cell_type": "code",
   "execution_count": 6,
   "metadata": {},
   "outputs": [],
   "source": [
    "def generateSamplesPerm_2i(sample1, sample2, num_samples=10000):\n",
    "    '''\n",
    "    It concatenates both samples, shuffle it, and creates two new samples with \n",
    "    the same length of the originals. \n",
    "    It returns two DataFrames, where each column is a sample without replacement.\n",
    "    '''\n",
    "    pool = np.concatenate([sample1, sample2])\n",
    "    col = ['S'+str(k) for k in range(num_samples)]\n",
    "    df1 = pd.DataFrame(sample1[0], index=range(len(sample1)), columns=col)\n",
    "    df2 = pd.DataFrame(sample2[0], index=range(len(sample2)), columns=col)\n",
    "    for c in col:\n",
    "        pool = np.random.choice(pool, replace=False, size=len(pool))\n",
    "        df1[c] = pool[:len(sample1)]\n",
    "        df2[c] = pool[len(sample1):]   \n",
    "    return(df1, df2)"
   ]
  },
  {
   "cell_type": "code",
   "execution_count": 7,
   "metadata": {},
   "outputs": [],
   "source": [
    "# generating samples for classC and classD\n",
    "dfC, dfD = generateSamplesPerm_2i(classC, classD)"
   ]
  },
  {
   "cell_type": "code",
   "execution_count": 8,
   "metadata": {},
   "outputs": [
    {
     "name": "stdout",
     "output_type": "stream",
     "text": [
      "(100, 10000)\n"
     ]
    },
    {
     "data": {
      "text/html": [
       "<div>\n",
       "<style scoped>\n",
       "    .dataframe tbody tr th:only-of-type {\n",
       "        vertical-align: middle;\n",
       "    }\n",
       "\n",
       "    .dataframe tbody tr th {\n",
       "        vertical-align: top;\n",
       "    }\n",
       "\n",
       "    .dataframe thead th {\n",
       "        text-align: right;\n",
       "    }\n",
       "</style>\n",
       "<table border=\"1\" class=\"dataframe\">\n",
       "  <thead>\n",
       "    <tr style=\"text-align: right;\">\n",
       "      <th></th>\n",
       "      <th>S0</th>\n",
       "      <th>S1</th>\n",
       "      <th>S2</th>\n",
       "      <th>S3</th>\n",
       "      <th>S4</th>\n",
       "      <th>S5</th>\n",
       "      <th>S6</th>\n",
       "      <th>S7</th>\n",
       "      <th>S8</th>\n",
       "      <th>S9</th>\n",
       "      <th>...</th>\n",
       "      <th>S9990</th>\n",
       "      <th>S9991</th>\n",
       "      <th>S9992</th>\n",
       "      <th>S9993</th>\n",
       "      <th>S9994</th>\n",
       "      <th>S9995</th>\n",
       "      <th>S9996</th>\n",
       "      <th>S9997</th>\n",
       "      <th>S9998</th>\n",
       "      <th>S9999</th>\n",
       "    </tr>\n",
       "  </thead>\n",
       "  <tbody>\n",
       "    <tr>\n",
       "      <th>0</th>\n",
       "      <td>90.922153</td>\n",
       "      <td>83.696946</td>\n",
       "      <td>82.399779</td>\n",
       "      <td>87.065827</td>\n",
       "      <td>84.066336</td>\n",
       "      <td>88.716961</td>\n",
       "      <td>88.119181</td>\n",
       "      <td>82.361391</td>\n",
       "      <td>88.308228</td>\n",
       "      <td>88.797809</td>\n",
       "      <td>...</td>\n",
       "      <td>89.910096</td>\n",
       "      <td>89.189303</td>\n",
       "      <td>81.117744</td>\n",
       "      <td>76.604233</td>\n",
       "      <td>87.777559</td>\n",
       "      <td>87.721316</td>\n",
       "      <td>79.685401</td>\n",
       "      <td>86.158559</td>\n",
       "      <td>82.583900</td>\n",
       "      <td>85.887155</td>\n",
       "    </tr>\n",
       "    <tr>\n",
       "      <th>1</th>\n",
       "      <td>92.113422</td>\n",
       "      <td>90.531577</td>\n",
       "      <td>81.742293</td>\n",
       "      <td>82.192498</td>\n",
       "      <td>89.621647</td>\n",
       "      <td>82.933393</td>\n",
       "      <td>85.764333</td>\n",
       "      <td>83.083294</td>\n",
       "      <td>95.417910</td>\n",
       "      <td>83.086745</td>\n",
       "      <td>...</td>\n",
       "      <td>88.207948</td>\n",
       "      <td>83.924863</td>\n",
       "      <td>94.826073</td>\n",
       "      <td>89.251897</td>\n",
       "      <td>84.233142</td>\n",
       "      <td>88.343676</td>\n",
       "      <td>90.390645</td>\n",
       "      <td>82.328836</td>\n",
       "      <td>87.304731</td>\n",
       "      <td>88.923192</td>\n",
       "    </tr>\n",
       "    <tr>\n",
       "      <th>2</th>\n",
       "      <td>87.529706</td>\n",
       "      <td>88.935527</td>\n",
       "      <td>81.746296</td>\n",
       "      <td>83.713262</td>\n",
       "      <td>87.065827</td>\n",
       "      <td>82.399779</td>\n",
       "      <td>88.533586</td>\n",
       "      <td>84.369394</td>\n",
       "      <td>83.083294</td>\n",
       "      <td>80.713958</td>\n",
       "      <td>...</td>\n",
       "      <td>89.621647</td>\n",
       "      <td>89.002574</td>\n",
       "      <td>80.481116</td>\n",
       "      <td>80.481116</td>\n",
       "      <td>91.661568</td>\n",
       "      <td>88.308228</td>\n",
       "      <td>91.174753</td>\n",
       "      <td>90.970407</td>\n",
       "      <td>86.853025</td>\n",
       "      <td>80.713958</td>\n",
       "    </tr>\n",
       "    <tr>\n",
       "      <th>3</th>\n",
       "      <td>93.801896</td>\n",
       "      <td>88.765712</td>\n",
       "      <td>92.136794</td>\n",
       "      <td>89.472196</td>\n",
       "      <td>84.964509</td>\n",
       "      <td>88.407976</td>\n",
       "      <td>82.414735</td>\n",
       "      <td>90.922153</td>\n",
       "      <td>81.743108</td>\n",
       "      <td>81.117744</td>\n",
       "      <td>...</td>\n",
       "      <td>94.131772</td>\n",
       "      <td>86.015767</td>\n",
       "      <td>90.598746</td>\n",
       "      <td>83.083294</td>\n",
       "      <td>83.264199</td>\n",
       "      <td>90.761449</td>\n",
       "      <td>83.713262</td>\n",
       "      <td>82.900368</td>\n",
       "      <td>90.362242</td>\n",
       "      <td>87.782387</td>\n",
       "    </tr>\n",
       "    <tr>\n",
       "      <th>4</th>\n",
       "      <td>92.244647</td>\n",
       "      <td>91.560358</td>\n",
       "      <td>85.543105</td>\n",
       "      <td>90.231137</td>\n",
       "      <td>87.529706</td>\n",
       "      <td>82.328836</td>\n",
       "      <td>90.836223</td>\n",
       "      <td>94.378768</td>\n",
       "      <td>80.481116</td>\n",
       "      <td>90.402080</td>\n",
       "      <td>...</td>\n",
       "      <td>91.503747</td>\n",
       "      <td>90.264659</td>\n",
       "      <td>87.721316</td>\n",
       "      <td>82.487450</td>\n",
       "      <td>88.308228</td>\n",
       "      <td>86.015767</td>\n",
       "      <td>90.598746</td>\n",
       "      <td>86.405317</td>\n",
       "      <td>88.825141</td>\n",
       "      <td>93.728609</td>\n",
       "    </tr>\n",
       "  </tbody>\n",
       "</table>\n",
       "<p>5 rows × 10000 columns</p>\n",
       "</div>"
      ],
      "text/plain": [
       "          S0         S1         S2         S3         S4         S5  \\\n",
       "0  90.922153  83.696946  82.399779  87.065827  84.066336  88.716961   \n",
       "1  92.113422  90.531577  81.742293  82.192498  89.621647  82.933393   \n",
       "2  87.529706  88.935527  81.746296  83.713262  87.065827  82.399779   \n",
       "3  93.801896  88.765712  92.136794  89.472196  84.964509  88.407976   \n",
       "4  92.244647  91.560358  85.543105  90.231137  87.529706  82.328836   \n",
       "\n",
       "          S6         S7         S8         S9  ...      S9990      S9991  \\\n",
       "0  88.119181  82.361391  88.308228  88.797809  ...  89.910096  89.189303   \n",
       "1  85.764333  83.083294  95.417910  83.086745  ...  88.207948  83.924863   \n",
       "2  88.533586  84.369394  83.083294  80.713958  ...  89.621647  89.002574   \n",
       "3  82.414735  90.922153  81.743108  81.117744  ...  94.131772  86.015767   \n",
       "4  90.836223  94.378768  80.481116  90.402080  ...  91.503747  90.264659   \n",
       "\n",
       "       S9992      S9993      S9994      S9995      S9996      S9997  \\\n",
       "0  81.117744  76.604233  87.777559  87.721316  79.685401  86.158559   \n",
       "1  94.826073  89.251897  84.233142  88.343676  90.390645  82.328836   \n",
       "2  80.481116  80.481116  91.661568  88.308228  91.174753  90.970407   \n",
       "3  90.598746  83.083294  83.264199  90.761449  83.713262  82.900368   \n",
       "4  87.721316  82.487450  88.308228  86.015767  90.598746  86.405317   \n",
       "\n",
       "       S9998      S9999  \n",
       "0  82.583900  85.887155  \n",
       "1  87.304731  88.923192  \n",
       "2  86.853025  80.713958  \n",
       "3  90.362242  87.782387  \n",
       "4  88.825141  93.728609  \n",
       "\n",
       "[5 rows x 10000 columns]"
      ]
     },
     "execution_count": 8,
     "metadata": {},
     "output_type": "execute_result"
    }
   ],
   "source": [
    "print(dfC.shape)\n",
    "dfC.head()"
   ]
  },
  {
   "cell_type": "code",
   "execution_count": 9,
   "metadata": {},
   "outputs": [
    {
     "name": "stdout",
     "output_type": "stream",
     "text": [
      "(95, 10000)\n"
     ]
    },
    {
     "data": {
      "text/html": [
       "<div>\n",
       "<style scoped>\n",
       "    .dataframe tbody tr th:only-of-type {\n",
       "        vertical-align: middle;\n",
       "    }\n",
       "\n",
       "    .dataframe tbody tr th {\n",
       "        vertical-align: top;\n",
       "    }\n",
       "\n",
       "    .dataframe thead th {\n",
       "        text-align: right;\n",
       "    }\n",
       "</style>\n",
       "<table border=\"1\" class=\"dataframe\">\n",
       "  <thead>\n",
       "    <tr style=\"text-align: right;\">\n",
       "      <th></th>\n",
       "      <th>S0</th>\n",
       "      <th>S1</th>\n",
       "      <th>S2</th>\n",
       "      <th>S3</th>\n",
       "      <th>S4</th>\n",
       "      <th>S5</th>\n",
       "      <th>S6</th>\n",
       "      <th>S7</th>\n",
       "      <th>S8</th>\n",
       "      <th>S9</th>\n",
       "      <th>...</th>\n",
       "      <th>S9990</th>\n",
       "      <th>S9991</th>\n",
       "      <th>S9992</th>\n",
       "      <th>S9993</th>\n",
       "      <th>S9994</th>\n",
       "      <th>S9995</th>\n",
       "      <th>S9996</th>\n",
       "      <th>S9997</th>\n",
       "      <th>S9998</th>\n",
       "      <th>S9999</th>\n",
       "    </tr>\n",
       "  </thead>\n",
       "  <tbody>\n",
       "    <tr>\n",
       "      <th>0</th>\n",
       "      <td>85.136470</td>\n",
       "      <td>84.479093</td>\n",
       "      <td>81.743108</td>\n",
       "      <td>81.405097</td>\n",
       "      <td>88.353135</td>\n",
       "      <td>88.354074</td>\n",
       "      <td>89.418108</td>\n",
       "      <td>92.244647</td>\n",
       "      <td>88.527487</td>\n",
       "      <td>84.066336</td>\n",
       "      <td>...</td>\n",
       "      <td>81.708391</td>\n",
       "      <td>88.935527</td>\n",
       "      <td>82.900368</td>\n",
       "      <td>82.361391</td>\n",
       "      <td>91.617790</td>\n",
       "      <td>86.941035</td>\n",
       "      <td>87.782387</td>\n",
       "      <td>84.715873</td>\n",
       "      <td>84.715873</td>\n",
       "      <td>85.942816</td>\n",
       "    </tr>\n",
       "    <tr>\n",
       "      <th>1</th>\n",
       "      <td>81.117744</td>\n",
       "      <td>85.942816</td>\n",
       "      <td>86.015767</td>\n",
       "      <td>95.417910</td>\n",
       "      <td>91.714430</td>\n",
       "      <td>76.604233</td>\n",
       "      <td>85.887155</td>\n",
       "      <td>85.493324</td>\n",
       "      <td>85.136470</td>\n",
       "      <td>83.713262</td>\n",
       "      <td>...</td>\n",
       "      <td>87.782387</td>\n",
       "      <td>83.083294</td>\n",
       "      <td>90.280382</td>\n",
       "      <td>91.996960</td>\n",
       "      <td>87.421925</td>\n",
       "      <td>88.450617</td>\n",
       "      <td>88.093343</td>\n",
       "      <td>94.186059</td>\n",
       "      <td>80.713958</td>\n",
       "      <td>79.816992</td>\n",
       "    </tr>\n",
       "    <tr>\n",
       "      <th>2</th>\n",
       "      <td>86.941035</td>\n",
       "      <td>83.083294</td>\n",
       "      <td>77.719962</td>\n",
       "      <td>85.887155</td>\n",
       "      <td>89.926122</td>\n",
       "      <td>89.280994</td>\n",
       "      <td>87.421710</td>\n",
       "      <td>88.308228</td>\n",
       "      <td>90.591057</td>\n",
       "      <td>90.390645</td>\n",
       "      <td>...</td>\n",
       "      <td>87.529706</td>\n",
       "      <td>88.938000</td>\n",
       "      <td>86.941035</td>\n",
       "      <td>88.119181</td>\n",
       "      <td>89.176810</td>\n",
       "      <td>89.926122</td>\n",
       "      <td>86.405317</td>\n",
       "      <td>85.543105</td>\n",
       "      <td>87.730688</td>\n",
       "      <td>84.233142</td>\n",
       "    </tr>\n",
       "    <tr>\n",
       "      <th>3</th>\n",
       "      <td>81.021204</td>\n",
       "      <td>83.086745</td>\n",
       "      <td>90.922153</td>\n",
       "      <td>94.570991</td>\n",
       "      <td>88.450617</td>\n",
       "      <td>88.353239</td>\n",
       "      <td>84.300724</td>\n",
       "      <td>81.746296</td>\n",
       "      <td>81.238358</td>\n",
       "      <td>90.531577</td>\n",
       "      <td>...</td>\n",
       "      <td>80.481116</td>\n",
       "      <td>88.119181</td>\n",
       "      <td>76.604233</td>\n",
       "      <td>77.719962</td>\n",
       "      <td>86.138202</td>\n",
       "      <td>83.086745</td>\n",
       "      <td>93.728609</td>\n",
       "      <td>82.487450</td>\n",
       "      <td>82.328836</td>\n",
       "      <td>92.282848</td>\n",
       "    </tr>\n",
       "    <tr>\n",
       "      <th>4</th>\n",
       "      <td>84.066336</td>\n",
       "      <td>87.008036</td>\n",
       "      <td>89.474169</td>\n",
       "      <td>91.368813</td>\n",
       "      <td>81.743108</td>\n",
       "      <td>83.924863</td>\n",
       "      <td>86.158559</td>\n",
       "      <td>88.938000</td>\n",
       "      <td>94.378768</td>\n",
       "      <td>87.730688</td>\n",
       "      <td>...</td>\n",
       "      <td>86.941035</td>\n",
       "      <td>90.419934</td>\n",
       "      <td>89.363760</td>\n",
       "      <td>88.533586</td>\n",
       "      <td>85.183771</td>\n",
       "      <td>85.850882</td>\n",
       "      <td>88.533586</td>\n",
       "      <td>77.719962</td>\n",
       "      <td>88.450617</td>\n",
       "      <td>94.378768</td>\n",
       "    </tr>\n",
       "  </tbody>\n",
       "</table>\n",
       "<p>5 rows × 10000 columns</p>\n",
       "</div>"
      ],
      "text/plain": [
       "          S0         S1         S2         S3         S4         S5  \\\n",
       "0  85.136470  84.479093  81.743108  81.405097  88.353135  88.354074   \n",
       "1  81.117744  85.942816  86.015767  95.417910  91.714430  76.604233   \n",
       "2  86.941035  83.083294  77.719962  85.887155  89.926122  89.280994   \n",
       "3  81.021204  83.086745  90.922153  94.570991  88.450617  88.353239   \n",
       "4  84.066336  87.008036  89.474169  91.368813  81.743108  83.924863   \n",
       "\n",
       "          S6         S7         S8         S9  ...      S9990      S9991  \\\n",
       "0  89.418108  92.244647  88.527487  84.066336  ...  81.708391  88.935527   \n",
       "1  85.887155  85.493324  85.136470  83.713262  ...  87.782387  83.083294   \n",
       "2  87.421710  88.308228  90.591057  90.390645  ...  87.529706  88.938000   \n",
       "3  84.300724  81.746296  81.238358  90.531577  ...  80.481116  88.119181   \n",
       "4  86.158559  88.938000  94.378768  87.730688  ...  86.941035  90.419934   \n",
       "\n",
       "       S9992      S9993      S9994      S9995      S9996      S9997  \\\n",
       "0  82.900368  82.361391  91.617790  86.941035  87.782387  84.715873   \n",
       "1  90.280382  91.996960  87.421925  88.450617  88.093343  94.186059   \n",
       "2  86.941035  88.119181  89.176810  89.926122  86.405317  85.543105   \n",
       "3  76.604233  77.719962  86.138202  83.086745  93.728609  82.487450   \n",
       "4  89.363760  88.533586  85.183771  85.850882  88.533586  77.719962   \n",
       "\n",
       "       S9998      S9999  \n",
       "0  84.715873  85.942816  \n",
       "1  80.713958  79.816992  \n",
       "2  87.730688  84.233142  \n",
       "3  82.328836  92.282848  \n",
       "4  88.450617  94.378768  \n",
       "\n",
       "[5 rows x 10000 columns]"
      ]
     },
     "execution_count": 9,
     "metadata": {},
     "output_type": "execute_result"
    }
   ],
   "source": [
    "print(dfD.shape)\n",
    "dfD.head()"
   ]
  },
  {
   "cell_type": "markdown",
   "metadata": {},
   "source": [
    "### Statistic: difference of means"
   ]
  },
  {
   "cell_type": "markdown",
   "metadata": {},
   "source": [
    "We will use the statistic: mean1 - mean2"
   ]
  },
  {
   "cell_type": "code",
   "execution_count": 10,
   "metadata": {},
   "outputs": [],
   "source": [
    "dMeans = np.mean(classC) - np.mean(classD)"
   ]
  },
  {
   "cell_type": "code",
   "execution_count": 11,
   "metadata": {},
   "outputs": [],
   "source": [
    "# Calculating the sample distribution\n",
    "sample_distribution = dfC.mean() - dfD.mean()"
   ]
  },
  {
   "cell_type": "code",
   "execution_count": 12,
   "metadata": {},
   "outputs": [
    {
     "data": {
      "image/png": "[encoded data removed]",
      "text/plain": [
       "<Figure size 432x288 with 1 Axes>"
      ]
     },
     "metadata": {},
     "output_type": "display_data"
    }
   ],
   "source": [
    "# Plotting the sample distribution\n",
    "sns.histplot(x=sample_distribution).set(title='Sample Distribution - Diff of Means');"
   ]
  },
  {
   "cell_type": "code",
   "execution_count": 13,
   "metadata": {},
   "outputs": [],
   "source": [
    "def getpValue(sample_distribution, obs_value, alternative='two-sided'):\n",
    "    '''\n",
    "    sample_distribution: the sample distribution\n",
    "    obs_value: observed value \n",
    "    alpha: significance level\n",
    "    alternative: one of the three values: 'two-sided', 'smaller', or 'larger'    \n",
    "    '''\n",
    "    ecdf = ECDF(sample_distribution) \n",
    "    if alternative=='two-sided':\n",
    "        if obs_value < np.mean(sample_distribution): \n",
    "            p_val = 2*ecdf(obs_value)\n",
    "        else: \n",
    "            p_val = 2*(1-ecdf(obs_value)) \n",
    "    elif alternative=='smaller':\n",
    "        p_val = ecdf(obs_value)\n",
    "    else:\n",
    "        p_val = 1-ecdf(obs_value)\n",
    "    return(p_val)"
   ]
  },
  {
   "cell_type": "code",
   "execution_count": 14,
   "metadata": {},
   "outputs": [],
   "source": [
    "def hyp_test(sampl_value, sampl_distribution, alpha=0.05, alternative='two-sided'):\n",
    "    '''\n",
    "    sampl_value: observed value calculated from the sample\n",
    "    sampl_distribution: sample distribution calculated from the sample\n",
    "    alpha: significance level\n",
    "    alternative: one of the three values: 'two-sided', 'smaller', and 'larger'\n",
    "    '''\n",
    "    sigHa = {'two-sided':'!=', 'smaller':'< ', 'larger':'> '}\n",
    "    print('--- Permutation Hypothesis Test ---')\n",
    "    sns.kdeplot(x=sampl_distribution, color='lightskyblue', shade=True, alpha=0.4)  # plotting the sample distribution\n",
    "    plt.axvline(x=sampl_value, ymin=0, ymax= 0.03, color='black', linewidth=6)      # plotting the statistic \n",
    "    plt.title('Sampling Distribution')\n",
    "    p_val = getpValue(sampl_distribution, sampl_value, alternative)\n",
    "    if alternative=='two-sided':                    # plotting the graph with two critical regions\n",
    "        cv1 = np.round(np.percentile(sampl_distribution, (alpha/2)*100),2)          # left critical value    \n",
    "        cv2 = np.round(np.percentile(sampl_distribution, 100-alpha*100),2)          # right critical value  \n",
    "        plt.axvline(x = cv1, ymin=0, ymax=0.5, color='orangered', linewidth=2)\n",
    "        plt.axvline(x = cv2, ymin=0, ymax=0.5, color='orangered', linewidth=2);\n",
    "    elif alternative=='smaller':                    # plotting the graph with left critical region\n",
    "        cv1 = np.round(np.percentile(sampl_distribution, alpha*100),2)              # left critical value\n",
    "        plt.axvline(x = cv1, ymin=0, ymax=0.5, color='orangered', linewidth=2)\n",
    "    else:                                           # plotting the graph with right critical region\n",
    "        cv2 = np.round(np.percentile(sampl_distribution, 100-alpha*100),2)          # right critical value \n",
    "        plt.axvline(x = cv2, ymin=0, ymax=0.5, color='orangered', linewidth=2)\n",
    "    print('Observed Value = %.2f\\tp-value = %.4f' %(sampl_value, p_val))  "
   ]
  },
  {
   "cell_type": "code",
   "execution_count": 15,
   "metadata": {},
   "outputs": [
    {
     "name": "stdout",
     "output_type": "stream",
     "text": [
      "--- Permutation Hypothesis Test ---\n",
      "Observed Value = -4.99\tp-value = 0.0000\n"
     ]
    },
    {
     "data": {
      "image/png": "[encoded data removed]",
      "text/plain": [
       "<Figure size 432x288 with 1 Axes>"
      ]
     },
     "metadata": {},
     "output_type": "display_data"
    }
   ],
   "source": [
    "hyp_test(dMeans, sample_distribution)"
   ]
  },
  {
   "cell_type": "markdown",
   "metadata": {},
   "source": [
    "### Summarizing the procedure"
   ]
  },
  {
   "cell_type": "code",
   "execution_count": 16,
   "metadata": {},
   "outputs": [],
   "source": [
    "def PT_2iHT(sample1, sample2, num_samples=10000, alpha=0.05, alternative='two-sided'):\n",
    "    '''\n",
    "    Permutation hypothesis test for 2 independent samples\n",
    "    '''\n",
    "    stat = np.mean(sample1) - np.mean(sample2)\n",
    "    df1, df2 = generateSamplesPerm_2i(sample1, sample2, num_samples=num_samples)\n",
    "    sample_distrib = df1.mean() - df2.mean()\n",
    "    hyp_test(stat, sample_distrib, alpha=alpha, alternative=alternative)"
   ]
  },
  {
   "cell_type": "code",
   "execution_count": 17,
   "metadata": {},
   "outputs": [
    {
     "name": "stdout",
     "output_type": "stream",
     "text": [
      "--- Permutation Hypothesis Test ---\n",
      "Observed Value = -4.99\tp-value = 0.0000\n"
     ]
    },
    {
     "data": {
      "image/png": "[encoded data removed]",
      "text/plain": [
       "<Figure size 432x288 with 1 Axes>"
      ]
     },
     "metadata": {},
     "output_type": "display_data"
    }
   ],
   "source": [
    "PT_2iHT(classC, classD)"
   ]
  },
  {
   "cell_type": "markdown",
   "metadata": {},
   "source": [
    "### Analysing other data"
   ]
  },
  {
   "cell_type": "code",
   "execution_count": 18,
   "metadata": {},
   "outputs": [],
   "source": [
    "np.random.seed(123)\n",
    "classE = np.random.normal(94.7, 2, 90)\n",
    "classF = np.random.normal(95.1, 1.5, 95)"
   ]
  },
  {
   "cell_type": "code",
   "execution_count": 19,
   "metadata": {},
   "outputs": [
    {
     "data": {
      "image/png": "[encoded data removed]",
      "text/plain": [
       "<Figure size 432x288 with 1 Axes>"
      ]
     },
     "metadata": {},
     "output_type": "display_data"
    }
   ],
   "source": [
    "ax=sns.kdeplot(x=classE, color='limegreen', shade=True, label='Class E')\n",
    "ax.vlines(x=np.mean(classE), ymin=0, ymax=0.137, color='black')\n",
    "ax=sns.kdeplot(x=classF, color='orange', shade=True, alpha=0.3, label='Class F')\n",
    "ax.vlines(x=np.mean(classF), ymin=0, ymax=0.28, color='black')\n",
    "plt.legend();"
   ]
  },
  {
   "cell_type": "code",
   "execution_count": 20,
   "metadata": {},
   "outputs": [
    {
     "name": "stdout",
     "output_type": "stream",
     "text": [
      "--- Permutation Hypothesis Test ---\n",
      "Observed Value = -0.41\tp-value = 0.1414\n"
     ]
    },
    {
     "data": {
      "image/png": "[encoded data removed]",
      "text/plain": [
       "<Figure size 432x288 with 1 Axes>"
      ]
     },
     "metadata": {},
     "output_type": "display_data"
    }
   ],
   "source": [
    "PT_2iHT(classE, classF)"
   ]
  },
  {
   "cell_type": "markdown",
   "metadata": {},
   "source": [
    "Example 2. We have the amount of money that students spend in books for a semester in one university. \n",
    "\n",
    "***Research question***: Do the science students spend more money on books as average than art students?\n",
    "\n",
    "**Hypothesis**:\n",
    "- Ho: mean_science = mean_art   `or`   mean_science - mean_art = 0\n",
    "- Ha: mean_science > mean_art   `or`   mean_science - mean_art > 0 "
   ]
  },
  {
   "cell_type": "code",
   "execution_count": 21,
   "metadata": {},
   "outputs": [
    {
     "name": "stdout",
     "output_type": "stream",
     "text": [
      "266.7\n"
     ]
    }
   ],
   "source": [
    "science = [190, 280, 290, 250, 300, 286, 298, 243, 220, 310]\n",
    "print(np.mean(science))"
   ]
  },
  {
   "cell_type": "code",
   "execution_count": 22,
   "metadata": {},
   "outputs": [
    {
     "name": "stdout",
     "output_type": "stream",
     "text": [
      "259.0\n"
     ]
    }
   ],
   "source": [
    "art = [280, 260, 250, 220, 240, 260, 270, 260, 250, 300]\n",
    "print(np.mean(art))"
   ]
  },
  {
   "cell_type": "code",
   "execution_count": 23,
   "metadata": {},
   "outputs": [
    {
     "name": "stdout",
     "output_type": "stream",
     "text": [
      "--- Permutation Hypothesis Test ---\n",
      "Observed Value = 7.70\tp-value = 0.5994\n"
     ]
    },
    {
     "data": {
      "image/png": "[encoded data removed]",
      "text/plain": [
       "<Figure size 432x288 with 1 Axes>"
      ]
     },
     "metadata": {},
     "output_type": "display_data"
    }
   ],
   "source": [
    "PT_2iHT(science, art)"
   ]
  },
  {
   "cell_type": "markdown",
   "metadata": {},
   "source": [
    "We have no reasons for rejecting the null hypothesis. \n",
    "\n",
    "The spending of science and art students on books are similar on average."
   ]
  },
  {
   "cell_type": "markdown",
   "metadata": {},
   "source": [
    "## Permutation Test for two Paired Samples Hypothesis Test"
   ]
  },
  {
   "cell_type": "markdown",
   "metadata": {},
   "source": [
    "Remember:\n",
    "- Ho: mean(grade_before) == mean(grade_after)\n",
    "- Ha: mean(grade_before) != mean(grade_after)\n",
    "\n",
    "mean(grade_before) == mean(grade_after) is equivalent to diff == 0\n",
    "diff = mean(grade_before) - mean(grade_after)\n",
    "\n",
    "We can reformulate the hypothesis as:\n",
    "- Ho: diff == 0\n",
    "- Ha: diff != 0"
   ]
  },
  {
   "cell_type": "markdown",
   "metadata": {},
   "source": [
    "If we swap the before and after values of some students, the result will be the same under H0. This is the main idea of the permutation test for paired data.\n",
    "\n",
    "The idea of the permutation test for paired samples is to swap the pair values for some cases. If you have 3 - 2 = 1, and you swap the values 3 and 2, you will get 2 - 3 = -1. Swapping the values and calculating the difference is equivalent to multiply by -1 that difference."
   ]
  },
  {
   "cell_type": "code",
   "execution_count": 24,
   "metadata": {},
   "outputs": [],
   "source": [
    "np.random.seed(12)\n",
    "grade_before = np.random.normal(85.5, 3, 80)\n",
    "grade_after  = np.random.normal(86,   4, 80)\n",
    "grade_after2 = np.random.normal(90,   3, 80)"
   ]
  },
  {
   "cell_type": "code",
   "execution_count": 25,
   "metadata": {},
   "outputs": [],
   "source": [
    "# Creating a new variable: the difference between both grades\n",
    "diff = grade_after - grade_before"
   ]
  },
  {
   "cell_type": "code",
   "execution_count": 26,
   "metadata": {},
   "outputs": [
    {
     "data": {
      "text/plain": [
       "0.2188556942747198"
      ]
     },
     "execution_count": 26,
     "metadata": {},
     "output_type": "execute_result"
    }
   ],
   "source": [
    "test_stat = np.mean(diff)\n",
    "test_stat"
   ]
  },
  {
   "cell_type": "code",
   "execution_count": 27,
   "metadata": {},
   "outputs": [],
   "source": [
    "def generateSamplesPerm_2p(sample, num_samples=10000):\n",
    "    '''\n",
    "    It concatenates both samples, shuffle it, and creates two new samples with \n",
    "    the same length of the originals. \n",
    "    It returns two DataFrames, where each column is a sample without replacement.\n",
    "    '''\n",
    "    col = ['S'+str(k) for k in range(num_samples)]\n",
    "    df = pd.DataFrame(sample[0], index=range(len(sample)), columns=col)\n",
    "    for c in col:\n",
    "        sign = [1 if np.random.rand() > 0.5 else -1 for i in range(len(sample))]\n",
    "        df[c] = sample * sign\n",
    "    return(df)"
   ]
  },
  {
   "cell_type": "code",
   "execution_count": 28,
   "metadata": {},
   "outputs": [
    {
     "name": "stdout",
     "output_type": "stream",
     "text": [
      "(80, 10000)\n"
     ]
    }
   ],
   "source": [
    "df_1 = generateSamplesPerm_2p(diff, num_samples=10000)\n",
    "print(df_1.shape)"
   ]
  },
  {
   "cell_type": "markdown",
   "metadata": {},
   "source": [
    "We are going to use the mean of the diferences as our statistic test."
   ]
  },
  {
   "cell_type": "code",
   "execution_count": 29,
   "metadata": {},
   "outputs": [],
   "source": [
    "sample_distribution_diff = df_1.mean()"
   ]
  },
  {
   "cell_type": "markdown",
   "metadata": {},
   "source": [
    "Let's use the function for hypothesis testing."
   ]
  },
  {
   "cell_type": "code",
   "execution_count": 30,
   "metadata": {},
   "outputs": [
    {
     "name": "stdout",
     "output_type": "stream",
     "text": [
      "--- Permutation Hypothesis Test ---\n",
      "Observed Value = 0.22\tp-value = 0.7268\n"
     ]
    },
    {
     "data": {
      "image/png": "[encoded data removed]",
      "text/plain": [
       "<Figure size 432x288 with 1 Axes>"
      ]
     },
     "metadata": {},
     "output_type": "display_data"
    }
   ],
   "source": [
    "#Graph_Resampling_Hypothesis_Test(mean_diff, test_stat)\n",
    "hyp_test(test_stat, sample_distribution_diff)"
   ]
  },
  {
   "cell_type": "markdown",
   "metadata": {},
   "source": [
    "**Example 2**: Analyzing `grade_before` - `grade_after2`"
   ]
  },
  {
   "cell_type": "code",
   "execution_count": 31,
   "metadata": {},
   "outputs": [],
   "source": [
    "diff2 = grade_after2 - grade_before"
   ]
  },
  {
   "cell_type": "markdown",
   "metadata": {},
   "source": [
    "The mean of the differences `diff2` is going to be our statistic."
   ]
  },
  {
   "cell_type": "code",
   "execution_count": 32,
   "metadata": {},
   "outputs": [
    {
     "data": {
      "text/plain": [
       "4.069149842516363"
      ]
     },
     "execution_count": 32,
     "metadata": {},
     "output_type": "execute_result"
    }
   ],
   "source": [
    "test_stat2 = np.mean(diff2)\n",
    "test_stat2"
   ]
  },
  {
   "cell_type": "code",
   "execution_count": 33,
   "metadata": {},
   "outputs": [
    {
     "data": {
      "image/png": "[encoded data removed]",
      "text/plain": [
       "<Figure size 360x360 with 1 Axes>"
      ]
     },
     "metadata": {},
     "output_type": "display_data"
    }
   ],
   "source": [
    "sns.displot(x=diff2, kde='True', color='skyblue')\n",
    "plt.axvline(x=test_stat2, color='darkred');"
   ]
  },
  {
   "cell_type": "code",
   "execution_count": 34,
   "metadata": {},
   "outputs": [
    {
     "data": {
      "image/png": "[encoded data removed]",
      "text/plain": [
       "<Figure size 432x288 with 1 Axes>"
      ]
     },
     "metadata": {},
     "output_type": "display_data"
    }
   ],
   "source": [
    "sns.boxplot(y=diff2, color='skyblue')\n",
    "plt.axhline(y=test_stat2, color='darkred');"
   ]
  },
  {
   "cell_type": "code",
   "execution_count": 35,
   "metadata": {},
   "outputs": [
    {
     "data": {
      "image/png": "[encoded data removed]",
      "text/plain": [
       "<Figure size 432x288 with 1 Axes>"
      ]
     },
     "metadata": {},
     "output_type": "display_data"
    }
   ],
   "source": [
    "sns.violinplot(y=diff2, color='skyblue')\n",
    "plt.axhline(y=test_stat2, color='darkred');"
   ]
  },
  {
   "cell_type": "markdown",
   "metadata": {},
   "source": [
    "Remember:\n",
    "- Ho: mean(grade_before) == mean(grade_after2)\n",
    "- Ha: mean(grade_before) != mean(grade_after2)\n",
    "\n",
    "mean(grade_before) == mean(grade_after2) is equivalent to mean(diff2) == 0\n",
    "where diff2 = mean(grade_before) - mean(grade_after2)\n",
    "\n",
    "We can reformulate the hypothesis as:\n",
    "- Ho: mean(diff2) == 0\n",
    "- Ha: mean(diff2) != 0"
   ]
  },
  {
   "cell_type": "code",
   "execution_count": 36,
   "metadata": {},
   "outputs": [
    {
     "name": "stdout",
     "output_type": "stream",
     "text": [
      "(80, 10000)\n"
     ]
    }
   ],
   "source": [
    "df_2 = generateSamplesPerm_2p(diff2, num_samples=10000)\n",
    "print(df_2.shape)"
   ]
  },
  {
   "cell_type": "code",
   "execution_count": 37,
   "metadata": {},
   "outputs": [],
   "source": [
    "sample_distribution_diff2 = df_2.mean()"
   ]
  },
  {
   "cell_type": "code",
   "execution_count": 38,
   "metadata": {},
   "outputs": [
    {
     "name": "stdout",
     "output_type": "stream",
     "text": [
      "--- Permutation Hypothesis Test ---\n",
      "Observed Value = 4.07\tp-value = 0.0000\n"
     ]
    },
    {
     "data": {
      "image/png": "[encoded data removed]",
      "text/plain": [
       "<Figure size 432x288 with 1 Axes>"
      ]
     },
     "metadata": {},
     "output_type": "display_data"
    }
   ],
   "source": [
    "#Graph_Resampling_Hypothesis_Test(mean_diff2, test_stat2)\n",
    "hyp_test(test_stat2, sample_distribution_diff2)"
   ]
  },
  {
   "cell_type": "code",
   "execution_count": 39,
   "metadata": {},
   "outputs": [
    {
     "name": "stdout",
     "output_type": "stream",
     "text": [
      "--- Permutation Hypothesis Test ---\n",
      "Observed Value = 4.07\tp-value = 0.0000\n"
     ]
    },
    {
     "data": {
      "image/png": "[encoded data removed]",
      "text/plain": [
       "<Figure size 432x288 with 1 Axes>"
      ]
     },
     "metadata": {},
     "output_type": "display_data"
    }
   ],
   "source": [
    "#Graph_Resampling_Hypothesis_Test(mean_diff2, test_stat2, alternative='larger')\n",
    "hyp_test(test_stat2, sample_distribution_diff2, alternative='larger')"
   ]
  },
  {
   "cell_type": "markdown",
   "metadata": {},
   "source": [
    "**Example 3**: The data represent the observed pollution indexes of air samples in two areas of a city. Test the hypothesis that the mean pollution indexes are the same for the two areas. "
   ]
  },
  {
   "cell_type": "code",
   "execution_count": 40,
   "metadata": {},
   "outputs": [],
   "source": [
    "areaA = np.array([2.92, 1.88, 5.35, 3.81, 4.69, 4.86, 5.81, 5.55])\n",
    "areaB = np.array([1.84, 0.95, 4.26, 3.18, 3.44, 3.69, 4.95, 4.47])"
   ]
  },
  {
   "cell_type": "code",
   "execution_count": 41,
   "metadata": {},
   "outputs": [],
   "source": [
    "diff3 = areaB - areaA"
   ]
  },
  {
   "cell_type": "code",
   "execution_count": 42,
   "metadata": {},
   "outputs": [
    {
     "data": {
      "text/plain": [
       "-1.0112500000000004"
      ]
     },
     "execution_count": 42,
     "metadata": {},
     "output_type": "execute_result"
    }
   ],
   "source": [
    "test_stat3 = np.mean(areaB) - np.mean(areaA)\n",
    "test_stat3"
   ]
  },
  {
   "cell_type": "code",
   "execution_count": 43,
   "metadata": {},
   "outputs": [
    {
     "data": {
      "image/png": "[encoded data removed]",
      "text/plain": [
       "<Figure size 360x360 with 1 Axes>"
      ]
     },
     "metadata": {},
     "output_type": "display_data"
    }
   ],
   "source": [
    "sns.displot(x=diff2, kde='True', color='skyblue')\n",
    "plt.axvline(x=test_stat3, color='darkred');"
   ]
  },
  {
   "cell_type": "code",
   "execution_count": 44,
   "metadata": {},
   "outputs": [
    {
     "name": "stdout",
     "output_type": "stream",
     "text": [
      "(8, 10000)\n"
     ]
    }
   ],
   "source": [
    "df_3 = generateSamplesPerm_2p(diff3, num_samples=10000)\n",
    "print(df_3.shape)"
   ]
  },
  {
   "cell_type": "code",
   "execution_count": 45,
   "metadata": {},
   "outputs": [],
   "source": [
    "sample_distribution_diff3 = df_3.mean()"
   ]
  },
  {
   "cell_type": "code",
   "execution_count": 46,
   "metadata": {},
   "outputs": [
    {
     "name": "stdout",
     "output_type": "stream",
     "text": [
      "--- Permutation Hypothesis Test ---\n",
      "Observed Value = -1.01\tp-value = 0.0000\n"
     ]
    },
    {
     "data": {
      "image/png": "[encoded data removed]",
      "text/plain": [
       "<Figure size 432x288 with 1 Axes>"
      ]
     },
     "metadata": {},
     "output_type": "display_data"
    }
   ],
   "source": [
    "#Graph_Resampling_Hypothesis_Test(mean_diff3, test_stat3)\n",
    "hyp_test(test_stat3, sample_distribution_diff3)"
   ]
  },
  {
   "cell_type": "markdown",
   "metadata": {},
   "source": [
    "Reference:\n",
    "- Good, P. (2005) Permutation, Parametric, and Bootstrap Tests of Hypothesis, Third Edition, USA: Springer Series in Statistics"
   ]
  }
 ],
 "metadata": {
  "interpreter": {
   "hash": "7f2633a0dd9fad194999ffc17b7b93627efd4bccf6144e14bc5fef7dfd0c6355"
  },
  "kernelspec": {
   "display_name": "Python 3.10.4 64-bit",
   "language": "python",
   "name": "python3"
  },
  "language_info": {
   "codemirror_mode": {
    "name": "ipython",
    "version": 3
   },
   "file_extension": ".py",
   "mimetype": "text/x-python",
   "name": "python",
   "nbconvert_exporter": "python",
   "pygments_lexer": "ipython3",
   "version": "3.10.4"
  },
  "orig_nbformat": 2
 },
 "nbformat": 4,
 "nbformat_minor": 2
}
