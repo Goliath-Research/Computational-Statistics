{
 "cells": [
  {
   "cell_type": "markdown",
   "metadata": {},
   "source": [
    "# Permutation Tests"
   ]
  },
  {
   "cell_type": "markdown",
   "metadata": {},
   "source": [
    "This notebook will introduce permutation methods for comparison two groups."
   ]
  },
  {
   "cell_type": "code",
   "execution_count": 1,
   "metadata": {},
   "outputs": [],
   "source": [
    "import numpy as np\n",
    "import pandas as pd\n",
    "#from scipy import stats as st\n",
    "from statsmodels.distributions.empirical_distribution import ECDF\n",
    "import matplotlib.pyplot as plt\n",
    "import seaborn as sns;\n",
    "sns.set_style(\"whitegrid\")  "
   ]
  },
  {
   "cell_type": "markdown",
   "metadata": {},
   "source": [
    "## Permutation method for two independent samples"
   ]
  },
  {
   "cell_type": "markdown",
   "metadata": {},
   "source": [
    "Let us use a permutation test to determine whether the two means (classC and classD) are diferent from each other.\n",
    "\n",
    "The method is very similar to the bootstrap, but a fundamental difference is that the bootstrap resamples with replacement and the permutation test does not. Then, we will use `np.random.choice()` with `replace=False` \n",
    "\n",
    "Hypothesis\n",
    "\n",
    "- Ho: mean_C  = mean_D (mean_C-mean_D = 0)\n",
    "- Ha: mean_C != mean_D (mean_C-mean_D != 0)  \n",
    "\n",
    "Let us generate values for classes C and D."
   ]
  },
  {
   "cell_type": "code",
   "execution_count": 2,
   "metadata": {},
   "outputs": [],
   "source": [
    "np.random.seed(123)\n",
    "classC = np.random.normal(85, 3, 100)\n",
    "classD = np.random.normal(90, 3, 95)"
   ]
  },
  {
   "cell_type": "markdown",
   "metadata": {},
   "source": [
    " The means of `classC` and `classD` are different."
   ]
  },
  {
   "cell_type": "code",
   "execution_count": 3,
   "metadata": {},
   "outputs": [
    {
     "data": {
      "image/png": "[encoded data removed]",
      "text/plain": [
       "<Figure size 432x288 with 1 Axes>"
      ]
     },
     "metadata": {},
     "output_type": "display_data"
    }
   ],
   "source": [
    "ax=sns.kdeplot(x=classC, color='limegreen', shade=True, label='Class C')\n",
    "ax.vlines(x=np.mean(classC), ymin=0, ymax=0.092, color='black')\n",
    "ax=sns.kdeplot(x=classD, color='orange', shade=True, alpha=0.3, label='Class D')\n",
    "ax.vlines(x=np.mean(classD), ymin=0, ymax=0.154, color='black')\n",
    "plt.legend();"
   ]
  },
  {
   "cell_type": "code",
   "execution_count": 4,
   "metadata": {},
   "outputs": [
    {
     "name": "stdout",
     "output_type": "stream",
     "text": [
      "Mean of class C = 85.08\n",
      "Mean of class D = 90.07\n"
     ]
    }
   ],
   "source": [
    "print('Mean of class C = %.2f' % np.mean(classC))\n",
    "print('Mean of class D = %.2f' % np.mean(classD))"
   ]
  },
  {
   "cell_type": "markdown",
   "metadata": {},
   "source": [
    "The number of students in each class is also different."
   ]
  },
  {
   "cell_type": "code",
   "execution_count": 5,
   "metadata": {},
   "outputs": [
    {
     "name": "stdout",
     "output_type": "stream",
     "text": [
      "Lenght of class C = 100\n",
      "Lenght of class D = 95\n"
     ]
    }
   ],
   "source": [
    "print('Lenght of class C =', len(classC))\n",
    "print('Lenght of class D =', len(classD))"
   ]
  },
  {
   "cell_type": "markdown",
   "metadata": {},
   "source": [
    "Let us pool all the data together and randomly split the data into two groups: classC and classD.\n",
    "\n",
    "We will repeat the process many times (about 10**4)\n",
    "\n",
    "**Main idea**: If there is truly no difference between the average grades of classC and classD, there will be no differences between the average grades of the generated groups."
   ]
  },
  {
   "cell_type": "markdown",
   "metadata": {},
   "source": [
    "`generateSamplesPerm` is the function for generating samples WITHOUT replacement"
   ]
  },
  {
   "cell_type": "code",
   "execution_count": 6,
   "metadata": {},
   "outputs": [],
   "source": [
    "def generateSamplesPerm_2i(sample1, sample2, num_samples=10000):\n",
    "    '''\n",
    "    It returns two DataFrames, where each column is a permutation (sampling without replacement)\n",
    "    '''\n",
    "    pool = np.concatenate([sample1, sample2])  \n",
    "    # Creating a DataFrame with one column\n",
    "    df = pd.DataFrame(pool)\n",
    "    # Replicating the column num_samples times\n",
    "    df = (pd.concat([df]*num_samples, axis=1, ignore_index=True)).rename(lambda c: 'S'+str(c), axis=1)\n",
    "    # Shuffling the columns\n",
    "    df = df.apply(np.random.permutation)\n",
    "    # Creating two new DataFrames\n",
    "    df1 = df[df.index < len(sample1)]\n",
    "    df2 = df[df.index >= len(sample1)]\n",
    "    return(df1, df2)"
   ]
  },
  {
   "cell_type": "code",
   "execution_count": 7,
   "metadata": {},
   "outputs": [],
   "source": [
    "# generating samples for classC and classD\n",
    "dfC, dfD = generateSamplesPerm_2i(classC, classD)"
   ]
  },
  {
   "cell_type": "code",
   "execution_count": 8,
   "metadata": {},
   "outputs": [
    {
     "name": "stdout",
     "output_type": "stream",
     "text": [
      "(100, 10000)\n"
     ]
    },
    {
     "data": {
      "text/html": [
       "<div>\n",
       "<style scoped>\n",
       "    .dataframe tbody tr th:only-of-type {\n",
       "        vertical-align: middle;\n",
       "    }\n",
       "\n",
       "    .dataframe tbody tr th {\n",
       "        vertical-align: top;\n",
       "    }\n",
       "\n",
       "    .dataframe thead th {\n",
       "        text-align: right;\n",
       "    }\n",
       "</style>\n",
       "<table border=\"1\" class=\"dataframe\">\n",
       "  <thead>\n",
       "    <tr style=\"text-align: right;\">\n",
       "      <th></th>\n",
       "      <th>S0</th>\n",
       "      <th>S1</th>\n",
       "      <th>S2</th>\n",
       "      <th>S3</th>\n",
       "      <th>S4</th>\n",
       "      <th>S5</th>\n",
       "      <th>S6</th>\n",
       "      <th>S7</th>\n",
       "      <th>S8</th>\n",
       "      <th>S9</th>\n",
       "      <th>...</th>\n",
       "      <th>S9990</th>\n",
       "      <th>S9991</th>\n",
       "      <th>S9992</th>\n",
       "      <th>S9993</th>\n",
       "      <th>S9994</th>\n",
       "      <th>S9995</th>\n",
       "      <th>S9996</th>\n",
       "      <th>S9997</th>\n",
       "      <th>S9998</th>\n",
       "      <th>S9999</th>\n",
       "    </tr>\n",
       "  </thead>\n",
       "  <tbody>\n",
       "    <tr>\n",
       "      <th>0</th>\n",
       "      <td>90.922153</td>\n",
       "      <td>90.264659</td>\n",
       "      <td>81.021204</td>\n",
       "      <td>92.437024</td>\n",
       "      <td>91.560358</td>\n",
       "      <td>87.304731</td>\n",
       "      <td>87.529706</td>\n",
       "      <td>89.251897</td>\n",
       "      <td>92.136794</td>\n",
       "      <td>90.102426</td>\n",
       "      <td>...</td>\n",
       "      <td>89.189303</td>\n",
       "      <td>81.197944</td>\n",
       "      <td>87.064668</td>\n",
       "      <td>97.794912</td>\n",
       "      <td>88.486612</td>\n",
       "      <td>88.166324</td>\n",
       "      <td>88.308228</td>\n",
       "      <td>81.238358</td>\n",
       "      <td>92.113422</td>\n",
       "      <td>89.251897</td>\n",
       "    </tr>\n",
       "    <tr>\n",
       "      <th>1</th>\n",
       "      <td>92.113422</td>\n",
       "      <td>84.621911</td>\n",
       "      <td>90.531577</td>\n",
       "      <td>90.280382</td>\n",
       "      <td>93.728609</td>\n",
       "      <td>90.429923</td>\n",
       "      <td>88.353239</td>\n",
       "      <td>88.486612</td>\n",
       "      <td>87.794349</td>\n",
       "      <td>88.486612</td>\n",
       "      <td>...</td>\n",
       "      <td>89.280994</td>\n",
       "      <td>87.421925</td>\n",
       "      <td>84.621911</td>\n",
       "      <td>90.538648</td>\n",
       "      <td>88.308228</td>\n",
       "      <td>90.060948</td>\n",
       "      <td>89.251897</td>\n",
       "      <td>95.878234</td>\n",
       "      <td>81.238358</td>\n",
       "      <td>82.328836</td>\n",
       "    </tr>\n",
       "    <tr>\n",
       "      <th>2</th>\n",
       "      <td>87.529706</td>\n",
       "      <td>85.183771</td>\n",
       "      <td>82.900368</td>\n",
       "      <td>84.621911</td>\n",
       "      <td>81.743108</td>\n",
       "      <td>91.261340</td>\n",
       "      <td>83.713262</td>\n",
       "      <td>81.405097</td>\n",
       "      <td>87.992036</td>\n",
       "      <td>87.721316</td>\n",
       "      <td>...</td>\n",
       "      <td>87.421710</td>\n",
       "      <td>83.994968</td>\n",
       "      <td>90.419934</td>\n",
       "      <td>85.848935</td>\n",
       "      <td>91.261340</td>\n",
       "      <td>83.264199</td>\n",
       "      <td>85.543105</td>\n",
       "      <td>85.598572</td>\n",
       "      <td>88.923192</td>\n",
       "      <td>84.066336</td>\n",
       "    </tr>\n",
       "    <tr>\n",
       "      <th>3</th>\n",
       "      <td>93.801896</td>\n",
       "      <td>91.714430</td>\n",
       "      <td>83.713262</td>\n",
       "      <td>82.681874</td>\n",
       "      <td>81.197944</td>\n",
       "      <td>86.015767</td>\n",
       "      <td>94.415788</td>\n",
       "      <td>90.419934</td>\n",
       "      <td>80.182112</td>\n",
       "      <td>93.038217</td>\n",
       "      <td>...</td>\n",
       "      <td>88.938000</td>\n",
       "      <td>89.176810</td>\n",
       "      <td>88.923192</td>\n",
       "      <td>88.119181</td>\n",
       "      <td>83.827301</td>\n",
       "      <td>87.794349</td>\n",
       "      <td>90.218722</td>\n",
       "      <td>82.487450</td>\n",
       "      <td>86.158559</td>\n",
       "      <td>86.405317</td>\n",
       "    </tr>\n",
       "    <tr>\n",
       "      <th>4</th>\n",
       "      <td>92.244647</td>\n",
       "      <td>80.909585</td>\n",
       "      <td>85.942816</td>\n",
       "      <td>90.429923</td>\n",
       "      <td>92.437024</td>\n",
       "      <td>87.384588</td>\n",
       "      <td>82.399779</td>\n",
       "      <td>82.506535</td>\n",
       "      <td>88.923192</td>\n",
       "      <td>89.280994</td>\n",
       "      <td>...</td>\n",
       "      <td>90.390645</td>\n",
       "      <td>93.728609</td>\n",
       "      <td>90.851176</td>\n",
       "      <td>91.503747</td>\n",
       "      <td>88.825141</td>\n",
       "      <td>81.405097</td>\n",
       "      <td>94.186059</td>\n",
       "      <td>92.136794</td>\n",
       "      <td>86.138202</td>\n",
       "      <td>91.499220</td>\n",
       "    </tr>\n",
       "  </tbody>\n",
       "</table>\n",
       "<p>5 rows × 10000 columns</p>\n",
       "</div>"
      ],
      "text/plain": [
       "          S0         S1         S2         S3         S4         S5  \\\n",
       "0  90.922153  90.264659  81.021204  92.437024  91.560358  87.304731   \n",
       "1  92.113422  84.621911  90.531577  90.280382  93.728609  90.429923   \n",
       "2  87.529706  85.183771  82.900368  84.621911  81.743108  91.261340   \n",
       "3  93.801896  91.714430  83.713262  82.681874  81.197944  86.015767   \n",
       "4  92.244647  80.909585  85.942816  90.429923  92.437024  87.384588   \n",
       "\n",
       "          S6         S7         S8         S9  ...      S9990      S9991  \\\n",
       "0  87.529706  89.251897  92.136794  90.102426  ...  89.189303  81.197944   \n",
       "1  88.353239  88.486612  87.794349  88.486612  ...  89.280994  87.421925   \n",
       "2  83.713262  81.405097  87.992036  87.721316  ...  87.421710  83.994968   \n",
       "3  94.415788  90.419934  80.182112  93.038217  ...  88.938000  89.176810   \n",
       "4  82.399779  82.506535  88.923192  89.280994  ...  90.390645  93.728609   \n",
       "\n",
       "       S9992      S9993      S9994      S9995      S9996      S9997  \\\n",
       "0  87.064668  97.794912  88.486612  88.166324  88.308228  81.238358   \n",
       "1  84.621911  90.538648  88.308228  90.060948  89.251897  95.878234   \n",
       "2  90.419934  85.848935  91.261340  83.264199  85.543105  85.598572   \n",
       "3  88.923192  88.119181  83.827301  87.794349  90.218722  82.487450   \n",
       "4  90.851176  91.503747  88.825141  81.405097  94.186059  92.136794   \n",
       "\n",
       "       S9998      S9999  \n",
       "0  92.113422  89.251897  \n",
       "1  81.238358  82.328836  \n",
       "2  88.923192  84.066336  \n",
       "3  86.158559  86.405317  \n",
       "4  86.138202  91.499220  \n",
       "\n",
       "[5 rows x 10000 columns]"
      ]
     },
     "execution_count": 8,
     "metadata": {},
     "output_type": "execute_result"
    }
   ],
   "source": [
    "print(dfC.shape)\n",
    "dfC.head()"
   ]
  },
  {
   "cell_type": "code",
   "execution_count": 9,
   "metadata": {},
   "outputs": [
    {
     "name": "stdout",
     "output_type": "stream",
     "text": [
      "(95, 10000)\n"
     ]
    },
    {
     "data": {
      "text/html": [
       "<div>\n",
       "<style scoped>\n",
       "    .dataframe tbody tr th:only-of-type {\n",
       "        vertical-align: middle;\n",
       "    }\n",
       "\n",
       "    .dataframe tbody tr th {\n",
       "        vertical-align: top;\n",
       "    }\n",
       "\n",
       "    .dataframe thead th {\n",
       "        text-align: right;\n",
       "    }\n",
       "</style>\n",
       "<table border=\"1\" class=\"dataframe\">\n",
       "  <thead>\n",
       "    <tr style=\"text-align: right;\">\n",
       "      <th></th>\n",
       "      <th>S0</th>\n",
       "      <th>S1</th>\n",
       "      <th>S2</th>\n",
       "      <th>S3</th>\n",
       "      <th>S4</th>\n",
       "      <th>S5</th>\n",
       "      <th>S6</th>\n",
       "      <th>S7</th>\n",
       "      <th>S8</th>\n",
       "      <th>S9</th>\n",
       "      <th>...</th>\n",
       "      <th>S9990</th>\n",
       "      <th>S9991</th>\n",
       "      <th>S9992</th>\n",
       "      <th>S9993</th>\n",
       "      <th>S9994</th>\n",
       "      <th>S9995</th>\n",
       "      <th>S9996</th>\n",
       "      <th>S9997</th>\n",
       "      <th>S9998</th>\n",
       "      <th>S9999</th>\n",
       "    </tr>\n",
       "  </thead>\n",
       "  <tbody>\n",
       "    <tr>\n",
       "      <th>100</th>\n",
       "      <td>85.136470</td>\n",
       "      <td>82.802614</td>\n",
       "      <td>90.264659</td>\n",
       "      <td>79.685401</td>\n",
       "      <td>94.131772</td>\n",
       "      <td>87.936208</td>\n",
       "      <td>90.218722</td>\n",
       "      <td>82.583900</td>\n",
       "      <td>79.685401</td>\n",
       "      <td>85.136470</td>\n",
       "      <td>...</td>\n",
       "      <td>90.598746</td>\n",
       "      <td>79.816992</td>\n",
       "      <td>85.598572</td>\n",
       "      <td>89.982857</td>\n",
       "      <td>90.362242</td>\n",
       "      <td>83.083294</td>\n",
       "      <td>84.055726</td>\n",
       "      <td>80.909585</td>\n",
       "      <td>91.926164</td>\n",
       "      <td>90.531577</td>\n",
       "    </tr>\n",
       "    <tr>\n",
       "      <th>101</th>\n",
       "      <td>81.117744</td>\n",
       "      <td>89.621647</td>\n",
       "      <td>86.699871</td>\n",
       "      <td>86.238736</td>\n",
       "      <td>88.093343</td>\n",
       "      <td>82.487450</td>\n",
       "      <td>93.038217</td>\n",
       "      <td>87.384588</td>\n",
       "      <td>90.851176</td>\n",
       "      <td>90.419934</td>\n",
       "      <td>...</td>\n",
       "      <td>89.251897</td>\n",
       "      <td>84.579794</td>\n",
       "      <td>88.765712</td>\n",
       "      <td>90.362242</td>\n",
       "      <td>81.746296</td>\n",
       "      <td>88.353239</td>\n",
       "      <td>83.086745</td>\n",
       "      <td>80.713958</td>\n",
       "      <td>88.765712</td>\n",
       "      <td>85.942816</td>\n",
       "    </tr>\n",
       "    <tr>\n",
       "      <th>102</th>\n",
       "      <td>86.941035</td>\n",
       "      <td>81.021204</td>\n",
       "      <td>90.538648</td>\n",
       "      <td>87.212106</td>\n",
       "      <td>90.362242</td>\n",
       "      <td>90.060948</td>\n",
       "      <td>89.363760</td>\n",
       "      <td>84.414073</td>\n",
       "      <td>81.405097</td>\n",
       "      <td>90.922153</td>\n",
       "      <td>...</td>\n",
       "      <td>89.982857</td>\n",
       "      <td>85.008538</td>\n",
       "      <td>88.207948</td>\n",
       "      <td>81.742293</td>\n",
       "      <td>88.797809</td>\n",
       "      <td>89.910096</td>\n",
       "      <td>85.493324</td>\n",
       "      <td>88.353135</td>\n",
       "      <td>88.093343</td>\n",
       "      <td>94.186059</td>\n",
       "    </tr>\n",
       "    <tr>\n",
       "      <th>103</th>\n",
       "      <td>81.021204</td>\n",
       "      <td>89.002574</td>\n",
       "      <td>88.935527</td>\n",
       "      <td>82.900368</td>\n",
       "      <td>90.998295</td>\n",
       "      <td>88.353135</td>\n",
       "      <td>83.086745</td>\n",
       "      <td>94.415788</td>\n",
       "      <td>91.669646</td>\n",
       "      <td>91.261340</td>\n",
       "      <td>...</td>\n",
       "      <td>93.801896</td>\n",
       "      <td>88.935527</td>\n",
       "      <td>82.963342</td>\n",
       "      <td>84.621911</td>\n",
       "      <td>90.761449</td>\n",
       "      <td>80.909585</td>\n",
       "      <td>90.531577</td>\n",
       "      <td>88.308228</td>\n",
       "      <td>87.992036</td>\n",
       "      <td>84.715873</td>\n",
       "    </tr>\n",
       "    <tr>\n",
       "      <th>104</th>\n",
       "      <td>84.066336</td>\n",
       "      <td>85.850882</td>\n",
       "      <td>86.238736</td>\n",
       "      <td>87.777559</td>\n",
       "      <td>87.672119</td>\n",
       "      <td>89.176810</td>\n",
       "      <td>90.922153</td>\n",
       "      <td>90.429923</td>\n",
       "      <td>83.264199</td>\n",
       "      <td>90.538648</td>\n",
       "      <td>...</td>\n",
       "      <td>83.264199</td>\n",
       "      <td>82.192498</td>\n",
       "      <td>85.543105</td>\n",
       "      <td>91.278440</td>\n",
       "      <td>88.938000</td>\n",
       "      <td>88.353135</td>\n",
       "      <td>87.782387</td>\n",
       "      <td>81.117744</td>\n",
       "      <td>89.621647</td>\n",
       "      <td>85.764333</td>\n",
       "    </tr>\n",
       "  </tbody>\n",
       "</table>\n",
       "<p>5 rows × 10000 columns</p>\n",
       "</div>"
      ],
      "text/plain": [
       "            S0         S1         S2         S3         S4         S5  \\\n",
       "100  85.136470  82.802614  90.264659  79.685401  94.131772  87.936208   \n",
       "101  81.117744  89.621647  86.699871  86.238736  88.093343  82.487450   \n",
       "102  86.941035  81.021204  90.538648  87.212106  90.362242  90.060948   \n",
       "103  81.021204  89.002574  88.935527  82.900368  90.998295  88.353135   \n",
       "104  84.066336  85.850882  86.238736  87.777559  87.672119  89.176810   \n",
       "\n",
       "            S6         S7         S8         S9  ...      S9990      S9991  \\\n",
       "100  90.218722  82.583900  79.685401  85.136470  ...  90.598746  79.816992   \n",
       "101  93.038217  87.384588  90.851176  90.419934  ...  89.251897  84.579794   \n",
       "102  89.363760  84.414073  81.405097  90.922153  ...  89.982857  85.008538   \n",
       "103  83.086745  94.415788  91.669646  91.261340  ...  93.801896  88.935527   \n",
       "104  90.922153  90.429923  83.264199  90.538648  ...  83.264199  82.192498   \n",
       "\n",
       "         S9992      S9993      S9994      S9995      S9996      S9997  \\\n",
       "100  85.598572  89.982857  90.362242  83.083294  84.055726  80.909585   \n",
       "101  88.765712  90.362242  81.746296  88.353239  83.086745  80.713958   \n",
       "102  88.207948  81.742293  88.797809  89.910096  85.493324  88.353135   \n",
       "103  82.963342  84.621911  90.761449  80.909585  90.531577  88.308228   \n",
       "104  85.543105  91.278440  88.938000  88.353135  87.782387  81.117744   \n",
       "\n",
       "         S9998      S9999  \n",
       "100  91.926164  90.531577  \n",
       "101  88.765712  85.942816  \n",
       "102  88.093343  94.186059  \n",
       "103  87.992036  84.715873  \n",
       "104  89.621647  85.764333  \n",
       "\n",
       "[5 rows x 10000 columns]"
      ]
     },
     "execution_count": 9,
     "metadata": {},
     "output_type": "execute_result"
    }
   ],
   "source": [
    "print(dfD.shape)\n",
    "dfD.head()"
   ]
  },
  {
   "cell_type": "markdown",
   "metadata": {},
   "source": [
    "### Statistic: difference of means"
   ]
  },
  {
   "cell_type": "markdown",
   "metadata": {},
   "source": [
    "We will use the statistic: mean1 - mean2"
   ]
  },
  {
   "cell_type": "code",
   "execution_count": 10,
   "metadata": {},
   "outputs": [],
   "source": [
    "dMeans = np.mean(classC) - np.mean(classD)"
   ]
  },
  {
   "cell_type": "code",
   "execution_count": 11,
   "metadata": {},
   "outputs": [],
   "source": [
    "# Calculating the sample distribution\n",
    "sample_distribution = dfC.mean() - dfD.mean()"
   ]
  },
  {
   "cell_type": "code",
   "execution_count": 12,
   "metadata": {},
   "outputs": [
    {
     "data": {
      "image/png": "[encoded data removed]",
      "text/plain": [
       "<Figure size 432x288 with 1 Axes>"
      ]
     },
     "metadata": {},
     "output_type": "display_data"
    }
   ],
   "source": [
    "# Plotting the sample distribution\n",
    "sns.histplot(x=sample_distribution).set(title='Sample Distribution - Diff of Means');"
   ]
  },
  {
   "cell_type": "code",
   "execution_count": 13,
   "metadata": {},
   "outputs": [],
   "source": [
    "def getpValue(sample_distribution, obs_value, alternative='two-sided'):\n",
    "    '''\n",
    "    It returns the p-value.\n",
    "    sample_distribution: the sample distribution\n",
    "    obs_value:           observed value \n",
    "    alpha:               significance level\n",
    "    alternative:         one of the three values: 'two-sided', 'smaller', or 'larger'    \n",
    "    '''\n",
    "    ecdf = ECDF(sample_distribution) \n",
    "    if alternative=='two-sided':\n",
    "        if obs_value < np.mean(sample_distribution): \n",
    "            p_val = 2*ecdf(obs_value)\n",
    "        else: \n",
    "            p_val = 2*(1-ecdf(obs_value)) \n",
    "    elif alternative=='smaller':\n",
    "        p_val = ecdf(obs_value)\n",
    "    else:\n",
    "        p_val = 1-ecdf(obs_value)\n",
    "    return(p_val)"
   ]
  },
  {
   "cell_type": "code",
   "execution_count": 14,
   "metadata": {},
   "outputs": [],
   "source": [
    "def hyp_test(sample_value, sample_distribution, alpha=0.05, alternative='two-sided'):\n",
    "    '''\n",
    "    Method for two-samples hypothesis test.\n",
    "    sampl_value:        observed value calculated from the sample\n",
    "    sampl_distribution: sample distribution calculated from the sample\n",
    "    alpha:              significance level\n",
    "    alternative:        one of the three values: 'two-sided', 'smaller', and 'larger'\n",
    "    '''\n",
    "    sigHa = {'two-sided':'!=', 'smaller':'< ', 'larger':'> '}\n",
    "    print('--- Permutation Hypothesis Test ---')\n",
    "    sns.kdeplot(x=sample_distribution, color='lightskyblue', shade=True, alpha=0.4)  # plotting the sample distribution\n",
    "    plt.axvline(x=sample_value, ymin=0, ymax= 0.03, color='black', linewidth=6)      # plotting the statistic \n",
    "    plt.title('Sampling Distribution')\n",
    "    p_val = getpValue(sample_distribution, sample_value, alternative)\n",
    "    if alternative=='two-sided':                    # plotting the graph with two critical regions\n",
    "        cv1 = np.round(np.percentile(sample_distribution, (alpha/2)*100),2)          # left critical value    \n",
    "        cv2 = np.round(np.percentile(sample_distribution, 100-alpha*100),2)          # right critical value  \n",
    "        plt.axvline(x = cv1, ymin=0, ymax=0.5, color='orangered', linewidth=2)\n",
    "        plt.axvline(x = cv2, ymin=0, ymax=0.5, color='orangered', linewidth=2);\n",
    "    elif alternative=='smaller':                    # plotting the graph with left critical region\n",
    "        cv1 = np.round(np.percentile(sample_distribution, alpha*100),2)              # left critical value\n",
    "        plt.axvline(x = cv1, ymin=0, ymax=0.5, color='orangered', linewidth=2)\n",
    "    else:                                           # plotting the graph with right critical region\n",
    "        cv2 = np.round(np.percentile(sample_distribution, 100-alpha*100),2)          # right critical value \n",
    "        plt.axvline(x = cv2, ymin=0, ymax=0.5, color='orangered', linewidth=2)\n",
    "    print('Observed Value = %.2f\\tp-value = %.4f' %(sample_value, p_val))  "
   ]
  },
  {
   "cell_type": "code",
   "execution_count": 15,
   "metadata": {},
   "outputs": [
    {
     "name": "stdout",
     "output_type": "stream",
     "text": [
      "--- Permutation Hypothesis Test ---\n",
      "Observed Value = -4.99\tp-value = 0.0000\n"
     ]
    },
    {
     "data": {
      "image/png": "[encoded data removed]",
      "text/plain": [
       "<Figure size 432x288 with 1 Axes>"
      ]
     },
     "metadata": {},
     "output_type": "display_data"
    }
   ],
   "source": [
    "hyp_test(dMeans, sample_distribution)"
   ]
  },
  {
   "cell_type": "markdown",
   "metadata": {},
   "source": [
    "### Summarizing the procedure"
   ]
  },
  {
   "cell_type": "code",
   "execution_count": 16,
   "metadata": {},
   "outputs": [],
   "source": [
    "def PT_2iHT(sample1, sample2, num_samples=10000, alpha=0.05, alternative='two-sided'):\n",
    "    '''\n",
    "    Permutation hypothesis test for 2 independent samples\n",
    "    '''\n",
    "    stat = np.mean(sample1) - np.mean(sample2)\n",
    "    df1, df2 = generateSamplesPerm_2i(sample1, sample2, num_samples=num_samples)\n",
    "    sample_distrib = df1.mean() - df2.mean()\n",
    "    hyp_test(stat, sample_distrib, alpha=alpha, alternative=alternative)"
   ]
  },
  {
   "cell_type": "code",
   "execution_count": 17,
   "metadata": {},
   "outputs": [
    {
     "name": "stdout",
     "output_type": "stream",
     "text": [
      "--- Permutation Hypothesis Test ---\n",
      "Observed Value = -4.99\tp-value = 0.0000\n"
     ]
    },
    {
     "data": {
      "image/png": "[encoded data removed]",
      "text/plain": [
       "<Figure size 432x288 with 1 Axes>"
      ]
     },
     "metadata": {},
     "output_type": "display_data"
    }
   ],
   "source": [
    "PT_2iHT(classC, classD)"
   ]
  },
  {
   "cell_type": "markdown",
   "metadata": {},
   "source": [
    "### Analyzing other data"
   ]
  },
  {
   "cell_type": "markdown",
   "metadata": {},
   "source": [
    "We have the amount of money that students spend in books for a semester in one university. \n",
    "\n",
    "**Research question**: Do the science students spend more money on books as average than art students?\n",
    "\n",
    "**Hypothesis**:\n",
    "- Ho: mean_science = mean_art (mean_science-mean_art = 0)\n",
    "- Ha: mean_science > mean_art (mean_science-mean_art > 0) "
   ]
  },
  {
   "cell_type": "code",
   "execution_count": 18,
   "metadata": {},
   "outputs": [
    {
     "name": "stdout",
     "output_type": "stream",
     "text": [
      "266.7\n"
     ]
    }
   ],
   "source": [
    "science = [190, 280, 290, 250, 300, 286, 298, 243, 220, 310]\n",
    "print(np.mean(science))"
   ]
  },
  {
   "cell_type": "code",
   "execution_count": 19,
   "metadata": {},
   "outputs": [
    {
     "name": "stdout",
     "output_type": "stream",
     "text": [
      "259.0\n"
     ]
    }
   ],
   "source": [
    "art = [280, 260, 250, 220, 240, 260, 270, 260, 250, 300]\n",
    "print(np.mean(art))"
   ]
  },
  {
   "cell_type": "code",
   "execution_count": 20,
   "metadata": {},
   "outputs": [
    {
     "name": "stdout",
     "output_type": "stream",
     "text": [
      "--- Permutation Hypothesis Test ---\n",
      "Observed Value = 7.70\tp-value = 0.5860\n"
     ]
    },
    {
     "data": {
      "image/png": "[encoded data removed]",
      "text/plain": [
       "<Figure size 432x288 with 1 Axes>"
      ]
     },
     "metadata": {},
     "output_type": "display_data"
    }
   ],
   "source": [
    "PT_2iHT(science, art)"
   ]
  },
  {
   "cell_type": "markdown",
   "metadata": {},
   "source": [
    "We have no reasons for rejecting the null hypothesis. \n",
    "\n",
    "The spending of science and art students on books is similar on average."
   ]
  },
  {
   "cell_type": "markdown",
   "metadata": {},
   "source": [
    "## Permutation Test for two Paired Samples Hypothesis Test"
   ]
  },
  {
   "cell_type": "markdown",
   "metadata": {},
   "source": [
    "Remember:\n",
    "- Ho: mean(grade_before) == mean(grade_after)\n",
    "- Ha: mean(grade_before) != mean(grade_after)\n",
    "\n",
    "mean(grade_before) == mean(grade_after) is equivalent to diff == 0\n",
    "diff = mean(grade_before) - mean(grade_after)\n",
    "\n",
    "We can reformulate the hypothesis as:\n",
    "- Ho: diff == 0\n",
    "- Ha: diff != 0"
   ]
  },
  {
   "cell_type": "markdown",
   "metadata": {},
   "source": [
    "If we swap some students' before and after values, the result will be the same under Ho. That is the main idea of the permutation test for paired data.\n",
    "\n",
    "The idea of the permutation test for paired samples is to swap the pair values for some cases. If we have 3 - 2 = 1, and we swap the values 3 and 2, we will get 2 - 3 = -1. Swapping the values and calculating the difference is equivalent to multiplying by -1 that difference."
   ]
  },
  {
   "cell_type": "code",
   "execution_count": 21,
   "metadata": {},
   "outputs": [],
   "source": [
    "np.random.seed(12)\n",
    "grade_before = np.random.normal(85.5, 3, 80)\n",
    "grade_after  = np.random.normal(86,   4, 80)\n",
    "grade_after2 = np.random.normal(90,   3, 80)"
   ]
  },
  {
   "cell_type": "code",
   "execution_count": 22,
   "metadata": {},
   "outputs": [],
   "source": [
    "# Creating a new variable: the difference between both grades\n",
    "diff = grade_after - grade_before"
   ]
  },
  {
   "cell_type": "code",
   "execution_count": 23,
   "metadata": {},
   "outputs": [
    {
     "data": {
      "text/plain": [
       "0.2188556942747198"
      ]
     },
     "execution_count": 23,
     "metadata": {},
     "output_type": "execute_result"
    }
   ],
   "source": [
    "test_stat = np.mean(diff)\n",
    "test_stat"
   ]
  },
  {
   "cell_type": "code",
   "execution_count": 24,
   "metadata": {},
   "outputs": [],
   "source": [
    "def generateSamplesPerm_2p(sample, num_samples=10000):\n",
    "    '''\n",
    "    Generation of samples for the paired sample permutation method\n",
    "    '''\n",
    "    # Creating a DataFrame with the original sample (one column)\n",
    "    df = pd.DataFrame(sample)\n",
    "    # Replicating the column num_samples times\n",
    "    df = (pd.concat([df]*num_samples, axis=1, ignore_index=True)).rename(lambda c: 'S'+str(c), axis=1)\n",
    "    # Changing the sign to random numbers in the DataFrame \n",
    "    df = df.applymap(lambda x: x if np.random.rand() < 0.5 else -x)\n",
    "    return(df)"
   ]
  },
  {
   "cell_type": "code",
   "execution_count": 25,
   "metadata": {},
   "outputs": [
    {
     "name": "stdout",
     "output_type": "stream",
     "text": [
      "(80, 10000)\n"
     ]
    }
   ],
   "source": [
    "df_1 = generateSamplesPerm_2p(diff, num_samples=10000)\n",
    "print(df_1.shape)"
   ]
  },
  {
   "cell_type": "markdown",
   "metadata": {},
   "source": [
    "We are going to use the mean of the diferences as our statistic test."
   ]
  },
  {
   "cell_type": "code",
   "execution_count": 26,
   "metadata": {},
   "outputs": [],
   "source": [
    "sample_distribution_diff = df_1.mean()"
   ]
  },
  {
   "cell_type": "markdown",
   "metadata": {},
   "source": [
    "Let's use the function for hypothesis testing."
   ]
  },
  {
   "cell_type": "code",
   "execution_count": 27,
   "metadata": {},
   "outputs": [
    {
     "name": "stdout",
     "output_type": "stream",
     "text": [
      "--- Permutation Hypothesis Test ---\n",
      "Observed Value = 0.22\tp-value = 0.7076\n"
     ]
    },
    {
     "data": {
      "image/png": "[encoded data removed]",
      "text/plain": [
       "<Figure size 432x288 with 1 Axes>"
      ]
     },
     "metadata": {},
     "output_type": "display_data"
    }
   ],
   "source": [
    "#Graph_Resampling_Hypothesis_Test(mean_diff, test_stat)\n",
    "hyp_test(test_stat, sample_distribution_diff)"
   ]
  },
  {
   "cell_type": "markdown",
   "metadata": {},
   "source": [
    "**Example 2**: Analyzing `grade_before` - `grade_after2`"
   ]
  },
  {
   "cell_type": "code",
   "execution_count": 28,
   "metadata": {},
   "outputs": [],
   "source": [
    "diff2 = grade_after2 - grade_before"
   ]
  },
  {
   "cell_type": "markdown",
   "metadata": {},
   "source": [
    "The mean of the differences `diff2` is going to be our statistic."
   ]
  },
  {
   "cell_type": "code",
   "execution_count": 29,
   "metadata": {},
   "outputs": [
    {
     "data": {
      "text/plain": [
       "4.069149842516363"
      ]
     },
     "execution_count": 29,
     "metadata": {},
     "output_type": "execute_result"
    }
   ],
   "source": [
    "test_stat2 = np.mean(diff2)\n",
    "test_stat2"
   ]
  },
  {
   "cell_type": "code",
   "execution_count": 30,
   "metadata": {},
   "outputs": [
    {
     "data": {
      "image/png": "[encoded data removed]",
      "text/plain": [
       "<Figure size 360x360 with 1 Axes>"
      ]
     },
     "metadata": {},
     "output_type": "display_data"
    }
   ],
   "source": [
    "sns.displot(x=diff2, kde='True', color='skyblue')\n",
    "plt.axvline(x=test_stat2, color='darkred');"
   ]
  },
  {
   "cell_type": "code",
   "execution_count": 31,
   "metadata": {},
   "outputs": [
    {
     "data": {
      "image/png": "[encoded data removed]",
      "text/plain": [
       "<Figure size 432x288 with 1 Axes>"
      ]
     },
     "metadata": {},
     "output_type": "display_data"
    }
   ],
   "source": [
    "sns.boxplot(y=diff2, color='skyblue')\n",
    "plt.axhline(y=test_stat2, color='darkred');"
   ]
  },
  {
   "cell_type": "code",
   "execution_count": 32,
   "metadata": {},
   "outputs": [
    {
     "data": {
      "image/png": "[encoded data removed]",
      "text/plain": [
       "<Figure size 432x288 with 1 Axes>"
      ]
     },
     "metadata": {},
     "output_type": "display_data"
    }
   ],
   "source": [
    "sns.violinplot(y=diff2, color='skyblue')\n",
    "plt.axhline(y=test_stat2, color='darkred');"
   ]
  },
  {
   "cell_type": "markdown",
   "metadata": {},
   "source": [
    "Remember:\n",
    "- Ho: mean(grade_before) == mean(grade_after2)\n",
    "- Ha: mean(grade_before) != mean(grade_after2)\n",
    "\n",
    "mean(grade_before) == mean(grade_after2) is equivalent to mean(diff2) == 0\n",
    "where diff2 = mean(grade_before) - mean(grade_after2)\n",
    "\n",
    "We can reformulate the hypothesis as:\n",
    "- Ho: mean(diff2) == 0\n",
    "- Ha: mean(diff2) != 0"
   ]
  },
  {
   "cell_type": "code",
   "execution_count": 33,
   "metadata": {},
   "outputs": [
    {
     "name": "stdout",
     "output_type": "stream",
     "text": [
      "(80, 10000)\n"
     ]
    }
   ],
   "source": [
    "df_2 = generateSamplesPerm_2p(diff2, num_samples=10000)\n",
    "print(df_2.shape)"
   ]
  },
  {
   "cell_type": "code",
   "execution_count": 34,
   "metadata": {},
   "outputs": [],
   "source": [
    "sample_distribution_diff2 = df_2.mean()"
   ]
  },
  {
   "cell_type": "code",
   "execution_count": 35,
   "metadata": {},
   "outputs": [
    {
     "name": "stdout",
     "output_type": "stream",
     "text": [
      "--- Permutation Hypothesis Test ---\n",
      "Observed Value = 4.07\tp-value = 0.0000\n"
     ]
    },
    {
     "data": {
      "image/png": "[encoded data removed]",
      "text/plain": [
       "<Figure size 432x288 with 1 Axes>"
      ]
     },
     "metadata": {},
     "output_type": "display_data"
    }
   ],
   "source": [
    "#Graph_Resampling_Hypothesis_Test(mean_diff2, test_stat2)\n",
    "hyp_test(test_stat2, sample_distribution_diff2)"
   ]
  },
  {
   "cell_type": "code",
   "execution_count": 36,
   "metadata": {},
   "outputs": [
    {
     "name": "stdout",
     "output_type": "stream",
     "text": [
      "--- Permutation Hypothesis Test ---\n",
      "Observed Value = 4.07\tp-value = 0.0000\n"
     ]
    },
    {
     "data": {
      "image/png": "[encoded data removed]",
      "text/plain": [
       "<Figure size 432x288 with 1 Axes>"
      ]
     },
     "metadata": {},
     "output_type": "display_data"
    }
   ],
   "source": [
    "#Graph_Resampling_Hypothesis_Test(mean_diff2, test_stat2, alternative='larger')\n",
    "hyp_test(test_stat2, sample_distribution_diff2, alternative='larger')"
   ]
  },
  {
   "cell_type": "markdown",
   "metadata": {},
   "source": [
    "**Example 3**: The data represent the observed pollution indexes of air samples in two areas of a city. Test the hypothesis that the mean pollution indexes are the same for the two areas. "
   ]
  },
  {
   "cell_type": "code",
   "execution_count": 37,
   "metadata": {},
   "outputs": [],
   "source": [
    "areaA = np.array([2.92, 1.88, 5.35, 3.81, 4.69, 4.86, 5.81, 5.55])\n",
    "areaB = np.array([1.84, 0.95, 4.26, 3.18, 3.44, 3.69, 4.95, 4.47])"
   ]
  },
  {
   "cell_type": "code",
   "execution_count": 38,
   "metadata": {},
   "outputs": [],
   "source": [
    "diff3 = areaB - areaA"
   ]
  },
  {
   "cell_type": "code",
   "execution_count": 39,
   "metadata": {},
   "outputs": [
    {
     "data": {
      "text/plain": [
       "-1.0112500000000004"
      ]
     },
     "execution_count": 39,
     "metadata": {},
     "output_type": "execute_result"
    }
   ],
   "source": [
    "test_stat3 = np.mean(areaB) - np.mean(areaA)\n",
    "test_stat3"
   ]
  },
  {
   "cell_type": "code",
   "execution_count": 40,
   "metadata": {},
   "outputs": [
    {
     "data": {
      "image/png": "[encoded data removed]",
      "text/plain": [
       "<Figure size 360x360 with 1 Axes>"
      ]
     },
     "metadata": {},
     "output_type": "display_data"
    }
   ],
   "source": [
    "sns.displot(x=diff2, kde='True', color='skyblue')\n",
    "plt.axvline(x=test_stat3, color='darkred');"
   ]
  },
  {
   "cell_type": "code",
   "execution_count": 41,
   "metadata": {},
   "outputs": [
    {
     "name": "stdout",
     "output_type": "stream",
     "text": [
      "(8, 10000)\n"
     ]
    }
   ],
   "source": [
    "df_3 = generateSamplesPerm_2p(diff3, num_samples=10000)\n",
    "print(df_3.shape)"
   ]
  },
  {
   "cell_type": "code",
   "execution_count": 42,
   "metadata": {},
   "outputs": [],
   "source": [
    "sample_distribution_diff3 = df_3.mean()"
   ]
  },
  {
   "cell_type": "code",
   "execution_count": 43,
   "metadata": {},
   "outputs": [
    {
     "name": "stdout",
     "output_type": "stream",
     "text": [
      "--- Permutation Hypothesis Test ---\n",
      "Observed Value = -1.01\tp-value = 0.0000\n"
     ]
    },
    {
     "data": {
      "image/png": "[encoded data removed]",
      "text/plain": [
       "<Figure size 432x288 with 1 Axes>"
      ]
     },
     "metadata": {},
     "output_type": "display_data"
    }
   ],
   "source": [
    "#Graph_Resampling_Hypothesis_Test(mean_diff3, test_stat3)\n",
    "hyp_test(test_stat3, sample_distribution_diff3)"
   ]
  },
  {
   "cell_type": "markdown",
   "metadata": {},
   "source": [
    "Reference:\n",
    "- Good, P. (2005) Permutation, Parametric, and Bootstrap Tests of Hypothesis, Third Edition, USA: Springer Series in Statistics"
   ]
  }
 ],
 "metadata": {
  "interpreter": {
   "hash": "7f2633a0dd9fad194999ffc17b7b93627efd4bccf6144e14bc5fef7dfd0c6355"
  },
  "kernelspec": {
   "display_name": "Python 3.10.4 64-bit",
   "language": "python",
   "name": "python3"
  },
  "language_info": {
   "codemirror_mode": {
    "name": "ipython",
    "version": 3
   },
   "file_extension": ".py",
   "mimetype": "text/x-python",
   "name": "python",
   "nbconvert_exporter": "python",
   "pygments_lexer": "ipython3",
   "version": "3.10.4"
  },
  "orig_nbformat": 2
 },
 "nbformat": 4,
 "nbformat_minor": 2
}
