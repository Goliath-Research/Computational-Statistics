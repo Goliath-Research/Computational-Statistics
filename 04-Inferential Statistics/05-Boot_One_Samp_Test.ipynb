{
 "cells": [
  {
   "cell_type": "markdown",
   "metadata": {},
   "source": [
    "# A Bootstrap Method for One Sample Hypothesis Testing"
   ]
  },
  {
   "cell_type": "markdown",
   "metadata": {},
   "source": [
    "A one sample test determines whether or not a sample statistic is statistically different from a population value. We will use now a bootstrap method with the same purpose.\n",
    "\n",
    "A bootstrap hypothesis test starts with a test statistic - ***t(x)*** (not necessary an estimate of a parameter)."
   ]
  },
  {
   "cell_type": "code",
   "execution_count": 1,
   "metadata": {},
   "outputs": [],
   "source": [
    "import numpy as np\n",
    "import pandas as pd\n",
    "from scipy import stats as st\n",
    "from statsmodels.stats import weightstats as stests\n",
    "import matplotlib.pyplot as plt\n",
    "import seaborn as sns;\n",
    "sns.set_style(\"whitegrid\")  \n",
    "from statsmodels.distributions.empirical_distribution import ECDF"
   ]
  },
  {
   "cell_type": "markdown",
   "metadata": {},
   "source": [
    "## Generating data"
   ]
  },
  {
   "cell_type": "markdown",
   "metadata": {},
   "source": [
    "Let's start generating ficticious data."
   ]
  },
  {
   "cell_type": "code",
   "execution_count": 2,
   "metadata": {},
   "outputs": [],
   "source": [
    "# Generating data\n",
    "np.random.seed(1234)\n",
    "data = np.random.randint(158, 175, 50)"
   ]
  },
  {
   "cell_type": "code",
   "execution_count": 3,
   "metadata": {},
   "outputs": [
    {
     "name": "stdout",
     "output_type": "stream",
     "text": [
      "167.54\n"
     ]
    }
   ],
   "source": [
    "sample_mean = np.mean(data)\n",
    "print(sample_mean)"
   ]
  },
  {
   "cell_type": "code",
   "execution_count": 4,
   "metadata": {},
   "outputs": [
    {
     "data": {
      "image/png": "[encoded data removed]",
      "text/plain": [
       "<Figure size 432x288 with 1 Axes>"
      ]
     },
     "metadata": {},
     "output_type": "display_data"
    }
   ],
   "source": [
    "sns.histplot(x=data)\n",
    "plt.axvline(x=np.mean(sample_mean), color='black');"
   ]
  },
  {
   "cell_type": "markdown",
   "metadata": {},
   "source": [
    "As you can see, our data does not follow a normal distribution."
   ]
  },
  {
   "cell_type": "markdown",
   "metadata": {},
   "source": [
    "## Calculating the sample distribution using bootstrap"
   ]
  },
  {
   "cell_type": "markdown",
   "metadata": {},
   "source": [
    "Let's define `generateSamples` function to generate samples WITH REPLACEMENT using `data`."
   ]
  },
  {
   "cell_type": "code",
   "execution_count": 5,
   "metadata": {},
   "outputs": [],
   "source": [
    "def generateSamples(sample_data, num_samples=10000, sample_size=100):\n",
    "    '''\n",
    "    It returns a DataFrame where each column is a sample.\n",
    "    '''\n",
    "    dfSamples = pd.DataFrame()\n",
    "    for k in range(num_samples):\n",
    "        sample = np.random.choice(sample_data, replace=True, size=sample_size)\n",
    "        column_name = 'Sample'+str(k)\n",
    "        dfSamples[column_name] = sample\n",
    "    return(dfSamples)    "
   ]
  },
  {
   "cell_type": "markdown",
   "metadata": {},
   "source": [
    "Let's generate 10,000 samples, and save them into a DataFrame."
   ]
  },
  {
   "cell_type": "code",
   "execution_count": 6,
   "metadata": {},
   "outputs": [
    {
     "name": "stderr",
     "output_type": "stream",
     "text": [
      "C:\\Users\\glady\\AppData\\Local\\Temp/ipykernel_10612/4126969097.py:9: PerformanceWarning: DataFrame is highly fragmented.  This is usually the result of calling `frame.insert` many times, which has poor performance.  Consider joining all columns at once using pd.concat(axis=1) instead.  To get a de-fragmented frame, use `newframe = frame.copy()`\n",
      "  dfSamples[column_name] = sample\n"
     ]
    },
    {
     "name": "stdout",
     "output_type": "stream",
     "text": [
      "(40, 10000)\n"
     ]
    },
    {
     "data": {
      "text/html": [
       "<div>\n",
       "<style scoped>\n",
       "    .dataframe tbody tr th:only-of-type {\n",
       "        vertical-align: middle;\n",
       "    }\n",
       "\n",
       "    .dataframe tbody tr th {\n",
       "        vertical-align: top;\n",
       "    }\n",
       "\n",
       "    .dataframe thead th {\n",
       "        text-align: right;\n",
       "    }\n",
       "</style>\n",
       "<table border=\"1\" class=\"dataframe\">\n",
       "  <thead>\n",
       "    <tr style=\"text-align: right;\">\n",
       "      <th></th>\n",
       "      <th>Sample0</th>\n",
       "      <th>Sample1</th>\n",
       "      <th>Sample2</th>\n",
       "      <th>Sample3</th>\n",
       "      <th>Sample4</th>\n",
       "      <th>Sample5</th>\n",
       "      <th>Sample6</th>\n",
       "      <th>Sample7</th>\n",
       "      <th>Sample8</th>\n",
       "      <th>Sample9</th>\n",
       "      <th>...</th>\n",
       "      <th>Sample9990</th>\n",
       "      <th>Sample9991</th>\n",
       "      <th>Sample9992</th>\n",
       "      <th>Sample9993</th>\n",
       "      <th>Sample9994</th>\n",
       "      <th>Sample9995</th>\n",
       "      <th>Sample9996</th>\n",
       "      <th>Sample9997</th>\n",
       "      <th>Sample9998</th>\n",
       "      <th>Sample9999</th>\n",
       "    </tr>\n",
       "  </thead>\n",
       "  <tbody>\n",
       "    <tr>\n",
       "      <th>0</th>\n",
       "      <td>170</td>\n",
       "      <td>172</td>\n",
       "      <td>161</td>\n",
       "      <td>164</td>\n",
       "      <td>168</td>\n",
       "      <td>169</td>\n",
       "      <td>170</td>\n",
       "      <td>173</td>\n",
       "      <td>170</td>\n",
       "      <td>163</td>\n",
       "      <td>...</td>\n",
       "      <td>163</td>\n",
       "      <td>165</td>\n",
       "      <td>171</td>\n",
       "      <td>163</td>\n",
       "      <td>170</td>\n",
       "      <td>172</td>\n",
       "      <td>167</td>\n",
       "      <td>173</td>\n",
       "      <td>165</td>\n",
       "      <td>170</td>\n",
       "    </tr>\n",
       "    <tr>\n",
       "      <th>1</th>\n",
       "      <td>164</td>\n",
       "      <td>174</td>\n",
       "      <td>164</td>\n",
       "      <td>169</td>\n",
       "      <td>170</td>\n",
       "      <td>163</td>\n",
       "      <td>171</td>\n",
       "      <td>170</td>\n",
       "      <td>172</td>\n",
       "      <td>163</td>\n",
       "      <td>...</td>\n",
       "      <td>167</td>\n",
       "      <td>170</td>\n",
       "      <td>173</td>\n",
       "      <td>170</td>\n",
       "      <td>171</td>\n",
       "      <td>174</td>\n",
       "      <td>170</td>\n",
       "      <td>169</td>\n",
       "      <td>161</td>\n",
       "      <td>170</td>\n",
       "    </tr>\n",
       "    <tr>\n",
       "      <th>2</th>\n",
       "      <td>163</td>\n",
       "      <td>174</td>\n",
       "      <td>163</td>\n",
       "      <td>174</td>\n",
       "      <td>172</td>\n",
       "      <td>164</td>\n",
       "      <td>164</td>\n",
       "      <td>167</td>\n",
       "      <td>170</td>\n",
       "      <td>158</td>\n",
       "      <td>...</td>\n",
       "      <td>171</td>\n",
       "      <td>170</td>\n",
       "      <td>170</td>\n",
       "      <td>165</td>\n",
       "      <td>163</td>\n",
       "      <td>163</td>\n",
       "      <td>160</td>\n",
       "      <td>169</td>\n",
       "      <td>159</td>\n",
       "      <td>169</td>\n",
       "    </tr>\n",
       "    <tr>\n",
       "      <th>3</th>\n",
       "      <td>174</td>\n",
       "      <td>164</td>\n",
       "      <td>164</td>\n",
       "      <td>173</td>\n",
       "      <td>174</td>\n",
       "      <td>164</td>\n",
       "      <td>170</td>\n",
       "      <td>170</td>\n",
       "      <td>174</td>\n",
       "      <td>161</td>\n",
       "      <td>...</td>\n",
       "      <td>173</td>\n",
       "      <td>164</td>\n",
       "      <td>167</td>\n",
       "      <td>160</td>\n",
       "      <td>167</td>\n",
       "      <td>163</td>\n",
       "      <td>174</td>\n",
       "      <td>167</td>\n",
       "      <td>164</td>\n",
       "      <td>172</td>\n",
       "    </tr>\n",
       "    <tr>\n",
       "      <th>4</th>\n",
       "      <td>158</td>\n",
       "      <td>169</td>\n",
       "      <td>173</td>\n",
       "      <td>158</td>\n",
       "      <td>172</td>\n",
       "      <td>173</td>\n",
       "      <td>158</td>\n",
       "      <td>166</td>\n",
       "      <td>170</td>\n",
       "      <td>164</td>\n",
       "      <td>...</td>\n",
       "      <td>171</td>\n",
       "      <td>174</td>\n",
       "      <td>170</td>\n",
       "      <td>170</td>\n",
       "      <td>160</td>\n",
       "      <td>169</td>\n",
       "      <td>172</td>\n",
       "      <td>169</td>\n",
       "      <td>169</td>\n",
       "      <td>163</td>\n",
       "    </tr>\n",
       "  </tbody>\n",
       "</table>\n",
       "<p>5 rows × 10000 columns</p>\n",
       "</div>"
      ],
      "text/plain": [
       "   Sample0  Sample1  Sample2  Sample3  Sample4  Sample5  Sample6  Sample7  \\\n",
       "0      170      172      161      164      168      169      170      173   \n",
       "1      164      174      164      169      170      163      171      170   \n",
       "2      163      174      163      174      172      164      164      167   \n",
       "3      174      164      164      173      174      164      170      170   \n",
       "4      158      169      173      158      172      173      158      166   \n",
       "\n",
       "   Sample8  Sample9  ...  Sample9990  Sample9991  Sample9992  Sample9993  \\\n",
       "0      170      163  ...         163         165         171         163   \n",
       "1      172      163  ...         167         170         173         170   \n",
       "2      170      158  ...         171         170         170         165   \n",
       "3      174      161  ...         173         164         167         160   \n",
       "4      170      164  ...         171         174         170         170   \n",
       "\n",
       "   Sample9994  Sample9995  Sample9996  Sample9997  Sample9998  Sample9999  \n",
       "0         170         172         167         173         165         170  \n",
       "1         171         174         170         169         161         170  \n",
       "2         163         163         160         169         159         169  \n",
       "3         167         163         174         167         164         172  \n",
       "4         160         169         172         169         169         163  \n",
       "\n",
       "[5 rows x 10000 columns]"
      ]
     },
     "execution_count": 6,
     "metadata": {},
     "output_type": "execute_result"
    }
   ],
   "source": [
    "dfSamples = generateSamples(data, num_samples=10000, sample_size=40)\n",
    "print(dfSamples.shape)\n",
    "dfSamples.head()"
   ]
  },
  {
   "cell_type": "markdown",
   "metadata": {},
   "source": [
    "We are going to use the mean as our statistic test."
   ]
  },
  {
   "cell_type": "markdown",
   "metadata": {},
   "source": [
    "`sample_distribution_mean` is a list with the mean of all samples."
   ]
  },
  {
   "cell_type": "code",
   "execution_count": 7,
   "metadata": {},
   "outputs": [],
   "source": [
    "sample_distribution_mean = dfSamples.mean() "
   ]
  },
  {
   "cell_type": "markdown",
   "metadata": {},
   "source": [
    "This is the histogram of `sample_distribution_mean`:"
   ]
  },
  {
   "cell_type": "code",
   "execution_count": 8,
   "metadata": {},
   "outputs": [
    {
     "data": {
      "image/png": "[encoded data removed]",
      "text/plain": [
       "<Figure size 432x288 with 1 Axes>"
      ]
     },
     "metadata": {},
     "output_type": "display_data"
    }
   ],
   "source": [
    "sns.histplot(x=sample_distribution_mean, color='mediumseagreen')\n",
    "plt.axvline(x=np.mean(sample_distribution_mean), color='black')\n",
    "plt.title('Sample Distribution Mean = %.2f' %(np.mean(sample_distribution_mean)));"
   ]
  },
  {
   "cell_type": "markdown",
   "metadata": {},
   "source": [
    "This is a kde plot of `sample_distribution_mean`:"
   ]
  },
  {
   "cell_type": "code",
   "execution_count": 9,
   "metadata": {},
   "outputs": [
    {
     "data": {
      "image/png": "[encoded data removed]",
      "text/plain": [
       "<Figure size 432x288 with 1 Axes>"
      ]
     },
     "metadata": {},
     "output_type": "display_data"
    }
   ],
   "source": [
    "sns.kdeplot(x=sample_distribution_mean, color='mediumseagreen', shade=True)\n",
    "plt.axvline(x=np.mean(sample_distribution_mean), color='black')\n",
    "plt.title('Sample Distribution Mean = %.2f' %(np.mean(sample_distribution_mean)));"
   ]
  },
  {
   "cell_type": "markdown",
   "metadata": {},
   "source": [
    "## The hypothesis"
   ]
  },
  {
   "cell_type": "markdown",
   "metadata": {},
   "source": [
    "Suppose we want to test the hypothesis:\n",
    "- `Ho: mean   = 170`\n",
    "- `Ha: mean != 170`\n",
    "\n",
    "The first step is to construct the sample distribution under Ho; we need to build a sample distribution with a mean of `170`."
   ]
  },
  {
   "cell_type": "code",
   "execution_count": 10,
   "metadata": {},
   "outputs": [],
   "source": [
    "sample_distribution_Ho = sample_distribution_mean - np.mean(sample_distribution_mean) + 170"
   ]
  },
  {
   "cell_type": "code",
   "execution_count": 11,
   "metadata": {},
   "outputs": [
    {
     "data": {
      "image/png": "[encoded data removed]",
      "text/plain": [
       "<Figure size 432x288 with 1 Axes>"
      ]
     },
     "metadata": {},
     "output_type": "display_data"
    }
   ],
   "source": [
    "sns.kdeplot(x=sample_distribution_Ho, color='dodgerblue', shade=True)\n",
    "plt.axvline(x=np.mean(sample_distribution_Ho), color='black')\n",
    "plt.title('Sample Distribution Mean = %.2f' %(np.mean(sample_distribution_Ho)));"
   ]
  },
  {
   "cell_type": "markdown",
   "metadata": {},
   "source": [
    "## Critical Regions"
   ]
  },
  {
   "cell_type": "markdown",
   "metadata": {},
   "source": [
    "We have three critical regions, according to the hypothesis we want to prove:\n",
    "- left\n",
    "- right\n",
    "- two-sided\n",
    "\n",
    "To calculate the p-values, we will use two variables:\n",
    "- `sample_distribution_Ho`: sample distribution under Ho\n",
    "- `test_value`: hypothesized value\n",
    "\n",
    "Let's define alpha = 0.05"
   ]
  },
  {
   "cell_type": "code",
   "execution_count": 12,
   "metadata": {},
   "outputs": [],
   "source": [
    "alpha = 0.05"
   ]
  },
  {
   "cell_type": "code",
   "execution_count": 13,
   "metadata": {},
   "outputs": [
    {
     "data": {
      "image/png": "[encoded data removed]",
      "text/plain": [
       "<Figure size 1008x216 with 3 Axes>"
      ]
     },
     "metadata": {},
     "output_type": "display_data"
    }
   ],
   "source": [
    "plt.figure(figsize=(14,3))\n",
    "\n",
    "plt.subplot(131)\n",
    "ax = sns.kdeplot(x=sample_distribution_Ho, color='lightskyblue', shade=True, alpha=0.4)\n",
    "cv1 = np.percentile(sample_distribution_Ho, alpha*100)              # left critical value   \n",
    "plt.axvline(x = cv1, ymin=0, ymax=0.5, color='orangered', linewidth=2)\n",
    "plt.text(cv1-2, 0.05, 'alpha=0.05', color='red', size='13')\n",
    "plt.title('Critical Region: left')\n",
    "\n",
    "plt.subplot(132)\n",
    "ax = sns.kdeplot(x=sample_distribution_Ho, color='lightskyblue', shade=True, alpha=0.4)\n",
    "cv2 = np.percentile(sample_distribution_Ho, 100-alpha*100)          # right critical value \n",
    "plt.axvline(x = cv2, ymin=0, ymax=0.5, color='orangered', linewidth=2)\n",
    "plt.text(cv2+0.1, 0.05, 'alpha=0.05', color='red', size='13')\n",
    "plt.title('Critical Region: right')\n",
    "\n",
    "plt.subplot(133)\n",
    "ax = sns.kdeplot(x=sample_distribution_Ho, color='lightskyblue', shade=True, alpha=0.4)\n",
    "cv1 = np.percentile(sample_distribution_Ho, (alpha/2)*100)          # left critical value \n",
    "cv2 = np.percentile(sample_distribution_Ho, 100-alpha*100)          # right critical value      \n",
    "plt.axvline(x = cv1, ymin=0, ymax=0.5, color='orangered', linewidth=2)\n",
    "plt.axvline(x = cv2, ymin=0, ymax=0.5, color='orangered', linewidth=2)\n",
    "plt.text(cv1-2.2, 0.05, 'alpha=0.025', color='red', size='13')\n",
    "plt.text(cv2 + 0.1, 0.05, 'alpha=0.025', color='red', size='13')\n",
    "plt.title('Critical Region: two-sided')\n",
    "\n",
    "plt.show();\n"
   ]
  },
  {
   "cell_type": "markdown",
   "metadata": {},
   "source": [
    "## Calculating the p-value"
   ]
  },
  {
   "cell_type": "markdown",
   "metadata": {},
   "source": [
    "The p-value is the probability of getting a test statistic more extreme than the one we have calculated from our sample, given Ho is true.\n",
    "\n",
    "We reject Ho if our p-value is small enough.\n",
    "\n",
    "For calculating the p-value we will:\n",
    "- Calculate the number of simulated test stats that are more extreme than our hipothesized `test_value`\n",
    "- Calculate it using the empirical distribution function (ECDF)\n",
    "\n",
    "Both options are equivalent. They get the same result.\n",
    "\n",
    "Let's start defining the `test_value`:"
   ]
  },
  {
   "cell_type": "code",
   "execution_count": 14,
   "metadata": {},
   "outputs": [],
   "source": [
    "test_value = 170"
   ]
  },
  {
   "cell_type": "markdown",
   "metadata": {},
   "source": [
    "### p-value for alternative hypothesis: `smaller` (critical region: left)\n",
    "\n"
   ]
  },
  {
   "cell_type": "markdown",
   "metadata": {},
   "source": [
    "- `Ho: measure = test_value`\n",
    "- `Ha: measure <  test_value`\n",
    "\n",
    "In our case, we will be testing: \n",
    "\n",
    "- `Ho: mean = 170`\n",
    "- `Ha: mean < 170`"
   ]
  },
  {
   "cell_type": "code",
   "execution_count": 15,
   "metadata": {},
   "outputs": [
    {
     "data": {
      "image/png": "[encoded data removed]",
      "text/plain": [
       "<Figure size 360x216 with 1 Axes>"
      ]
     },
     "metadata": {},
     "output_type": "display_data"
    }
   ],
   "source": [
    "plt.figure(figsize=(5,3))\n",
    "ax = sns.kdeplot(x=sample_distribution_Ho, color='lightskyblue', shade=True, alpha=0.4)\n",
    "plt.plot(sample_mean, 0.01, 'o', color='black')\n",
    "cv1 = np.percentile(sample_distribution_Ho, alpha*100)              # left critical value \n",
    "plt.axvline(x = cv1, ymin=0, ymax=0.5, color='orangered', linewidth=2)\n",
    "plt.text(cv1-2, 0.05, 'alpha=0.05', color='red', size='13')\n",
    "plt.title('Critical Region: left');"
   ]
  },
  {
   "cell_type": "markdown",
   "metadata": {},
   "source": [
    "Let's calculate the number of simulated test stats that are less than or equal to our `sample_mean`\n",
    "\n",
    "p-value here is the area under the curve from -infinity to the `sample_mean`"
   ]
  },
  {
   "cell_type": "code",
   "execution_count": 16,
   "metadata": {},
   "outputs": [
    {
     "name": "stdout",
     "output_type": "stream",
     "text": [
      "Smaller alternative hypothesis: p-value = 0.0012\n"
     ]
    }
   ],
   "source": [
    "lowtail = np.sum(np.array(sample_distribution_Ho)<=sample_mean)\n",
    "pval_s = lowtail/(len(sample_distribution_Ho))\n",
    "print('Smaller alternative hypothesis: p-value = %.4f' %pval_s)"
   ]
  },
  {
   "cell_type": "markdown",
   "metadata": {},
   "source": [
    "Let's calculate the p-value using the empirical distribution."
   ]
  },
  {
   "cell_type": "code",
   "execution_count": 17,
   "metadata": {},
   "outputs": [],
   "source": [
    "# Creating the empirical distribution\n",
    "ecdf = ECDF(sample_distribution_Ho)"
   ]
  },
  {
   "cell_type": "code",
   "execution_count": 18,
   "metadata": {},
   "outputs": [
    {
     "name": "stdout",
     "output_type": "stream",
     "text": [
      "Smaller alternative hypothesis: p-value = 0.0012\n"
     ]
    }
   ],
   "source": [
    "pval_s = ecdf(sample_mean)\n",
    "print('Smaller alternative hypothesis: p-value = %.4f' %pval_s)"
   ]
  },
  {
   "cell_type": "markdown",
   "metadata": {},
   "source": [
    "As you can see, both values are the same."
   ]
  },
  {
   "cell_type": "markdown",
   "metadata": {},
   "source": [
    "### p-value for alternative hypothesis: `larger` (critical region: right)"
   ]
  },
  {
   "cell_type": "markdown",
   "metadata": {},
   "source": [
    "- `Ho: measure = test_value`\n",
    "- `Ha: measure > test_value`\n",
    "\n",
    "In our case, we will be testing: \n",
    "\n",
    "- `Ho: mean = 170`\n",
    "- `Ha: mean > 170`"
   ]
  },
  {
   "cell_type": "code",
   "execution_count": 19,
   "metadata": {},
   "outputs": [
    {
     "data": {
      "image/png": "[encoded data removed]",
      "text/plain": [
       "<Figure size 360x216 with 1 Axes>"
      ]
     },
     "metadata": {},
     "output_type": "display_data"
    }
   ],
   "source": [
    "plt.figure(figsize=(5,3))\n",
    "ax = sns.kdeplot(x=sample_distribution_Ho, color='lightskyblue', shade=True, alpha=0.4)\n",
    "plt.plot(sample_mean, 0.01, 'o', color='black')\n",
    "cv2 = np.percentile(sample_distribution_Ho, 100-alpha*100)      # right critical value\n",
    "plt.axvline(x = cv2, ymin=0, ymax=0.5, color='orangered', linewidth=2)\n",
    "plt.text(cv2+0.1, 0.05, 'alpha=0.05', color='red', size='13')\n",
    "plt.title('Critical Region: right');"
   ]
  },
  {
   "cell_type": "markdown",
   "metadata": {},
   "source": [
    "p-value here is 1 - the area under the curve (pfd) from the `sample_mean` to infinity because it is a right critical region.\n",
    "\n",
    "Let's calculate the number of simulated test stats that are greater than to our original `sample_mean`."
   ]
  },
  {
   "cell_type": "code",
   "execution_count": 20,
   "metadata": {},
   "outputs": [
    {
     "name": "stdout",
     "output_type": "stream",
     "text": [
      "Larger alternative hypothesis: p-value = 0.9988\n"
     ]
    }
   ],
   "source": [
    "upptail = np.sum(np.array(sample_distribution_Ho)>sample_mean)\n",
    "pval_l = upptail/(len(sample_distribution_Ho))\n",
    "print('Larger alternative hypothesis: p-value = %.4f' %pval_l)"
   ]
  },
  {
   "cell_type": "markdown",
   "metadata": {},
   "source": [
    "Let's calculate the p-value using the empirical distribution."
   ]
  },
  {
   "cell_type": "code",
   "execution_count": 21,
   "metadata": {},
   "outputs": [
    {
     "name": "stdout",
     "output_type": "stream",
     "text": [
      "Larger alternative hypothesis: p-value = 0.9988\n"
     ]
    }
   ],
   "source": [
    "pval_l = 1 - ecdf(sample_mean)\n",
    "print('Larger alternative hypothesis: p-value = %.4f' %pval_l)"
   ]
  },
  {
   "cell_type": "markdown",
   "metadata": {},
   "source": [
    "Both ways produce the same p-value."
   ]
  },
  {
   "cell_type": "markdown",
   "metadata": {},
   "source": [
    "Notice that you can add both p-values (smaller and larger) and get 1. That is because they are complementaries."
   ]
  },
  {
   "cell_type": "code",
   "execution_count": 22,
   "metadata": {},
   "outputs": [
    {
     "name": "stdout",
     "output_type": "stream",
     "text": [
      "Smaller alternative hypothesis: p-value = 0.0012\n",
      "Larger alternative hypothesis: p-value  = 0.9988\n",
      "Adding both values: 1.0\n"
     ]
    }
   ],
   "source": [
    "print('Smaller alternative hypothesis: p-value = %.4f' %pval_s)\n",
    "print('Larger alternative hypothesis: p-value  = %.4f' %pval_l)\n",
    "print('Adding both values: %.1f' %(pval_s + pval_l))"
   ]
  },
  {
   "cell_type": "markdown",
   "metadata": {},
   "source": [
    "### p-value for alternative hypothesis: `two-sided` (critical region: two-sided)"
   ]
  },
  {
   "cell_type": "markdown",
   "metadata": {},
   "source": [
    "- `Ho: measure  = test_value`\n",
    "- `Ha: measure != test_value`\n",
    "\n",
    "In our case, we will be testing: \n",
    "\n",
    "- `Ho: mean  = 170`\n",
    "- `Ha: mean != 170`"
   ]
  },
  {
   "cell_type": "code",
   "execution_count": 23,
   "metadata": {},
   "outputs": [
    {
     "data": {
      "image/png": "[encoded data removed]",
      "text/plain": [
       "<Figure size 360x216 with 1 Axes>"
      ]
     },
     "metadata": {},
     "output_type": "display_data"
    }
   ],
   "source": [
    "plt.figure(figsize=(5,3))\n",
    "ax = sns.kdeplot(x=sample_distribution_Ho, color='lightskyblue', shade=True, alpha=0.4)\n",
    "plt.plot(sample_mean, 0.01, 'o', color='black')\n",
    "cv1 = np.percentile(sample_distribution_Ho, (alpha/2)*100)     # left critical value \n",
    "cv2 = np.percentile(sample_distribution_Ho, 100-alpha*100)     # right critical value\n",
    "plt.axvline(x=cv1, ymin=0, ymax=0.5, color='orangered', linewidth=2)\n",
    "plt.axvline(x=cv2, ymin=0, ymax=0.5, color='orangered', linewidth=2);\n",
    "plt.text(cv1-2.2, 0.05, 'alpha=0.025', color='red', size='13')\n",
    "plt.text(cv2+0.1, 0.05, 'alpha=0.025', color='red', size='13')\n",
    "plt.title('Alternative Hypothesis: two-sided');"
   ]
  },
  {
   "cell_type": "markdown",
   "metadata": {},
   "source": [
    "To calculate the p-value when the alternative hypothesis is two-sided, we need to determine whether the test_value is to the right or left in our graph, calculate the p-value in the usual way, and then duplicate it.\n",
    "\n",
    "Let's calculate the minimum of number of simulated test stats that are:\n",
    "- less than or equal to test_vales, \n",
    "- greater than test_value"
   ]
  },
  {
   "cell_type": "code",
   "execution_count": 24,
   "metadata": {},
   "outputs": [
    {
     "name": "stdout",
     "output_type": "stream",
     "text": [
      "Two-tailed test p-value = 0.0024\n"
     ]
    }
   ],
   "source": [
    "lowtail = np.sum(np.array(sample_distribution_Ho)<=sample_mean)\n",
    "upptail = np.sum(np.array(sample_distribution_Ho) >sample_mean)\n",
    "pval_t = 2*np.min([lowtail, upptail])/len(sample_distribution_Ho)\n",
    "print('Two-tailed test p-value = %.4f' %pval_t)"
   ]
  },
  {
   "cell_type": "markdown",
   "metadata": {},
   "source": [
    "Using ecdf:"
   ]
  },
  {
   "cell_type": "code",
   "execution_count": 25,
   "metadata": {},
   "outputs": [
    {
     "name": "stdout",
     "output_type": "stream",
     "text": [
      "Two-tailed test p-value = 0.0024\n"
     ]
    }
   ],
   "source": [
    "if sample_mean < np.mean(sample_distribution_Ho): \n",
    "    pval_t = 2*ecdf(sample_mean)\n",
    "else: pval_t = 2*(1 - ecdf(sample_mean))\n",
    "print('Two-tailed test p-value = %.4f' %pval_t)"
   ]
  },
  {
   "cell_type": "markdown",
   "metadata": {},
   "source": [
    "You do not need to use both methods to get the p-value. You can use any of them."
   ]
  },
  {
   "cell_type": "markdown",
   "metadata": {},
   "source": [
    "Let's summarize the p-value calculation in one function:"
   ]
  },
  {
   "cell_type": "code",
   "execution_count": 26,
   "metadata": {},
   "outputs": [],
   "source": [
    "def getpValue(sample_distribution, obs_value, alternative='two-sided'):    \n",
    "    '''\n",
    "    It returns the p-value\n",
    "    sample_distribution: the sample distribution\n",
    "    obs_value: observed value \n",
    "    alpha: significance level\n",
    "    alternative: one of the three values: 'two-sided', 'smaller', or 'larger'    \n",
    "    '''\n",
    "    ecdf = ECDF(sample_distribution) \n",
    "    if alternative=='two-sided':\n",
    "        if obs_value < np.mean(sample_distribution): \n",
    "            p_val = 2*ecdf(obs_value)\n",
    "        else: \n",
    "            p_val = 2*(1-ecdf(obs_value)) \n",
    "    elif alternative=='smaller':\n",
    "        p_val = ecdf(obs_value)\n",
    "    else:\n",
    "        p_val = 1-ecdf(obs_value)\n",
    "    return(p_val)"
   ]
  },
  {
   "cell_type": "code",
   "execution_count": 27,
   "metadata": {},
   "outputs": [
    {
     "name": "stdout",
     "output_type": "stream",
     "text": [
      "For alternative hypothesis smaller: p_value = 0.0012\n"
     ]
    }
   ],
   "source": [
    "pval = getpValue(sample_distribution_Ho, sample_mean, alternative='smaller')\n",
    "print('For alternative hypothesis smaller: p_value = %.4f' % pval)"
   ]
  },
  {
   "cell_type": "code",
   "execution_count": 28,
   "metadata": {},
   "outputs": [
    {
     "name": "stdout",
     "output_type": "stream",
     "text": [
      "For alternative hypothesis larger: p_value = 0.9988\n"
     ]
    }
   ],
   "source": [
    "pval = getpValue(sample_distribution_Ho, sample_mean, alternative='larger')\n",
    "print('For alternative hypothesis larger: p_value = %.4f' % pval)"
   ]
  },
  {
   "cell_type": "code",
   "execution_count": 29,
   "metadata": {},
   "outputs": [
    {
     "name": "stdout",
     "output_type": "stream",
     "text": [
      "For alternative hypothesis two-sided: p_value = 0.0024\n"
     ]
    }
   ],
   "source": [
    "pval = getpValue(sample_distribution_Ho, sample_mean)\n",
    "print('For alternative hypothesis two-sided: p_value = %.4f' % pval)"
   ]
  },
  {
   "cell_type": "markdown",
   "metadata": {},
   "source": [
    "## One Sample Hypothesis Test with Bootstrapping"
   ]
  },
  {
   "cell_type": "markdown",
   "metadata": {},
   "source": [
    "We have:\n",
    "- data: a representative sample\n",
    "- The hypothesis we want to test\n",
    "\n",
    "\n",
    "We want to define a function for hypothesis testing."
   ]
  },
  {
   "cell_type": "markdown",
   "metadata": {},
   "source": [
    "### Defining one_sample_HT"
   ]
  },
  {
   "cell_type": "markdown",
   "metadata": {},
   "source": [
    "We will create a function for the hypothesis test. We could receive `data` as a parameter and use it to determine its mean and the sample distribution. The calculation of sample distribution is time-consuming, and we could use the same sample distribution to test several hypotheses. So, we decided to receive it as a parameter instead of calculating it in each call to the function."
   ]
  },
  {
   "cell_type": "code",
   "execution_count": 30,
   "metadata": {},
   "outputs": [],
   "source": [
    "def one_sample_HT(sampl_value, sampl_distribution, pop_value, alpha=0.05, alternative='two-sided'):\n",
    "    '''\n",
    "    sampl_value: observed value calculated from the sample\n",
    "    sampl_distribution: sample distribution calculated from the sample\n",
    "    pop_value: population mean\n",
    "    alpha: significance level\n",
    "    alternative: one of the three values: 'two-sided', 'smaller', and 'larger'\n",
    "    '''\n",
    "    sigHa = {'two-sided':'!=', 'smaller':'< ', 'larger':'> '}\n",
    "    print('--- Bootstrap One-Sample Hypothesis Test ---')\n",
    "    print('    Ho: measure  =', np.round(pop_value, 2))    \n",
    "    print('    Ha: measure', sigHa[alternative], np.round(pop_value, 2))    \n",
    "    print('    Sample Mean = %.2f' %(sampl_value))  \n",
    "    sampl_distribution_Ho = sampl_distribution - np.mean(sampl_distribution) + pop_value\n",
    "    sns.kdeplot(x=sampl_distribution_Ho, color='lightskyblue', shade=True, alpha=0.4)   # plotting the sample distribution\n",
    "    plt.axvline(x=sampl_value, ymin=0, ymax= 0.03, color='black', linewidth=6)          # plotting the statistic \n",
    "    plt.title('Sampling Distribution')\n",
    "    p_val = getpValue(sampl_distribution_Ho, sampl_value, alternative)\n",
    "    if alternative=='two-sided':        # plotting the graph with two critical regions\n",
    "        cv1 = np.round(np.percentile(sampl_distribution_Ho, (alpha/2)*100),2)           # left critical value     \n",
    "        cv2 = np.round(np.percentile(sampl_distribution_Ho, 100-alpha*100),2)           # right critical value\n",
    "        plt.axvline(x = cv1, ymin=0, ymax=0.5, color='orangered', linewidth=2)  \n",
    "        plt.axvline(x = cv2, ymin=0, ymax=0.5, color='orangered', linewidth=2)\n",
    "    elif alternative=='smaller':        # plotting the graph with left critical region\n",
    "        cv1 = np.round(np.percentile(sampl_distribution_Ho, alpha*100),2)               # left critical value \n",
    "        plt.axvline(x = cv1, ymin=0, ymax=0.5, color='orangered', linewidth=2)\n",
    "    else:                               # plotting the graph with right critical region\n",
    "        cv2 = np.round(np.percentile(sampl_distribution_Ho, 100-alpha*100),2)           # right critical value\n",
    "        plt.axvline(x = cv2, ymin=0, ymax=0.5, color='orangered', linewidth=2)\n",
    "    print('    p-value = '+str(np.round(p_val,4)))\n",
    "\n"
   ]
  },
  {
   "cell_type": "markdown",
   "metadata": {},
   "source": [
    "Let's use the function `one_sample_HT` with `data` for the hypothesis:\n",
    "- `Ho: mean = 170`\n",
    "- `Ha: mean != 170`"
   ]
  },
  {
   "cell_type": "code",
   "execution_count": 31,
   "metadata": {},
   "outputs": [
    {
     "name": "stdout",
     "output_type": "stream",
     "text": [
      "--- Bootstrap One-Sample Hypothesis Test ---\n",
      "    Ho: measure  = 170\n",
      "    Ha: measure != 170\n",
      "    Sample Mean = 167.54\n",
      "    p-value = 0.0024\n"
     ]
    },
    {
     "data": {
      "image/png": "[encoded data removed]",
      "text/plain": [
       "<Figure size 432x288 with 1 Axes>"
      ]
     },
     "metadata": {},
     "output_type": "display_data"
    }
   ],
   "source": [
    "one_sample_HT(sample_mean, sample_distribution_mean, 170)"
   ]
  },
  {
   "cell_type": "markdown",
   "metadata": {},
   "source": [
    "p-value < 0.05, we reject Ho. We conclude the mean is different from 170.\n",
    "\n",
    "Let's analyse:\n",
    "- `Ho: mean = 168`\n",
    "- `Ha: mean != 168`"
   ]
  },
  {
   "cell_type": "code",
   "execution_count": 32,
   "metadata": {},
   "outputs": [
    {
     "name": "stdout",
     "output_type": "stream",
     "text": [
      "--- Bootstrap One-Sample Hypothesis Test ---\n",
      "    Ho: measure  = 168\n",
      "    Ha: measure != 168\n",
      "    Sample Mean = 167.54\n",
      "    p-value = 0.5336\n"
     ]
    },
    {
     "data": {
      "image/png": "[encoded data removed]",
      "text/plain": [
       "<Figure size 432x288 with 1 Axes>"
      ]
     },
     "metadata": {},
     "output_type": "display_data"
    }
   ],
   "source": [
    "one_sample_HT(sample_mean, sample_distribution_mean, 168)"
   ]
  },
  {
   "cell_type": "markdown",
   "metadata": {},
   "source": [
    "There are no reasons for rejecting Ho, and we cannot affirm the mean is different from 168.\n",
    "\n",
    "Let's analyse:\n",
    "- `Ho: mean = 166`\n",
    "- `Ha: mean > 166`"
   ]
  },
  {
   "cell_type": "code",
   "execution_count": 33,
   "metadata": {},
   "outputs": [
    {
     "name": "stdout",
     "output_type": "stream",
     "text": [
      "--- Bootstrap One-Sample Hypothesis Test ---\n",
      "    Ho: measure  = 166\n",
      "    Ha: measure >  166\n",
      "    Sample Mean = 167.54\n",
      "    p-value = 0.0177\n"
     ]
    },
    {
     "data": {
      "image/png": "[encoded data removed]",
      "text/plain": [
       "<Figure size 432x288 with 1 Axes>"
      ]
     },
     "metadata": {},
     "output_type": "display_data"
    }
   ],
   "source": [
    "one_sample_HT(sample_mean, sample_distribution_mean, 166, alternative='larger')"
   ]
  },
  {
   "cell_type": "markdown",
   "metadata": {},
   "source": [
    "p-value < 0.05, therefore we reject Ho and conclude the mean is greater than 166.\n",
    "\n",
    "Let's compare this result with the traditional t-test."
   ]
  },
  {
   "cell_type": "markdown",
   "metadata": {},
   "source": [
    "### The traditional one-sample t-test"
   ]
  },
  {
   "cell_type": "code",
   "execution_count": 34,
   "metadata": {},
   "outputs": [],
   "source": [
    "def graph_one_sample_ttest(sample, pop_value, alpha=0.05, alternative='two-sided'):\n",
    "    '''\n",
    "    sample: list of values\n",
    "    pop_value: poblational mean\n",
    "    alpha: significance level\n",
    "    alternative: one of the three values: 'two-sided', 'smaller', and 'larger'\n",
    "    '''\n",
    "    sigHa = {'two-sided':'!=', 'smaller':'< ', 'larger':'> '}\n",
    "    print('--- One sample t-test ---')\n",
    "    print('    Ha: mean = ', np.round(pop_value,2))\n",
    "    print('    Ha: mean', sigHa[alternative], np.round(pop_value,2))    \n",
    "    print('Sample Mean = %.2f' %(np.mean(sample)))\n",
    "    alt={'two-sided':'two-sided','smaller':'less','larger':'greater'}\n",
    "    t_stat, pval = st.ttest_1samp(sample, pop_value, alternative=alt[alternative])\n",
    "    print('t-value = %.3f    p-value = %.4f' %(t_stat, pval))\n",
    "    if pval < alpha:    \n",
    "        print(\"%.4f <= %.2f We are rejecting the null hypothesis\" %(pval, alpha))\n",
    "    else:\n",
    "        print(\"%.4f > %.2f We have no reasons to reject the null hypothesis\" %(pval, alpha))\n",
    "    df = len(sample) - 1    \n",
    "    if alternative=='two-sided':            # plotting the graph with two critical regions\n",
    "        cv1 = st.t.ppf(alpha/2,df)          # left critical value \n",
    "        cv2 = st.t.ppf(1-alpha/2,df)        # right critical value \n",
    "        x1 = np.arange(-4, cv1, 0.01)\n",
    "        plt.fill_between(x=x1, y1=st.t.pdf(x1,df), facecolor='red', alpha=0.6) \n",
    "        x2 = np.arange(cv1, cv2, 0.01)   \n",
    "        plt.fill_between(x=x2, y1=st.t.pdf(x2,df), facecolor='lightskyblue', alpha=0.5) \n",
    "        x3 = np.arange(cv2, 4, 0.01)   \n",
    "        plt.fill_between(x=x3, y1=st.t.pdf(x3,df), facecolor='red', alpha=0.6)  \n",
    "        plt.plot(t_stat, 0.005, 'o', color='black')     # plotting the statistic t_stat\n",
    "    elif alternative=='smaller':            # plotting the graph with left critical region\n",
    "        cv1 = st.t.ppf(alpha,df)            # left critical value \n",
    "        x1 = np.arange(-4, cv1, 0.01)\n",
    "        plt.fill_between(x=x1, y1=st.t.pdf(x1,df), facecolor='red', alpha=0.6)\n",
    "        x2 = np.arange(cv1, 4, 0.01)   \n",
    "        plt.fill_between(x=x2, y1=st.t.pdf(x2,df), facecolor='lightskyblue', alpha=0.5) \n",
    "        plt.plot(t_stat, 0.005, 'o', color='black')     # plotting the statistic t_stat\n",
    "    else:                                   # plotting the graph with right critical region\n",
    "        cv1 = st.t.ppf(1-alpha,df)          # right critical value \n",
    "        x1 = np.arange(-4, cv1, 0.01)\n",
    "        plt.fill_between(x=x1, y1=st.t.pdf(x1,df), facecolor='lightskyblue', alpha=0.5)\n",
    "        x2 = np.arange(cv1, 4, 0.01)   \n",
    "        plt.fill_between(x=x2, y1=st.t.pdf(x2,df), facecolor='red', alpha=0.6) \n",
    "        plt.plot(t_stat, 0.005, 'o', color='black')     # plotting the statistic t_stat     "
   ]
  },
  {
   "cell_type": "code",
   "execution_count": 35,
   "metadata": {},
   "outputs": [
    {
     "name": "stdout",
     "output_type": "stream",
     "text": [
      "--- One sample t-test ---\n",
      "    Ha: mean =  166\n",
      "    Ha: mean >  166\n",
      "Sample Mean = 167.54\n",
      "t-value = 2.283    p-value = 0.0134\n",
      "0.0134 <= 0.05 We are rejecting the null hypothesis\n"
     ]
    },
    {
     "data": {
      "image/png": "[encoded data removed]",
      "text/plain": [
       "<Figure size 432x288 with 1 Axes>"
      ]
     },
     "metadata": {},
     "output_type": "display_data"
    }
   ],
   "source": [
    "graph_one_sample_ttest(data, 166, alternative='larger')"
   ]
  },
  {
   "cell_type": "markdown",
   "metadata": {},
   "source": [
    "### Testing the variance"
   ]
  },
  {
   "cell_type": "markdown",
   "metadata": {},
   "source": [
    "Let's run the bootstrap hypothesis test for the variance.\n",
    "\n",
    "The first step is calculate the sample distribution for the variance and the variance of our sample."
   ]
  },
  {
   "cell_type": "code",
   "execution_count": 36,
   "metadata": {},
   "outputs": [],
   "source": [
    "sample_distribution_var = dfSamples.var()"
   ]
  },
  {
   "cell_type": "code",
   "execution_count": 37,
   "metadata": {},
   "outputs": [],
   "source": [
    "sample_var = np.var(data)"
   ]
  },
  {
   "cell_type": "code",
   "execution_count": 38,
   "metadata": {},
   "outputs": [
    {
     "name": "stdout",
     "output_type": "stream",
     "text": [
      "--- Bootstrap One-Sample Hypothesis Test ---\n",
      "    Ho: measure  = 20\n",
      "    Ha: measure != 20\n",
      "    Sample Mean = 22.29\n",
      "    p-value = 0.5452\n"
     ]
    },
    {
     "data": {
      "image/png": "[encoded data removed]",
      "text/plain": [
       "<Figure size 432x288 with 1 Axes>"
      ]
     },
     "metadata": {},
     "output_type": "display_data"
    }
   ],
   "source": [
    "one_sample_HT(sample_var, sample_distribution_var, 20)"
   ]
  },
  {
   "cell_type": "markdown",
   "metadata": {},
   "source": [
    "There are no reasons for rejecting Ho. The sample variance is not significantly different from 20.\n",
    "\n",
    "What about variance = 30? Let's formulate the hypothesis:\n",
    "- `Ho: var  = 30`\n",
    "- `Ha: var != 30`"
   ]
  },
  {
   "cell_type": "code",
   "execution_count": 39,
   "metadata": {},
   "outputs": [
    {
     "name": "stdout",
     "output_type": "stream",
     "text": [
      "--- Bootstrap One-Sample Hypothesis Test ---\n",
      "    Ho: measure  = 30\n",
      "    Ha: measure != 30\n",
      "    Sample Mean = 22.29\n",
      "    p-value = 0.0332\n"
     ]
    },
    {
     "data": {
      "image/png": "[encoded data removed]",
      "text/plain": [
       "<Figure size 432x288 with 1 Axes>"
      ]
     },
     "metadata": {},
     "output_type": "display_data"
    }
   ],
   "source": [
    "one_sample_HT(sample_var, sample_distribution_var, 30)"
   ]
  },
  {
   "cell_type": "markdown",
   "metadata": {},
   "source": [
    "We reject Ho, the sample variance is not 30.\n",
    "\n",
    "We can test:\n",
    "- `Ho: var = 30`\n",
    "- `Ha: var < 30`"
   ]
  },
  {
   "cell_type": "code",
   "execution_count": 40,
   "metadata": {},
   "outputs": [
    {
     "name": "stdout",
     "output_type": "stream",
     "text": [
      "--- Bootstrap One-Sample Hypothesis Test ---\n",
      "    Ho: measure  = 30\n",
      "    Ha: measure <  30\n",
      "    Sample Mean = 22.29\n",
      "    p-value = 0.0166\n"
     ]
    },
    {
     "data": {
      "image/png": "[encoded data removed]",
      "text/plain": [
       "<Figure size 432x288 with 1 Axes>"
      ]
     },
     "metadata": {},
     "output_type": "display_data"
    }
   ],
   "source": [
    "one_sample_HT(sample_var, sample_distribution_var, 30, alternative='smaller')"
   ]
  },
  {
   "cell_type": "markdown",
   "metadata": {},
   "source": [
    "And indeed 22.29 < 30"
   ]
  },
  {
   "cell_type": "markdown",
   "metadata": {},
   "source": [
    "### Testing the skew"
   ]
  },
  {
   "cell_type": "markdown",
   "metadata": {},
   "source": [
    "Let's use the bootstrapping method to test the hypothesis involving the skewness of data:\n",
    "\n",
    "- `Ho: skew = 0`\n",
    "- `Ha: skew < 0`\n",
    "\n",
    "We stat calculating the sample distribution for the skewness."
   ]
  },
  {
   "cell_type": "code",
   "execution_count": 41,
   "metadata": {},
   "outputs": [],
   "source": [
    "sample_distribution_skew = dfSamples.skew()"
   ]
  },
  {
   "cell_type": "code",
   "execution_count": 42,
   "metadata": {},
   "outputs": [],
   "source": [
    "from scipy.stats import skew"
   ]
  },
  {
   "cell_type": "code",
   "execution_count": 43,
   "metadata": {},
   "outputs": [],
   "source": [
    "sample_skew = skew(data)"
   ]
  },
  {
   "cell_type": "code",
   "execution_count": 44,
   "metadata": {},
   "outputs": [
    {
     "name": "stdout",
     "output_type": "stream",
     "text": [
      "--- Bootstrap One-Sample Hypothesis Test ---\n",
      "    Ho: measure  = 0\n",
      "    Ha: measure <  0\n",
      "    Sample Mean = -0.43\n",
      "    p-value = 0.0451\n"
     ]
    },
    {
     "data": {
      "image/png": "[encoded data removed]",
      "text/plain": [
       "<Figure size 432x288 with 1 Axes>"
      ]
     },
     "metadata": {},
     "output_type": "display_data"
    }
   ],
   "source": [
    "one_sample_HT(sample_skew, sample_distribution_skew, 0, alternative='smaller')"
   ]
  },
  {
   "cell_type": "markdown",
   "metadata": {},
   "source": [
    "We conclude the skewness is significantly less than 0."
   ]
  }
 ],
 "metadata": {
  "interpreter": {
   "hash": "fe44fef87f92f48a3a32707d0df204585f471652bc0ce87358a3ce712bc24db0"
  },
  "kernelspec": {
   "display_name": "Python 3.9.7 64-bit",
   "name": "python3"
  },
  "language_info": {
   "codemirror_mode": {
    "name": "ipython",
    "version": 3
   },
   "file_extension": ".py",
   "mimetype": "text/x-python",
   "name": "python",
   "nbconvert_exporter": "python",
   "pygments_lexer": "ipython3",
   "version": "3.9.7"
  },
  "orig_nbformat": 2
 },
 "nbformat": 4,
 "nbformat_minor": 2
}
