{
 "cells": [
  {
   "cell_type": "markdown",
   "metadata": {},
   "source": [
    "# Point and Interval Estimation"
   ]
  },
  {
   "cell_type": "markdown",
   "metadata": {},
   "source": [
    "Statistical inference consists in making judgments about a population based on sampling properties. \n",
    "\n",
    "An important aspect of statistical inference is using estimates to approximate the value of an unknown population parameter. There are two types of estimation: point and interval.\n",
    "\n",
    "- `Point Estimation` is a type of estimation that uses a single value, a sample statistic, to infer information about the population. \n",
    "\n",
    "- `Interval Estimation` is the range of numbers in which a population parameter lies considering the margin of error."
   ]
  },
  {
   "cell_type": "code",
   "execution_count": 7,
   "metadata": {},
   "outputs": [
    {
     "data": {
      "text/plain": [
       "array([[2.12199579e-314, 0.00000000e+000],\n",
       "       [9.07104526e-321, 3.79442416e-321]])"
      ]
     },
     "execution_count": 7,
     "metadata": {},
     "output_type": "execute_result"
    }
   ],
   "source": [
    "import numpy as np\n",
    "np.random.seed(1)\n",
    "import matplotlib.pyplot as plt\n",
    "import seaborn as sns\n",
    "sns.set_style(\"whitegrid\") \n"
   ]
  },
  {
   "cell_type": "markdown",
   "metadata": {},
   "source": [
    "## Point Estimation"
   ]
  },
  {
   "cell_type": "markdown",
   "metadata": {},
   "source": [
    "A single value estimates a population parameter.\n",
    "\n",
    "For example, to know the average age of registered voters in the U.S., we could survey voters and then use the respondents' average age to estimate the population's average age.\n",
    "\n",
    "The sample mean does not represent the exact value for the population mean. It is a point estimator."
   ]
  },
  {
   "cell_type": "code",
   "execution_count": 2,
   "metadata": {},
   "outputs": [],
   "source": [
    "# Generating 1000 age values of fictitious voters using a normal distribution (`np.random.normal`)\n",
    "a = np.random.normal(45, 8, size=1000)"
   ]
  },
  {
   "cell_type": "code",
   "execution_count": 3,
   "metadata": {},
   "outputs": [
    {
     "data": {
      "image/png": "[encoded data removed]",
      "text/plain": [
       "<Figure size 360x360 with 1 Axes>"
      ]
     },
     "metadata": {},
     "output_type": "display_data"
    }
   ],
   "source": [
    "ax = sns.displot(x=a, bins=10)\n",
    "ax.set(title=\"Fictitious voters' age\");"
   ]
  },
  {
   "cell_type": "markdown",
   "metadata": {},
   "source": [
    "**Point Estimation**: Sample Mean"
   ]
  },
  {
   "cell_type": "code",
   "execution_count": 4,
   "metadata": {},
   "outputs": [
    {
     "name": "stdout",
     "output_type": "stream",
     "text": [
      "The estimated mean value of the voters age is: 45\n"
     ]
    }
   ],
   "source": [
    "print('The estimated mean value of the voters age is: %.0f' % a.mean())"
   ]
  },
  {
   "cell_type": "code",
   "execution_count": 5,
   "metadata": {},
   "outputs": [
    {
     "data": {
      "image/png": "[encoded data removed]",
      "text/plain": [
       "<Figure size 360x360 with 1 Axes>"
      ]
     },
     "metadata": {},
     "output_type": "display_data"
    }
   ],
   "source": [
    "ax = sns.displot(x=a, bins=10)\n",
    "plt.axvline(x=a.mean(), color='darkred')\n",
    "ax.set(title=\"Fictitious voters' age\");"
   ]
  },
  {
   "cell_type": "markdown",
   "metadata": {},
   "source": [
    "There is a slight difference between population variance and sample variance. The denominator of the first is n (number of observations), and n-1 is for the second. \n",
    "\n",
    "Here, you will see how to calculate each of them:"
   ]
  },
  {
   "cell_type": "code",
   "execution_count": 6,
   "metadata": {},
   "outputs": [
    {
     "name": "stdout",
     "output_type": "stream",
     "text": [
      "Population variance value: 61.592\n",
      "Sample variance value:     61.653\n"
     ]
    }
   ],
   "source": [
    "print('Population variance value: %.3f'% a.var())\n",
    "print('Sample variance value:     %.3f'% a.var(ddof=1))"
   ]
  },
  {
   "cell_type": "code",
   "execution_count": 7,
   "metadata": {},
   "outputs": [
    {
     "name": "stdout",
     "output_type": "stream",
     "text": [
      "Population standard deviation: 7.848\n",
      "Sample standard deviation:     7.852\n"
     ]
    }
   ],
   "source": [
    "print('Population standard deviation: %.3f'% a.std())\n",
    "print('Sample standard deviation:     %.3f'% a.std(ddof=1))"
   ]
  },
  {
   "cell_type": "markdown",
   "metadata": {},
   "source": [
    "Let's calculate the proportion of numbers less than 55:"
   ]
  },
  {
   "cell_type": "code",
   "execution_count": 8,
   "metadata": {},
   "outputs": [],
   "source": [
    "a50 = [1 if x<50 else 0 for x in a]"
   ]
  },
  {
   "cell_type": "code",
   "execution_count": 9,
   "metadata": {},
   "outputs": [
    {
     "name": "stdout",
     "output_type": "stream",
     "text": [
      "The estimated proportion of the voters age less than 55: 0.726\n"
     ]
    }
   ],
   "source": [
    "p50 = np.sum(a50)/len(a50)\n",
    "print('The estimated proportion of the voters age less than 55: %.3f'% p50)"
   ]
  },
  {
   "cell_type": "markdown",
   "metadata": {},
   "source": [
    "## Interval Estimation"
   ]
  },
  {
   "cell_type": "markdown",
   "metadata": {},
   "source": [
    "Confidence Intervals for the Mean in Large Populations with Normal Distributions:\n",
    "- Find a point estimate and the margin of error\n",
    "- Construct and interpret confidence intervals for the population mean"
   ]
  },
  {
   "cell_type": "markdown",
   "metadata": {},
   "source": [
    "Some useful definitions:\n",
    "- `level of confidence`: the probability that the interval estimate contains the population parameter. The typical values are: `90%`, `95%`, and `99%`. \n",
    "\n",
    "- `sampling error`: is the difference between the point estimate and the actual population parameter value.\n",
    "- For `μ`: \n",
    "    - the sampling error is the difference between the estimated mean and the poblational value `μ`\n",
    "    - `μ` is generally unknown\n",
    "    - the estimated mean varies from sample to sample\n",
    "\n",
    "- `margin of error`: is the greatest possible distance between the point estimate and the parameter's value. It is estimated for a given level of confidence, `c`.\n",
    "\n",
    "If the level of confidence is `90%`, this means that we are `90%` confident that the interval contains the population mean `μ`."
   ]
  },
  {
   "cell_type": "markdown",
   "metadata": {},
   "source": [
    "### Confidence Interval for mean using scipy"
   ]
  },
  {
   "cell_type": "code",
   "execution_count": 10,
   "metadata": {},
   "outputs": [],
   "source": [
    "import scipy.stats as st"
   ]
  },
  {
   "cell_type": "code",
   "execution_count": 11,
   "metadata": {},
   "outputs": [
    {
     "name": "stdout",
     "output_type": "stream",
     "text": [
      "Sample mean    = 45.31\n",
      "Sampling error = 0.25\n"
     ]
    }
   ],
   "source": [
    "print('Sample mean    = %.2f' %a.mean())\n",
    "print('Sampling error = %.2f' %(st.sem(a)))"
   ]
  },
  {
   "cell_type": "markdown",
   "metadata": {},
   "source": [
    "Remember, this function to calculate confidence intervals for the mean is valid only if data follows some assumption (data comes from a normal distribution)."
   ]
  },
  {
   "cell_type": "code",
   "execution_count": 12,
   "metadata": {},
   "outputs": [
    {
     "name": "stdout",
     "output_type": "stream",
     "text": [
      "90% Confidence Interval = [44.9  45.72]\n",
      "95% Confidence Interval = [44.82 45.8 ]\n",
      "99% Confidence Interval = [44.67 45.95]\n"
     ]
    }
   ],
   "source": [
    "print('90% Confidence Interval =', np.round(st.t.interval(0.90, len(a)-1, loc=np.mean(a), scale=st.sem(a)),2))\n",
    "print('95% Confidence Interval =', np.round(st.t.interval(0.95, len(a)-1, loc=np.mean(a), scale=st.sem(a)),2))\n",
    "print('99% Confidence Interval =', np.round(st.t.interval(0.99, len(a)-1, loc=np.mean(a), scale=st.sem(a)),2))"
   ]
  },
  {
   "cell_type": "markdown",
   "metadata": {},
   "source": [
    "### Confidence Interval for mean using statsmodels"
   ]
  },
  {
   "cell_type": "markdown",
   "metadata": {},
   "source": [
    "`statsmodels` is a Python library that provides classes and functions for the estimation of statistical models, as well as for conducting statistical tests, and statistical data exploration."
   ]
  },
  {
   "cell_type": "code",
   "execution_count": 13,
   "metadata": {},
   "outputs": [],
   "source": [
    "import statsmodels.stats.api as sm"
   ]
  },
  {
   "cell_type": "markdown",
   "metadata": {},
   "source": [
    "- 90% Confidence (1 - 0.9  = 0.1)\n",
    "- 95% Confidence (1 - 0.95 = 0.05)\n",
    "- 99% Confidence (1 - 0.99 = 0.01)"
   ]
  },
  {
   "cell_type": "code",
   "execution_count": 14,
   "metadata": {},
   "outputs": [
    {
     "name": "stdout",
     "output_type": "stream",
     "text": [
      "90% Confidence Interval = [44.9  45.72]\n",
      "95% Confidence Interval = [44.82 45.8 ]\n",
      "99% Confidence Interval = [44.67 45.95]\n"
     ]
    }
   ],
   "source": [
    "print('90% Confidence Interval =', np.round(sm.DescrStatsW(a).tconfint_mean(0.1),2))\n",
    "print('95% Confidence Interval =', np.round(sm.DescrStatsW(a).tconfint_mean(0.05),2))\n",
    "print('99% Confidence Interval =', np.round(sm.DescrStatsW(a).tconfint_mean(0.01),2))"
   ]
  },
  {
   "cell_type": "markdown",
   "metadata": {},
   "source": [
    "These intervals are the same as those calculated using `scipy`"
   ]
  },
  {
   "cell_type": "markdown",
   "metadata": {},
   "source": [
    "### Confidence Interval for difference in mean"
   ]
  },
  {
   "cell_type": "markdown",
   "metadata": {},
   "source": [
    "The confidence interval of the mean difference is the basis of the hypothesis test t-test. \n",
    "\n",
    "One way to compare sample means is to construct the confidence interval of the mean difference. If the two samples came from the same population, they should have the \"similar enough\" means."
   ]
  },
  {
   "cell_type": "code",
   "execution_count": 15,
   "metadata": {},
   "outputs": [],
   "source": [
    "x1 = np.array([148, 128, 69, 34, 155, 123, 101, 150, 139,  98])\n",
    "x2 = np.array([151, 146, 32, 70, 155, 142, 134, 157, 150, 130])"
   ]
  },
  {
   "cell_type": "code",
   "execution_count": 16,
   "metadata": {},
   "outputs": [
    {
     "data": {
      "image/png": "[encoded data removed]",
      "text/plain": [
       "<Figure size 432x288 with 1 Axes>"
      ]
     },
     "metadata": {},
     "output_type": "display_data"
    }
   ],
   "source": [
    "sns.kdeplot(x=x1, color='lightskyblue', label='x1')\n",
    "sns.kdeplot(x=x2, color='yellowgreen', label='x2')\n",
    "plt.legend();"
   ]
  },
  {
   "cell_type": "code",
   "execution_count": 17,
   "metadata": {},
   "outputs": [],
   "source": [
    "d = x2 - x1"
   ]
  },
  {
   "cell_type": "code",
   "execution_count": 18,
   "metadata": {},
   "outputs": [
    {
     "data": {
      "image/png": "[encoded data removed]",
      "text/plain": [
       "<Figure size 432x288 with 1 Axes>"
      ]
     },
     "metadata": {},
     "output_type": "display_data"
    }
   ],
   "source": [
    "# Plotting the difference d\n",
    "sns.kdeplot(x=d);"
   ]
  },
  {
   "cell_type": "code",
   "execution_count": 19,
   "metadata": {},
   "outputs": [],
   "source": [
    "d_bar = np.mean(d)            # average of sample differences\n",
    "s_d = np.std(d, ddof=1)       # sample standard deviation of sample differences"
   ]
  },
  {
   "cell_type": "code",
   "execution_count": 20,
   "metadata": {},
   "outputs": [],
   "source": [
    "n = len(x1)                  # sample size\n",
    "df = n - 1                   # degrees of freedom"
   ]
  },
  {
   "cell_type": "code",
   "execution_count": 21,
   "metadata": {},
   "outputs": [],
   "source": [
    "t90 = st.t.ppf(1 - 0.1/2, df)    # t-critical value for 90% CI\n",
    "t95 = st.t.ppf(1 - 0.05/2, df)   # t-critical value for 95% CI\n",
    "t99 = st.t.ppf(1 - 0.01/2, df)   # t-critical value for 99% CI"
   ]
  },
  {
   "cell_type": "code",
   "execution_count": 22,
   "metadata": {},
   "outputs": [],
   "source": [
    "# 90% CI\n",
    "low90 = np.round(d_bar - t90 * s_d / np.sqrt(n),2)\n",
    "upp90 = np.round(d_bar + t90 * s_d / np.sqrt(n),2)\n",
    "# 95% CI\n",
    "low95 = np.round(d_bar - t95 * s_d / np.sqrt(n),2)\n",
    "upp95 = np.round(d_bar + t95 * s_d / np.sqrt(n),2)\n",
    "# 99% CI\n",
    "low99 = np.round(d_bar - t99 * s_d / np.sqrt(n),2)\n",
    "upp99 = np.round(d_bar + t99 * s_d / np.sqrt(n),2)"
   ]
  },
  {
   "cell_type": "code",
   "execution_count": 23,
   "metadata": {},
   "outputs": [
    {
     "name": "stdout",
     "output_type": "stream",
     "text": [
      "90% CI for the diff of means = (-0.25, 24.65)\n",
      "95% CI for the diff of means = (-3.17, 27.57)\n",
      "99% CI for the diff of means = (-9.88, 34.28)\n"
     ]
    }
   ],
   "source": [
    "print('90%% CI for the diff of means = (%.2f, %.2f)' %(low90, upp90))\n",
    "print('95%% CI for the diff of means = (%.2f, %.2f)' %(low95, upp95))\n",
    "print('99%% CI for the diff of means = (%.2f, %.2f)' %(low99, upp99))"
   ]
  },
  {
   "cell_type": "markdown",
   "metadata": {},
   "source": [
    "### Confidence interval for variance"
   ]
  },
  {
   "cell_type": "markdown",
   "metadata": {},
   "source": [
    "The confidence interval of variance is used to estimate the population variance from sample data and quantify the related uncertainty."
   ]
  },
  {
   "cell_type": "code",
   "execution_count": 24,
   "metadata": {},
   "outputs": [],
   "source": [
    "arr = [8.01, 8.95, 9.65, 9.15, 8.06, 8.95, 8.03, 8.19, 8.03]"
   ]
  },
  {
   "cell_type": "code",
   "execution_count": 25,
   "metadata": {},
   "outputs": [],
   "source": [
    "alpha = 0.05               # significance level = 5%\n",
    "n = len(arr)               # sample sizes"
   ]
  },
  {
   "cell_type": "code",
   "execution_count": 26,
   "metadata": {},
   "outputs": [],
   "source": [
    "s2 = np.var(arr, ddof=1)   # sample variance\n",
    "df = n - 1                 # degrees of freedom"
   ]
  },
  {
   "cell_type": "code",
   "execution_count": 27,
   "metadata": {},
   "outputs": [],
   "source": [
    "# 90% CI\n",
    "vupp90 = (n-1)*s2/st.chi2.ppf(0.1/2, df)\n",
    "vlow90 = (n-1)*s2/st.chi2.ppf(1-0.1/2, df)\n",
    "# 95% CI\n",
    "vupp95 = (n-1)*s2/st.chi2.ppf(0.05/2, df)\n",
    "vlow95 = (n-1)*s2/st.chi2.ppf(1-0.05/2, df)\n",
    "# 99% CI\n",
    "vupp99 = (n-1)*s2/st.chi2.ppf(0.01/2, df)\n",
    "vlow99 = (n-1)*s2/st.chi2.ppf(1-0.01/2, df)"
   ]
  },
  {
   "cell_type": "code",
   "execution_count": 28,
   "metadata": {},
   "outputs": [
    {
     "name": "stdout",
     "output_type": "stream",
     "text": [
      "90% CI for variance = (0.20, 1.13)\n",
      "95% CI for variance = (0.18, 1.42)\n",
      "99% CI for variance = (0.14, 2.30)\n"
     ]
    }
   ],
   "source": [
    "print('90%% CI for variance = (%.2f, %.2f)' %(vlow90, vupp90))\n",
    "print('95%% CI for variance = (%.2f, %.2f)' %(vlow95, vupp95))\n",
    "print('99%% CI for variance = (%.2f, %.2f)' %(vlow99, vupp99))"
   ]
  },
  {
   "cell_type": "markdown",
   "metadata": {},
   "source": [
    "### Computing several confidence intervals"
   ]
  },
  {
   "cell_type": "markdown",
   "metadata": {},
   "source": [
    "**`Correct interpretation for a confidence interval`**: If many samples are collected, and a **`90%`** confidence interval is computed for each sample, approximately **`90%`** of these intervals will contain the population parameter **`μ`**."
   ]
  },
  {
   "cell_type": "markdown",
   "metadata": {},
   "source": [
    "Let's generate `population_age` with 10000-age values. This will be our population."
   ]
  },
  {
   "cell_type": "code",
   "execution_count": 29,
   "metadata": {},
   "outputs": [],
   "source": [
    "population_age = np.random.normal(45, 8, size=10000)"
   ]
  },
  {
   "cell_type": "code",
   "execution_count": 30,
   "metadata": {},
   "outputs": [
    {
     "data": {
      "image/png": "[encoded data removed]",
      "text/plain": [
       "<Figure size 360x360 with 1 Axes>"
      ]
     },
     "metadata": {},
     "output_type": "display_data"
    }
   ],
   "source": [
    "ax = sns.displot(x=population_age, bins=10)\n",
    "ax.set(title=\"Fictitious voters' age (Population)\");"
   ]
  },
  {
   "cell_type": "code",
   "execution_count": 31,
   "metadata": {},
   "outputs": [],
   "source": [
    "sample_size = 1000"
   ]
  },
  {
   "cell_type": "markdown",
   "metadata": {},
   "source": [
    "Let's extract 10 different samples of size `sample_size`, and calculate the 90% confidence interval for the mean."
   ]
  },
  {
   "cell_type": "code",
   "execution_count": 32,
   "metadata": {},
   "outputs": [],
   "source": [
    "intervals =[]\n",
    "sample_means = []\n",
    "for sample in range(10):\n",
    "    sample = np.random.choice(population_age, sample_size)\n",
    "    sample_means.append(sample.mean())\n",
    "    intervals.append(st.t.interval(0.9, len(sample)-1, loc=np.mean(sample), scale=st.sem(sample)))  "
   ]
  },
  {
   "cell_type": "markdown",
   "metadata": {},
   "source": [
    "Let's plot the results. "
   ]
  },
  {
   "cell_type": "code",
   "execution_count": 33,
   "metadata": {},
   "outputs": [
    {
     "data": {
      "image/png": "[encoded data removed]",
      "text/plain": [
       "<Figure size 432x288 with 1 Axes>"
      ]
     },
     "metadata": {},
     "output_type": "display_data"
    }
   ],
   "source": [
    "plt.errorbar(x=np.arange(1, 11, 1), y=sample_means, yerr=[(top-bot)/2 for top,bot in intervals], fmt='o')\n",
    "plt.hlines(xmin=0, xmax=10.5, y=np.mean(population_age), linewidth=3.0, color=\"red\");"
   ]
  },
  {
   "cell_type": "markdown",
   "metadata": {},
   "source": [
    "The horizontal red line represents the population mean. That is the value you want to estimate, which means you do not know it.\n",
    "\n",
    "90% confidence interval means that from 10 different intervals, 9 will contain the population mean.\n",
    "\n",
    "All these formulas to calculate confidence intervals assumes the data follow normal distributions. That is not always true."
   ]
  },
  {
   "cell_type": "markdown",
   "metadata": {},
   "source": [
    "Reference:\n",
    "- Dekking, F.M. et.al. (2005) A Modern Introduction to Probability and Statistics, USA: Springer, chapter 23"
   ]
  }
 ],
 "metadata": {
  "kernelspec": {
   "display_name": "Python 3.10.5 64-bit (windows store)",
   "language": "python",
   "name": "python3"
  },
  "language_info": {
   "codemirror_mode": {
    "name": "ipython",
    "version": 3
   },
   "file_extension": ".py",
   "mimetype": "text/x-python",
   "name": "python",
   "nbconvert_exporter": "python",
   "pygments_lexer": "ipython3",
   "version": "3.10.5"
  },
  "orig_nbformat": 2,
  "vscode": {
   "interpreter": {
    "hash": "2df53de82fe139b23b9a340061c8527273b7fa86551030a1983ff618b17018eb"
   }
  }
 },
 "nbformat": 4,
 "nbformat_minor": 2
}
