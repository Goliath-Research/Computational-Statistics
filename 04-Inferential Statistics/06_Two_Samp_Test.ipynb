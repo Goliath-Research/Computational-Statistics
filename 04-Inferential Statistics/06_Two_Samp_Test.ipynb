{
 "cells": [
  {
   "cell_type": "markdown",
   "metadata": {},
   "source": [
    "# Two Samples Tests"
   ]
  },
  {
   "cell_type": "markdown",
   "metadata": {},
   "source": [
    "In this notebook, we will use parametric and non-parametric statistical methods for comparing two samples: independent and paired."
   ]
  },
  {
   "cell_type": "code",
   "execution_count": 1,
   "metadata": {},
   "outputs": [],
   "source": [
    "import numpy as np\n",
    "import pandas as pd\n",
    "from scipy import stats as st\n",
    "from statsmodels.stats import weightstats as stests\n",
    "from statsmodels.distributions.empirical_distribution import ECDF\n",
    "import matplotlib.pyplot as plt\n",
    "import seaborn as sns;\n",
    "sns.set_style(\"whitegrid\")  "
   ]
  },
  {
   "cell_type": "markdown",
   "metadata": {},
   "source": [
    "## Parametric Tests for Two Independent Samples"
   ]
  },
  {
   "cell_type": "markdown",
   "metadata": {},
   "source": [
    "### Two independent samples t-test"
   ]
  },
  {
   "cell_type": "markdown",
   "metadata": {},
   "source": [
    "The Independent Samples t Test or 2-sample t-test compares the means of two independent groups in order to determine whether there is statistical evidence that the associated population means are significantly different. \n",
    "\n",
    "The Independent Samples t Test is a parametric test. This test is also known as: Independent t Test."
   ]
  },
  {
   "cell_type": "markdown",
   "metadata": {},
   "source": [
    "**Example 1**: Two sections of a class in statistics were taught by two different methods. Students’ scores on a standardized test are shown below. Do the results present evidence of a difference in the effectiveness of the two methods?"
   ]
  },
  {
   "cell_type": "code",
   "execution_count": 2,
   "metadata": {},
   "outputs": [],
   "source": [
    "np.random.seed(123)\n",
    "classA = np.random.normal(86,6,23)\n",
    "classB = np.random.normal(88,5,25)"
   ]
  },
  {
   "cell_type": "code",
   "execution_count": 3,
   "metadata": {},
   "outputs": [
    {
     "data": {
      "image/png": "[encoded data removed]",
      "text/plain": [
       "<Figure size 432x288 with 1 Axes>"
      ]
     },
     "metadata": {},
     "output_type": "display_data"
    }
   ],
   "source": [
    "ax=sns.kdeplot(x=classA, color='royalblue', shade=True, label='Class A')\n",
    "ax=sns.kdeplot(x=classB, color='salmon', shade=True, alpha=0.5, label='Class B')\n",
    "plt.legend();"
   ]
  },
  {
   "cell_type": "code",
   "execution_count": 4,
   "metadata": {},
   "outputs": [],
   "source": [
    "def two_ind_ttest(sample1, sample2, alpha=0.05, alternative='two-sided'):\n",
    "    '''\n",
    "    It compares two independend groups\n",
    "    sample1: sample of values of population 1 (normally distributed)\n",
    "    sample2: sample of values of population 2 (normally distributed)\n",
    "    alpha: significance level\n",
    "    alternative: one of the three values: 'two-sided', 'smaller', and 'larger'  \n",
    "    '''\n",
    "    sigHa = {'two-sided':'!=', 'smaller':' <', 'larger':' >'}   \n",
    "    print('--- Two independent sample t-test ---')\n",
    "    print('    Ho: mean(sample1)  =', 'mean(sample2)')\n",
    "    print('    Ha: mean(sample1)', sigHa[alternative], 'mean(sample2)')\n",
    "    print('Sample 1:   n = %i\\tMean = %.2f\\tStdDev = %.2f' %(len(sample1),np.mean(sample1), np.std(sample1)))\n",
    "    print('Sample 2:   n = %i\\tMean = %.2f,\\tStdDev = %.2f' %(len(sample2),np.mean(sample2), np.std(sample2)))\n",
    "    t_stat, pval, df = stests.ttest_ind(x1=sample1, x2=sample2, usevar='unequal', alternative=alternative)\n",
    "    print('t-value = %.3f    df = %i    p-value = %.4f' %(t_stat,  df, pval))\n",
    "    if pval < alpha:    \n",
    "        print(\"%.4f <= %.2f We are rejecting null hypothesis\" %(pval, alpha))\n",
    "    else:\n",
    "        print(\"%.4f > %.2f We have no reason to reject the null hypothesis\" %(pval, alpha))"
   ]
  },
  {
   "cell_type": "code",
   "execution_count": 5,
   "metadata": {},
   "outputs": [
    {
     "name": "stdout",
     "output_type": "stream",
     "text": [
      "--- Two independent sample t-test ---\n",
      "    Ho: mean(sample1)  = mean(sample2)\n",
      "    Ha: mean(sample1) != mean(sample2)\n",
      "Sample 1:   n = 23\tMean = 86.93\tStdDev = 7.23\n",
      "Sample 2:   n = 25\tMean = 86.77,\tStdDev = 5.42\n",
      "t-value = 0.085    df = 40    p-value = 0.9328\n",
      "0.9328 > 0.05 We have no reason to reject the null hypothesis\n"
     ]
    }
   ],
   "source": [
    "two_ind_ttest(classA, classB)"
   ]
  },
  {
   "cell_type": "code",
   "execution_count": 6,
   "metadata": {
    "tags": []
   },
   "outputs": [
    {
     "name": "stdout",
     "output_type": "stream",
     "text": [
      "--- Two independent sample t-test ---\n",
      "    Ho: mean(sample1)  = mean(sample2)\n",
      "    Ha: mean(sample1)  < mean(sample2)\n",
      "Sample 1:   n = 23\tMean = 86.93\tStdDev = 7.23\n",
      "Sample 2:   n = 25\tMean = 86.77,\tStdDev = 5.42\n",
      "t-value = 0.085    df = 40    p-value = 0.5336\n",
      "0.5336 > 0.05 We have no reason to reject the null hypothesis\n"
     ]
    }
   ],
   "source": [
    "two_ind_ttest(classA, classB, alternative='smaller')"
   ]
  },
  {
   "cell_type": "markdown",
   "metadata": {},
   "source": [
    "### Two independent samples z-test"
   ]
  },
  {
   "cell_type": "markdown",
   "metadata": {},
   "source": [
    "A `z-test` is a statistical test used to determine whether two population means are different when the variances are known, and the sample size is large. Usually, 30 cases per group are enough."
   ]
  },
  {
   "cell_type": "code",
   "execution_count": 7,
   "metadata": {},
   "outputs": [],
   "source": [
    "from statsmodels.stats import weightstats as stests"
   ]
  },
  {
   "cell_type": "markdown",
   "metadata": {},
   "source": [
    "You would use a `z-test` if:\n",
    "- Your sample size is greater than 30. Otherwise, use a t test.\n",
    "- Data points should be independent from each other\n",
    "- Your data should be normally distributed. However, for large sample sizes (over 30) this does not always matter.\n",
    "- Your data should be randomly selected from a population, where each item has an equal chance of being selected.\n",
    "\n",
    "In two sample `z-test`, similar to `t-test`, we are checking two independent data groups and deciding whether sample mean of two groups are equal or not."
   ]
  },
  {
   "cell_type": "code",
   "execution_count": 8,
   "metadata": {},
   "outputs": [],
   "source": [
    "def two_ind_ztest(sample1, sample2, alpha=0.05, alternative='two-sided'):\n",
    "    '''\n",
    "    Compare independend groups\n",
    "    sample1: sample of values of population 1 (normally distributed)\n",
    "    sample2: sample of values of population 2 (normally distributed)\n",
    "    alpha: significance level\n",
    "    alternative: one of the three values: 'two-sided', 'smaller', and 'larger'      \n",
    "    '''\n",
    "    sigHa = {'two-sided':'!=', 'smaller':' <', 'larger':' >'}       \n",
    "    print('--- Two independent sample z-test ---')\n",
    "    print('    Ho: mean(sample1)  =', 'mean(sample2)')\n",
    "    print('    Ha: mean(sample1)', sigHa[alternative], 'mean(sample2)')\n",
    "    print('Sample 1:   n = %i\\tMean = %.2f\\tStdDev = %.2f' %(len(sample1),np.mean(sample1), np.std(sample1)))\n",
    "    print('Sample 2:   n = %i\\tMean = %.2f,\\tStdDev = %.2f' %(len(sample2),np.mean(sample2), np.std(sample2)))\n",
    "    z_stat, pval = stests.ztest(sample1, sample2, value=0, alternative=alternative)\n",
    "    print('z-value = %.3f    p-value = %.4f' %(z_stat, pval))\n",
    "    if pval < alpha:    \n",
    "        print(\"%.4f <= %.2f We are rejecting null hypothesis\" %(pval, alpha))\n",
    "    else:\n",
    "        print(\"%.4f > %.2f We have no reason to reject the null hypothesis\" %(pval, alpha))"
   ]
  },
  {
   "cell_type": "markdown",
   "metadata": {},
   "source": [
    "Let's generate values for classes C and D:"
   ]
  },
  {
   "cell_type": "code",
   "execution_count": 9,
   "metadata": {},
   "outputs": [],
   "source": [
    "np.random.seed(123)\n",
    "classC = np.random.normal(80, 3, 100)\n",
    "classD = np.random.normal(90, 3, 95)"
   ]
  },
  {
   "cell_type": "code",
   "execution_count": 10,
   "metadata": {},
   "outputs": [
    {
     "data": {
      "image/png": "[encoded data removed]",
      "text/plain": [
       "<Figure size 432x288 with 1 Axes>"
      ]
     },
     "metadata": {},
     "output_type": "display_data"
    }
   ],
   "source": [
    "ax=sns.kdeplot(x=classC, color='limegreen', shade=True, label='Class C')\n",
    "ax=sns.kdeplot(x=classD, color='orange', shade=True, alpha=0.3, label='Class D')\n",
    "plt.legend();"
   ]
  },
  {
   "cell_type": "markdown",
   "metadata": {},
   "source": [
    "Let's compare class C and D with the z-test:"
   ]
  },
  {
   "cell_type": "code",
   "execution_count": 11,
   "metadata": {},
   "outputs": [
    {
     "name": "stdout",
     "output_type": "stream",
     "text": [
      "--- Two independent sample z-test ---\n",
      "    Ho: mean(sample1)  = mean(sample2)\n",
      "    Ha: mean(sample1) != mean(sample2)\n",
      "Sample 1:   n = 100\tMean = 80.08\tStdDev = 3.38\n",
      "Sample 2:   n = 95\tMean = 90.07,\tStdDev = 2.81\n",
      "z-value = -22.243    p-value = 0.0000\n",
      "0.0000 <= 0.05 We are rejecting null hypothesis\n"
     ]
    }
   ],
   "source": [
    "two_ind_ztest(classC, classD)"
   ]
  },
  {
   "cell_type": "code",
   "execution_count": 12,
   "metadata": {},
   "outputs": [
    {
     "name": "stdout",
     "output_type": "stream",
     "text": [
      "--- Two independent sample z-test ---\n",
      "    Ho: mean(sample1)  = mean(sample2)\n",
      "    Ha: mean(sample1)  < mean(sample2)\n",
      "Sample 1:   n = 100\tMean = 80.08\tStdDev = 3.38\n",
      "Sample 2:   n = 95\tMean = 90.07,\tStdDev = 2.81\n",
      "z-value = -22.243    p-value = 0.0000\n",
      "0.0000 <= 0.05 We are rejecting null hypothesis\n"
     ]
    }
   ],
   "source": [
    "two_ind_ztest(classC, classD, alternative='smaller')"
   ]
  },
  {
   "cell_type": "code",
   "execution_count": 13,
   "metadata": {},
   "outputs": [
    {
     "name": "stdout",
     "output_type": "stream",
     "text": [
      "--- Two independent sample z-test ---\n",
      "    Ho: mean(sample1)  = mean(sample2)\n",
      "    Ha: mean(sample1)  > mean(sample2)\n",
      "Sample 1:   n = 100\tMean = 80.08\tStdDev = 3.38\n",
      "Sample 2:   n = 95\tMean = 90.07,\tStdDev = 2.81\n",
      "z-value = -22.243    p-value = 1.0000\n",
      "1.0000 > 0.05 We have no reason to reject the null hypothesis\n"
     ]
    }
   ],
   "source": [
    "two_ind_ztest(classC, classD, alternative='larger')"
   ]
  },
  {
   "cell_type": "markdown",
   "metadata": {},
   "source": [
    "## Non-paramnetric Tests for Two Independent Samples"
   ]
  },
  {
   "cell_type": "markdown",
   "metadata": {},
   "source": [
    "### Mann-Whitney U Test"
   ]
  },
  {
   "cell_type": "markdown",
   "metadata": {},
   "source": [
    "It is a non-parametric test.\n",
    "Mann-Whitney tests whether the distributions of two independent samples are equal or not.\n",
    "\n",
    "Assumptions\n",
    "- Observations in each sample are independent and identically distributed (iid).\n",
    "- Observations in each sample can be ranked.\n",
    "\n",
    "Interpretation\n",
    "- Ho: the distributions of both samples are equal.\n",
    "- Ha: the distributions of both samples are not equal."
   ]
  },
  {
   "cell_type": "code",
   "execution_count": 14,
   "metadata": {},
   "outputs": [],
   "source": [
    "def m_w(sample1, sample2, alpha=0.05, alternative='two-sided'):\n",
    "    '''\n",
    "    The Mann Whitney U test is a non-parametric method used to test whether two samples are \n",
    "    likely to derive from the same population.\n",
    "    sample1: sample of values of population 1 \n",
    "    sample2: sample of values of population 2 \n",
    "    alpha: significance level\n",
    "    alternative: one of the three values: 'two-sided', 'smaller', and 'larger'\n",
    "    '''\n",
    "    alt={'two-sided':'two-sided','smaller':'less','larger':'greater'}\n",
    "    sigHa = {'two-sided':'!=', 'smaller':' <', 'larger':' >'}\n",
    "    print('--- Non-parametric Mann-Whitney U Test ---')\n",
    "    print('    Ho: mean_rank(sample1)  =', 'mean_rank(sample2)')\n",
    "    print('    Ha: mean_rank(sample1)', sigHa[alternative], 'mean_rank(sample2)')\n",
    "    print('Sample 1:  n = %i\\tMean = %.2f\\tStdDev = %.2f' %(len(sample1),np.mean(sample1), np.std(sample1)))\n",
    "    print('Sample 2:  n = %i\\tMean = %.2f\\tStdDev = %.2f' %(len(sample2),np.mean(sample2), np.std(sample2)))\n",
    "    stat, pval = st.mannwhitneyu(sample1, sample2, alternative=alt[alternative])\n",
    "    print('stat = %.2f    p-value = %.4f' %(stat, pval))\n",
    "    if pval < alpha:    \n",
    "        print(\"%.4f <= %.2f We are rejecting null hypothesis\" %(pval, alpha))\n",
    "    else:\n",
    "        print(\"%.4f > %.2f We have no reason to reject the null hypothesis\" %(pval, alpha))"
   ]
  },
  {
   "cell_type": "markdown",
   "metadata": {},
   "source": [
    "Remember Mann Whitney U is a nonparametric test. That means the test does not work with original data. It works with ranks. \n",
    "\n",
    "Nonparametric tests are helpful when the usual analysis of variance assumption of normality is not viable."
   ]
  },
  {
   "cell_type": "code",
   "execution_count": 15,
   "metadata": {},
   "outputs": [
    {
     "name": "stdout",
     "output_type": "stream",
     "text": [
      "--- Non-parametric Mann-Whitney U Test ---\n",
      "    Ho: mean_rank(sample1)  = mean_rank(sample2)\n",
      "    Ha: mean_rank(sample1) != mean_rank(sample2)\n",
      "Sample 1:  n = 23\tMean = 86.93\tStdDev = 7.23\n",
      "Sample 2:  n = 25\tMean = 86.77\tStdDev = 5.42\n",
      "stat = 284.00    p-value = 0.9506\n",
      "0.9506 > 0.05 We have no reason to reject the null hypothesis\n"
     ]
    }
   ],
   "source": [
    "m_w(classA, classB)"
   ]
  },
  {
   "cell_type": "code",
   "execution_count": 16,
   "metadata": {},
   "outputs": [
    {
     "name": "stdout",
     "output_type": "stream",
     "text": [
      "--- Non-parametric Mann-Whitney U Test ---\n",
      "    Ho: mean_rank(sample1)  = mean_rank(sample2)\n",
      "    Ha: mean_rank(sample1) != mean_rank(sample2)\n",
      "Sample 1:  n = 100\tMean = 80.08\tStdDev = 3.38\n",
      "Sample 2:  n = 95\tMean = 90.07\tStdDev = 2.81\n",
      "stat = 106.00    p-value = 0.0000\n",
      "0.0000 <= 0.05 We are rejecting null hypothesis\n"
     ]
    }
   ],
   "source": [
    "m_w(classC, classD)"
   ]
  },
  {
   "cell_type": "code",
   "execution_count": 17,
   "metadata": {},
   "outputs": [
    {
     "name": "stdout",
     "output_type": "stream",
     "text": [
      "--- Non-parametric Mann-Whitney U Test ---\n",
      "    Ho: mean_rank(sample1)  = mean_rank(sample2)\n",
      "    Ha: mean_rank(sample1)  < mean_rank(sample2)\n",
      "Sample 1:  n = 100\tMean = 80.08\tStdDev = 3.38\n",
      "Sample 2:  n = 95\tMean = 90.07\tStdDev = 2.81\n",
      "stat = 106.00    p-value = 0.0000\n",
      "0.0000 <= 0.05 We are rejecting null hypothesis\n"
     ]
    }
   ],
   "source": [
    "m_w(classC, classD, alternative='smaller')"
   ]
  },
  {
   "cell_type": "markdown",
   "metadata": {},
   "source": [
    "### Kolmogorov Smirnov Test"
   ]
  },
  {
   "cell_type": "markdown",
   "metadata": {},
   "source": [
    "The Kolmogorov-Smirnov test (KS-test) determines if two datasets differ significantly, without making any assumption about the distribution of data. \n",
    "\n",
    "- Ho: the distributions of both samples are equal.\n",
    "- Ha: the distributions of both samples are not equal."
   ]
  },
  {
   "cell_type": "code",
   "execution_count": 18,
   "metadata": {},
   "outputs": [],
   "source": [
    "def k_s(sample1, sample2, alpha=0.05, alternative='two-sided'):\n",
    "    '''\n",
    "    The Kolmogorov Smirnov test is a non-parametric method used to test whether two samples are \n",
    "    likely to derive from the same population.\n",
    "    sample1: sample of values of population 1 \n",
    "    sample2: sample of values of population 2 \n",
    "    alpha: significance level\n",
    "    alternative: one of the three values: 'two-sided', 'smaller', and 'larger'\n",
    "    '''\n",
    "    alt={'two-sided':'two-sided','smaller':'less','larger':'greater'}\n",
    "    sigHa = {'two-sided':'!=', 'smaller':' <', 'larger':' >'}\n",
    "    print('--- Non-parametric Kolmogorov Smirnov Test ---')\n",
    "    print('    Ho: mean_rank(sample1)  =', 'mean_rank(sample2)')\n",
    "    print('    Ha: mean_rank(sample1)', sigHa[alternative], 'mean_rank(sample2)')\n",
    "    print('Sample 1:  n = %i\\tMean = %.2f\\tStdDev = %.2f' %(len(sample1),np.mean(sample1), np.std(sample1)))\n",
    "    print('Sample 2:  n = %i\\tMean = %.2f\\tStdDev = %.2f' %(len(sample2),np.mean(sample2), np.std(sample2)))\n",
    "    stat, pval = st.ks_2samp(sample1, sample2, alternative=alt[alternative])\n",
    "    print('stat = %.2f    p-value = %.4f' %(stat, pval))\n",
    "    if pval < alpha:    \n",
    "        print(\"%.4f <= %.2f We are rejecting null hypothesis\" %(pval, alpha))\n",
    "    else:\n",
    "        print(\"%.4f > %.2f We have no reason to reject the null hypothesis\" %(pval, alpha))"
   ]
  },
  {
   "cell_type": "code",
   "execution_count": 19,
   "metadata": {},
   "outputs": [
    {
     "name": "stdout",
     "output_type": "stream",
     "text": [
      "--- Non-parametric Kolmogorov Smirnov Test ---\n",
      "    Ho: mean_rank(sample1)  = mean_rank(sample2)\n",
      "    Ha: mean_rank(sample1) != mean_rank(sample2)\n",
      "Sample 1:  n = 23\tMean = 86.93\tStdDev = 7.23\n",
      "Sample 2:  n = 25\tMean = 86.77\tStdDev = 5.42\n",
      "stat = 0.28    p-value = 0.2438\n",
      "0.2438 > 0.05 We have no reason to reject the null hypothesis\n"
     ]
    }
   ],
   "source": [
    "k_s(classA, classB)"
   ]
  },
  {
   "cell_type": "code",
   "execution_count": 20,
   "metadata": {},
   "outputs": [
    {
     "name": "stdout",
     "output_type": "stream",
     "text": [
      "--- Non-parametric Kolmogorov Smirnov Test ---\n",
      "    Ho: mean_rank(sample1)  = mean_rank(sample2)\n",
      "    Ha: mean_rank(sample1) != mean_rank(sample2)\n",
      "Sample 1:  n = 100\tMean = 80.08\tStdDev = 3.38\n",
      "Sample 2:  n = 95\tMean = 90.07\tStdDev = 2.81\n",
      "stat = 0.90    p-value = 0.0000\n",
      "0.0000 <= 0.05 We are rejecting null hypothesis\n"
     ]
    }
   ],
   "source": [
    "k_s(classC, classD)"
   ]
  },
  {
   "cell_type": "code",
   "execution_count": 21,
   "metadata": {},
   "outputs": [
    {
     "name": "stdout",
     "output_type": "stream",
     "text": [
      "--- Non-parametric Kolmogorov Smirnov Test ---\n",
      "    Ho: mean_rank(sample1)  = mean_rank(sample2)\n",
      "    Ha: mean_rank(sample1)  < mean_rank(sample2)\n",
      "Sample 1:  n = 100\tMean = 80.08\tStdDev = 3.38\n",
      "Sample 2:  n = 95\tMean = 90.07\tStdDev = 2.81\n",
      "stat = 0.00    p-value = 1.0000\n",
      "1.0000 > 0.05 We have no reason to reject the null hypothesis\n"
     ]
    }
   ],
   "source": [
    "k_s(classC, classD, alternative='smaller')"
   ]
  },
  {
   "cell_type": "markdown",
   "metadata": {},
   "source": [
    "## Parametric Tests for Two Paired Samples"
   ]
  },
  {
   "cell_type": "markdown",
   "metadata": {},
   "source": [
    "### Paired sample t-test"
   ]
  },
  {
   "cell_type": "markdown",
   "metadata": {},
   "source": [
    "The paired sample t-test is also called dependent sample t-test. \n",
    "\n",
    "It is an univariate test that tests for a significant difference between 2 related variables. An example of this is if you where to compare the grades of students before and after some training or courses.\n",
    "- Ho: means difference between two sample is 0\n",
    "- Ha: means difference between two sample is different from 0"
   ]
  },
  {
   "cell_type": "markdown",
   "metadata": {},
   "source": [
    "Generating fictitious data."
   ]
  },
  {
   "cell_type": "code",
   "execution_count": 22,
   "metadata": {},
   "outputs": [],
   "source": [
    "np.random.seed(123)\n",
    "grade_before = np.random.normal(60,7,20)\n",
    "grade_after  = np.random.normal(85,5,20)"
   ]
  },
  {
   "cell_type": "markdown",
   "metadata": {},
   "source": [
    "Presenting some visualizations"
   ]
  },
  {
   "cell_type": "code",
   "execution_count": 23,
   "metadata": {},
   "outputs": [
    {
     "data": {
      "image/png": "[encoded data removed]",
      "text/plain": [
       "<Figure size 432x432 with 3 Axes>"
      ]
     },
     "metadata": {},
     "output_type": "display_data"
    }
   ],
   "source": [
    "sns.jointplot(x=grade_before, y=grade_after);"
   ]
  },
  {
   "cell_type": "markdown",
   "metadata": {},
   "source": [
    "Let's create a function to use a t-test for our paired data."
   ]
  },
  {
   "cell_type": "code",
   "execution_count": 24,
   "metadata": {},
   "outputs": [],
   "source": [
    "def two_rel_ttest(sample1, sample2, alpha=0.05, alternative='two-sided'):\n",
    "    '''\n",
    "    Compare paired groups\n",
    "    sample1: sample of values at time 1 (normally distributed)\n",
    "    sample2: sample of values at time 2 (normally distributed)\n",
    "    alpha: significance level\n",
    "    alternative: one of the three values: 'two-sided', 'smaller', and 'larger'\n",
    "    '''\n",
    "    alt={'two-sided':'two-sided','smaller':'less','larger':'greater'}\n",
    "    sigH1 = {'two-sided':'!=', 'smaller':' <', 'larger':' >'}\n",
    "    print('--- Two paired sample t-test ---')\n",
    "    print('    Ho: mean(sample1)  = mean(sample2)')\n",
    "    print('    Ha: mean(sample1)', sigH1[alternative], 'mean(sample2)')\n",
    "    print('Sample 1:  n =%i\\tMean = %.2f\\tStdDev = %.2f' %(len(sample1),np.mean(sample1), np.std(sample1)))\n",
    "    print('Sample 2:  n =%i\\tMean = %.2f,\\tStdDev = %.2f' %(len(sample2),np.mean(sample2), np.std(sample2)))\n",
    "    t_stat, pval = st.ttest_rel(sample1, sample2)\n",
    "    print('t-value = %.2f    p-value = %.4f' %(t_stat, pval))\n",
    "    if pval < alpha:    \n",
    "        print(\"%.4f <= %.2f We are rejecting null hypothesis\" %(pval, alpha))\n",
    "    else:\n",
    "        print(\"%.4f > %.2f We have no reason to reject the null hypothesis\" %(pval, alpha))"
   ]
  },
  {
   "cell_type": "code",
   "execution_count": 25,
   "metadata": {},
   "outputs": [
    {
     "name": "stdout",
     "output_type": "stream",
     "text": [
      "--- Two paired sample t-test ---\n",
      "    Ho: mean(sample1)  = mean(sample2)\n",
      "    Ha: mean(sample1) != mean(sample2)\n",
      "Sample 1:  n =20\tMean = 60.80\tStdDev = 8.58\n",
      "Sample 2:  n =20\tMean = 83.59,\tStdDev = 5.34\n",
      "t-value = -9.30    p-value = 0.0000\n",
      "0.0000 <= 0.05 We are rejecting null hypothesis\n"
     ]
    }
   ],
   "source": [
    "two_rel_ttest(grade_before, grade_after)"
   ]
  },
  {
   "cell_type": "code",
   "execution_count": 26,
   "metadata": {},
   "outputs": [
    {
     "name": "stdout",
     "output_type": "stream",
     "text": [
      "--- Two paired sample t-test ---\n",
      "    Ho: mean(sample1)  = mean(sample2)\n",
      "    Ha: mean(sample1)  < mean(sample2)\n",
      "Sample 1:  n =20\tMean = 60.80\tStdDev = 8.58\n",
      "Sample 2:  n =20\tMean = 83.59,\tStdDev = 5.34\n",
      "t-value = -9.30    p-value = 0.0000\n",
      "0.0000 <= 0.05 We are rejecting null hypothesis\n"
     ]
    }
   ],
   "source": [
    "two_rel_ttest(grade_before, grade_after, alternative='smaller')"
   ]
  },
  {
   "cell_type": "markdown",
   "metadata": {},
   "source": [
    "As you can see, we are rejecting the null hypothesis. There are differences between the grades before and after.\n",
    "\n",
    "Let's generate grade_after2, with values similar to grade_before:"
   ]
  },
  {
   "cell_type": "code",
   "execution_count": 27,
   "metadata": {},
   "outputs": [],
   "source": [
    "grade_after2 = np.random.normal(64,5,20)"
   ]
  },
  {
   "cell_type": "code",
   "execution_count": 28,
   "metadata": {},
   "outputs": [
    {
     "name": "stdout",
     "output_type": "stream",
     "text": [
      "--- Two paired sample t-test ---\n",
      "    Ho: mean(sample1)  = mean(sample2)\n",
      "    Ha: mean(sample1) != mean(sample2)\n",
      "Sample 1:  n =20\tMean = 60.80\tStdDev = 8.58\n",
      "Sample 2:  n =20\tMean = 66.23,\tStdDev = 5.80\n",
      "t-value = -2.35    p-value = 0.0300\n",
      "0.0300 <= 0.05 We are rejecting null hypothesis\n"
     ]
    }
   ],
   "source": [
    "two_rel_ttest(grade_before, grade_after2)"
   ]
  },
  {
   "cell_type": "markdown",
   "metadata": {},
   "source": [
    "p-value > alpha, therefore there are not significant differences."
   ]
  },
  {
   "cell_type": "markdown",
   "metadata": {},
   "source": [
    "## Non-parametric Test for Two Paired Data"
   ]
  },
  {
   "cell_type": "markdown",
   "metadata": {},
   "source": [
    "### Wilcoxon Signed-Rank Test"
   ]
  },
  {
   "cell_type": "markdown",
   "metadata": {},
   "source": [
    "It is a non-parametric test.\n",
    "\n",
    "Tests whether the distributions of two paired samples are equal or not.\n",
    "\n",
    "Assumptions\n",
    "- Observations in each sample are independent and identically distributed (iid).\n",
    "- Observations in each sample can be ranked.\n",
    "- Observations across each sample are paired.\n",
    "\n",
    "Interpretation\n",
    "- Ho: the distributions of both samples are equal.\n",
    "- Ha: the distributions of both samples are not equal."
   ]
  },
  {
   "cell_type": "code",
   "execution_count": 29,
   "metadata": {},
   "outputs": [],
   "source": [
    "def wilcoxon(sample1, sample2, alpha=0.05, alternative='two-sided'):\n",
    "    '''\n",
    "    The Wilcoxon test is a nonparametric statistical test that compares two paired groups\n",
    "    sample1: sample of values at time 1 \n",
    "    sample2: sample of values at time 2 \n",
    "    alpha: significance level\n",
    "    '''\n",
    "    alt={'two-sided':'two-sided','smaller':'less','larger':'greater'}\n",
    "    sigH1 = {'two-sided':'!=', 'smaller':' <', 'larger':' >'}\n",
    "    print('--- Non-parametric Wilcoxon Signed-Rank Test ---')\n",
    "    print('    Ho: mean_rank(sample1)  = mean_rank(sample2)')\n",
    "    print('    Ha: mean_rank(sample1)', sigH1[alternative], 'mean_rank(sample2)')\n",
    "    print('Sample 1:\\tn =%i\\tMean = %.2f\\tStdDev = %.2f' %(len(sample1),np.mean(sample1), np.std(sample1)))\n",
    "    print('Sample 2:\\tn =%i\\tMean = %.2f,\\tStdDev = %.2f' %(len(sample2),np.mean(sample2), np.std(sample2)))\n",
    "    stat, pval = st.wilcoxon(sample1, sample2)\n",
    "    print('stat = %.3f    p-value = %.4f' %(stat, pval))\n",
    "    if pval < alpha:    \n",
    "        print(\"%.4f <= %.2f We are rejecting null hypothesis\" %(pval, alpha))\n",
    "    else:\n",
    "        print(\"%.4f > %.2f We have no reason to reject the null hypothesis\" %(pval, alpha))"
   ]
  },
  {
   "cell_type": "code",
   "execution_count": 30,
   "metadata": {},
   "outputs": [
    {
     "name": "stdout",
     "output_type": "stream",
     "text": [
      "--- Non-parametric Wilcoxon Signed-Rank Test ---\n",
      "    Ho: mean_rank(sample1)  = mean_rank(sample2)\n",
      "    Ha: mean_rank(sample1) != mean_rank(sample2)\n",
      "Sample 1:\tn =20\tMean = 60.80\tStdDev = 8.58\n",
      "Sample 2:\tn =20\tMean = 83.59,\tStdDev = 5.34\n",
      "stat = 0.000    p-value = 0.0000\n",
      "0.0000 <= 0.05 We are rejecting null hypothesis\n"
     ]
    }
   ],
   "source": [
    "wilcoxon(grade_before, grade_after)"
   ]
  },
  {
   "cell_type": "code",
   "execution_count": 31,
   "metadata": {},
   "outputs": [
    {
     "name": "stdout",
     "output_type": "stream",
     "text": [
      "--- Non-parametric Wilcoxon Signed-Rank Test ---\n",
      "    Ho: mean_rank(sample1)  = mean_rank(sample2)\n",
      "    Ha: mean_rank(sample1)  < mean_rank(sample2)\n",
      "Sample 1:\tn =20\tMean = 60.80\tStdDev = 8.58\n",
      "Sample 2:\tn =20\tMean = 83.59,\tStdDev = 5.34\n",
      "stat = 0.000    p-value = 0.0000\n",
      "0.0000 <= 0.05 We are rejecting null hypothesis\n"
     ]
    }
   ],
   "source": [
    "wilcoxon(grade_before, grade_after, alternative='smaller')"
   ]
  },
  {
   "cell_type": "code",
   "execution_count": 32,
   "metadata": {},
   "outputs": [
    {
     "name": "stdout",
     "output_type": "stream",
     "text": [
      "--- Non-parametric Wilcoxon Signed-Rank Test ---\n",
      "    Ho: mean_rank(sample1)  = mean_rank(sample2)\n",
      "    Ha: mean_rank(sample1) != mean_rank(sample2)\n",
      "Sample 1:\tn =20\tMean = 60.80\tStdDev = 8.58\n",
      "Sample 2:\tn =20\tMean = 66.23,\tStdDev = 5.80\n",
      "stat = 48.000    p-value = 0.0328\n",
      "0.0328 <= 0.05 We are rejecting null hypothesis\n"
     ]
    }
   ],
   "source": [
    "wilcoxon(grade_before, grade_after2)"
   ]
  },
  {
   "cell_type": "markdown",
   "metadata": {},
   "source": [
    "References:\n",
    "- Dekking, F.M. et.al. (2005) A Modern Introduction to Probability and Statistics, USA: Springer\n",
    "- Good, P. (2005) Permutation, Parametric, and Bootstrap Tests of Hypothesis, Third Edition, USA: Springer Series in Statistics"
   ]
  }
 ],
 "metadata": {
  "interpreter": {
   "hash": "7f2633a0dd9fad194999ffc17b7b93627efd4bccf6144e14bc5fef7dfd0c6355"
  },
  "kernelspec": {
   "display_name": "Python 3.10.4 64-bit",
   "language": "python",
   "name": "python3"
  },
  "language_info": {
   "codemirror_mode": {
    "name": "ipython",
    "version": 3
   },
   "file_extension": ".py",
   "mimetype": "text/x-python",
   "name": "python",
   "nbconvert_exporter": "python",
   "pygments_lexer": "ipython3",
   "version": "3.10.4"
  },
  "orig_nbformat": 2
 },
 "nbformat": 4,
 "nbformat_minor": 2
}
