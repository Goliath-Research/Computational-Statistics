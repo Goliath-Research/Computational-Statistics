{
 "cells": [
  {
   "cell_type": "markdown",
   "metadata": {},
   "source": [
    "# One Sample Hypothesis Test"
   ]
  },
  {
   "cell_type": "markdown",
   "metadata": {},
   "source": [
    "A one-sample test determines whether or not a sample statistic is statistically different from a population value."
   ]
  },
  {
   "cell_type": "code",
   "execution_count": 1,
   "metadata": {},
   "outputs": [],
   "source": [
    "import numpy as np\n",
    "import pandas as pd\n",
    "from scipy import stats as st\n",
    "from statsmodels.stats import weightstats as stests\n",
    "import matplotlib.pyplot as plt\n",
    "import seaborn as sns;\n",
    "sns.set_style(\"whitegrid\")  "
   ]
  },
  {
   "cell_type": "markdown",
   "metadata": {},
   "source": [
    "## One Sample Z test for Proportion"
   ]
  },
  {
   "cell_type": "markdown",
   "metadata": {},
   "source": [
    "The one-sample proportion test estimates whether a sample's proportion significantly differs from the population proportion. It compares the sample proportion to a reference value or population proportion."
   ]
  },
  {
   "cell_type": "code",
   "execution_count": 2,
   "metadata": {},
   "outputs": [],
   "source": [
    "from statsmodels.stats import proportion as sprop"
   ]
  },
  {
   "cell_type": "markdown",
   "metadata": {},
   "source": [
    "The One-Sample Proportion Test is used to estimate the proportion of a population. \n",
    "\n",
    "It compares the proportion to a reference value.\n",
    "\n",
    "The hypothesis of the one-sample proportion test:\n",
    "- `Null hypothesis`: population proportion is equal to the hypothesized proportion\n",
    "- `Alternative hypotheses`: \n",
    "    - Population proportion is not equal to hypothesized proportion (two-tailed)\n",
    "    - Population proportion is greater than the hypothesized proportion (one-tailed)\n",
    "    - Population proportion is lesser than the hypothesized proportion (one-tailed)"
   ]
  },
  {
   "cell_type": "code",
   "execution_count": 3,
   "metadata": {},
   "outputs": [],
   "source": [
    "def one_sample_prop(sample, population_prop=0, alpha=0.05, alternative='two-sided'):\n",
    "    '''\n",
    "    Hipothesis Test for one proportion\n",
    "    sample:          list with 1 (success) and 0 (failure)\n",
    "    population_prop: poblational proportion\n",
    "    alpha:           significance level\n",
    "    alternative:     one of the three values: 'two-sided', 'smaller', and 'larger'\n",
    "    '''\n",
    "    sigHa = {'two-sided':'!=', 'smaller':'< ', 'larger':'> '}\n",
    "    print('--- One sample z-test for proportion ---')\n",
    "    print('    Ho: prop = ', np.round(np.round(population_prop,2)))\n",
    "    print('    Ha: prop', sigHa[alternative], np.round(population_prop,2))\n",
    "    print('Sample proportion = %.3f' %(np.mean(sample)))\n",
    "    count = np.sum(sample)\n",
    "    nobs=len(sample)\n",
    "    z_stat, pval = sprop.proportions_ztest(count, nobs, value=population_prop, alternative=alternative)\n",
    "    print('z-value = %.3f    p-value = %.4f' %(z_stat, pval))\n",
    "    if pval < alpha:            \n",
    "        print(\"%.4f <= %.2f We are rejecting the null hypothesis.\" %(pval, alpha))\n",
    "    else:\n",
    "        print(\"%.4f > %.2f We have no reasons to reject the null hypothesis.\" %(pval, alpha))"
   ]
  },
  {
   "cell_type": "markdown",
   "metadata": {},
   "source": [
    "**Example 1**: In previous years, 60% of parents believed that social media was the leading cause of their teenager's lack of sleep. Do fewer parents today believe that their teenager's lack of sleep is caused due to social media? \n",
    "\n",
    "A survey of 100 parents with sons or daughters in a local high school was conducted.\n",
    "\n",
    "Generating the data:\n",
    "- `1`: parent believes social media is the reason for his teenager's lack of sleep, \n",
    "- `0`: parent does not believe social media is the reason for his teenager's lack of sleep"
   ]
  },
  {
   "cell_type": "code",
   "execution_count": 4,
   "metadata": {},
   "outputs": [],
   "source": [
    "survey_parents = [1 if np.random.rand()<0.8 else 0 for i in range(100)]"
   ]
  },
  {
   "cell_type": "code",
   "execution_count": 5,
   "metadata": {},
   "outputs": [
    {
     "data": {
      "text/plain": [
       "75"
      ]
     },
     "execution_count": 5,
     "metadata": {},
     "output_type": "execute_result"
    }
   ],
   "source": [
    "np.sum(survey_parents)"
   ]
  },
  {
   "cell_type": "markdown",
   "metadata": {},
   "source": [
    "We want to test the hypothesis prop < 0.6 (That is the alternative hypothesis.)"
   ]
  },
  {
   "cell_type": "code",
   "execution_count": 6,
   "metadata": {},
   "outputs": [
    {
     "name": "stdout",
     "output_type": "stream",
     "text": [
      "--- One sample z-test for proportion ---\n",
      "    Ho: prop =  1.0\n",
      "    Ha: prop <  0.6\n",
      "Sample proportion = 0.750\n",
      "z-value = 3.464    p-value = 0.9997\n",
      "0.9997 > 0.05 We have no reasons to reject the null hypothesis.\n"
     ]
    }
   ],
   "source": [
    "one_sample_prop(survey_parents, 0.6, alternative='smaller')"
   ]
  },
  {
   "cell_type": "markdown",
   "metadata": {},
   "source": [
    "We have no reasons to reject the null hypothesis (Ho), meaning the proportion of parents believing social media is the cause of lack of sleep in their sons is higher or equal to 60%.\n",
    "\n",
    "Do more parents today believe that their teenager's lack of sleep is caused due to social media? (Alternative hypothesis)"
   ]
  },
  {
   "cell_type": "code",
   "execution_count": 7,
   "metadata": {},
   "outputs": [
    {
     "name": "stdout",
     "output_type": "stream",
     "text": [
      "--- One sample z-test for proportion ---\n",
      "    Ho: prop =  1.0\n",
      "    Ha: prop >  0.6\n",
      "Sample proportion = 0.750\n",
      "z-value = 3.464    p-value = 0.0003\n",
      "0.0003 <= 0.05 We are rejecting the null hypothesis.\n"
     ]
    }
   ],
   "source": [
    "one_sample_prop(survey_parents, 0.6, alternative='larger')"
   ]
  },
  {
   "cell_type": "markdown",
   "metadata": {},
   "source": [
    "We reject the null hypothesis, so the rate of parents believing social media is a bad influence on the sleep time of their sons is higher than 60% now.\n",
    "\n",
    "Does the same number of parents today believe that their teenager's lack of sleep is caused due to social media?"
   ]
  },
  {
   "cell_type": "code",
   "execution_count": 8,
   "metadata": {},
   "outputs": [
    {
     "name": "stdout",
     "output_type": "stream",
     "text": [
      "--- One sample z-test for proportion ---\n",
      "    Ho: prop =  1.0\n",
      "    Ha: prop != 0.6\n",
      "Sample proportion = 0.750\n",
      "z-value = 3.464    p-value = 0.0005\n",
      "0.0005 <= 0.05 We are rejecting the null hypothesis.\n"
     ]
    }
   ],
   "source": [
    "one_sample_prop(survey_parents, 0.6, alternative='two-sided')"
   ]
  },
  {
   "cell_type": "markdown",
   "metadata": {},
   "source": [
    "As we can see, we are also rejecting the null hypothesis.\n",
    "\n",
    "Remember, the hypothesis we want to test is usually the alternative because the null states that there is no significant difference between specified populations or any observed difference due to sampling or experimental error.\n",
    "  \n",
    "You do not need to specify `'two-sided'`, because it is the default parameter."
   ]
  },
  {
   "cell_type": "code",
   "execution_count": 9,
   "metadata": {},
   "outputs": [
    {
     "name": "stdout",
     "output_type": "stream",
     "text": [
      "--- One sample z-test for proportion ---\n",
      "    Ho: prop =  1.0\n",
      "    Ha: prop != 0.6\n",
      "Sample proportion = 0.750\n",
      "z-value = 3.464    p-value = 0.0005\n",
      "0.0005 <= 0.05 We are rejecting the null hypothesis.\n"
     ]
    }
   ],
   "source": [
    "one_sample_prop(survey_parents, 0.6)"
   ]
  },
  {
   "cell_type": "markdown",
   "metadata": {},
   "source": [
    "**Example 2**: **student-mat.csv** dataset is related to student performance in math in two high schools in Portugal.  "
   ]
  },
  {
   "cell_type": "code",
   "execution_count": 10,
   "metadata": {},
   "outputs": [
    {
     "name": "stdout",
     "output_type": "stream",
     "text": [
      "(395, 33)\n"
     ]
    },
    {
     "data": {
      "text/html": [
       "<div>\n",
       "<style scoped>\n",
       "    .dataframe tbody tr th:only-of-type {\n",
       "        vertical-align: middle;\n",
       "    }\n",
       "\n",
       "    .dataframe tbody tr th {\n",
       "        vertical-align: top;\n",
       "    }\n",
       "\n",
       "    .dataframe thead th {\n",
       "        text-align: right;\n",
       "    }\n",
       "</style>\n",
       "<table border=\"1\" class=\"dataframe\">\n",
       "  <thead>\n",
       "    <tr style=\"text-align: right;\">\n",
       "      <th></th>\n",
       "      <th>school</th>\n",
       "      <th>sex</th>\n",
       "      <th>age</th>\n",
       "      <th>address</th>\n",
       "      <th>famsize</th>\n",
       "      <th>Pstatus</th>\n",
       "      <th>Medu</th>\n",
       "      <th>Fedu</th>\n",
       "      <th>Mjob</th>\n",
       "      <th>Fjob</th>\n",
       "      <th>...</th>\n",
       "      <th>famrel</th>\n",
       "      <th>freetime</th>\n",
       "      <th>goout</th>\n",
       "      <th>Dalc</th>\n",
       "      <th>Walc</th>\n",
       "      <th>health</th>\n",
       "      <th>absences</th>\n",
       "      <th>G1</th>\n",
       "      <th>G2</th>\n",
       "      <th>G3</th>\n",
       "    </tr>\n",
       "  </thead>\n",
       "  <tbody>\n",
       "    <tr>\n",
       "      <th>0</th>\n",
       "      <td>GP</td>\n",
       "      <td>F</td>\n",
       "      <td>18</td>\n",
       "      <td>U</td>\n",
       "      <td>GT3</td>\n",
       "      <td>A</td>\n",
       "      <td>4</td>\n",
       "      <td>4</td>\n",
       "      <td>at_home</td>\n",
       "      <td>teacher</td>\n",
       "      <td>...</td>\n",
       "      <td>4</td>\n",
       "      <td>3</td>\n",
       "      <td>4</td>\n",
       "      <td>1</td>\n",
       "      <td>1</td>\n",
       "      <td>3</td>\n",
       "      <td>6</td>\n",
       "      <td>5</td>\n",
       "      <td>6</td>\n",
       "      <td>6</td>\n",
       "    </tr>\n",
       "    <tr>\n",
       "      <th>1</th>\n",
       "      <td>GP</td>\n",
       "      <td>F</td>\n",
       "      <td>17</td>\n",
       "      <td>U</td>\n",
       "      <td>GT3</td>\n",
       "      <td>T</td>\n",
       "      <td>1</td>\n",
       "      <td>1</td>\n",
       "      <td>at_home</td>\n",
       "      <td>other</td>\n",
       "      <td>...</td>\n",
       "      <td>5</td>\n",
       "      <td>3</td>\n",
       "      <td>3</td>\n",
       "      <td>1</td>\n",
       "      <td>1</td>\n",
       "      <td>3</td>\n",
       "      <td>4</td>\n",
       "      <td>5</td>\n",
       "      <td>5</td>\n",
       "      <td>6</td>\n",
       "    </tr>\n",
       "    <tr>\n",
       "      <th>2</th>\n",
       "      <td>GP</td>\n",
       "      <td>F</td>\n",
       "      <td>15</td>\n",
       "      <td>U</td>\n",
       "      <td>LE3</td>\n",
       "      <td>T</td>\n",
       "      <td>1</td>\n",
       "      <td>1</td>\n",
       "      <td>at_home</td>\n",
       "      <td>other</td>\n",
       "      <td>...</td>\n",
       "      <td>4</td>\n",
       "      <td>3</td>\n",
       "      <td>2</td>\n",
       "      <td>2</td>\n",
       "      <td>3</td>\n",
       "      <td>3</td>\n",
       "      <td>10</td>\n",
       "      <td>7</td>\n",
       "      <td>8</td>\n",
       "      <td>10</td>\n",
       "    </tr>\n",
       "    <tr>\n",
       "      <th>3</th>\n",
       "      <td>GP</td>\n",
       "      <td>F</td>\n",
       "      <td>15</td>\n",
       "      <td>U</td>\n",
       "      <td>GT3</td>\n",
       "      <td>T</td>\n",
       "      <td>4</td>\n",
       "      <td>2</td>\n",
       "      <td>health</td>\n",
       "      <td>services</td>\n",
       "      <td>...</td>\n",
       "      <td>3</td>\n",
       "      <td>2</td>\n",
       "      <td>2</td>\n",
       "      <td>1</td>\n",
       "      <td>1</td>\n",
       "      <td>5</td>\n",
       "      <td>2</td>\n",
       "      <td>15</td>\n",
       "      <td>14</td>\n",
       "      <td>15</td>\n",
       "    </tr>\n",
       "    <tr>\n",
       "      <th>4</th>\n",
       "      <td>GP</td>\n",
       "      <td>F</td>\n",
       "      <td>16</td>\n",
       "      <td>U</td>\n",
       "      <td>GT3</td>\n",
       "      <td>T</td>\n",
       "      <td>3</td>\n",
       "      <td>3</td>\n",
       "      <td>other</td>\n",
       "      <td>other</td>\n",
       "      <td>...</td>\n",
       "      <td>4</td>\n",
       "      <td>3</td>\n",
       "      <td>2</td>\n",
       "      <td>1</td>\n",
       "      <td>2</td>\n",
       "      <td>5</td>\n",
       "      <td>4</td>\n",
       "      <td>6</td>\n",
       "      <td>10</td>\n",
       "      <td>10</td>\n",
       "    </tr>\n",
       "  </tbody>\n",
       "</table>\n",
       "<p>5 rows × 33 columns</p>\n",
       "</div>"
      ],
      "text/plain": [
       "  school sex  age address famsize Pstatus  Medu  Fedu     Mjob      Fjob  ...  \\\n",
       "0     GP   F   18       U     GT3       A     4     4  at_home   teacher  ...   \n",
       "1     GP   F   17       U     GT3       T     1     1  at_home     other  ...   \n",
       "2     GP   F   15       U     LE3       T     1     1  at_home     other  ...   \n",
       "3     GP   F   15       U     GT3       T     4     2   health  services  ...   \n",
       "4     GP   F   16       U     GT3       T     3     3    other     other  ...   \n",
       "\n",
       "  famrel freetime  goout  Dalc  Walc health absences  G1  G2  G3  \n",
       "0      4        3      4     1     1      3        6   5   6   6  \n",
       "1      5        3      3     1     1      3        4   5   5   6  \n",
       "2      4        3      2     2     3      3       10   7   8  10  \n",
       "3      3        2      2     1     1      5        2  15  14  15  \n",
       "4      4        3      2     1     2      5        4   6  10  10  \n",
       "\n",
       "[5 rows x 33 columns]"
      ]
     },
     "execution_count": 10,
     "metadata": {},
     "output_type": "execute_result"
    }
   ],
   "source": [
    "data = pd.read_csv('student-mat.csv',sep=';')\n",
    "print(data.shape)\n",
    "data.head()"
   ]
  },
  {
   "cell_type": "markdown",
   "metadata": {},
   "source": [
    "The database has 33 variables. We are going to work with a subset of them:\n",
    "\n",
    "- **school**: student's school (***`binary`***: 'GP' or 'MS')\n",
    "- **sex**: student's sex (***`binary`***: 'F' - female or 'M' - male)\n",
    "- **age**: student's age (***`numeric`***: from 15 to 22)\n",
    "- **Pstatus**: parent's cohabitation status (***`binary`***: 'T' - living together or 'A' - apart)\n",
    "- **studytime**: weekly study time (***`numeric`***: 1 - <2 hours, 2 - 2 to 5 hours, 3 - 5 to 10 hours, or 4 - >10 hours)\n",
    "- **schoolsup**: extra educational support (***`binary`***: yes or no)\n",
    "- **internet**: Internet access at home (***`binary`***: yes or no)\n",
    "- **G1**: first period grade (***`numeric`***: from 0 to 20)\n",
    "- **G2**: second period grade (***`numeric`***: from 0 to 20)\n",
    "- **G3**: final grade (***`numeric`***: from 0 to 20, output target)"
   ]
  },
  {
   "cell_type": "code",
   "execution_count": 11,
   "metadata": {},
   "outputs": [
    {
     "name": "stdout",
     "output_type": "stream",
     "text": [
      "(395, 10)\n"
     ]
    },
    {
     "data": {
      "text/html": [
       "<div>\n",
       "<style scoped>\n",
       "    .dataframe tbody tr th:only-of-type {\n",
       "        vertical-align: middle;\n",
       "    }\n",
       "\n",
       "    .dataframe tbody tr th {\n",
       "        vertical-align: top;\n",
       "    }\n",
       "\n",
       "    .dataframe thead th {\n",
       "        text-align: right;\n",
       "    }\n",
       "</style>\n",
       "<table border=\"1\" class=\"dataframe\">\n",
       "  <thead>\n",
       "    <tr style=\"text-align: right;\">\n",
       "      <th></th>\n",
       "      <th>school</th>\n",
       "      <th>sex</th>\n",
       "      <th>age</th>\n",
       "      <th>Pstatus</th>\n",
       "      <th>studytime</th>\n",
       "      <th>schoolsup</th>\n",
       "      <th>internet</th>\n",
       "      <th>G1</th>\n",
       "      <th>G2</th>\n",
       "      <th>G3</th>\n",
       "    </tr>\n",
       "  </thead>\n",
       "  <tbody>\n",
       "    <tr>\n",
       "      <th>0</th>\n",
       "      <td>GP</td>\n",
       "      <td>F</td>\n",
       "      <td>18</td>\n",
       "      <td>A</td>\n",
       "      <td>2</td>\n",
       "      <td>yes</td>\n",
       "      <td>no</td>\n",
       "      <td>5</td>\n",
       "      <td>6</td>\n",
       "      <td>6</td>\n",
       "    </tr>\n",
       "    <tr>\n",
       "      <th>1</th>\n",
       "      <td>GP</td>\n",
       "      <td>F</td>\n",
       "      <td>17</td>\n",
       "      <td>T</td>\n",
       "      <td>2</td>\n",
       "      <td>no</td>\n",
       "      <td>yes</td>\n",
       "      <td>5</td>\n",
       "      <td>5</td>\n",
       "      <td>6</td>\n",
       "    </tr>\n",
       "    <tr>\n",
       "      <th>2</th>\n",
       "      <td>GP</td>\n",
       "      <td>F</td>\n",
       "      <td>15</td>\n",
       "      <td>T</td>\n",
       "      <td>2</td>\n",
       "      <td>yes</td>\n",
       "      <td>yes</td>\n",
       "      <td>7</td>\n",
       "      <td>8</td>\n",
       "      <td>10</td>\n",
       "    </tr>\n",
       "    <tr>\n",
       "      <th>3</th>\n",
       "      <td>GP</td>\n",
       "      <td>F</td>\n",
       "      <td>15</td>\n",
       "      <td>T</td>\n",
       "      <td>3</td>\n",
       "      <td>no</td>\n",
       "      <td>yes</td>\n",
       "      <td>15</td>\n",
       "      <td>14</td>\n",
       "      <td>15</td>\n",
       "    </tr>\n",
       "    <tr>\n",
       "      <th>4</th>\n",
       "      <td>GP</td>\n",
       "      <td>F</td>\n",
       "      <td>16</td>\n",
       "      <td>T</td>\n",
       "      <td>2</td>\n",
       "      <td>no</td>\n",
       "      <td>no</td>\n",
       "      <td>6</td>\n",
       "      <td>10</td>\n",
       "      <td>10</td>\n",
       "    </tr>\n",
       "  </tbody>\n",
       "</table>\n",
       "</div>"
      ],
      "text/plain": [
       "  school sex  age Pstatus  studytime schoolsup internet  G1  G2  G3\n",
       "0     GP   F   18       A          2       yes       no   5   6   6\n",
       "1     GP   F   17       T          2        no      yes   5   5   6\n",
       "2     GP   F   15       T          2       yes      yes   7   8  10\n",
       "3     GP   F   15       T          3        no      yes  15  14  15\n",
       "4     GP   F   16       T          2        no       no   6  10  10"
      ]
     },
     "execution_count": 11,
     "metadata": {},
     "output_type": "execute_result"
    }
   ],
   "source": [
    "data = data[['school','sex','age','Pstatus','studytime','schoolsup','internet','G1','G2','G3']]\n",
    "print(data.shape)\n",
    "data.head()"
   ]
  },
  {
   "cell_type": "markdown",
   "metadata": {},
   "source": [
    "We want to know if the internet use for students is superior to 80%.\n",
    "\n",
    "Let's analyze the values of the variable `internet`."
   ]
  },
  {
   "cell_type": "code",
   "execution_count": 12,
   "metadata": {},
   "outputs": [
    {
     "data": {
      "text/plain": [
       "array(['no', 'yes'], dtype=object)"
      ]
     },
     "execution_count": 12,
     "metadata": {},
     "output_type": "execute_result"
    }
   ],
   "source": [
    "data.internet.unique()"
   ]
  },
  {
   "cell_type": "markdown",
   "metadata": {},
   "source": [
    "Let's create a new variable: `internet` with `1` if `yes`, and `0` if `no`."
   ]
  },
  {
   "cell_type": "code",
   "execution_count": 13,
   "metadata": {},
   "outputs": [],
   "source": [
    "internet = [1 if data.internet[k]=='yes' else 0 for k in range(data.shape[0])]"
   ]
  },
  {
   "cell_type": "code",
   "execution_count": 14,
   "metadata": {},
   "outputs": [
    {
     "name": "stdout",
     "output_type": "stream",
     "text": [
      "--- One sample z-test for proportion ---\n",
      "    Ho: prop =  1.0\n",
      "    Ha: prop >  0.8\n",
      "Sample proportion = 0.833\n",
      "z-value = 1.753    p-value = 0.0398\n",
      "0.0398 <= 0.05 We are rejecting the null hypothesis.\n"
     ]
    }
   ],
   "source": [
    "one_sample_prop(internet, 0.8, alternative='larger')"
   ]
  },
  {
   "cell_type": "markdown",
   "metadata": {},
   "source": [
    "We reject the null hypothesis; therefore, the proportion of students with the internet is greater than 80%.\n",
    "\n",
    "Is it greater than 90%?"
   ]
  },
  {
   "cell_type": "code",
   "execution_count": 15,
   "metadata": {},
   "outputs": [
    {
     "name": "stdout",
     "output_type": "stream",
     "text": [
      "--- One sample z-test for proportion ---\n",
      "    Ho: prop =  1.0\n",
      "    Ha: prop >  0.9\n",
      "Sample proportion = 0.833\n",
      "z-value = -3.574    p-value = 0.9998\n",
      "0.9998 > 0.05 We have no reasons to reject the null hypothesis.\n"
     ]
    }
   ],
   "source": [
    "one_sample_prop(internet, 0.9, alternative='larger')"
   ]
  },
  {
   "cell_type": "markdown",
   "metadata": {},
   "source": [
    "We do not reject Ho; therefore, the proportion of students with internet is not greater than 90%."
   ]
  },
  {
   "cell_type": "markdown",
   "metadata": {},
   "source": [
    "## One Sample Z test for the Mean"
   ]
  },
  {
   "cell_type": "markdown",
   "metadata": {},
   "source": [
    "One sample z-test determines whether a particular population parameter, mostly the mean, is significantly different from an assumed value. The test is valid when the sample comes from a normal distribution. It is a parametric test.\n",
    "\n",
    "We would use a `z-test` if:\n",
    "- Our sample size is greater than 30. Otherwise, use a t-test.\n",
    "- Data points should be independent of each other\n",
    "- Our data is normally distributed.\n",
    "- Our data should be randomly selected from a population where each item has an equal chance of being selected."
   ]
  },
  {
   "cell_type": "code",
   "execution_count": 16,
   "metadata": {},
   "outputs": [],
   "source": [
    "def one_sample_ztest(sample, population_value, alpha=0.05, alternative='two-sided'):    \n",
    "    '''\n",
    "    z-test for one mean\n",
    "    sample:      list of values\n",
    "    pop_value:   poblational mean\n",
    "    alpha:       significance level\n",
    "    alternative: one of the three values: 'two-sided', 'smaller', and 'larger'    \n",
    "    '''\n",
    "    sigHa = {'two-sided':'!=', 'smaller':'< ', 'larger':'> '}\n",
    "    print('--- One sample z-test ---')\n",
    "    print('    Ho: mean = ', np.round(population_value,2))\n",
    "    print('    Ha: mean', sigHa[alternative], np.round(population_value,2))    \n",
    "    print('Sample Mean = %.2f' %(np.mean(sample)))\n",
    "    z_stat, pval = stests.ztest(x1=sample, value=population_value, alternative=alternative)\n",
    "    print('z-value = %.3f    p-value = %.4f' %(z_stat, pval))\n",
    "    if pval < alpha:    \n",
    "        print(\"%.4f <= %.2f We are rejecting the null hypothesis.\" %(pval, alpha))\n",
    "    else:\n",
    "        print(\"%.4f > %.2f We have no reasons to reject the null hypothesis.\" %(pval, alpha))"
   ]
  },
  {
   "cell_type": "markdown",
   "metadata": {},
   "source": [
    "**Example 3**: Let us generate fictitious students' heights and work with them."
   ]
  },
  {
   "cell_type": "code",
   "execution_count": 17,
   "metadata": {},
   "outputs": [],
   "source": [
    "# Generating data\n",
    "np.random.seed(0)\n",
    "h2 = np.random.normal(165,7,50)"
   ]
  },
  {
   "cell_type": "code",
   "execution_count": 18,
   "metadata": {},
   "outputs": [
    {
     "data": {
      "image/png": "[encoded data removed]",
      "text/plain": [
       "<Figure size 360x360 with 1 Axes>"
      ]
     },
     "metadata": {},
     "output_type": "display_data"
    }
   ],
   "source": [
    "ax = sns.displot(x=h2, color='lightskyblue')\n",
    "plt.axvline(x=np.mean(h2))\n",
    "ax.set(title=\"Students' heights\");"
   ]
  },
  {
   "cell_type": "code",
   "execution_count": 19,
   "metadata": {},
   "outputs": [
    {
     "name": "stdout",
     "output_type": "stream",
     "text": [
      "--- One sample z-test ---\n",
      "    Ho: mean =  170\n",
      "    Ha: mean != 170\n",
      "Sample Mean = 165.98\n",
      "z-value = -3.568    p-value = 0.0004\n",
      "0.0004 <= 0.05 We are rejecting the null hypothesis.\n"
     ]
    }
   ],
   "source": [
    "# Determining whether the students' heights h2 is 170 on average\n",
    "one_sample_ztest(h2, 170, alternative='two-sided')"
   ]
  },
  {
   "cell_type": "markdown",
   "metadata": {},
   "source": [
    "The average student's height is not 170.\n",
    "\n",
    "Let us determine whether h2 is lesser than 170.\n"
   ]
  },
  {
   "cell_type": "code",
   "execution_count": 20,
   "metadata": {},
   "outputs": [
    {
     "name": "stdout",
     "output_type": "stream",
     "text": [
      "--- One sample z-test ---\n",
      "    Ho: mean =  170\n",
      "    Ha: mean <  170\n",
      "Sample Mean = 165.98\n",
      "z-value = -3.568    p-value = 0.0002\n",
      "0.0002 <= 0.05 We are rejecting the null hypothesis.\n"
     ]
    }
   ],
   "source": [
    "one_sample_ztest(h2, 170, alternative='smaller')"
   ]
  },
  {
   "cell_type": "markdown",
   "metadata": {},
   "source": [
    "We reject the null hypothesis; therefore, the average student's height is lesser than 170."
   ]
  },
  {
   "cell_type": "markdown",
   "metadata": {},
   "source": [
    "**Example 4**: Let us determine whether the grade G1 on average is 11."
   ]
  },
  {
   "cell_type": "code",
   "execution_count": 21,
   "metadata": {},
   "outputs": [
    {
     "name": "stdout",
     "output_type": "stream",
     "text": [
      "--- One sample z-test ---\n",
      "    Ho: mean =  11\n",
      "    Ha: mean != 11\n",
      "Sample Mean = 10.91\n",
      "z-value = -0.546    p-value = 0.5853\n",
      "0.5853 > 0.05 We have no reasons to reject the null hypothesis.\n"
     ]
    }
   ],
   "source": [
    "one_sample_ztest(data.G1, 11)"
   ]
  },
  {
   "cell_type": "markdown",
   "metadata": {},
   "source": [
    "There are no reasons for thinking it is not."
   ]
  },
  {
   "cell_type": "markdown",
   "metadata": {},
   "source": [
    "## One Sample t-test for the Mean"
   ]
  },
  {
   "cell_type": "markdown",
   "metadata": {},
   "source": [
    "The one-sample t-test determines whether the sample mean is statistically different from a known or hypothesized population mean. The test is valid when the sample comes from a normal distribution. It is a parametric test.\n",
    "\n",
    "We usually use the t-test when our sample size is less than 30, but that is not a hard rule."
   ]
  },
  {
   "cell_type": "markdown",
   "metadata": {},
   "source": [
    "**Example 5**: Suppose we have 20 student heights, and we are checking whether the average height is 170 cm or not."
   ]
  },
  {
   "cell_type": "code",
   "execution_count": 22,
   "metadata": {},
   "outputs": [
    {
     "data": {
      "text/plain": [
       "array([177.82026173, 171.00078604, 173.89368992, 180.204466  ,\n",
       "       178.33778995, 164.1136106 , 173.75044209, 168.24321396,\n",
       "       168.48390574, 171.05299251, 169.72021786, 176.27136753,\n",
       "       172.80518863, 169.60837508, 171.21931616, 170.66837164,\n",
       "       176.47039537, 167.97420868, 170.56533851, 164.7295213 ])"
      ]
     },
     "execution_count": 22,
     "metadata": {},
     "output_type": "execute_result"
    }
   ],
   "source": [
    "# Generating data\n",
    "np.random.seed(0)\n",
    "h = np.random.normal(169,5,20)\n",
    "h"
   ]
  },
  {
   "cell_type": "code",
   "execution_count": 23,
   "metadata": {},
   "outputs": [
    {
     "data": {
      "image/png": "[encoded data removed]",
      "text/plain": [
       "<Figure size 360x360 with 1 Axes>"
      ]
     },
     "metadata": {},
     "output_type": "display_data"
    }
   ],
   "source": [
    "# Plotting the students' height distribution\n",
    "ax = sns.displot(x=h)\n",
    "ax.set(title=\"Students' heights\");"
   ]
  },
  {
   "cell_type": "markdown",
   "metadata": {},
   "source": [
    "We want to know whether the mean student's height is 170.\n",
    "\n",
    "Let us use the traditional one-sample t-test with `st.ttest_1samp`."
   ]
  },
  {
   "cell_type": "code",
   "execution_count": 24,
   "metadata": {},
   "outputs": [],
   "source": [
    "def one_sample_ttest(sample, population_value, alpha=0.05, alternative='two-sided'):\n",
    "    '''\n",
    "    t-Test for one mean\n",
    "    sample:      list of values\n",
    "    pop_value:   poblational mean\n",
    "    alpha:       significance level\n",
    "    alternative: one of the three values: 'two-sided', 'smaller', and 'larger'\n",
    "    '''\n",
    "    sigHa = {'two-sided':'!=', 'smaller':'< ', 'larger':'> '}\n",
    "    print('--- One sample t-test ---')\n",
    "    print('    Ho: mean = ', np.round(population_value,2))\n",
    "    print('    Ha: mean', sigHa[alternative], np.round(population_value,2))    \n",
    "    print('Sample Mean = %.2f' %(np.mean(sample)))\n",
    "    alt={'two-sided':'two-sided','smaller':'less','larger':'greater'}\n",
    "    t_stat, pval = st.ttest_1samp(sample, population_value, alternative=alt[alternative])\n",
    "    print('t-value = %.3f    p-value = %.4f' %(t_stat, pval))\n",
    "    if pval < alpha:    \n",
    "        print(\"%.4f <= %.2f We are rejecting the null hypothesis.\" %(pval, alpha))\n",
    "    else:\n",
    "        print(\"%.4f > %.2f We have no reasons to reject the null hypothesis.\" %(pval, alpha))"
   ]
  },
  {
   "cell_type": "code",
   "execution_count": 25,
   "metadata": {
    "tags": []
   },
   "outputs": [
    {
     "name": "stdout",
     "output_type": "stream",
     "text": [
      "--- One sample t-test ---\n",
      "    Ho: mean =  170\n",
      "    Ha: mean != 170\n",
      "Sample Mean = 171.85\n",
      "t-value = 1.894    p-value = 0.0736\n",
      "0.0736 > 0.05 We have no reasons to reject the null hypothesis.\n"
     ]
    }
   ],
   "source": [
    "one_sample_ttest(h, 170)"
   ]
  },
  {
   "cell_type": "code",
   "execution_count": 26,
   "metadata": {},
   "outputs": [
    {
     "name": "stdout",
     "output_type": "stream",
     "text": [
      "--- One sample t-test ---\n",
      "    Ho: mean =  170\n",
      "    Ha: mean <  170\n",
      "Sample Mean = 171.85\n",
      "t-value = 1.894    p-value = 0.9632\n",
      "0.9632 > 0.05 We have no reasons to reject the null hypothesis.\n"
     ]
    }
   ],
   "source": [
    "one_sample_ttest(h, 170, alternative='smaller')"
   ]
  },
  {
   "cell_type": "code",
   "execution_count": 27,
   "metadata": {},
   "outputs": [
    {
     "name": "stdout",
     "output_type": "stream",
     "text": [
      "--- One sample t-test ---\n",
      "    Ho: mean =  170\n",
      "    Ha: mean >  170\n",
      "Sample Mean = 171.85\n",
      "t-value = 1.894    p-value = 0.0368\n",
      "0.0368 <= 0.05 We are rejecting the null hypothesis.\n"
     ]
    }
   ],
   "source": [
    "one_sample_ttest(h, 170, alternative='larger')"
   ]
  },
  {
   "cell_type": "markdown",
   "metadata": {},
   "source": [
    "We want to know whether the average student's height is 160 cm."
   ]
  },
  {
   "cell_type": "code",
   "execution_count": 28,
   "metadata": {},
   "outputs": [
    {
     "name": "stdout",
     "output_type": "stream",
     "text": [
      "--- One sample t-test ---\n",
      "    Ho: mean =  160\n",
      "    Ha: mean != 160\n",
      "Sample Mean = 171.85\n",
      "t-value = 12.148    p-value = 0.0000\n",
      "0.0000 <= 0.05 We are rejecting the null hypothesis.\n"
     ]
    }
   ],
   "source": [
    "one_sample_ttest(h, 160)"
   ]
  },
  {
   "cell_type": "markdown",
   "metadata": {},
   "source": [
    "We reject the null hypothesis; therefore, `h` on average is not 160.\n",
    "\n",
    "Let us create another function with a graphic representation of the hypothesis test."
   ]
  },
  {
   "cell_type": "markdown",
   "metadata": {},
   "source": [
    "Let's create another function, with a graphic representation of the hypothesis test."
   ]
  },
  {
   "cell_type": "code",
   "execution_count": 29,
   "metadata": {},
   "outputs": [],
   "source": [
    "def graph_one_sample_ttest(sample, population_value, alpha=0.05, alternative='two-sided'):\n",
    "    '''\n",
    "    Graph t-Test for one mean\n",
    "    sample:      list of values\n",
    "    pop_value:   poblational mean\n",
    "    alpha:       significance level\n",
    "    alternative: one of the three values: 'two-sided', 'smaller', and 'larger'\n",
    "    '''\n",
    "    sigHa = {'two-sided':'!=', 'smaller':'< ', 'larger':'> '}\n",
    "    print('--- One sample t-test ---')\n",
    "    print('    Ha: mean = ', np.round(population_value,2))\n",
    "    print('    Ha: mean', sigHa[alternative], np.round(population_value,2))    \n",
    "    print('Sample Mean = %.2f' %(np.mean(sample)))\n",
    "    alt={'two-sided':'two-sided','smaller':'less','larger':'greater'}\n",
    "    t_stat, pval = st.ttest_1samp(sample, population_value, alternative=alt[alternative])\n",
    "    print('t-value = %.3f    p-value = %.4f' %(t_stat, pval))\n",
    "    if pval < alpha:    \n",
    "        print(\"%.4f <= %.2f We are rejecting the null hypothesis\" %(pval, alpha))\n",
    "    else:\n",
    "        print(\"%.4f > %.2f We have no reasons to reject the null hypothesis\" %(pval, alpha))\n",
    "    df = len(sample) - 1    \n",
    "    if alternative=='two-sided':                    # plotting the graph with two critical regions\n",
    "        cv1 = st.t.ppf(alpha/2,df)                  # left critical value \n",
    "        cv2 = st.t.ppf(1-alpha/2,df)                # right critical value \n",
    "        x1 = np.arange(-4, cv1, 0.01)\n",
    "        plt.fill_between(x=x1, y1=st.t.pdf(x1,df), facecolor='red', alpha=0.6) \n",
    "        x2 = np.arange(cv1, cv2, 0.01)   \n",
    "        plt.fill_between(x=x2, y1=st.t.pdf(x2,df), facecolor='lightskyblue', alpha=0.5) \n",
    "        x3 = np.arange(cv2, 4, 0.01)   \n",
    "        plt.fill_between(x=x3, y1=st.t.pdf(x3,df), facecolor='red', alpha=0.6)  \n",
    "        plt.plot(t_stat, 0.005, 'o', color='black') # plotting the statistic t_stat\n",
    "    elif alternative=='smaller':                    # plotting the graph with left critical region\n",
    "        cv1 = st.t.ppf(alpha,df)                    # left critical value\n",
    "        x1 = np.arange(-4, cv1, 0.01)\n",
    "        plt.fill_between(x=x1, y1=st.t.pdf(x1,df), facecolor='red', alpha=0.6)\n",
    "        x2 = np.arange(cv1, 4, 0.01)   \n",
    "        plt.fill_between(x=x2, y1=st.t.pdf(x2,df), facecolor='lightskyblue', alpha=0.5) \n",
    "        plt.plot(t_stat, 0.005, 'o', color='black') # plotting the statistic t_stat\n",
    "    else:                                           # plotting the graph with right critical region\n",
    "        cv1 = st.t.ppf(1-alpha,df)                  # right critical value\n",
    "        x1 = np.arange(-4, cv1, 0.01)\n",
    "        plt.fill_between(x=x1, y1=st.t.pdf(x1,df), facecolor='lightskyblue', alpha=0.5)\n",
    "        x2 = np.arange(cv1, 4, 0.01)   \n",
    "        plt.fill_between(x=x2, y1=st.t.pdf(x2,df), facecolor='red', alpha=0.6) \n",
    "        plt.plot(t_stat, 0.005, 'o', color='black') # plotting the statistic t_stat     "
   ]
  },
  {
   "cell_type": "code",
   "execution_count": 30,
   "metadata": {},
   "outputs": [
    {
     "name": "stdout",
     "output_type": "stream",
     "text": [
      "--- One sample t-test ---\n",
      "    Ha: mean =  165\n",
      "    Ha: mean != 165\n",
      "Sample Mean = 165.98\n",
      "t-value = 0.874    p-value = 0.3863\n",
      "0.3863 > 0.05 We have no reasons to reject the null hypothesis\n"
     ]
    },
    {
     "data": {
      "image/png": "[encoded data removed]",
      "text/plain": [
       "<Figure size 432x288 with 1 Axes>"
      ]
     },
     "metadata": {},
     "output_type": "display_data"
    }
   ],
   "source": [
    "graph_one_sample_ttest(h2, 165)"
   ]
  },
  {
   "cell_type": "code",
   "execution_count": 31,
   "metadata": {},
   "outputs": [
    {
     "name": "stdout",
     "output_type": "stream",
     "text": [
      "--- One sample t-test ---\n",
      "    Ha: mean =  165\n",
      "    Ha: mean <  165\n",
      "Sample Mean = 165.98\n",
      "t-value = 0.874    p-value = 0.8069\n",
      "0.8069 > 0.05 We have no reasons to reject the null hypothesis\n"
     ]
    },
    {
     "data": {
      "image/png": "[encoded data removed]",
      "text/plain": [
       "<Figure size 432x288 with 1 Axes>"
      ]
     },
     "metadata": {},
     "output_type": "display_data"
    }
   ],
   "source": [
    "graph_one_sample_ttest(h2, 165, alternative='smaller')"
   ]
  },
  {
   "cell_type": "code",
   "execution_count": 32,
   "metadata": {},
   "outputs": [
    {
     "name": "stdout",
     "output_type": "stream",
     "text": [
      "--- One sample t-test ---\n",
      "    Ha: mean =  165\n",
      "    Ha: mean >  165\n",
      "Sample Mean = 165.98\n",
      "t-value = 0.874    p-value = 0.1931\n",
      "0.1931 > 0.05 We have no reasons to reject the null hypothesis\n"
     ]
    },
    {
     "data": {
      "image/png": "[encoded data removed]",
      "text/plain": [
       "<Figure size 432x288 with 1 Axes>"
      ]
     },
     "metadata": {},
     "output_type": "display_data"
    }
   ],
   "source": [
    "graph_one_sample_ttest(h2, 165, alternative='larger')"
   ]
  },
  {
   "cell_type": "code",
   "execution_count": 33,
   "metadata": {},
   "outputs": [
    {
     "name": "stdout",
     "output_type": "stream",
     "text": [
      "--- One sample t-test ---\n",
      "    Ha: mean =  170\n",
      "    Ha: mean >  170\n",
      "Sample Mean = 165.98\n",
      "t-value = -3.568    p-value = 0.9996\n",
      "0.9996 > 0.05 We have no reasons to reject the null hypothesis\n"
     ]
    },
    {
     "data": {
      "image/png": "[encoded data removed]",
      "text/plain": [
       "<Figure size 432x288 with 1 Axes>"
      ]
     },
     "metadata": {},
     "output_type": "display_data"
    }
   ],
   "source": [
    "graph_one_sample_ttest(h2, 170, alternative='larger')"
   ]
  },
  {
   "cell_type": "code",
   "execution_count": 34,
   "metadata": {},
   "outputs": [
    {
     "name": "stdout",
     "output_type": "stream",
     "text": [
      "--- One sample t-test ---\n",
      "    Ha: mean =  170\n",
      "    Ha: mean <  170\n",
      "Sample Mean = 165.98\n",
      "t-value = -3.568    p-value = 0.0004\n",
      "0.0004 <= 0.05 We are rejecting the null hypothesis\n"
     ]
    },
    {
     "data": {
      "image/png": "[encoded data removed]",
      "text/plain": [
       "<Figure size 432x288 with 1 Axes>"
      ]
     },
     "metadata": {},
     "output_type": "display_data"
    }
   ],
   "source": [
    "graph_one_sample_ttest(h2, 170, alternative='smaller')"
   ]
  },
  {
   "cell_type": "code",
   "execution_count": 35,
   "metadata": {},
   "outputs": [
    {
     "name": "stdout",
     "output_type": "stream",
     "text": [
      "--- One sample t-test ---\n",
      "    Ha: mean =  170\n",
      "    Ha: mean >  170\n",
      "Sample Mean = 165.98\n",
      "t-value = -3.568    p-value = 0.9996\n",
      "0.9996 > 0.05 We have no reasons to reject the null hypothesis\n"
     ]
    },
    {
     "data": {
      "image/png": "[encoded data removed]",
      "text/plain": [
       "<Figure size 432x288 with 1 Axes>"
      ]
     },
     "metadata": {},
     "output_type": "display_data"
    }
   ],
   "source": [
    "graph_one_sample_ttest(h2, 170, alternative='larger')"
   ]
  },
  {
   "cell_type": "markdown",
   "metadata": {},
   "source": [
    "References:\n",
    "- Dekking, F.M. et.al. (2005) A Modern Introduction to Probability and Statistics, USA: Springer\n",
    "- Good, P. (2005) Permutation, Parametric, and Bootstrap Tests of Hypothesis, Third Edition, USA: Springer Series in Statistics"
   ]
  }
 ],
 "metadata": {
  "interpreter": {
   "hash": "7f2633a0dd9fad194999ffc17b7b93627efd4bccf6144e14bc5fef7dfd0c6355"
  },
  "kernelspec": {
   "display_name": "Python 3.10.4 64-bit",
   "language": "python",
   "name": "python3"
  },
  "language_info": {
   "codemirror_mode": {
    "name": "ipython",
    "version": 3
   },
   "file_extension": ".py",
   "mimetype": "text/x-python",
   "name": "python",
   "nbconvert_exporter": "python",
   "pygments_lexer": "ipython3",
   "version": "3.10.4"
  },
  "orig_nbformat": 2
 },
 "nbformat": 4,
 "nbformat_minor": 2
}
