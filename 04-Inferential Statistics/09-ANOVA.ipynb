{
 "cells": [
  {
   "cell_type": "markdown",
   "metadata": {},
   "source": [
    "# Analysis of Variance Test (ANOVA)"
   ]
  },
  {
   "cell_type": "markdown",
   "metadata": {},
   "source": [
    "- Oneway ANOVA\n",
    "- Tuckey's Test\n",
    "- Kruskal-Wallis H Test\n",
    "- Friedman Test"
   ]
  },
  {
   "cell_type": "markdown",
   "metadata": {},
   "source": [
    "## Oneway ANOVA"
   ]
  },
  {
   "cell_type": "markdown",
   "metadata": {},
   "source": [
    "`Analysis of variance (ANOVA)` is a collection of statistical models and their associated estimation procedures (such as the \"variation\" among and between groups) used to analyze the differences among group means in a sample. \n",
    "\n",
    "ANOVA was developed by the statistician Ronald Fisher.\n",
    "\n",
    "Assumptions\n",
    "- Observations in each sample are independent and identically distributed (iid).\n",
    "- Observations in each sample are normally distributed.\n",
    "- Observations in each sample have the same variance.\n",
    "\n",
    "Interpretation\n",
    "- Ho: the means of the samples are equal.\n",
    "- Ha: one or more of the means of the samples are unequal."
   ]
  },
  {
   "cell_type": "code",
   "execution_count": 1,
   "metadata": {},
   "outputs": [],
   "source": [
    "import numpy as np\n",
    "import pandas as pd\n",
    "import matplotlib.pyplot as plt\n",
    "import seaborn as sns; \n",
    "sns.set_style(\"whitegrid\")  \n",
    "from scipy import stats as st"
   ]
  },
  {
   "cell_type": "code",
   "execution_count": 2,
   "metadata": {},
   "outputs": [],
   "source": [
    "# Set the random number generator to a fixed sequence.\n",
    "np.random.seed(50) "
   ]
  },
  {
   "cell_type": "code",
   "execution_count": 3,
   "metadata": {},
   "outputs": [],
   "source": [
    "g1_grades = np.random.normal(80, 6, size=50)\n",
    "g2_grades = np.random.normal(81, 4, size=48)\n",
    "g3_grades = np.random.normal(82, 5, size=52)"
   ]
  },
  {
   "cell_type": "code",
   "execution_count": 4,
   "metadata": {},
   "outputs": [
    {
     "name": "stdout",
     "output_type": "stream",
     "text": [
      "g1_grades: Min = 70.00, Mean = 80.56, Max = 99.88\n",
      "g2_grades: Min = 65.76, Mean = 80.92, Max = 91.82\n",
      "g3_grades: Min = 69.78, Mean = 81.27, Max = 94.32\n"
     ]
    }
   ],
   "source": [
    "print('g1_grades: Min = %.2f, Mean = %.2f, Max = %.2f' %(g1_grades.min(), np.mean(g1_grades), g1_grades.max()))\n",
    "print('g2_grades: Min = %.2f, Mean = %.2f, Max = %.2f' %(g2_grades.min(), np.mean(g2_grades), g2_grades.max()))\n",
    "print('g3_grades: Min = %.2f, Mean = %.2f, Max = %.2f' %(g3_grades.min(), np.mean(g3_grades), g3_grades.max()))"
   ]
  },
  {
   "cell_type": "code",
   "execution_count": 5,
   "metadata": {},
   "outputs": [
    {
     "name": "stdout",
     "output_type": "stream",
     "text": [
      "(50, 2)\n"
     ]
    },
    {
     "data": {
      "text/html": [
       "<div>\n",
       "<style scoped>\n",
       "    .dataframe tbody tr th:only-of-type {\n",
       "        vertical-align: middle;\n",
       "    }\n",
       "\n",
       "    .dataframe tbody tr th {\n",
       "        vertical-align: top;\n",
       "    }\n",
       "\n",
       "    .dataframe thead th {\n",
       "        text-align: right;\n",
       "    }\n",
       "</style>\n",
       "<table border=\"1\" class=\"dataframe\">\n",
       "  <thead>\n",
       "    <tr style=\"text-align: right;\">\n",
       "      <th></th>\n",
       "      <th>Group</th>\n",
       "      <th>Grades</th>\n",
       "    </tr>\n",
       "  </thead>\n",
       "  <tbody>\n",
       "    <tr>\n",
       "      <th>0</th>\n",
       "      <td>1</td>\n",
       "      <td>70.637887</td>\n",
       "    </tr>\n",
       "    <tr>\n",
       "      <th>1</th>\n",
       "      <td>1</td>\n",
       "      <td>79.814134</td>\n",
       "    </tr>\n",
       "  </tbody>\n",
       "</table>\n",
       "</div>"
      ],
      "text/plain": [
       "   Group     Grades\n",
       "0      1  70.637887\n",
       "1      1  79.814134"
      ]
     },
     "execution_count": 5,
     "metadata": {},
     "output_type": "execute_result"
    }
   ],
   "source": [
    "# Creating a dataframe with g1_grades\n",
    "dfG1 = pd.DataFrame(columns=['Group','Grades'])\n",
    "dfG1['Grades'] = g1_grades\n",
    "dfG1['Group']  = 1\n",
    "print(dfG1.shape)\n",
    "dfG1.head(2)"
   ]
  },
  {
   "cell_type": "code",
   "execution_count": 6,
   "metadata": {},
   "outputs": [
    {
     "name": "stdout",
     "output_type": "stream",
     "text": [
      "(48, 2)\n"
     ]
    },
    {
     "data": {
      "text/html": [
       "<div>\n",
       "<style scoped>\n",
       "    .dataframe tbody tr th:only-of-type {\n",
       "        vertical-align: middle;\n",
       "    }\n",
       "\n",
       "    .dataframe tbody tr th {\n",
       "        vertical-align: top;\n",
       "    }\n",
       "\n",
       "    .dataframe thead th {\n",
       "        text-align: right;\n",
       "    }\n",
       "</style>\n",
       "<table border=\"1\" class=\"dataframe\">\n",
       "  <thead>\n",
       "    <tr style=\"text-align: right;\">\n",
       "      <th></th>\n",
       "      <th>Group</th>\n",
       "      <th>Grades</th>\n",
       "    </tr>\n",
       "  </thead>\n",
       "  <tbody>\n",
       "    <tr>\n",
       "      <th>0</th>\n",
       "      <td>2</td>\n",
       "      <td>77.827134</td>\n",
       "    </tr>\n",
       "    <tr>\n",
       "      <th>1</th>\n",
       "      <td>2</td>\n",
       "      <td>80.844658</td>\n",
       "    </tr>\n",
       "  </tbody>\n",
       "</table>\n",
       "</div>"
      ],
      "text/plain": [
       "   Group     Grades\n",
       "0      2  77.827134\n",
       "1      2  80.844658"
      ]
     },
     "execution_count": 6,
     "metadata": {},
     "output_type": "execute_result"
    }
   ],
   "source": [
    "# Creating a dataframe with g2_grades\n",
    "dfG2 = pd.DataFrame(columns=['Group','Grades'])\n",
    "dfG2['Grades'] = g2_grades\n",
    "dfG2['Group']  = 2\n",
    "print(dfG2.shape)\n",
    "dfG2.head(2)"
   ]
  },
  {
   "cell_type": "code",
   "execution_count": 7,
   "metadata": {},
   "outputs": [
    {
     "name": "stdout",
     "output_type": "stream",
     "text": [
      "(52, 2)\n"
     ]
    },
    {
     "data": {
      "text/html": [
       "<div>\n",
       "<style scoped>\n",
       "    .dataframe tbody tr th:only-of-type {\n",
       "        vertical-align: middle;\n",
       "    }\n",
       "\n",
       "    .dataframe tbody tr th {\n",
       "        vertical-align: top;\n",
       "    }\n",
       "\n",
       "    .dataframe thead th {\n",
       "        text-align: right;\n",
       "    }\n",
       "</style>\n",
       "<table border=\"1\" class=\"dataframe\">\n",
       "  <thead>\n",
       "    <tr style=\"text-align: right;\">\n",
       "      <th></th>\n",
       "      <th>Group</th>\n",
       "      <th>Grades</th>\n",
       "    </tr>\n",
       "  </thead>\n",
       "  <tbody>\n",
       "    <tr>\n",
       "      <th>0</th>\n",
       "      <td>3</td>\n",
       "      <td>86.332124</td>\n",
       "    </tr>\n",
       "    <tr>\n",
       "      <th>1</th>\n",
       "      <td>3</td>\n",
       "      <td>79.322322</td>\n",
       "    </tr>\n",
       "  </tbody>\n",
       "</table>\n",
       "</div>"
      ],
      "text/plain": [
       "   Group     Grades\n",
       "0      3  86.332124\n",
       "1      3  79.322322"
      ]
     },
     "execution_count": 7,
     "metadata": {},
     "output_type": "execute_result"
    }
   ],
   "source": [
    "# Creating a dataframe with g3_grades\n",
    "dfG3 = pd.DataFrame(columns=['Group','Grades'])\n",
    "dfG3['Grades'] = g3_grades\n",
    "dfG3['Group']  = 3\n",
    "print(dfG3.shape)\n",
    "dfG3.head(2)"
   ]
  },
  {
   "cell_type": "code",
   "execution_count": 8,
   "metadata": {},
   "outputs": [
    {
     "name": "stdout",
     "output_type": "stream",
     "text": [
      "(150, 2)\n"
     ]
    },
    {
     "data": {
      "text/html": [
       "<div>\n",
       "<style scoped>\n",
       "    .dataframe tbody tr th:only-of-type {\n",
       "        vertical-align: middle;\n",
       "    }\n",
       "\n",
       "    .dataframe tbody tr th {\n",
       "        vertical-align: top;\n",
       "    }\n",
       "\n",
       "    .dataframe thead th {\n",
       "        text-align: right;\n",
       "    }\n",
       "</style>\n",
       "<table border=\"1\" class=\"dataframe\">\n",
       "  <thead>\n",
       "    <tr style=\"text-align: right;\">\n",
       "      <th></th>\n",
       "      <th>Group</th>\n",
       "      <th>Grades</th>\n",
       "    </tr>\n",
       "  </thead>\n",
       "  <tbody>\n",
       "    <tr>\n",
       "      <th>0</th>\n",
       "      <td>1</td>\n",
       "      <td>70.637887</td>\n",
       "    </tr>\n",
       "    <tr>\n",
       "      <th>1</th>\n",
       "      <td>1</td>\n",
       "      <td>79.814134</td>\n",
       "    </tr>\n",
       "  </tbody>\n",
       "</table>\n",
       "</div>"
      ],
      "text/plain": [
       "   Group     Grades\n",
       "0      1  70.637887\n",
       "1      1  79.814134"
      ]
     },
     "execution_count": 8,
     "metadata": {},
     "output_type": "execute_result"
    }
   ],
   "source": [
    "frames = [dfG1, dfG2, dfG3]\n",
    "data = pd.concat(frames, ignore_index=True)\n",
    "print(data.shape)\n",
    "data.head(2)"
   ]
  },
  {
   "cell_type": "code",
   "execution_count": 9,
   "metadata": {},
   "outputs": [
    {
     "data": {
      "text/plain": [
       "1    50\n",
       "2    48\n",
       "3    52\n",
       "Name: Group, dtype: int64"
      ]
     },
     "execution_count": 9,
     "metadata": {},
     "output_type": "execute_result"
    }
   ],
   "source": [
    "# Counting\n",
    "data.Group.value_counts(sort=False)"
   ]
  },
  {
   "cell_type": "code",
   "execution_count": 10,
   "metadata": {},
   "outputs": [
    {
     "data": {
      "image/png": "[encoded data removed]",
      "text/plain": [
       "<Figure size 432x288 with 1 Axes>"
      ]
     },
     "metadata": {},
     "output_type": "display_data"
    }
   ],
   "source": [
    "data.Group.value_counts(sort=False).plot(kind='bar', rot=True, title='Groups');"
   ]
  },
  {
   "cell_type": "code",
   "execution_count": 11,
   "metadata": {},
   "outputs": [
    {
     "data": {
      "image/png": "[encoded data removed]",
      "text/plain": [
       "<Figure size 360x360 with 1 Axes>"
      ]
     },
     "metadata": {},
     "output_type": "display_data"
    }
   ],
   "source": [
    "sns.catplot(data=data, x='Group', y='Grades', kind='box');"
   ]
  },
  {
   "cell_type": "code",
   "execution_count": 12,
   "metadata": {},
   "outputs": [
    {
     "data": {
      "image/png": "[encoded data removed]",
      "text/plain": [
       "<Figure size 360x360 with 1 Axes>"
      ]
     },
     "metadata": {},
     "output_type": "display_data"
    }
   ],
   "source": [
    "sns.catplot(data=data, x='Group', y='Grades', kind='boxen');"
   ]
  },
  {
   "cell_type": "code",
   "execution_count": 13,
   "metadata": {},
   "outputs": [
    {
     "data": {
      "image/png": "[encoded data removed]",
      "text/plain": [
       "<Figure size 360x360 with 1 Axes>"
      ]
     },
     "metadata": {},
     "output_type": "display_data"
    }
   ],
   "source": [
    "sns.catplot(data=data, x='Group', y='Grades', kind='violin');"
   ]
  },
  {
   "cell_type": "code",
   "execution_count": 14,
   "metadata": {},
   "outputs": [
    {
     "data": {
      "image/png": "[encoded data removed]",
      "text/plain": [
       "<Figure size 576x432 with 1 Axes>"
      ]
     },
     "metadata": {},
     "output_type": "display_data"
    }
   ],
   "source": [
    "plt.figure(figsize=(8,6))\n",
    "plt.hist(g1_grades, alpha=0.3, density=True, label='G1')\n",
    "plt.hist(g2_grades, alpha=0.3, density=True, label='G2')\n",
    "plt.hist(g3_grades, alpha=0.3, density=True, label='G3')\n",
    "plt.legend();"
   ]
  },
  {
   "cell_type": "code",
   "execution_count": 15,
   "metadata": {
    "tags": []
   },
   "outputs": [
    {
     "name": "stdout",
     "output_type": "stream",
     "text": [
      "--- ANOVA test ---\n",
      "    Ho: the means of the samples are equals\n",
      "    Ha: there are at least two different means\n",
      "Sample 1:\tn =50\tMean = 80.56\tStdDev = 6.01\n",
      "Sample 2:\tn =48\tMean = 80.92\tStdDev = 4.63\n",
      "Sample 3:\tn =52\tMean = 81.27\tStdDev = 4.90\n",
      "f-value = 0.232    p-value = 0.7930\n",
      "0.7930 > 0.05 We have no reason to reject the null hypothesis\n"
     ]
    }
   ],
   "source": [
    "print('--- ANOVA test ---')\n",
    "print('    Ho: the means of the samples are equals')\n",
    "print('    Ha: there are at least two different means')\n",
    "print('Sample 1:\\tn =%i\\tMean = %.2f\\tStdDev = %.2f' %(len(g1_grades),np.mean(g1_grades), np.std(g1_grades)))\n",
    "print('Sample 2:\\tn =%i\\tMean = %.2f\\tStdDev = %.2f' %(len(g2_grades),np.mean(g2_grades), np.std(g2_grades)))\n",
    "print('Sample 3:\\tn =%i\\tMean = %.2f\\tStdDev = %.2f' %(len(g3_grades),np.mean(g3_grades), np.std(g3_grades)))\n",
    "stat, pval = st.f_oneway(g1_grades, g2_grades, g3_grades)\n",
    "print('f-value = %.3f    p-value = %.4f' %(stat, pval))\n",
    "alpha = 0.05\n",
    "if pval < alpha:    # alpha value is 0.05 or 5%\n",
    "    print(\"%.4f <= %.2f We are rejecting null hypothesis\" %(pval, alpha))\n",
    "else:\n",
    "    print(\"%.4f > %.2f We have no reason to reject the null hypothesis\" %(pval, alpha))"
   ]
  },
  {
   "cell_type": "code",
   "execution_count": 16,
   "metadata": {},
   "outputs": [
    {
     "name": "stdout",
     "output_type": "stream",
     "text": [
      "g4_grades: Min = 67.49, Mean = 73.47, Max = 81.08\n"
     ]
    }
   ],
   "source": [
    "g4_grades = np.random.normal(75, 4, size=23)\n",
    "print('g4_grades: Min = %.2f, Mean = %.2f, Max = %.2f' %(g4_grades.min(), np.mean(g4_grades), g4_grades.max()))"
   ]
  },
  {
   "cell_type": "code",
   "execution_count": 17,
   "metadata": {
    "tags": []
   },
   "outputs": [
    {
     "name": "stdout",
     "output_type": "stream",
     "text": [
      "--- ANOVA test ---\n",
      "    Ho: the means of the samples are equals\n",
      "    Ha: there are at least two different means\n",
      "Sample 1:\tn =50\tMean = 80.56\tStdDev = 6.01\n",
      "Sample 2:\tn =48\tMean = 80.92\tStdDev = 4.63\n",
      "Sample 3:\tn =52\tMean = 81.27\tStdDev = 4.90\n",
      "Sample 4:\tn =23\tMean = 73.47\tStdDev = 3.09\n",
      "f-value = 14.648    p-value = 0.0000\n",
      "0.0000 <= 0.05 We are rejecting null hypothesis\n"
     ]
    }
   ],
   "source": [
    "print('--- ANOVA test ---')\n",
    "print('    Ho: the means of the samples are equals')\n",
    "print('    Ha: there are at least two different means')\n",
    "print('Sample 1:\\tn =%i\\tMean = %.2f\\tStdDev = %.2f' %(len(g1_grades),np.mean(g1_grades), np.std(g1_grades)))\n",
    "print('Sample 2:\\tn =%i\\tMean = %.2f\\tStdDev = %.2f' %(len(g2_grades),np.mean(g2_grades), np.std(g2_grades)))\n",
    "print('Sample 3:\\tn =%i\\tMean = %.2f\\tStdDev = %.2f' %(len(g3_grades),np.mean(g3_grades), np.std(g3_grades)))\n",
    "print('Sample 4:\\tn =%i\\tMean = %.2f\\tStdDev = %.2f' %(len(g4_grades),np.mean(g4_grades), np.std(g4_grades)))\n",
    "stat, pval = st.f_oneway(g1_grades, g2_grades, g3_grades, g4_grades)\n",
    "print('f-value = %.3f    p-value = %.4f' %(stat, pval))\n",
    "alpha = 0.05\n",
    "if pval < alpha:    # alpha value is 0.05 or 5%\n",
    "    print(\"%.4f <= %.2f We are rejecting null hypothesis\" %(pval, alpha))\n",
    "else:\n",
    "    print(\"%.4f > %.2f We have no reason to reject the null hypothesis\" %(pval, alpha))"
   ]
  },
  {
   "cell_type": "code",
   "execution_count": 18,
   "metadata": {},
   "outputs": [
    {
     "data": {
      "image/png": "[encoded data removed]",
      "text/plain": [
       "<Figure size 576x432 with 1 Axes>"
      ]
     },
     "metadata": {},
     "output_type": "display_data"
    }
   ],
   "source": [
    "plt.figure(figsize=(8,6))\n",
    "plt.hist(g1_grades, alpha=0.5, density=True, label='G1')\n",
    "plt.hist(g2_grades, alpha=0.5, density=True, label='G2')\n",
    "plt.hist(g3_grades, alpha=0.5, density=True, label='G3')\n",
    "plt.hist(g4_grades, alpha=0.5, density=True, label='G4')\n",
    "plt.legend();"
   ]
  },
  {
   "cell_type": "markdown",
   "metadata": {},
   "source": [
    "### Tuckey's Test"
   ]
  },
  {
   "cell_type": "code",
   "execution_count": 19,
   "metadata": {},
   "outputs": [],
   "source": [
    "from statsmodels.stats.multicomp import pairwise_tukeyhsd"
   ]
  },
  {
   "cell_type": "code",
   "execution_count": 20,
   "metadata": {},
   "outputs": [],
   "source": [
    "tukey_test = pairwise_tukeyhsd( endog=data.Grades,  # Data\n",
    "                                groups=data.Group,  # Groups\n",
    "                                alpha=0.05)         # Significance level"
   ]
  },
  {
   "cell_type": "code",
   "execution_count": 21,
   "metadata": {},
   "outputs": [
    {
     "data": {
      "text/plain": [
       "array([0.93935769, 0.77462702, 0.94031661])"
      ]
     },
     "execution_count": 21,
     "metadata": {},
     "output_type": "execute_result"
    }
   ],
   "source": [
    "tukey_test.pvalues"
   ]
  },
  {
   "cell_type": "code",
   "execution_count": 22,
   "metadata": {},
   "outputs": [
    {
     "data": {
      "image/png": "[encoded data removed]",
      "text/plain": [
       "<Figure size 720x432 with 1 Axes>"
      ]
     },
     "metadata": {},
     "output_type": "display_data"
    }
   ],
   "source": [
    "# Plotting groups confidence intervals\n",
    "tukey_test.plot_simultaneous();"
   ]
  },
  {
   "cell_type": "code",
   "execution_count": 23,
   "metadata": {},
   "outputs": [
    {
     "data": {
      "text/html": [
       "<table class=\"simpletable\">\n",
       "<caption>Multiple Comparison of Means - Tukey HSD, FWER=0.05</caption>\n",
       "<tr>\n",
       "  <th>group1</th> <th>group2</th> <th>meandiff</th>  <th>p-adj</th>  <th>lower</th>   <th>upper</th> <th>reject</th>\n",
       "</tr>\n",
       "<tr>\n",
       "     <td>1</td>      <td>2</td>     <td>0.359</td>  <td>0.9394</td> <td>-2.1636</td> <td>2.8816</td>  <td>False</td>\n",
       "</tr>\n",
       "<tr>\n",
       "     <td>1</td>      <td>3</td>    <td>0.7117</td>  <td>0.7746</td> <td>-1.7609</td> <td>3.1843</td>  <td>False</td>\n",
       "</tr>\n",
       "<tr>\n",
       "     <td>2</td>      <td>3</td>    <td>0.3527</td>  <td>0.9403</td> <td>-2.146</td>  <td>2.8514</td>  <td>False</td>\n",
       "</tr>\n",
       "</table>"
      ],
      "text/plain": [
       "<class 'statsmodels.iolib.table.SimpleTable'>"
      ]
     },
     "execution_count": 23,
     "metadata": {},
     "output_type": "execute_result"
    }
   ],
   "source": [
    "tukey_test.summary()"
   ]
  },
  {
   "cell_type": "markdown",
   "metadata": {},
   "source": [
    "There are no significant differences among groups.\n",
    "\n",
    "In this case, it was not necessary to apply the Tukey Test because ANOVA test was not significant (p-value > 0.05).\n",
    "\n",
    "Let's see what happen with 4 groups:"
   ]
  },
  {
   "cell_type": "code",
   "execution_count": 24,
   "metadata": {},
   "outputs": [
    {
     "name": "stdout",
     "output_type": "stream",
     "text": [
      "(23, 2)\n"
     ]
    },
    {
     "data": {
      "text/html": [
       "<div>\n",
       "<style scoped>\n",
       "    .dataframe tbody tr th:only-of-type {\n",
       "        vertical-align: middle;\n",
       "    }\n",
       "\n",
       "    .dataframe tbody tr th {\n",
       "        vertical-align: top;\n",
       "    }\n",
       "\n",
       "    .dataframe thead th {\n",
       "        text-align: right;\n",
       "    }\n",
       "</style>\n",
       "<table border=\"1\" class=\"dataframe\">\n",
       "  <thead>\n",
       "    <tr style=\"text-align: right;\">\n",
       "      <th></th>\n",
       "      <th>Group</th>\n",
       "      <th>Grades</th>\n",
       "    </tr>\n",
       "  </thead>\n",
       "  <tbody>\n",
       "    <tr>\n",
       "      <th>0</th>\n",
       "      <td>4</td>\n",
       "      <td>73.695494</td>\n",
       "    </tr>\n",
       "    <tr>\n",
       "      <th>1</th>\n",
       "      <td>4</td>\n",
       "      <td>73.466842</td>\n",
       "    </tr>\n",
       "  </tbody>\n",
       "</table>\n",
       "</div>"
      ],
      "text/plain": [
       "   Group     Grades\n",
       "0      4  73.695494\n",
       "1      4  73.466842"
      ]
     },
     "execution_count": 24,
     "metadata": {},
     "output_type": "execute_result"
    }
   ],
   "source": [
    "dfG4 = pd.DataFrame(columns=['Group','Grades'])\n",
    "dfG4['Grades'] = g4_grades\n",
    "dfG4['Group']  = 4\n",
    "print(dfG4.shape)\n",
    "dfG4.head(2)"
   ]
  },
  {
   "cell_type": "code",
   "execution_count": 25,
   "metadata": {},
   "outputs": [
    {
     "name": "stdout",
     "output_type": "stream",
     "text": [
      "(173, 2)\n"
     ]
    }
   ],
   "source": [
    "# Concatenating\n",
    "data2 = pd.concat([data, dfG4], ignore_index=True)\n",
    "print(data2.shape)"
   ]
  },
  {
   "cell_type": "code",
   "execution_count": 26,
   "metadata": {},
   "outputs": [],
   "source": [
    "# Applying Tukey Test to the 4 groups\n",
    "tukey_test2 = pairwise_tukeyhsd(endog=data2.Grades,  # Data\n",
    "                                groups=data2.Group,  # Groups\n",
    "                                alpha=0.05)         # Significance level"
   ]
  },
  {
   "cell_type": "code",
   "execution_count": 27,
   "metadata": {},
   "outputs": [
    {
     "data": {
      "text/plain": [
       "array([9.84991971e-01, 8.92285808e-01, 5.79134018e-07, 9.85346686e-01,\n",
       "       1.74583994e-07, 2.91943389e-08])"
      ]
     },
     "execution_count": 27,
     "metadata": {},
     "output_type": "execute_result"
    }
   ],
   "source": [
    "tukey_test2.pvalues"
   ]
  },
  {
   "cell_type": "code",
   "execution_count": 28,
   "metadata": {},
   "outputs": [
    {
     "data": {
      "image/png": "[encoded data removed]",
      "text/plain": [
       "<Figure size 720x432 with 1 Axes>"
      ]
     },
     "metadata": {},
     "output_type": "display_data"
    }
   ],
   "source": [
    "tukey_test2.plot_simultaneous();"
   ]
  },
  {
   "cell_type": "markdown",
   "metadata": {},
   "source": [
    "There are significant differences between group 4 and the other three (groups 1, 2, and 3)."
   ]
  },
  {
   "cell_type": "code",
   "execution_count": 29,
   "metadata": {},
   "outputs": [
    {
     "data": {
      "text/html": [
       "<table class=\"simpletable\">\n",
       "<caption>Multiple Comparison of Means - Tukey HSD, FWER=0.05</caption>\n",
       "<tr>\n",
       "  <th>group1</th> <th>group2</th> <th>meandiff</th>  <th>p-adj</th>   <th>lower</th>   <th>upper</th>  <th>reject</th>\n",
       "</tr>\n",
       "<tr>\n",
       "     <td>1</td>      <td>2</td>     <td>0.359</td>   <td>0.985</td>  <td>-2.2877</td> <td>3.0057</td>   <td>False</td>\n",
       "</tr>\n",
       "<tr>\n",
       "     <td>1</td>      <td>3</td>    <td>0.7117</td>  <td>0.8923</td>  <td>-1.8825</td> <td>3.3059</td>   <td>False</td>\n",
       "</tr>\n",
       "<tr>\n",
       "     <td>1</td>      <td>4</td>    <td>-7.088</td>    <td>0.0</td>   <td>-10.388</td> <td>-3.788</td>   <td>True</td> \n",
       "</tr>\n",
       "<tr>\n",
       "     <td>2</td>      <td>3</td>    <td>0.3527</td>  <td>0.9853</td>  <td>-2.2689</td> <td>2.9743</td>   <td>False</td>\n",
       "</tr>\n",
       "<tr>\n",
       "     <td>2</td>      <td>4</td>    <td>-7.447</td>    <td>0.0</td>  <td>-10.7686</td> <td>-4.1255</td>  <td>True</td> \n",
       "</tr>\n",
       "<tr>\n",
       "     <td>3</td>      <td>4</td>    <td>-7.7997</td>   <td>0.0</td>  <td>-11.0796</td> <td>-4.5198</td>  <td>True</td> \n",
       "</tr>\n",
       "</table>"
      ],
      "text/plain": [
       "<class 'statsmodels.iolib.table.SimpleTable'>"
      ]
     },
     "execution_count": 29,
     "metadata": {},
     "output_type": "execute_result"
    }
   ],
   "source": [
    "tukey_test2.summary()"
   ]
  },
  {
   "cell_type": "markdown",
   "metadata": {},
   "source": [
    "#### Another example"
   ]
  },
  {
   "cell_type": "markdown",
   "metadata": {},
   "source": [
    "[https://www.kaggle.com/hamelg/python-for-data-26-anova]"
   ]
  },
  {
   "cell_type": "code",
   "execution_count": 30,
   "metadata": {},
   "outputs": [],
   "source": [
    "np.random.seed(12)\n",
    "\n",
    "races =   [\"asian\",\"black\",\"hispanic\",\"other\",\"white\"]\n",
    "\n",
    "# Generate random data\n",
    "voter_race = np.random.choice(a= races, p = [0.05, 0.15 ,0.25, 0.05, 0.5], size=1000)\n",
    "\n",
    "# Use a different distribution for white ages\n",
    "white_ages = st.poisson.rvs(loc=18, mu=32, size=1000)\n",
    "\n",
    "voter_age = st.poisson.rvs(loc=18, mu=30, size=1000)\n",
    "\n",
    "voter_age = np.where(voter_race==\"white\", white_ages, voter_age)\n",
    "\n",
    "# Group age data by race\n",
    "voter_frame = pd.DataFrame({\"race\":voter_race,\"age\":voter_age})\n",
    "groups = voter_frame.groupby(\"race\").groups   \n",
    "\n",
    "# Extract individual groups\n",
    "asian = voter_age[groups[\"asian\"]]\n",
    "black = voter_age[groups[\"black\"]]\n",
    "hispanic = voter_age[groups[\"hispanic\"]]\n",
    "other = voter_age[groups[\"other\"]]\n",
    "white = voter_age[groups[\"white\"]]"
   ]
  },
  {
   "cell_type": "code",
   "execution_count": 31,
   "metadata": {},
   "outputs": [],
   "source": [
    "# Get all race pairs\n",
    "race_pairs = []\n",
    "\n",
    "for race1 in range(4):\n",
    "    for race2  in range(race1+1,5):\n",
    "        race_pairs.append((races[race1], races[race2]))"
   ]
  },
  {
   "cell_type": "code",
   "execution_count": 32,
   "metadata": {},
   "outputs": [],
   "source": [
    "tukey = pairwise_tukeyhsd(endog=voter_age,     # Data\n",
    "                          groups=voter_race,   # Groups\n",
    "                          alpha=0.05)          # Significance level"
   ]
  },
  {
   "cell_type": "code",
   "execution_count": 33,
   "metadata": {},
   "outputs": [
    {
     "data": {
      "text/plain": [
       "<matplotlib.collections.LineCollection at 0x23011329c60>"
      ]
     },
     "execution_count": 33,
     "metadata": {},
     "output_type": "execute_result"
    },
    {
     "data": {
      "image/png": "[encoded data removed]",
      "text/plain": [
       "<Figure size 720x432 with 1 Axes>"
      ]
     },
     "metadata": {},
     "output_type": "display_data"
    }
   ],
   "source": [
    "tukey.plot_simultaneous()    # Plot group confidence intervals\n",
    "plt.vlines(x=49.57,ymin=-0.5,ymax=4.5, color=\"red\")"
   ]
  },
  {
   "cell_type": "code",
   "execution_count": 34,
   "metadata": {},
   "outputs": [
    {
     "data": {
      "text/html": [
       "<table class=\"simpletable\">\n",
       "<caption>Multiple Comparison of Means - Tukey HSD, FWER=0.05</caption>\n",
       "<tr>\n",
       "   <th>group1</th>   <th>group2</th>  <th>meandiff</th>  <th>p-adj</th>  <th>lower</th>   <th>upper</th> <th>reject</th>\n",
       "</tr>\n",
       "<tr>\n",
       "    <td>asian</td>    <td>black</td>   <td>-0.8032</td> <td>0.9208</td> <td>-3.4423</td>  <td>1.836</td>  <td>False</td>\n",
       "</tr>\n",
       "<tr>\n",
       "    <td>asian</td>  <td>hispanic</td>  <td>0.4143</td>  <td>0.9915</td> <td>-2.1011</td> <td>2.9297</td>  <td>False</td>\n",
       "</tr>\n",
       "<tr>\n",
       "    <td>asian</td>    <td>other</td>   <td>-1.0645</td> <td>0.8906</td> <td>-4.2391</td>  <td>2.11</td>   <td>False</td>\n",
       "</tr>\n",
       "<tr>\n",
       "    <td>asian</td>    <td>white</td>   <td>1.9547</td>  <td>0.1751</td> <td>-0.4575</td> <td>4.3668</td>  <td>False</td>\n",
       "</tr>\n",
       "<tr>\n",
       "    <td>black</td>  <td>hispanic</td>  <td>1.2175</td>  <td>0.2318</td> <td>-0.386</td>   <td>2.821</td>  <td>False</td>\n",
       "</tr>\n",
       "<tr>\n",
       "    <td>black</td>    <td>other</td>   <td>-0.2614</td> <td>0.9986</td> <td>-2.7757</td>  <td>2.253</td>  <td>False</td>\n",
       "</tr>\n",
       "<tr>\n",
       "    <td>black</td>    <td>white</td>   <td>2.7579</td>    <td>0.0</td>  <td>1.3217</td>   <td>4.194</td>  <td>True</td> \n",
       "</tr>\n",
       "<tr>\n",
       "  <td>hispanic</td>   <td>other</td>   <td>-1.4789</td> <td>0.4374</td> <td>-3.863</td>  <td>0.9053</td>  <td>False</td>\n",
       "</tr>\n",
       "<tr>\n",
       "  <td>hispanic</td>   <td>white</td>   <td>1.5404</td>   <td>0.004</td> <td>0.3468</td>   <td>2.734</td>  <td>True</td> \n",
       "</tr>\n",
       "<tr>\n",
       "    <td>other</td>    <td>white</td>   <td>3.0192</td>  <td>0.0028</td> <td>0.7443</td>  <td>5.2941</td>  <td>True</td> \n",
       "</tr>\n",
       "</table>"
      ],
      "text/plain": [
       "<class 'statsmodels.iolib.table.SimpleTable'>"
      ]
     },
     "execution_count": 34,
     "metadata": {},
     "output_type": "execute_result"
    }
   ],
   "source": [
    "tukey.summary()              # See test summary"
   ]
  },
  {
   "cell_type": "markdown",
   "metadata": {},
   "source": [
    "### Kruskal-Wallis H Test"
   ]
  },
  {
   "cell_type": "markdown",
   "metadata": {},
   "source": [
    "It is a non-parametric test.\n",
    "\n",
    "The Kruskal–Wallis test by ranks, Kruskal–Wallis H test, or one-way ANOVA on ranks is a non-parametric method for testing whether samples originate from the same distribution. \n",
    "\n",
    "It is used for comparing two or more independent samples of equal or different sample sizes.\n",
    "\n",
    "Assumptions\n",
    "- Observations in each sample are independent and identically distributed (iid).\n",
    "- Observations in each sample can be ranked.\n",
    "\n",
    "Interpretation\n",
    "- Ho: the distributions of all samples are equal.\n",
    "- Ha: the distributions of one or more samples are not equal."
   ]
  },
  {
   "cell_type": "code",
   "execution_count": 35,
   "metadata": {
    "tags": []
   },
   "outputs": [
    {
     "name": "stdout",
     "output_type": "stream",
     "text": [
      "--- Kruskal-Wallis H Test ---\n",
      "    Ho: the means of the samples are equals\n",
      "    Ha: there are at least two different means\n",
      "Sample 1:\tn =50\tMean = 80.56\tStdDev = 6.01\n",
      "Sample 2:\tn =48\tMean = 80.92\tStdDev = 4.63\n",
      "Sample 3:\tn =52\tMean = 81.27\tStdDev = 4.90\n",
      "f-value = 0.419    p-value = 0.8110\n",
      "0.8110 > 0.05 We have no reason to reject the null hypothesis\n"
     ]
    }
   ],
   "source": [
    "print('--- Kruskal-Wallis H Test ---')\n",
    "print('    Ho: the means of the samples are equals')\n",
    "print('    Ha: there are at least two different means')\n",
    "print('Sample 1:\\tn =%i\\tMean = %.2f\\tStdDev = %.2f' %(len(g1_grades),np.mean(g1_grades), np.std(g1_grades)))\n",
    "print('Sample 2:\\tn =%i\\tMean = %.2f\\tStdDev = %.2f' %(len(g2_grades),np.mean(g2_grades), np.std(g2_grades)))\n",
    "print('Sample 3:\\tn =%i\\tMean = %.2f\\tStdDev = %.2f' %(len(g3_grades),np.mean(g3_grades), np.std(g3_grades)))\n",
    "stat, pval = st.kruskal(g1_grades, g2_grades, g3_grades)\n",
    "print('f-value = %.3f    p-value = %.4f' %(stat, pval))\n",
    "alpha = 0.05\n",
    "if pval < alpha:    \n",
    "    print(\"%.4f <= %.2f We are rejecting null hypothesis\" %(pval, alpha))\n",
    "else:\n",
    "    print(\"%.4f > %.2f We have no reason to reject the null hypothesis\" %(pval, alpha))"
   ]
  },
  {
   "cell_type": "code",
   "execution_count": 36,
   "metadata": {
    "tags": []
   },
   "outputs": [
    {
     "name": "stdout",
     "output_type": "stream",
     "text": [
      "--- Non parametric Kruskal-Wallis H Test ---\n",
      "    Ho: the means of the samples are equals\n",
      "    Ha: there are at least two different means\n",
      "Sample 1:\tn =50\tMean = 80.56\tStdDev = 6.01\n",
      "Sample 2:\tn =48\tMean = 80.92\tStdDev = 4.63\n",
      "Sample 3:\tn =52\tMean = 81.27\tStdDev = 4.90\n",
      "Sample 4:\tn =23\tMean = 73.47\tStdDev = 3.09\n",
      "f-value = 36.506    p-value = 0.0000\n",
      "0.0000 <= 0.05 We are rejecting null hypothesis\n"
     ]
    }
   ],
   "source": [
    "print('--- Non parametric Kruskal-Wallis H Test ---')\n",
    "print('    Ho: the means of the samples are equals')\n",
    "print('    Ha: there are at least two different means')\n",
    "print('Sample 1:\\tn =%i\\tMean = %.2f\\tStdDev = %.2f' %(len(g1_grades),np.mean(g1_grades), np.std(g1_grades)))\n",
    "print('Sample 2:\\tn =%i\\tMean = %.2f\\tStdDev = %.2f' %(len(g2_grades),np.mean(g2_grades), np.std(g2_grades)))\n",
    "print('Sample 3:\\tn =%i\\tMean = %.2f\\tStdDev = %.2f' %(len(g3_grades),np.mean(g3_grades), np.std(g3_grades)))\n",
    "print('Sample 4:\\tn =%i\\tMean = %.2f\\tStdDev = %.2f' %(len(g4_grades),np.mean(g4_grades), np.std(g4_grades)))\n",
    "stat, pval = st.kruskal(g1_grades, g2_grades, g3_grades, g4_grades)\n",
    "print('f-value = %.3f    p-value = %.4f' %(stat, pval))\n",
    "alpha = 0.05\n",
    "if pval < alpha:   \n",
    "    print(\"%.4f <= %.2f We are rejecting null hypothesis\" %(pval, alpha))\n",
    "else:\n",
    "    print(\"%.4f > %.2f We have no reason to reject the null hypothesis\" %(pval, alpha))"
   ]
  },
  {
   "cell_type": "markdown",
   "metadata": {},
   "source": [
    "## Friedman Test"
   ]
  },
  {
   "cell_type": "markdown",
   "metadata": {},
   "source": [
    "The Friedman test is a non-parametric statistical test developed by Milton Friedman. \n",
    "\n",
    "Similar to the parametric repeated measures ANOVA, it is used to detect differences in treatments across multiple test attempts. \n",
    "\n",
    "Assumptions:\n",
    "- Observations in each sample can be ranked.\n",
    "- Observations across each sample are paired.\n",
    "\n",
    "Interpretation\n",
    "- Ho: the distributions of all samples are equal.\n",
    "- Ha: the distributions of one or more samples are not equal."
   ]
  },
  {
   "cell_type": "code",
   "execution_count": 37,
   "metadata": {},
   "outputs": [],
   "source": [
    "# Generating data\n",
    "test1 = np.random.uniform(60,75,size=20)\n",
    "test2 = np.random.uniform(70,85,size=20)\n",
    "test3 = np.random.uniform(80,95,size=20)"
   ]
  },
  {
   "cell_type": "code",
   "execution_count": 38,
   "metadata": {
    "tags": []
   },
   "outputs": [
    {
     "name": "stdout",
     "output_type": "stream",
     "text": [
      "--- Non-parametric Friedman Test ---\n",
      "    Ho: the distributions of all samples are equals\n",
      "    Ha: the distributions of one or more samples are not equals\n",
      "Sample 1:\tn =20\tMean = 66.83\tStdDev = 4.54\n",
      "Sample 2:\tn =20\tMean = 77.06\tStdDev = 3.69\n",
      "Sample 3:\tn =20\tMean = 87.57\tStdDev = 4.39\n",
      "f-value = 36.400    p-value = 0.0000\n",
      "0.0000 <= 0.05 We are rejecting null hypothesis\n"
     ]
    }
   ],
   "source": [
    "print('--- Non-parametric Friedman Test ---')\n",
    "print('    Ho: the distributions of all samples are equals')\n",
    "print('    Ha: the distributions of one or more samples are not equals')\n",
    "print('Sample 1:\\tn =%i\\tMean = %.2f\\tStdDev = %.2f' %(len(test1),np.mean(test1), np.std(test1)))\n",
    "print('Sample 2:\\tn =%i\\tMean = %.2f\\tStdDev = %.2f' %(len(test2),np.mean(test2), np.std(test2)))\n",
    "print('Sample 3:\\tn =%i\\tMean = %.2f\\tStdDev = %.2f' %(len(test3),np.mean(test3), np.std(test3)))\n",
    "stat, pval = st.friedmanchisquare(test1, test2, test3)\n",
    "print('f-value = %.3f    p-value = %.4f' %(stat, pval))\n",
    "alpha = 0.05\n",
    "if pval < alpha:   \n",
    "    print(\"%.4f <= %.2f We are rejecting null hypothesis\" %(pval, alpha))\n",
    "else:\n",
    "    print(\"%.4f > %.2f We have no reason to reject the null hypothesis\" %(pval, alpha))"
   ]
  },
  {
   "cell_type": "markdown",
   "metadata": {},
   "source": [
    "Reference:\n",
    "- Dekking, F.M. et.al. (2005) A Modern Introduction to Probability and Statistics, USA: Springer"
   ]
  }
 ],
 "metadata": {
  "interpreter": {
   "hash": "7f2633a0dd9fad194999ffc17b7b93627efd4bccf6144e14bc5fef7dfd0c6355"
  },
  "kernelspec": {
   "display_name": "Python 3.10.4 64-bit",
   "language": "python",
   "name": "python3"
  },
  "language_info": {
   "codemirror_mode": {
    "name": "ipython",
    "version": 3
   },
   "file_extension": ".py",
   "mimetype": "text/x-python",
   "name": "python",
   "nbconvert_exporter": "python",
   "pygments_lexer": "ipython3",
   "version": "3.10.4"
  },
  "orig_nbformat": 2
 },
 "nbformat": 4,
 "nbformat_minor": 2
}
