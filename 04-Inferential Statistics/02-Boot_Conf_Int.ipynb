{
 "cells": [
  {
   "cell_type": "markdown",
   "metadata": {},
   "source": [
    "# Bootstrap Confidence Intervals"
   ]
  },
  {
   "cell_type": "code",
   "execution_count": 1,
   "metadata": {},
   "outputs": [],
   "source": [
    "import numpy as np\n",
    "np.random.seed(1)\n",
    "import pandas as pd\n",
    "import matplotlib.pyplot as plt\n",
    "import seaborn as sns\n",
    "sns.set_style(\"whitegrid\") "
   ]
  },
  {
   "cell_type": "markdown",
   "metadata": {},
   "source": [
    "**`Bootstrap`** is a non-parametric statistical technique to resample from a known sample. It is distribution-free.\n",
    "\n",
    "Advantages:\n",
    "- Bootstrap can obtain confidence intervals in any statistics.\n",
    "- Bootstrap does not assume anything about the distribution.\n",
    "- Bootstrap helps when there are too few samples.\n",
    "\n",
    "`Bootstrap Confidence Intervals`: it consists of using the bootstrap resampling method as a non-parametric technique for calculating confidence intervals."
   ]
  },
  {
   "cell_type": "markdown",
   "metadata": {},
   "source": [
    "## The Data"
   ]
  },
  {
   "cell_type": "code",
   "execution_count": 2,
   "metadata": {},
   "outputs": [],
   "source": [
    "# Generating 1000 age values of fictitious voters\n",
    "np.random.seed(123)\n",
    "a = np.random.uniform(18, 85, size=1000)"
   ]
  },
  {
   "cell_type": "code",
   "execution_count": 3,
   "metadata": {},
   "outputs": [
    {
     "data": {
      "image/png": "[encoded data removed]",
      "text/plain": [
       "<Figure size 360x360 with 1 Axes>"
      ]
     },
     "metadata": {},
     "output_type": "display_data"
    }
   ],
   "source": [
    "# Plotting an histogram\n",
    "ax = sns.displot(x=a, bins=10, color='skyblue')\n",
    "ax.set(title=\"Fictitious voters' age\");"
   ]
  },
  {
   "cell_type": "markdown",
   "metadata": {},
   "source": [
    "## Generating Samples"
   ]
  },
  {
   "cell_type": "markdown",
   "metadata": {},
   "source": [
    "Let's define the function `generateSamples` to generate a DataFrame of samples from `a`.\n",
    "\n",
    "`np.random.choice()`: generates a random sample WITH replacement from a given 1-D array"
   ]
  },
  {
   "cell_type": "code",
   "execution_count": 4,
   "metadata": {},
   "outputs": [],
   "source": [
    "def generateSamples(sample_data, num_samples=10000, sample_size=100):\n",
    "    '''    \n",
    "    It returns a DataFrame where each column is a sample.\n",
    "    '''\n",
    "    col = ['S'+str(k) for k in range(num_samples)]\n",
    "    samp = np.random.choice(sample_data, replace=True, size=sample_size*num_samples)\n",
    "    df = pd.DataFrame(samp.reshape(sample_size, num_samples), columns=col)\n",
    "    return(df)"
   ]
  },
  {
   "cell_type": "code",
   "execution_count": 5,
   "metadata": {},
   "outputs": [
    {
     "name": "stdout",
     "output_type": "stream",
     "text": [
      "(100, 10000)\n"
     ]
    },
    {
     "data": {
      "text/html": [
       "<div>\n",
       "<style scoped>\n",
       "    .dataframe tbody tr th:only-of-type {\n",
       "        vertical-align: middle;\n",
       "    }\n",
       "\n",
       "    .dataframe tbody tr th {\n",
       "        vertical-align: top;\n",
       "    }\n",
       "\n",
       "    .dataframe thead th {\n",
       "        text-align: right;\n",
       "    }\n",
       "</style>\n",
       "<table border=\"1\" class=\"dataframe\">\n",
       "  <thead>\n",
       "    <tr style=\"text-align: right;\">\n",
       "      <th></th>\n",
       "      <th>S0</th>\n",
       "      <th>S1</th>\n",
       "      <th>S2</th>\n",
       "      <th>S3</th>\n",
       "      <th>S4</th>\n",
       "      <th>S5</th>\n",
       "      <th>S6</th>\n",
       "      <th>S7</th>\n",
       "      <th>S8</th>\n",
       "      <th>S9</th>\n",
       "      <th>...</th>\n",
       "      <th>S9990</th>\n",
       "      <th>S9991</th>\n",
       "      <th>S9992</th>\n",
       "      <th>S9993</th>\n",
       "      <th>S9994</th>\n",
       "      <th>S9995</th>\n",
       "      <th>S9996</th>\n",
       "      <th>S9997</th>\n",
       "      <th>S9998</th>\n",
       "      <th>S9999</th>\n",
       "    </tr>\n",
       "  </thead>\n",
       "  <tbody>\n",
       "    <tr>\n",
       "      <th>0</th>\n",
       "      <td>23.302980</td>\n",
       "      <td>67.889236</td>\n",
       "      <td>40.685008</td>\n",
       "      <td>52.680772</td>\n",
       "      <td>24.714369</td>\n",
       "      <td>40.583448</td>\n",
       "      <td>36.587405</td>\n",
       "      <td>50.569482</td>\n",
       "      <td>32.438865</td>\n",
       "      <td>72.066902</td>\n",
       "      <td>...</td>\n",
       "      <td>51.266034</td>\n",
       "      <td>55.242592</td>\n",
       "      <td>74.553190</td>\n",
       "      <td>41.375826</td>\n",
       "      <td>19.018243</td>\n",
       "      <td>73.791985</td>\n",
       "      <td>40.434040</td>\n",
       "      <td>37.889672</td>\n",
       "      <td>38.170575</td>\n",
       "      <td>36.672060</td>\n",
       "    </tr>\n",
       "    <tr>\n",
       "      <th>1</th>\n",
       "      <td>53.100006</td>\n",
       "      <td>78.060520</td>\n",
       "      <td>24.400486</td>\n",
       "      <td>68.300084</td>\n",
       "      <td>33.576146</td>\n",
       "      <td>36.672060</td>\n",
       "      <td>44.758374</td>\n",
       "      <td>84.210401</td>\n",
       "      <td>72.177950</td>\n",
       "      <td>35.714630</td>\n",
       "      <td>...</td>\n",
       "      <td>81.101067</td>\n",
       "      <td>34.228727</td>\n",
       "      <td>43.618804</td>\n",
       "      <td>29.117838</td>\n",
       "      <td>44.678441</td>\n",
       "      <td>66.403707</td>\n",
       "      <td>31.152703</td>\n",
       "      <td>52.859458</td>\n",
       "      <td>42.410893</td>\n",
       "      <td>39.722849</td>\n",
       "    </tr>\n",
       "    <tr>\n",
       "      <th>2</th>\n",
       "      <td>31.688376</td>\n",
       "      <td>30.522551</td>\n",
       "      <td>81.927646</td>\n",
       "      <td>47.008945</td>\n",
       "      <td>71.448084</td>\n",
       "      <td>41.561848</td>\n",
       "      <td>20.505271</td>\n",
       "      <td>61.694310</td>\n",
       "      <td>68.715371</td>\n",
       "      <td>84.927533</td>\n",
       "      <td>...</td>\n",
       "      <td>72.122003</td>\n",
       "      <td>40.902651</td>\n",
       "      <td>57.257749</td>\n",
       "      <td>83.700022</td>\n",
       "      <td>48.192645</td>\n",
       "      <td>71.961595</td>\n",
       "      <td>23.584334</td>\n",
       "      <td>42.381096</td>\n",
       "      <td>42.489881</td>\n",
       "      <td>61.775446</td>\n",
       "    </tr>\n",
       "    <tr>\n",
       "      <th>3</th>\n",
       "      <td>62.785019</td>\n",
       "      <td>50.420566</td>\n",
       "      <td>35.714630</td>\n",
       "      <td>53.305023</td>\n",
       "      <td>44.271874</td>\n",
       "      <td>51.266034</td>\n",
       "      <td>53.305023</td>\n",
       "      <td>82.818252</td>\n",
       "      <td>81.943347</td>\n",
       "      <td>69.782815</td>\n",
       "      <td>...</td>\n",
       "      <td>79.649998</td>\n",
       "      <td>82.313271</td>\n",
       "      <td>77.888980</td>\n",
       "      <td>40.767327</td>\n",
       "      <td>57.255432</td>\n",
       "      <td>82.072906</td>\n",
       "      <td>47.008945</td>\n",
       "      <td>65.528841</td>\n",
       "      <td>67.119569</td>\n",
       "      <td>56.907785</td>\n",
       "    </tr>\n",
       "    <tr>\n",
       "      <th>4</th>\n",
       "      <td>51.330550</td>\n",
       "      <td>18.005486</td>\n",
       "      <td>68.070836</td>\n",
       "      <td>44.271874</td>\n",
       "      <td>84.152524</td>\n",
       "      <td>64.600478</td>\n",
       "      <td>39.638247</td>\n",
       "      <td>76.902543</td>\n",
       "      <td>40.061702</td>\n",
       "      <td>60.520751</td>\n",
       "      <td>...</td>\n",
       "      <td>42.606793</td>\n",
       "      <td>74.685674</td>\n",
       "      <td>35.639829</td>\n",
       "      <td>53.984346</td>\n",
       "      <td>18.279289</td>\n",
       "      <td>59.016017</td>\n",
       "      <td>33.589987</td>\n",
       "      <td>48.306814</td>\n",
       "      <td>68.934087</td>\n",
       "      <td>32.042661</td>\n",
       "    </tr>\n",
       "  </tbody>\n",
       "</table>\n",
       "<p>5 rows × 10000 columns</p>\n",
       "</div>"
      ],
      "text/plain": [
       "          S0         S1         S2         S3         S4         S5  \\\n",
       "0  23.302980  67.889236  40.685008  52.680772  24.714369  40.583448   \n",
       "1  53.100006  78.060520  24.400486  68.300084  33.576146  36.672060   \n",
       "2  31.688376  30.522551  81.927646  47.008945  71.448084  41.561848   \n",
       "3  62.785019  50.420566  35.714630  53.305023  44.271874  51.266034   \n",
       "4  51.330550  18.005486  68.070836  44.271874  84.152524  64.600478   \n",
       "\n",
       "          S6         S7         S8         S9  ...      S9990      S9991  \\\n",
       "0  36.587405  50.569482  32.438865  72.066902  ...  51.266034  55.242592   \n",
       "1  44.758374  84.210401  72.177950  35.714630  ...  81.101067  34.228727   \n",
       "2  20.505271  61.694310  68.715371  84.927533  ...  72.122003  40.902651   \n",
       "3  53.305023  82.818252  81.943347  69.782815  ...  79.649998  82.313271   \n",
       "4  39.638247  76.902543  40.061702  60.520751  ...  42.606793  74.685674   \n",
       "\n",
       "       S9992      S9993      S9994      S9995      S9996      S9997  \\\n",
       "0  74.553190  41.375826  19.018243  73.791985  40.434040  37.889672   \n",
       "1  43.618804  29.117838  44.678441  66.403707  31.152703  52.859458   \n",
       "2  57.257749  83.700022  48.192645  71.961595  23.584334  42.381096   \n",
       "3  77.888980  40.767327  57.255432  82.072906  47.008945  65.528841   \n",
       "4  35.639829  53.984346  18.279289  59.016017  33.589987  48.306814   \n",
       "\n",
       "       S9998      S9999  \n",
       "0  38.170575  36.672060  \n",
       "1  42.410893  39.722849  \n",
       "2  42.489881  61.775446  \n",
       "3  67.119569  56.907785  \n",
       "4  68.934087  32.042661  \n",
       "\n",
       "[5 rows x 10000 columns]"
      ]
     },
     "execution_count": 5,
     "metadata": {},
     "output_type": "execute_result"
    }
   ],
   "source": [
    "dfSamples = generateSamples(a)\n",
    "print(dfSamples.shape)\n",
    "dfSamples.head()"
   ]
  },
  {
   "cell_type": "markdown",
   "metadata": {},
   "source": [
    "## Confidence Intervals with Bootstrapping"
   ]
  },
  {
   "cell_type": "markdown",
   "metadata": {},
   "source": [
    "Let's define a function using the bootstrap method to calculate a confidence interval:"
   ]
  },
  {
   "cell_type": "code",
   "execution_count": 6,
   "metadata": {},
   "outputs": [],
   "source": [
    "def confidenceInterval(sample_distribution, confidence):\n",
    "    '''\n",
    "    This function return a confidence% confidente interval using \n",
    "    sample_distribution as a sample distribution.\n",
    "    '''\n",
    "    alpha = 100 - confidence\n",
    "    lower_percentile = alpha / 2.0    \n",
    "    lower = np.percentile(sample_distribution, lower_percentile)\n",
    "    upper_percentile = lower_percentile + confidence\n",
    "    upper = np.percentile(sample_distribution, upper_percentile)\n",
    "    return(lower, upper)"
   ]
  },
  {
   "cell_type": "markdown",
   "metadata": {},
   "source": [
    "### Bootstrap Confident Intervals for `mean` and `median`"
   ]
  },
  {
   "cell_type": "code",
   "execution_count": 7,
   "metadata": {},
   "outputs": [
    {
     "data": {
      "image/png": "[encoded data removed]",
      "text/plain": [
       "<Figure size 360x360 with 1 Axes>"
      ]
     },
     "metadata": {},
     "output_type": "display_data"
    }
   ],
   "source": [
    "ax = sns.displot(x=a, bins=10, color='skyblue')\n",
    "plt.axvline(x=a.mean(), color='green', label='mean')\n",
    "plt.axvline(x=np.median(a), color='darkorange', label='median')\n",
    "ax.set(title=\"Fictitious voters' age\")\n",
    "plt.legend();"
   ]
  },
  {
   "cell_type": "code",
   "execution_count": 8,
   "metadata": {},
   "outputs": [],
   "source": [
    "# Calculating the mean and median scores for each generated sample\n",
    "mean_scores   = np.array(dfSamples.mean())\n",
    "median_scores = np.array(dfSamples.median())"
   ]
  },
  {
   "cell_type": "code",
   "execution_count": 9,
   "metadata": {},
   "outputs": [],
   "source": [
    "scores = pd.DataFrame()\n",
    "scores['mean'] = mean_scores\n",
    "scores['median'] = median_scores"
   ]
  },
  {
   "cell_type": "code",
   "execution_count": 10,
   "metadata": {},
   "outputs": [
    {
     "data": {
      "image/png": "[encoded data removed]",
      "text/plain": [
       "<Figure size 432x288 with 1 Axes>"
      ]
     },
     "metadata": {},
     "output_type": "display_data"
    }
   ],
   "source": [
    "plt.hist(mean_scores,   bins=50, color='darkorange', alpha=0.5, label='mean')\n",
    "plt.hist(median_scores, bins=50, color='green',      alpha=0.5, label='median')\n",
    "plt.legend();"
   ]
  },
  {
   "cell_type": "code",
   "execution_count": 11,
   "metadata": {},
   "outputs": [
    {
     "data": {
      "image/png": "[encoded data removed]",
      "text/plain": [
       "<Figure size 432x288 with 1 Axes>"
      ]
     },
     "metadata": {},
     "output_type": "display_data"
    }
   ],
   "source": [
    "ax=sns.kdeplot(x=mean_scores,   color='darkorange', shade=True, alpha=0.5, label='mean')\n",
    "ax=sns.kdeplot(x=median_scores, color='green',      shade=True, alpha=0.3, label='median')\n",
    "plt.legend();"
   ]
  },
  {
   "cell_type": "markdown",
   "metadata": {},
   "source": [
    "#### Bootstrap Confidence Interval for the `mean`"
   ]
  },
  {
   "cell_type": "code",
   "execution_count": 12,
   "metadata": {},
   "outputs": [
    {
     "name": "stdout",
     "output_type": "stream",
     "text": [
      "90% CI = [48.23 54.61]\n",
      "95% CI = [47.56 55.18]\n",
      "99% CI = [46.42 56.45]\n"
     ]
    }
   ],
   "source": [
    "print('90% CI =', np.round(confidenceInterval(mean_scores, 90), 2))\n",
    "print('95% CI =', np.round(confidenceInterval(mean_scores, 95), 2))\n",
    "print('99% CI =', np.round(confidenceInterval(mean_scores, 99), 2))"
   ]
  },
  {
   "cell_type": "markdown",
   "metadata": {},
   "source": [
    "#### Bootstrap Confidence Interval for the `median`"
   ]
  },
  {
   "cell_type": "code",
   "execution_count": 13,
   "metadata": {},
   "outputs": [
    {
     "name": "stdout",
     "output_type": "stream",
     "text": [
      "90% CI = [45.85 56.07]\n",
      "95% CI = [44.73 57.35]\n",
      "99% CI = [42.7  59.37]\n"
     ]
    }
   ],
   "source": [
    "print('90% CI =', np.round(confidenceInterval(median_scores, 90), 2))\n",
    "print('95% CI =', np.round(confidenceInterval(median_scores, 95), 2))\n",
    "print('99% CI =', np.round(confidenceInterval(median_scores, 99), 2))"
   ]
  },
  {
   "cell_type": "markdown",
   "metadata": {},
   "source": [
    "### Bootstrap Confident Intervals for the variance `var`, standard deviation `std`, and inter-quartile range `IQR`"
   ]
  },
  {
   "cell_type": "code",
   "execution_count": 14,
   "metadata": {},
   "outputs": [],
   "source": [
    "var_scores  = np.array(dfSamples.var())\n",
    "std_scores  = np.array(dfSamples.std())\n",
    "IQR_scores  = np.array(dfSamples.quantile(0.75) - dfSamples.quantile(0.25))"
   ]
  },
  {
   "cell_type": "markdown",
   "metadata": {},
   "source": [
    "#### Bootstrap Confidence Interval for `var`"
   ]
  },
  {
   "cell_type": "code",
   "execution_count": 15,
   "metadata": {},
   "outputs": [
    {
     "name": "stdout",
     "output_type": "stream",
     "text": [
      "90% CI = [309.51 421.57]\n",
      "95% CI = [298.64 432.16]\n",
      "99% CI = [280.16 456.6 ]\n"
     ]
    }
   ],
   "source": [
    "print('90% CI =', np.round(confidenceInterval(var_scores, 90), 2))\n",
    "print('95% CI =', np.round(confidenceInterval(var_scores, 95), 2))\n",
    "print('99% CI =', np.round(confidenceInterval(var_scores, 99), 2))"
   ]
  },
  {
   "cell_type": "markdown",
   "metadata": {},
   "source": [
    "#### Bootstrap Confidence Interval for `std`"
   ]
  },
  {
   "cell_type": "code",
   "execution_count": 16,
   "metadata": {},
   "outputs": [
    {
     "name": "stdout",
     "output_type": "stream",
     "text": [
      "90% CI = [17.59 20.53]\n",
      "95% CI = [17.28 20.79]\n",
      "99% CI = [16.74 21.37]\n"
     ]
    }
   ],
   "source": [
    "print('90% CI =', np.round(confidenceInterval(std_scores, 90), 2))\n",
    "print('95% CI =', np.round(confidenceInterval(std_scores, 95), 2))\n",
    "print('99% CI =', np.round(confidenceInterval(std_scores, 99), 2))"
   ]
  },
  {
   "cell_type": "markdown",
   "metadata": {},
   "source": [
    "#### Bootstrap Confidence Interval for `IQR`"
   ]
  },
  {
   "cell_type": "code",
   "execution_count": 17,
   "metadata": {},
   "outputs": [
    {
     "name": "stdout",
     "output_type": "stream",
     "text": [
      "90% CI = [25.93 36.6 ]\n",
      "95% CI = [24.99 37.77]\n",
      "99% CI = [23.55 40.27]\n"
     ]
    }
   ],
   "source": [
    "print('90% CI =', np.round(confidenceInterval(IQR_scores, 90), 2))\n",
    "print('95% CI =', np.round(confidenceInterval(IQR_scores, 95), 2))\n",
    "print('99% CI =', np.round(confidenceInterval(IQR_scores, 99), 2))"
   ]
  },
  {
   "cell_type": "markdown",
   "metadata": {},
   "source": [
    "### Bootstrap Confident Intervals for the skewness `skew`, and kurtosis `kurt`"
   ]
  },
  {
   "cell_type": "code",
   "execution_count": 18,
   "metadata": {},
   "outputs": [],
   "source": [
    "skew_scores  = np.array(dfSamples.skew())\n",
    "kurt_scores  = np.array(dfSamples.kurt())"
   ]
  },
  {
   "cell_type": "markdown",
   "metadata": {},
   "source": [
    "#### Bootstrap Confidence Interval for `skew`"
   ]
  },
  {
   "cell_type": "code",
   "execution_count": 19,
   "metadata": {},
   "outputs": [
    {
     "name": "stdout",
     "output_type": "stream",
     "text": [
      "90% CI = [-0.21  0.27]\n",
      "95% CI = [-0.25  0.32]\n",
      "99% CI = [-0.33  0.41]\n"
     ]
    }
   ],
   "source": [
    "print('90% CI =', np.round(confidenceInterval(skew_scores, 90), 2))\n",
    "print('95% CI =', np.round(confidenceInterval(skew_scores, 95), 2))\n",
    "print('99% CI =', np.round(confidenceInterval(skew_scores, 99), 2))"
   ]
  },
  {
   "cell_type": "markdown",
   "metadata": {},
   "source": [
    "#### Bootstrap Confidence Interval for `kurt`"
   ]
  },
  {
   "cell_type": "code",
   "execution_count": 20,
   "metadata": {},
   "outputs": [
    {
     "name": "stdout",
     "output_type": "stream",
     "text": [
      "90% CI = [-1.31 -0.86]\n",
      "95% CI = [-1.34 -0.81]\n",
      "99% CI = [-1.41 -0.7 ]\n"
     ]
    }
   ],
   "source": [
    "print('90% CI =', np.round(confidenceInterval(kurt_scores, 90), 2))\n",
    "print('95% CI =', np.round(confidenceInterval(kurt_scores, 95), 2))\n",
    "print('99% CI =', np.round(confidenceInterval(kurt_scores, 99), 2))"
   ]
  },
  {
   "cell_type": "markdown",
   "metadata": {},
   "source": [
    "## Graphical Confidence Intervals with Bootstrapping"
   ]
  },
  {
   "cell_type": "markdown",
   "metadata": {},
   "source": [
    "Given the sample distribution, we can represent the confidence interval graphically. Let's see an example with the mean."
   ]
  },
  {
   "cell_type": "code",
   "execution_count": 21,
   "metadata": {},
   "outputs": [],
   "source": [
    "def graphConfidenceInterval(sample_distribution, confidence=95):\n",
    "    '''\n",
    "    It returns a confidence% confident interval using sample_distribution as a \n",
    "    sample distribution and presents the result graphically.\n",
    "    '''\n",
    "    alpha = 100 - confidence\n",
    "    lower_percentile = alpha / 2.0    \n",
    "    lower = np.percentile(sample_distribution, lower_percentile)\n",
    "    upper_percentile = lower_percentile + confidence\n",
    "    upper = np.percentile(sample_distribution, upper_percentile)\n",
    "    sns.displot(sample_distribution, kde=True, height=3, aspect=1.5)\n",
    "    plt.title('Sample Distribution\\n %i%% CI: (%.2f, %.2f)'%(confidence, lower,upper))\n",
    "    plt.axvline(x = lower, ymin=0, ymax=0.5, color='orangered', linewidth=2)\n",
    "    plt.axvline(x = upper, ymin=0, ymax=0.5, color='orangered', linewidth=2);"
   ]
  },
  {
   "cell_type": "markdown",
   "metadata": {},
   "source": [
    "#### Graphical Bootstrap Confidence Interval for the `mean`"
   ]
  },
  {
   "cell_type": "code",
   "execution_count": 22,
   "metadata": {},
   "outputs": [
    {
     "data": {
      "image/png": "[encoded data removed]",
      "text/plain": [
       "<Figure size 324x216 with 1 Axes>"
      ]
     },
     "metadata": {},
     "output_type": "display_data"
    }
   ],
   "source": [
    "graphConfidenceInterval(mean_scores, 90)"
   ]
  },
  {
   "cell_type": "code",
   "execution_count": 23,
   "metadata": {},
   "outputs": [
    {
     "data": {
      "image/png": "[encoded data removed]",
      "text/plain": [
       "<Figure size 324x216 with 1 Axes>"
      ]
     },
     "metadata": {},
     "output_type": "display_data"
    }
   ],
   "source": [
    "graphConfidenceInterval(mean_scores, 95)"
   ]
  },
  {
   "cell_type": "code",
   "execution_count": 24,
   "metadata": {},
   "outputs": [
    {
     "data": {
      "image/png": "[encoded data removed]",
      "text/plain": [
       "<Figure size 324x216 with 1 Axes>"
      ]
     },
     "metadata": {},
     "output_type": "display_data"
    }
   ],
   "source": [
    "graphConfidenceInterval(mean_scores, 99)"
   ]
  },
  {
   "cell_type": "markdown",
   "metadata": {},
   "source": [
    "## Analyzing Student Performance dataset"
   ]
  },
  {
   "cell_type": "code",
   "execution_count": 25,
   "metadata": {},
   "outputs": [
    {
     "name": "stdout",
     "output_type": "stream",
     "text": [
      "(395, 33)\n"
     ]
    },
    {
     "data": {
      "text/html": [
       "<div>\n",
       "<style scoped>\n",
       "    .dataframe tbody tr th:only-of-type {\n",
       "        vertical-align: middle;\n",
       "    }\n",
       "\n",
       "    .dataframe tbody tr th {\n",
       "        vertical-align: top;\n",
       "    }\n",
       "\n",
       "    .dataframe thead th {\n",
       "        text-align: right;\n",
       "    }\n",
       "</style>\n",
       "<table border=\"1\" class=\"dataframe\">\n",
       "  <thead>\n",
       "    <tr style=\"text-align: right;\">\n",
       "      <th></th>\n",
       "      <th>school</th>\n",
       "      <th>sex</th>\n",
       "      <th>age</th>\n",
       "      <th>address</th>\n",
       "      <th>famsize</th>\n",
       "      <th>Pstatus</th>\n",
       "      <th>Medu</th>\n",
       "      <th>Fedu</th>\n",
       "      <th>Mjob</th>\n",
       "      <th>Fjob</th>\n",
       "      <th>...</th>\n",
       "      <th>famrel</th>\n",
       "      <th>freetime</th>\n",
       "      <th>goout</th>\n",
       "      <th>Dalc</th>\n",
       "      <th>Walc</th>\n",
       "      <th>health</th>\n",
       "      <th>absences</th>\n",
       "      <th>G1</th>\n",
       "      <th>G2</th>\n",
       "      <th>G3</th>\n",
       "    </tr>\n",
       "  </thead>\n",
       "  <tbody>\n",
       "    <tr>\n",
       "      <th>0</th>\n",
       "      <td>GP</td>\n",
       "      <td>F</td>\n",
       "      <td>18</td>\n",
       "      <td>U</td>\n",
       "      <td>GT3</td>\n",
       "      <td>A</td>\n",
       "      <td>4</td>\n",
       "      <td>4</td>\n",
       "      <td>at_home</td>\n",
       "      <td>teacher</td>\n",
       "      <td>...</td>\n",
       "      <td>4</td>\n",
       "      <td>3</td>\n",
       "      <td>4</td>\n",
       "      <td>1</td>\n",
       "      <td>1</td>\n",
       "      <td>3</td>\n",
       "      <td>6</td>\n",
       "      <td>5</td>\n",
       "      <td>6</td>\n",
       "      <td>6</td>\n",
       "    </tr>\n",
       "    <tr>\n",
       "      <th>1</th>\n",
       "      <td>GP</td>\n",
       "      <td>F</td>\n",
       "      <td>17</td>\n",
       "      <td>U</td>\n",
       "      <td>GT3</td>\n",
       "      <td>T</td>\n",
       "      <td>1</td>\n",
       "      <td>1</td>\n",
       "      <td>at_home</td>\n",
       "      <td>other</td>\n",
       "      <td>...</td>\n",
       "      <td>5</td>\n",
       "      <td>3</td>\n",
       "      <td>3</td>\n",
       "      <td>1</td>\n",
       "      <td>1</td>\n",
       "      <td>3</td>\n",
       "      <td>4</td>\n",
       "      <td>5</td>\n",
       "      <td>5</td>\n",
       "      <td>6</td>\n",
       "    </tr>\n",
       "    <tr>\n",
       "      <th>2</th>\n",
       "      <td>GP</td>\n",
       "      <td>F</td>\n",
       "      <td>15</td>\n",
       "      <td>U</td>\n",
       "      <td>LE3</td>\n",
       "      <td>T</td>\n",
       "      <td>1</td>\n",
       "      <td>1</td>\n",
       "      <td>at_home</td>\n",
       "      <td>other</td>\n",
       "      <td>...</td>\n",
       "      <td>4</td>\n",
       "      <td>3</td>\n",
       "      <td>2</td>\n",
       "      <td>2</td>\n",
       "      <td>3</td>\n",
       "      <td>3</td>\n",
       "      <td>10</td>\n",
       "      <td>7</td>\n",
       "      <td>8</td>\n",
       "      <td>10</td>\n",
       "    </tr>\n",
       "    <tr>\n",
       "      <th>3</th>\n",
       "      <td>GP</td>\n",
       "      <td>F</td>\n",
       "      <td>15</td>\n",
       "      <td>U</td>\n",
       "      <td>GT3</td>\n",
       "      <td>T</td>\n",
       "      <td>4</td>\n",
       "      <td>2</td>\n",
       "      <td>health</td>\n",
       "      <td>services</td>\n",
       "      <td>...</td>\n",
       "      <td>3</td>\n",
       "      <td>2</td>\n",
       "      <td>2</td>\n",
       "      <td>1</td>\n",
       "      <td>1</td>\n",
       "      <td>5</td>\n",
       "      <td>2</td>\n",
       "      <td>15</td>\n",
       "      <td>14</td>\n",
       "      <td>15</td>\n",
       "    </tr>\n",
       "    <tr>\n",
       "      <th>4</th>\n",
       "      <td>GP</td>\n",
       "      <td>F</td>\n",
       "      <td>16</td>\n",
       "      <td>U</td>\n",
       "      <td>GT3</td>\n",
       "      <td>T</td>\n",
       "      <td>3</td>\n",
       "      <td>3</td>\n",
       "      <td>other</td>\n",
       "      <td>other</td>\n",
       "      <td>...</td>\n",
       "      <td>4</td>\n",
       "      <td>3</td>\n",
       "      <td>2</td>\n",
       "      <td>1</td>\n",
       "      <td>2</td>\n",
       "      <td>5</td>\n",
       "      <td>4</td>\n",
       "      <td>6</td>\n",
       "      <td>10</td>\n",
       "      <td>10</td>\n",
       "    </tr>\n",
       "  </tbody>\n",
       "</table>\n",
       "<p>5 rows × 33 columns</p>\n",
       "</div>"
      ],
      "text/plain": [
       "  school sex  age address famsize Pstatus  Medu  Fedu     Mjob      Fjob  ...  \\\n",
       "0     GP   F   18       U     GT3       A     4     4  at_home   teacher  ...   \n",
       "1     GP   F   17       U     GT3       T     1     1  at_home     other  ...   \n",
       "2     GP   F   15       U     LE3       T     1     1  at_home     other  ...   \n",
       "3     GP   F   15       U     GT3       T     4     2   health  services  ...   \n",
       "4     GP   F   16       U     GT3       T     3     3    other     other  ...   \n",
       "\n",
       "  famrel freetime  goout  Dalc  Walc health absences  G1  G2  G3  \n",
       "0      4        3      4     1     1      3        6   5   6   6  \n",
       "1      5        3      3     1     1      3        4   5   5   6  \n",
       "2      4        3      2     2     3      3       10   7   8  10  \n",
       "3      3        2      2     1     1      5        2  15  14  15  \n",
       "4      4        3      2     1     2      5        4   6  10  10  \n",
       "\n",
       "[5 rows x 33 columns]"
      ]
     },
     "execution_count": 25,
     "metadata": {},
     "output_type": "execute_result"
    }
   ],
   "source": [
    "data = pd.read_csv('student-mat.csv',sep=';')\n",
    "print(data.shape)\n",
    "data.head()"
   ]
  },
  {
   "cell_type": "markdown",
   "metadata": {},
   "source": [
    "Let's calculate the confidence interval for the mean of the variables:\n",
    "- **G1**: first period grade (***`numeric`***: from 0 to 20)\n",
    "- **G2**: second period grade (***`numeric`***: from 0 to 20)\n",
    "- **G3**: final grade (***`numeric`***: from 0 to 20, output target)"
   ]
  },
  {
   "cell_type": "code",
   "execution_count": 26,
   "metadata": {},
   "outputs": [
    {
     "data": {
      "image/png": "[encoded data removed]",
      "text/plain": [
       "<Figure size 432x288 with 1 Axes>"
      ]
     },
     "metadata": {},
     "output_type": "display_data"
    }
   ],
   "source": [
    "plt.figure(figsize=(6,4))\n",
    "ax = sns.kdeplot(x=data.G1, color='indianred',   shade=True, alpha=0.3, label='G1')\n",
    "ax = sns.kdeplot(x=data.G2, color='cyan',        shade=True, alpha=0.3, label='G2')\n",
    "ax = sns.kdeplot(x=data.G3, color='yellowgreen', shade=True, alpha=0.3, label='G3')\n",
    "plt.legend();"
   ]
  },
  {
   "cell_type": "markdown",
   "metadata": {},
   "source": [
    "#### G1"
   ]
  },
  {
   "cell_type": "code",
   "execution_count": 27,
   "metadata": {},
   "outputs": [
    {
     "name": "stdout",
     "output_type": "stream",
     "text": [
      "(100, 10000)\n"
     ]
    },
    {
     "data": {
      "text/html": [
       "<div>\n",
       "<style scoped>\n",
       "    .dataframe tbody tr th:only-of-type {\n",
       "        vertical-align: middle;\n",
       "    }\n",
       "\n",
       "    .dataframe tbody tr th {\n",
       "        vertical-align: top;\n",
       "    }\n",
       "\n",
       "    .dataframe thead th {\n",
       "        text-align: right;\n",
       "    }\n",
       "</style>\n",
       "<table border=\"1\" class=\"dataframe\">\n",
       "  <thead>\n",
       "    <tr style=\"text-align: right;\">\n",
       "      <th></th>\n",
       "      <th>S0</th>\n",
       "      <th>S1</th>\n",
       "      <th>S2</th>\n",
       "      <th>S3</th>\n",
       "      <th>S4</th>\n",
       "      <th>S5</th>\n",
       "      <th>S6</th>\n",
       "      <th>S7</th>\n",
       "      <th>S8</th>\n",
       "      <th>S9</th>\n",
       "      <th>...</th>\n",
       "      <th>S9990</th>\n",
       "      <th>S9991</th>\n",
       "      <th>S9992</th>\n",
       "      <th>S9993</th>\n",
       "      <th>S9994</th>\n",
       "      <th>S9995</th>\n",
       "      <th>S9996</th>\n",
       "      <th>S9997</th>\n",
       "      <th>S9998</th>\n",
       "      <th>S9999</th>\n",
       "    </tr>\n",
       "  </thead>\n",
       "  <tbody>\n",
       "    <tr>\n",
       "      <th>0</th>\n",
       "      <td>12</td>\n",
       "      <td>6</td>\n",
       "      <td>9</td>\n",
       "      <td>7</td>\n",
       "      <td>13</td>\n",
       "      <td>8</td>\n",
       "      <td>13</td>\n",
       "      <td>13</td>\n",
       "      <td>8</td>\n",
       "      <td>10</td>\n",
       "      <td>...</td>\n",
       "      <td>15</td>\n",
       "      <td>11</td>\n",
       "      <td>7</td>\n",
       "      <td>7</td>\n",
       "      <td>10</td>\n",
       "      <td>9</td>\n",
       "      <td>10</td>\n",
       "      <td>7</td>\n",
       "      <td>11</td>\n",
       "      <td>11</td>\n",
       "    </tr>\n",
       "    <tr>\n",
       "      <th>1</th>\n",
       "      <td>18</td>\n",
       "      <td>19</td>\n",
       "      <td>11</td>\n",
       "      <td>6</td>\n",
       "      <td>7</td>\n",
       "      <td>13</td>\n",
       "      <td>8</td>\n",
       "      <td>7</td>\n",
       "      <td>12</td>\n",
       "      <td>7</td>\n",
       "      <td>...</td>\n",
       "      <td>4</td>\n",
       "      <td>10</td>\n",
       "      <td>12</td>\n",
       "      <td>10</td>\n",
       "      <td>12</td>\n",
       "      <td>14</td>\n",
       "      <td>7</td>\n",
       "      <td>13</td>\n",
       "      <td>16</td>\n",
       "      <td>12</td>\n",
       "    </tr>\n",
       "    <tr>\n",
       "      <th>2</th>\n",
       "      <td>15</td>\n",
       "      <td>14</td>\n",
       "      <td>17</td>\n",
       "      <td>6</td>\n",
       "      <td>10</td>\n",
       "      <td>8</td>\n",
       "      <td>17</td>\n",
       "      <td>8</td>\n",
       "      <td>11</td>\n",
       "      <td>11</td>\n",
       "      <td>...</td>\n",
       "      <td>6</td>\n",
       "      <td>13</td>\n",
       "      <td>7</td>\n",
       "      <td>10</td>\n",
       "      <td>11</td>\n",
       "      <td>5</td>\n",
       "      <td>9</td>\n",
       "      <td>15</td>\n",
       "      <td>9</td>\n",
       "      <td>13</td>\n",
       "    </tr>\n",
       "    <tr>\n",
       "      <th>3</th>\n",
       "      <td>15</td>\n",
       "      <td>11</td>\n",
       "      <td>8</td>\n",
       "      <td>16</td>\n",
       "      <td>15</td>\n",
       "      <td>10</td>\n",
       "      <td>18</td>\n",
       "      <td>7</td>\n",
       "      <td>6</td>\n",
       "      <td>10</td>\n",
       "      <td>...</td>\n",
       "      <td>8</td>\n",
       "      <td>10</td>\n",
       "      <td>6</td>\n",
       "      <td>13</td>\n",
       "      <td>15</td>\n",
       "      <td>13</td>\n",
       "      <td>11</td>\n",
       "      <td>15</td>\n",
       "      <td>11</td>\n",
       "      <td>13</td>\n",
       "    </tr>\n",
       "    <tr>\n",
       "      <th>4</th>\n",
       "      <td>12</td>\n",
       "      <td>15</td>\n",
       "      <td>5</td>\n",
       "      <td>9</td>\n",
       "      <td>8</td>\n",
       "      <td>12</td>\n",
       "      <td>12</td>\n",
       "      <td>14</td>\n",
       "      <td>16</td>\n",
       "      <td>12</td>\n",
       "      <td>...</td>\n",
       "      <td>4</td>\n",
       "      <td>12</td>\n",
       "      <td>13</td>\n",
       "      <td>10</td>\n",
       "      <td>12</td>\n",
       "      <td>9</td>\n",
       "      <td>11</td>\n",
       "      <td>13</td>\n",
       "      <td>8</td>\n",
       "      <td>12</td>\n",
       "    </tr>\n",
       "  </tbody>\n",
       "</table>\n",
       "<p>5 rows × 10000 columns</p>\n",
       "</div>"
      ],
      "text/plain": [
       "   S0  S1  S2  S3  S4  S5  S6  S7  S8  S9  ...  S9990  S9991  S9992  S9993  \\\n",
       "0  12   6   9   7  13   8  13  13   8  10  ...     15     11      7      7   \n",
       "1  18  19  11   6   7  13   8   7  12   7  ...      4     10     12     10   \n",
       "2  15  14  17   6  10   8  17   8  11  11  ...      6     13      7     10   \n",
       "3  15  11   8  16  15  10  18   7   6  10  ...      8     10      6     13   \n",
       "4  12  15   5   9   8  12  12  14  16  12  ...      4     12     13     10   \n",
       "\n",
       "   S9994  S9995  S9996  S9997  S9998  S9999  \n",
       "0     10      9     10      7     11     11  \n",
       "1     12     14      7     13     16     12  \n",
       "2     11      5      9     15      9     13  \n",
       "3     15     13     11     15     11     13  \n",
       "4     12      9     11     13      8     12  \n",
       "\n",
       "[5 rows x 10000 columns]"
      ]
     },
     "execution_count": 27,
     "metadata": {},
     "output_type": "execute_result"
    }
   ],
   "source": [
    "# Generating the sample distribution\n",
    "df_G1 = generateSamples(data.G1)\n",
    "print(df_G1.shape)\n",
    "df_G1.head()"
   ]
  },
  {
   "cell_type": "code",
   "execution_count": 28,
   "metadata": {},
   "outputs": [],
   "source": [
    "# Calculating the mean scores for each generated sample\n",
    "G1_scores = np.array(df_G1.mean())"
   ]
  },
  {
   "cell_type": "code",
   "execution_count": 29,
   "metadata": {},
   "outputs": [
    {
     "data": {
      "image/png": "[encoded data removed]",
      "text/plain": [
       "<Figure size 324x216 with 1 Axes>"
      ]
     },
     "metadata": {},
     "output_type": "display_data"
    }
   ],
   "source": [
    "# Getting the graphical 95% confidence interval\n",
    "graphConfidenceInterval(G1_scores, 95)"
   ]
  },
  {
   "cell_type": "markdown",
   "metadata": {},
   "source": [
    "#### G2"
   ]
  },
  {
   "cell_type": "code",
   "execution_count": 30,
   "metadata": {},
   "outputs": [],
   "source": [
    "# Generating the sample distribution\n",
    "df_G2 = generateSamples(data.G2)\n",
    "G2_scores = np.array(df_G2.mean())"
   ]
  },
  {
   "cell_type": "code",
   "execution_count": 31,
   "metadata": {},
   "outputs": [
    {
     "data": {
      "image/png": "[encoded data removed]",
      "text/plain": [
       "<Figure size 324x216 with 1 Axes>"
      ]
     },
     "metadata": {},
     "output_type": "display_data"
    }
   ],
   "source": [
    "graphConfidenceInterval(G2_scores, 95)"
   ]
  },
  {
   "cell_type": "markdown",
   "metadata": {},
   "source": [
    "#### G3"
   ]
  },
  {
   "cell_type": "code",
   "execution_count": 32,
   "metadata": {},
   "outputs": [],
   "source": [
    "# Generating the sample distribution\n",
    "df_G3 = generateSamples(data.G3)\n",
    "G3_scores = np.array(df_G3.mean())"
   ]
  },
  {
   "cell_type": "code",
   "execution_count": 33,
   "metadata": {},
   "outputs": [
    {
     "data": {
      "image/png": "[encoded data removed]",
      "text/plain": [
       "<Figure size 324x216 with 1 Axes>"
      ]
     },
     "metadata": {},
     "output_type": "display_data"
    }
   ],
   "source": [
    "graphConfidenceInterval(G3_scores, 95)"
   ]
  },
  {
   "cell_type": "markdown",
   "metadata": {},
   "source": [
    "Reference:\n",
    "- Dekking, F.M. et.al. (2005) A Modern Introduction to Probability and Statistics, USA: Springer, chapter 18\n",
    "- Comprehensive Confidence Intervals for Python Developers | Pythonic Excursions (aegis4048.github.io) [https://aegis4048.github.io/comprehensive_confidence_intervals_for_python_developers]"
   ]
  }
 ],
 "metadata": {
  "interpreter": {
   "hash": "7f2633a0dd9fad194999ffc17b7b93627efd4bccf6144e14bc5fef7dfd0c6355"
  },
  "kernelspec": {
   "display_name": "Python 3.10.4 64-bit",
   "language": "python",
   "name": "python3"
  },
  "language_info": {
   "codemirror_mode": {
    "name": "ipython",
    "version": 3
   },
   "file_extension": ".py",
   "mimetype": "text/x-python",
   "name": "python",
   "nbconvert_exporter": "python",
   "pygments_lexer": "ipython3",
   "version": "3.10.4"
  },
  "orig_nbformat": 2
 },
 "nbformat": 4,
 "nbformat_minor": 2
}
