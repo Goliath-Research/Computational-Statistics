{
 "cells": [
  {
   "cell_type": "markdown",
   "metadata": {},
   "source": [
    "# Permutation Method for Correlation Hypothesis Test"
   ]
  },
  {
   "cell_type": "code",
   "execution_count": 1,
   "metadata": {},
   "outputs": [],
   "source": [
    "import numpy as np\n",
    "import pandas as pd\n",
    "from statsmodels.distributions.empirical_distribution import ECDF\n",
    "import matplotlib.pyplot as plt\n",
    "import seaborn as sns;\n",
    "sns.set_style(\"whitegrid\")  "
   ]
  },
  {
   "cell_type": "markdown",
   "metadata": {},
   "source": [
    "For the permutation test, the hypothesized population correlation coefficient is assumed to be zero and sampling is done WITHOUT replacement. \n",
    "\n",
    "Each sample pair now consists of all the elements in x in their original order together with the elements in y in random order. "
   ]
  },
  {
   "cell_type": "code",
   "execution_count": 2,
   "metadata": {},
   "outputs": [],
   "source": [
    "import itertools\n",
    "from math import factorial"
   ]
  },
  {
   "cell_type": "code",
   "execution_count": 3,
   "metadata": {},
   "outputs": [
    {
     "name": "stdout",
     "output_type": "stream",
     "text": [
      "0    (1, 2, 3)\n",
      "1    (1, 3, 2)\n",
      "2    (2, 1, 3)\n",
      "3    (2, 3, 1)\n",
      "4    (3, 1, 2)\n",
      "5    (3, 2, 1)\n",
      "dtype: object\n",
      "Number of permutations = 6\n"
     ]
    }
   ],
   "source": [
    "p3 = pd.Series(itertools.permutations([1,2,3]))\n",
    "print(p3)\n",
    "print('Number of permutations = %i' %p3.shape[0])"
   ]
  },
  {
   "cell_type": "markdown",
   "metadata": {},
   "source": [
    "For an array of size 3, the number of permutation without repetition is:"
   ]
  },
  {
   "cell_type": "code",
   "execution_count": 4,
   "metadata": {},
   "outputs": [
    {
     "data": {
      "text/plain": [
       "6"
      ]
     },
     "execution_count": 4,
     "metadata": {},
     "output_type": "execute_result"
    }
   ],
   "source": [
    "factorial(3)"
   ]
  },
  {
   "cell_type": "markdown",
   "metadata": {},
   "source": [
    "What happens when the size is bigger?"
   ]
  },
  {
   "cell_type": "code",
   "execution_count": 5,
   "metadata": {},
   "outputs": [
    {
     "data": {
      "text/plain": [
       "720"
      ]
     },
     "execution_count": 5,
     "metadata": {},
     "output_type": "execute_result"
    }
   ],
   "source": [
    "factorial(6)"
   ]
  },
  {
   "cell_type": "code",
   "execution_count": 6,
   "metadata": {},
   "outputs": [
    {
     "data": {
      "text/plain": [
       "3628800"
      ]
     },
     "execution_count": 6,
     "metadata": {},
     "output_type": "execute_result"
    }
   ],
   "source": [
    "factorial(10)"
   ]
  },
  {
   "cell_type": "code",
   "execution_count": 7,
   "metadata": {},
   "outputs": [
    {
     "data": {
      "text/plain": [
       "30414093201713378043612608166064768844377641568960512000000000000"
      ]
     },
     "execution_count": 7,
     "metadata": {},
     "output_type": "execute_result"
    }
   ],
   "source": [
    "factorial(50)"
   ]
  },
  {
   "cell_type": "markdown",
   "metadata": {},
   "source": [
    "It is impossible to compute all possible permutations, even for sample sizes not so large, like 50.\n",
    "\n",
    "We will use the function `np.random.choice` to compute random permutations without repetitions, using the option `replace=False`"
   ]
  },
  {
   "cell_type": "markdown",
   "metadata": {},
   "source": [
    "## The Data"
   ]
  },
  {
   "cell_type": "code",
   "execution_count": 8,
   "metadata": {},
   "outputs": [],
   "source": [
    "np.random.seed(12)\n",
    "grade_before = np.random.normal(85.5, 3, 80)\n",
    "grade_after  = np.random.normal(86,   4, 80)\n",
    "grade_after2 = np.random.normal(90,   3, 80)"
   ]
  },
  {
   "cell_type": "markdown",
   "metadata": {},
   "source": [
    "## Computing the correlation"
   ]
  },
  {
   "cell_type": "code",
   "execution_count": 9,
   "metadata": {},
   "outputs": [
    {
     "data": {
      "text/plain": [
       "0.0714339948718494"
      ]
     },
     "execution_count": 9,
     "metadata": {},
     "output_type": "execute_result"
    }
   ],
   "source": [
    "np.corrcoef(grade_before, grade_after)[0][1]"
   ]
  },
  {
   "cell_type": "code",
   "execution_count": 10,
   "metadata": {},
   "outputs": [
    {
     "data": {
      "text/plain": [
       "0.0714339948718494"
      ]
     },
     "execution_count": 10,
     "metadata": {},
     "output_type": "execute_result"
    }
   ],
   "source": [
    "# Our statistic is the correlation coefficient between the two sets of grades.\n",
    "stat_r = np.corrcoef(grade_before, grade_after)[0][1]\n",
    "stat_r"
   ]
  },
  {
   "cell_type": "markdown",
   "metadata": {},
   "source": [
    "## Calculating the Correlation Sample Distribution using Permutation Method"
   ]
  },
  {
   "cell_type": "markdown",
   "metadata": {},
   "source": [
    "For the permutation test, the hypothesized population correlation coefficient is assumed to be zero and sampling is done WITHOUT replacement. \n",
    "\n",
    "Each sample pair now consists of all the elements in x in their original order together with the elements in y in random order. "
   ]
  },
  {
   "cell_type": "code",
   "execution_count": 11,
   "metadata": {},
   "outputs": [],
   "source": [
    "def permSampleDistribution(sample_before, sample_after, num_samples=10000):\n",
    "    '''\n",
    "    It returns a list with the correlation sample distribution.\n",
    "    '''\n",
    "    corrSD = np.full((num_samples), 0.)\n",
    "    x = np.array(sample_before)\n",
    "    y = np.array(sample_after)\n",
    "    idx = np.array(range(len(sample_after)))\n",
    "    for k in range(num_samples):\n",
    "        index = np.random.choice(idx, replace=False, size=len(idx))\n",
    "        corrSD[k] = np.corrcoef(x, y[index])[0][1]\n",
    "    return(corrSD)  "
   ]
  },
  {
   "cell_type": "code",
   "execution_count": 12,
   "metadata": {},
   "outputs": [],
   "source": [
    "r_sample_distribution = permSampleDistribution(grade_before, grade_after)"
   ]
  },
  {
   "cell_type": "code",
   "execution_count": 13,
   "metadata": {},
   "outputs": [],
   "source": [
    "def plotSampleDistribution(sample_distribution):\n",
    "    '''\n",
    "    It plots the sample distribution\n",
    "    '''\n",
    "    sns.kdeplot(sample_distribution, shade=True, color='orangered').set(title='Sample Distribution')"
   ]
  },
  {
   "cell_type": "code",
   "execution_count": 14,
   "metadata": {},
   "outputs": [
    {
     "data": {
      "image/png": "[encoded data removed]",
      "text/plain": [
       "<Figure size 432x288 with 1 Axes>"
      ]
     },
     "metadata": {},
     "output_type": "display_data"
    }
   ],
   "source": [
    "plotSampleDistribution(r_sample_distribution)"
   ]
  },
  {
   "cell_type": "markdown",
   "metadata": {},
   "source": [
    "### Calculating the p-value"
   ]
  },
  {
   "cell_type": "code",
   "execution_count": 15,
   "metadata": {},
   "outputs": [],
   "source": [
    "def getpValue(sample_distribution, obs_value, alternative='two-sided'):\n",
    "    '''\n",
    "    sample_distribution: the sample distribution\n",
    "    obs_value: observed value \n",
    "    alpha: significance level\n",
    "    alternative: one of the three values: 'two-sided', 'smaller', or 'larger'    \n",
    "    '''\n",
    "    ecdf = ECDF(sample_distribution) \n",
    "    if alternative=='two-sided':\n",
    "        if obs_value < np.mean(sample_distribution): \n",
    "            p_val = 2*ecdf(obs_value)\n",
    "        else: \n",
    "            p_val = 2*(1-ecdf(obs_value)) \n",
    "    elif alternative=='smaller':\n",
    "        p_val = ecdf(obs_value)\n",
    "    else:\n",
    "        p_val = 1-ecdf(obs_value)\n",
    "    return(p_val)"
   ]
  },
  {
   "cell_type": "code",
   "execution_count": 16,
   "metadata": {},
   "outputs": [],
   "source": [
    "def hyp_test_corr(sample_distribution, sampl_value, alpha=0.05):\n",
    "    '''\n",
    "    It calculates the permutation hypothesis test for correlation.\n",
    "    sampl_value: statistic calculated from the sample\n",
    "    sampl_distribution: sample distribution calculated using bootstrap from the sample\n",
    "    alpha: significance level\n",
    "    '''\n",
    "    print('--- Correlation Hypothesis Test using Permutation Method ---')\n",
    "    print('    Ho: r == 0')\n",
    "    print('    Ha: r != 0')\n",
    "    # computing the sample distribution under Ho\n",
    "    #sample_distribution_Ho = sample_distribution - np.mean(sample_distribution)\n",
    "    sample_distribution_Ho = sample_distribution\n",
    "    # plotting the sample distribution\n",
    "    sns.kdeplot(x=sample_distribution_Ho, color='lightskyblue', shade=True, alpha=0.4)\n",
    "    plt.title('Permutation Sampling Distribution')\n",
    "    # plotting the statistic\n",
    "    plt.axvline(x=sampl_value, ymin=0, ymax= 0.03, color='black', linewidth=6)\n",
    "    # calculating the p-value\n",
    "    p_val = getpValue(sample_distribution_Ho, sampl_value)\n",
    "    # plotting the critical regions\n",
    "    cv1 = np.round(np.percentile(sample_distribution_Ho, (alpha/2)*100),2)       # left critical value  \n",
    "    cv2 = np.round(np.percentile(sample_distribution_Ho, 100-(alpha/2)*100),2)   # right critical value  \n",
    "    plt.axvline(x = cv1, ymin=0, ymax=0.5, color='orangered', linewidth=2)\n",
    "    plt.axvline(x = cv2, ymin=0, ymax=0.5, color='orangered', linewidth=2)\n",
    "    print('    r = %.4f    p-value = %.4f' %(sampl_value, p_val))"
   ]
  },
  {
   "cell_type": "code",
   "execution_count": 17,
   "metadata": {},
   "outputs": [
    {
     "name": "stdout",
     "output_type": "stream",
     "text": [
      "--- Correlation Hypothesis Test using Permutation Method ---\n",
      "    Ho: r == 0\n",
      "    Ha: r != 0\n",
      "    r = 0.0714    p-value = 0.5224\n"
     ]
    },
    {
     "data": {
      "image/png": "[encoded data removed]",
      "text/plain": [
       "<Figure size 432x288 with 1 Axes>"
      ]
     },
     "metadata": {},
     "output_type": "display_data"
    }
   ],
   "source": [
    "hyp_test_corr(r_sample_distribution, stat_r)"
   ]
  },
  {
   "cell_type": "markdown",
   "metadata": {},
   "source": [
    "p-value > 0.05 We have no reason to reject the null hypothesis!\n",
    "\n",
    "There is no correlation between the two variables: `grade_before` and `grade_after`"
   ]
  },
  {
   "cell_type": "markdown",
   "metadata": {},
   "source": [
    "### Summarizing"
   ]
  },
  {
   "cell_type": "code",
   "execution_count": 18,
   "metadata": {},
   "outputs": [],
   "source": [
    "class permCorr():\n",
    "    '''\n",
    "    It calculates the correlation hypothesis test using permutation method.\n",
    "    '''\n",
    "\n",
    "    def __init__(self, sample1, sample2, num_samples=10000):\n",
    "        '''\n",
    "        '''\n",
    "        # The correlation value between sample1 and sample2\n",
    "        self.stat_r = np.corrcoef(sample1,sample2)[0][1]\n",
    "        # Calculating the bootstrap sample distribution\n",
    "        self.r_sample_distribution = permSampleDistribution(sample1, sample2, num_samples=num_samples)\n",
    "        \n",
    "\n",
    "    def permSampleDistribution(self, sample_before, sample_after, num_samples=10000):\n",
    "        '''\n",
    "        It returns a list with the correlation sample distribution.\n",
    "        '''\n",
    "        corrSD = np.full((num_samples), 0.)\n",
    "        x = np.array(sample_before)\n",
    "        y = np.array(sample_after)\n",
    "        idx = np.array(range(len(sample_after)))\n",
    "        for k in range(num_samples):\n",
    "            index = np.random.choice(idx, replace=False, size=len(idx))\n",
    "            corrSD[k] = np.corrcoef(x, y[index])[0][1]\n",
    "        return(corrSD) \n",
    "\n",
    "\n",
    "    def getpValue(self, sample_distribution, obs_value, alternative='two-sided'):\n",
    "        '''\n",
    "        It returns the p-value.\n",
    "        sample_distribution: the sample distribution\n",
    "        obs_value:           observed value \n",
    "        alpha:               significance level\n",
    "        alternative:         one of the three values: 'two-sided', 'smaller', or 'larger'    \n",
    "        '''\n",
    "        ecdf = ECDF(sample_distribution) \n",
    "        if alternative=='two-sided':\n",
    "            if obs_value < np.mean(sample_distribution): \n",
    "                p_val = 2*ecdf(obs_value)\n",
    "            else: \n",
    "                p_val = 2*(1-ecdf(obs_value)) \n",
    "        elif alternative=='smaller':\n",
    "            p_val = ecdf(obs_value)\n",
    "        else:\n",
    "            p_val = 1-ecdf(obs_value)\n",
    "        return(p_val)    \n",
    "\n",
    "\n",
    "    def hyp_test_corr(self, alpha=0.05):\n",
    "        '''\n",
    "        It calculates the correlation coefficient's bootstrap hypothesis test.\n",
    "        sampl_value:        statistic calculated from the sample\n",
    "        sampl_distribution: sample distribution calculated using bootstrap from the sample\n",
    "        alpha:              significance level\n",
    "        '''\n",
    "        print('--- Correlation Hypothesis Test using Permutation Method ---')\n",
    "        print('    Ho: r == 0')\n",
    "        print('    Ha: r != 0')\n",
    "        # computing the sample distribution under Ho\n",
    "        #sample_distribution_Ho = self.r_sample_distribution - np.mean(self.r_sample_distribution)\n",
    "        sample_distribution_Ho = self.r_sample_distribution\n",
    "        # plotting the sample distribution\n",
    "        sns.kdeplot(x=sample_distribution_Ho, color='lightskyblue', shade=True, alpha=0.4)\n",
    "        plt.title('Bootstrap Sampling Distribution')\n",
    "        # plotting the statistic\n",
    "        plt.axvline(x=self.stat_r, ymin=0, ymax= 0.03, color='black', linewidth=6)\n",
    "        # calculating the p-value\n",
    "        p_val = getpValue(sample_distribution_Ho, self.stat_r)\n",
    "        # plotting the critical regions\n",
    "        cv1 = np.round(np.percentile(sample_distribution_Ho, (alpha/2)*100),2)       # left critical value  \n",
    "        cv2 = np.round(np.percentile(sample_distribution_Ho, 100-(alpha/2)*100),2)   # right critical value  \n",
    "        plt.axvline(x = cv1, ymin=0, ymax=0.5, color='orangered', linewidth=2)\n",
    "        plt.axvline(x = cv2, ymin=0, ymax=0.5, color='orangered', linewidth=2)\n",
    "        print('    r = %.4f    p-value = %.4f' %(self.stat_r, p_val))\n",
    "\n",
    "\n",
    "    def corr(self, alpha=0.05):\n",
    "        '''\n",
    "        It allows you to calculate one of the the correlation hypothesis tests using permutation method \n",
    "        '''    \n",
    "        self.hyp_test_corr(alpha=alpha)\n",
    "        "
   ]
  },
  {
   "cell_type": "code",
   "execution_count": 19,
   "metadata": {},
   "outputs": [],
   "source": [
    "P = permCorr(grade_before, grade_after)"
   ]
  },
  {
   "cell_type": "code",
   "execution_count": 20,
   "metadata": {},
   "outputs": [
    {
     "name": "stdout",
     "output_type": "stream",
     "text": [
      "--- Correlation Hypothesis Test using Permutation Method ---\n",
      "    Ho: r == 0\n",
      "    Ha: r != 0\n",
      "    r = 0.0714    p-value = 0.5198\n"
     ]
    },
    {
     "data": {
      "image/png": "[encoded data removed]",
      "text/plain": [
       "<Figure size 432x288 with 1 Axes>"
      ]
     },
     "metadata": {},
     "output_type": "display_data"
    }
   ],
   "source": [
    "P.corr()"
   ]
  },
  {
   "cell_type": "code",
   "execution_count": 21,
   "metadata": {},
   "outputs": [],
   "source": [
    "P2 = permCorr(grade_before, grade_after2)"
   ]
  },
  {
   "cell_type": "code",
   "execution_count": 22,
   "metadata": {},
   "outputs": [
    {
     "name": "stdout",
     "output_type": "stream",
     "text": [
      "--- Correlation Hypothesis Test using Permutation Method ---\n",
      "    Ho: r == 0\n",
      "    Ha: r != 0\n",
      "    r = 0.1077    p-value = 0.3266\n"
     ]
    },
    {
     "data": {
      "image/png": "[encoded data removed]",
      "text/plain": [
       "<Figure size 432x288 with 1 Axes>"
      ]
     },
     "metadata": {},
     "output_type": "display_data"
    }
   ],
   "source": [
    "P2.corr(alpha=0.01)"
   ]
  },
  {
   "cell_type": "markdown",
   "metadata": {},
   "source": [
    "There is not reason for rejecting Ho, the correlation is not significant!"
   ]
  },
  {
   "cell_type": "markdown",
   "metadata": {},
   "source": [
    "## Examples"
   ]
  },
  {
   "cell_type": "code",
   "execution_count": 23,
   "metadata": {},
   "outputs": [
    {
     "name": "stdout",
     "output_type": "stream",
     "text": [
      "(50, 6)\n"
     ]
    },
    {
     "data": {
      "text/html": [
       "<div>\n",
       "<style scoped>\n",
       "    .dataframe tbody tr th:only-of-type {\n",
       "        vertical-align: middle;\n",
       "    }\n",
       "\n",
       "    .dataframe tbody tr th {\n",
       "        vertical-align: top;\n",
       "    }\n",
       "\n",
       "    .dataframe thead th {\n",
       "        text-align: right;\n",
       "    }\n",
       "</style>\n",
       "<table border=\"1\" class=\"dataframe\">\n",
       "  <thead>\n",
       "    <tr style=\"text-align: right;\">\n",
       "      <th></th>\n",
       "      <th>x</th>\n",
       "      <th>y_spc</th>\n",
       "      <th>y_snc</th>\n",
       "      <th>y_wpc</th>\n",
       "      <th>y_wnc</th>\n",
       "      <th>y_nc</th>\n",
       "    </tr>\n",
       "  </thead>\n",
       "  <tbody>\n",
       "    <tr>\n",
       "      <th>0</th>\n",
       "      <td>14.946016</td>\n",
       "      <td>60.934277</td>\n",
       "      <td>-18.311426</td>\n",
       "      <td>15.939970</td>\n",
       "      <td>-5.939970</td>\n",
       "      <td>7.075053</td>\n",
       "    </tr>\n",
       "    <tr>\n",
       "      <th>1</th>\n",
       "      <td>12.280831</td>\n",
       "      <td>52.439626</td>\n",
       "      <td>-15.479875</td>\n",
       "      <td>21.534672</td>\n",
       "      <td>-11.534672</td>\n",
       "      <td>9.034883</td>\n",
       "    </tr>\n",
       "    <tr>\n",
       "      <th>2</th>\n",
       "      <td>12.554739</td>\n",
       "      <td>52.487695</td>\n",
       "      <td>-15.495898</td>\n",
       "      <td>20.719120</td>\n",
       "      <td>-10.719120</td>\n",
       "      <td>3.187492</td>\n",
       "    </tr>\n",
       "  </tbody>\n",
       "</table>\n",
       "</div>"
      ],
      "text/plain": [
       "           x      y_spc      y_snc      y_wpc      y_wnc      y_nc\n",
       "0  14.946016  60.934277 -18.311426  15.939970  -5.939970  7.075053\n",
       "1  12.280831  52.439626 -15.479875  21.534672 -11.534672  9.034883\n",
       "2  12.554739  52.487695 -15.495898  20.719120 -10.719120  3.187492"
      ]
     },
     "execution_count": 23,
     "metadata": {},
     "output_type": "execute_result"
    }
   ],
   "source": [
    "df = pd.read_csv('corrExamples.csv')\n",
    "print(df.shape)\n",
    "df.head(3)"
   ]
  },
  {
   "cell_type": "markdown",
   "metadata": {},
   "source": [
    "### Strong Correlation"
   ]
  },
  {
   "cell_type": "code",
   "execution_count": 24,
   "metadata": {},
   "outputs": [],
   "source": [
    "Ps1 = permCorr(df.x, df.y_spc)"
   ]
  },
  {
   "cell_type": "code",
   "execution_count": 25,
   "metadata": {},
   "outputs": [
    {
     "name": "stdout",
     "output_type": "stream",
     "text": [
      "--- Correlation Hypothesis Test using Permutation Method ---\n",
      "    Ho: r == 0\n",
      "    Ha: r != 0\n",
      "    r = 0.9734    p-value = 0.0000\n"
     ]
    },
    {
     "data": {
      "image/png": "[encoded data removed]",
      "text/plain": [
       "<Figure size 432x288 with 1 Axes>"
      ]
     },
     "metadata": {},
     "output_type": "display_data"
    }
   ],
   "source": [
    "Ps1.corr(alpha=0.01)"
   ]
  },
  {
   "cell_type": "code",
   "execution_count": 26,
   "metadata": {},
   "outputs": [],
   "source": [
    "Ps2 = permCorr(df.x, df.y_snc)"
   ]
  },
  {
   "cell_type": "code",
   "execution_count": 27,
   "metadata": {},
   "outputs": [
    {
     "name": "stdout",
     "output_type": "stream",
     "text": [
      "--- Correlation Hypothesis Test using Permutation Method ---\n",
      "    Ho: r == 0\n",
      "    Ha: r != 0\n",
      "    r = -0.9734    p-value = 0.0000\n"
     ]
    },
    {
     "data": {
      "image/png": "[encoded data removed]",
      "text/plain": [
       "<Figure size 432x288 with 1 Axes>"
      ]
     },
     "metadata": {},
     "output_type": "display_data"
    }
   ],
   "source": [
    "Ps2.corr(alpha=0.01)"
   ]
  },
  {
   "cell_type": "markdown",
   "metadata": {},
   "source": [
    "### Weak Correlation"
   ]
  },
  {
   "cell_type": "code",
   "execution_count": 28,
   "metadata": {},
   "outputs": [],
   "source": [
    "Ps3 = permCorr(df.x, df.y_wpc)"
   ]
  },
  {
   "cell_type": "code",
   "execution_count": 29,
   "metadata": {},
   "outputs": [
    {
     "name": "stdout",
     "output_type": "stream",
     "text": [
      "--- Correlation Hypothesis Test using Permutation Method ---\n",
      "    Ho: r == 0\n",
      "    Ha: r != 0\n",
      "    r = 0.2898    p-value = 0.0432\n"
     ]
    },
    {
     "data": {
      "image/png": "[encoded data removed]",
      "text/plain": [
       "<Figure size 432x288 with 1 Axes>"
      ]
     },
     "metadata": {},
     "output_type": "display_data"
    }
   ],
   "source": [
    "Ps3.corr(alpha=0.05)"
   ]
  },
  {
   "cell_type": "code",
   "execution_count": 30,
   "metadata": {},
   "outputs": [],
   "source": [
    "Ps4 = permCorr(df.x, df.y_wnc)"
   ]
  },
  {
   "cell_type": "code",
   "execution_count": 31,
   "metadata": {},
   "outputs": [
    {
     "name": "stdout",
     "output_type": "stream",
     "text": [
      "--- Correlation Hypothesis Test using Permutation Method ---\n",
      "    Ho: r == 0\n",
      "    Ha: r != 0\n",
      "    r = -0.2898    p-value = 0.0426\n"
     ]
    },
    {
     "data": {
      "image/png": "[encoded data removed]",
      "text/plain": [
       "<Figure size 432x288 with 1 Axes>"
      ]
     },
     "metadata": {},
     "output_type": "display_data"
    }
   ],
   "source": [
    "Ps4.corr(0.05)"
   ]
  },
  {
   "cell_type": "code",
   "execution_count": 32,
   "metadata": {},
   "outputs": [],
   "source": [
    "Ps5 = permCorr(df.x, df.y_nc)"
   ]
  },
  {
   "cell_type": "code",
   "execution_count": 33,
   "metadata": {},
   "outputs": [
    {
     "name": "stdout",
     "output_type": "stream",
     "text": [
      "--- Correlation Hypothesis Test using Permutation Method ---\n",
      "    Ho: r == 0\n",
      "    Ha: r != 0\n",
      "    r = -0.1384    p-value = 0.3268\n"
     ]
    },
    {
     "data": {
      "image/png": "[encoded data removed]",
      "text/plain": [
       "<Figure size 432x288 with 1 Axes>"
      ]
     },
     "metadata": {},
     "output_type": "display_data"
    }
   ],
   "source": [
    "Ps5.corr(0.01)"
   ]
  },
  {
   "cell_type": "markdown",
   "metadata": {},
   "source": [
    "Reference:\n",
    "- VanderPlas, J. (2017) Python Data Science Handbook: Essential Tools for Working with Data. USA: O’Reilly Media, Inc. chapter 4."
   ]
  }
 ],
 "metadata": {
  "interpreter": {
   "hash": "7f2633a0dd9fad194999ffc17b7b93627efd4bccf6144e14bc5fef7dfd0c6355"
  },
  "kernelspec": {
   "display_name": "Python 3.10.4 64-bit",
   "language": "python",
   "name": "python3"
  },
  "language_info": {
   "codemirror_mode": {
    "name": "ipython",
    "version": 3
   },
   "file_extension": ".py",
   "mimetype": "text/x-python",
   "name": "python",
   "nbconvert_exporter": "python",
   "pygments_lexer": "ipython3",
   "version": "3.10.4"
  },
  "orig_nbformat": 4
 },
 "nbformat": 4,
 "nbformat_minor": 2
}
